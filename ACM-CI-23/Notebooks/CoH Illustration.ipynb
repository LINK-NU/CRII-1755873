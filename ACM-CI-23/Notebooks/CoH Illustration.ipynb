{
 "cells": [
  {
   "cell_type": "code",
   "execution_count": 1,
   "id": "0c76dbbd",
   "metadata": {},
   "outputs": [],
   "source": [
    "import pandas as pd\n",
    "import numpy as np\n",
    "from scipy import stats\n",
    "import seaborn as sns\n",
    "from scipy import stats\n",
    "from tqdm import tqdm_notebook\n",
    "from collections import Counter\n",
    "import warnings\n",
    "import matplotlib.pyplot as plt\n",
    "warnings.filterwarnings('ignore')\n",
    "pd.set_option('display.max_colwidth', -1)\n",
    "pd.set_option('display.float_format', lambda x: '%.3f' % x)\n",
    "pd.set_option('display.max_rows', 500)\n",
    "pd.set_option('display.max_columns', 500)\n",
    "pd.set_option('display.width', 1000)\n",
    "\n",
    "__author__ = 'HK Dambanemuya'\n",
    "__version__ = 'Python 3'"
   ]
  },
  {
   "cell_type": "code",
   "execution_count": 2,
   "id": "c1ce1f94",
   "metadata": {},
   "outputs": [
    {
     "data": {
      "text/html": [
       "<div>\n",
       "<style scoped>\n",
       "    .dataframe tbody tr th:only-of-type {\n",
       "        vertical-align: middle;\n",
       "    }\n",
       "\n",
       "    .dataframe tbody tr th {\n",
       "        vertical-align: top;\n",
       "    }\n",
       "\n",
       "    .dataframe thead th {\n",
       "        text-align: right;\n",
       "    }\n",
       "</style>\n",
       "<table border=\"1\" class=\"dataframe\">\n",
       "  <thead>\n",
       "    <tr style=\"text-align: right;\">\n",
       "      <th></th>\n",
       "      <th>ListingKey</th>\n",
       "      <th>CreationDate</th>\n",
       "      <th>Amount</th>\n",
       "    </tr>\n",
       "  </thead>\n",
       "  <tbody>\n",
       "    <tr>\n",
       "      <th>6129547</th>\n",
       "      <td>355A3433109779747AA67EB</td>\n",
       "      <td>2008-10-13 10:34:03</td>\n",
       "      <td>100.000</td>\n",
       "    </tr>\n",
       "    <tr>\n",
       "      <th>3788174</th>\n",
       "      <td>896C3410832485802AFF8FB</td>\n",
       "      <td>2008-01-21 19:01:46</td>\n",
       "      <td>50.000</td>\n",
       "    </tr>\n",
       "    <tr>\n",
       "      <th>4676032</th>\n",
       "      <td>7B0234211914890076FC558</td>\n",
       "      <td>2008-05-15 11:36:25</td>\n",
       "      <td>50.000</td>\n",
       "    </tr>\n",
       "    <tr>\n",
       "      <th>826641</th>\n",
       "      <td>6D9A337952084403257E387</td>\n",
       "      <td>2007-02-04 08:26:38</td>\n",
       "      <td>50.000</td>\n",
       "    </tr>\n",
       "    <tr>\n",
       "      <th>7249728</th>\n",
       "      <td>81233488282351110403944</td>\n",
       "      <td>2010-07-23 16:57:10</td>\n",
       "      <td>40.000</td>\n",
       "    </tr>\n",
       "  </tbody>\n",
       "</table>\n",
       "</div>"
      ],
      "text/plain": [
       "                      ListingKey         CreationDate  Amount\n",
       "6129547  355A3433109779747AA67EB  2008-10-13 10:34:03 100.000\n",
       "3788174  896C3410832485802AFF8FB  2008-01-21 19:01:46 50.000 \n",
       "4676032  7B0234211914890076FC558  2008-05-15 11:36:25 50.000 \n",
       "826641   6D9A337952084403257E387  2007-02-04 08:26:38 50.000 \n",
       "7249728  81233488282351110403944  2010-07-23 16:57:10 40.000 "
      ]
     },
     "execution_count": 2,
     "metadata": {},
     "output_type": "execute_result"
    }
   ],
   "source": [
    "# Import bid-level data\n",
    "bids = pd.read_csv(\"../../Data/bid_notick.txt\", sep=\"|\")\n",
    "# Filter only the necessary columns\n",
    "bids = bids[['ListingKey', 'CreationDate', 'Amount']]\n",
    "# Filter by Funded Listing (Paid or Defaulted)\n",
    "bid_data = pd.read_csv('../../Data/colending_data.csv')\n",
    "bids = bids[bids['ListingKey'].isin(bid_data['ListingKey'].values)]\n",
    "# Sample 5 bids\n",
    "bids.sample(5)"
   ]
  },
  {
   "cell_type": "code",
   "execution_count": 3,
   "id": "aa9aad6e",
   "metadata": {},
   "outputs": [],
   "source": [
    "A = 'DC1033648016334634330F6'\n",
    "B = '062D343034144385851220B'\n",
    "C = '676C3380916337751A3FB89'\n"
   ]
  },
  {
   "cell_type": "code",
   "execution_count": 4,
   "id": "d3b26d9d",
   "metadata": {},
   "outputs": [],
   "source": [
    "def CoH5(key):\n",
    "    amounts = bids.query(f\"ListingKey == '{key}'\").sort_values(\"CreationDate\")['Amount'].values\n",
    "    a,b,c,d,e,f = [], [], [], [], [], [] \n",
    "    for i in range(len(amounts)-5):\n",
    "        a.append(amounts[i])\n",
    "        b.append(amounts[i+1])\n",
    "        c.append(amounts[i+2])\n",
    "        d.append(amounts[i+3])\n",
    "        e.append(amounts[i+4])\n",
    "        f.append(amounts[i+5])\n",
    "    try:\n",
    "        # calculate herding coefficient\n",
    "        print( (stats.spearmanr(a,b)[0] + \n",
    "              stats.spearmanr(a,c)[0] + \n",
    "              stats.spearmanr(a,d)[0] + \n",
    "              stats.spearmanr(a,e)[0] + \n",
    "              stats.spearmanr(a,f)[0] + \n",
    "              stats.spearmanr(b,c)[0] + \n",
    "              stats.spearmanr(b,d)[0] + \n",
    "              stats.spearmanr(b,e)[0] +\n",
    "              stats.spearmanr(b,f)[0] +\n",
    "              stats.spearmanr(c,d)[0] +\n",
    "              stats.spearmanr(c,e)[0] +\n",
    "              stats.spearmanr(c,f)[0] + \n",
    "              stats.spearmanr(d,e)[0] +\n",
    "              stats.spearmanr(d,f)[0] +\n",
    "              stats.spearmanr(e,f)[0]) / 15 )\n",
    "        print(amounts)\n",
    "    except:\n",
    "        print (\"Error\")"
   ]
  },
  {
   "cell_type": "code",
   "execution_count": 5,
   "id": "c1be963a",
   "metadata": {},
   "outputs": [
    {
     "name": "stdout",
     "output_type": "stream",
     "text": [
      "-0.10772591537897483\n",
      "[ 50.    50.    50.    50.   225.    50.   100.   100.    50.   100.\n",
      " 400.    50.    50.   115.75 202.36 200.   200.    50.    50.   180.77\n",
      "  75.   100.    50.   250.    50.    50.    59.01  50.    70.    50.\n",
      " 500.   100.    50.    50.    50.   100.   200.    50.    50.    50.\n",
      " 100.   100.   135.    50.    50.   100.    50.   250.   200.    75.37\n",
      "  50.    50.    50.   100.   200.    50.    63.  ]\n"
     ]
    }
   ],
   "source": [
    "CoH5(A)"
   ]
  },
  {
   "cell_type": "code",
   "execution_count": 6,
   "id": "69f793bc",
   "metadata": {},
   "outputs": [
    {
     "name": "stdout",
     "output_type": "stream",
     "text": [
      "0.03834106208541555\n",
      "[200.    50.    50.    50.    50.    50.    50.    65.56  50.    50.\n",
      "  80.71  50.   200.   200.    50.    50.    50.    50.    50.    50.\n",
      "  50.    50.    50.    54.53  50.    50.05  50.    92.53  60.  ]\n"
     ]
    }
   ],
   "source": [
    "CoH5(B)"
   ]
  },
  {
   "cell_type": "code",
   "execution_count": 7,
   "id": "9c5a1165",
   "metadata": {},
   "outputs": [
    {
     "name": "stdout",
     "output_type": "stream",
     "text": [
      "0.007300683168047231\n",
      "[  50.     50.     50.     54.04   50.     50.    100.     50.     50.\n",
      "   50.     50.    125.    250.     50.     50.   1000.     50.    400.\n",
      "   50.    500.     50.    125.     50.     50.     50.    100.     50.\n",
      "   50.     50.     50.     50.     50.     75.     50.    100.     50.\n",
      "   50.    100.    140.48   60.    200.    100.     50.     50.    100.\n",
      "  104.17   50.  ]\n"
     ]
    }
   ],
   "source": [
    "CoH5(C)"
   ]
  },
  {
   "cell_type": "code",
   "execution_count": 8,
   "id": "4defb587",
   "metadata": {},
   "outputs": [
    {
     "name": "stdout",
     "output_type": "stream",
     "text": [
      "-0.1909624317750422\n",
      "[50, 100, 140, 60, 200, 90, 70, 80, 150, 40]\n"
     ]
    }
   ],
   "source": [
    "amounts = [ 50, 100, 140, 60, 200, 90, 70, 80, 150, 40]\n",
    "a,b,c,d,e,f = [], [], [], [], [], [] \n",
    "for i in range(len(amounts)-5):\n",
    "    a.append(amounts[i])\n",
    "    b.append(amounts[i+1])\n",
    "    c.append(amounts[i+2])\n",
    "    d.append(amounts[i+3])\n",
    "    e.append(amounts[i+4])\n",
    "    f.append(amounts[i+5])\n",
    "try:\n",
    "    # calculate herding coefficient\n",
    "    print( (stats.pearsonr(a,b)[0] + \n",
    "          stats.pearsonr(a,c)[0] + \n",
    "          stats.pearsonr(a,d)[0] + \n",
    "          stats.pearsonr(a,e)[0] + \n",
    "          stats.pearsonr(a,f)[0] + \n",
    "          stats.pearsonr(b,c)[0] + \n",
    "          stats.pearsonr(b,d)[0] + \n",
    "          stats.pearsonr(b,e)[0] +\n",
    "          stats.pearsonr(b,f)[0] +\n",
    "          stats.pearsonr(c,d)[0] +\n",
    "          stats.pearsonr(c,e)[0] +\n",
    "          stats.pearsonr(c,f)[0] + \n",
    "          stats.pearsonr(d,e)[0] +\n",
    "          stats.pearsonr(d,f)[0] +\n",
    "          stats.pearsonr(e,f)[0]) / 15 )\n",
    "    print(amounts)\n",
    "except:\n",
    "    print (\"Error\")"
   ]
  },
  {
   "cell_type": "code",
   "execution_count": 9,
   "id": "17639304",
   "metadata": {},
   "outputs": [
    {
     "name": "stdout",
     "output_type": "stream",
     "text": [
      "0.18107722436604992\n",
      "[50, 50, 50, 80, 80, 50, 80, 100, 100, 100]\n"
     ]
    }
   ],
   "source": [
    "amounts = [50, 50, 50, 80, 80, 50, 80, 100, 100, 100]\n",
    "a,b,c,d,e,f = [], [], [], [], [], [] \n",
    "for i in range(len(amounts)-5):\n",
    "    a.append(amounts[i])\n",
    "    b.append(amounts[i+1])\n",
    "    c.append(amounts[i+2])\n",
    "    d.append(amounts[i+3])\n",
    "    e.append(amounts[i+4])\n",
    "    f.append(amounts[i+5])\n",
    "try:\n",
    "    # calculate herding coefficient\n",
    "    print( (stats.pearsonr(a,b)[0] + \n",
    "          stats.pearsonr(a,c)[0] + \n",
    "          stats.pearsonr(a,d)[0] + \n",
    "          stats.pearsonr(a,e)[0] + \n",
    "          stats.pearsonr(a,f)[0] + \n",
    "          stats.pearsonr(b,c)[0] + \n",
    "          stats.pearsonr(b,d)[0] + \n",
    "          stats.pearsonr(b,e)[0] +\n",
    "          stats.pearsonr(b,f)[0] +\n",
    "          stats.pearsonr(c,d)[0] +\n",
    "          stats.pearsonr(c,e)[0] +\n",
    "          stats.pearsonr(c,f)[0] + \n",
    "          stats.pearsonr(d,e)[0] +\n",
    "          stats.pearsonr(d,f)[0] +\n",
    "          stats.pearsonr(e,f)[0]) / 15 )\n",
    "    print(amounts)\n",
    "except:\n",
    "    print (\"Error\")"
   ]
  },
  {
   "cell_type": "code",
   "execution_count": 10,
   "id": "24ca12b7",
   "metadata": {},
   "outputs": [
    {
     "name": "stdout",
     "output_type": "stream",
     "text": [
      "0.7721500661862704\n",
      "[100, 100, 90, 90, 80, 80, 80, 75, 75, 75]\n"
     ]
    }
   ],
   "source": [
    "amounts = [100, 100, 90, 90, 80, 80, 80, 75, 75, 75]\n",
    "a,b,c,d,e,f = [], [], [], [], [], [] \n",
    "for i in range(len(amounts)-5):\n",
    "    a.append(amounts[i])\n",
    "    b.append(amounts[i+1])\n",
    "    c.append(amounts[i+2])\n",
    "    d.append(amounts[i+3])\n",
    "    e.append(amounts[i+4])\n",
    "    f.append(amounts[i+5])\n",
    "try:\n",
    "    # calculate herding coefficient\n",
    "    print( (stats.pearsonr(a,b)[0] + \n",
    "          stats.pearsonr(a,c)[0] + \n",
    "          stats.pearsonr(a,d)[0] + \n",
    "          stats.pearsonr(a,e)[0] + \n",
    "          stats.pearsonr(a,f)[0] + \n",
    "          stats.pearsonr(b,c)[0] + \n",
    "          stats.pearsonr(b,d)[0] + \n",
    "          stats.pearsonr(b,e)[0] +\n",
    "          stats.pearsonr(b,f)[0] +\n",
    "          stats.pearsonr(c,d)[0] +\n",
    "          stats.pearsonr(c,e)[0] +\n",
    "          stats.pearsonr(c,f)[0] + \n",
    "          stats.pearsonr(d,e)[0] +\n",
    "          stats.pearsonr(d,f)[0] +\n",
    "          stats.pearsonr(e,f)[0]) / 15 )\n",
    "    print(amounts)\n",
    "except:\n",
    "    print (\"Error\")"
   ]
  },
  {
   "cell_type": "code",
   "execution_count": null,
   "id": "ad1246df",
   "metadata": {},
   "outputs": [],
   "source": []
  }
 ],
 "metadata": {
  "kernelspec": {
   "display_name": "Python 3",
   "language": "python",
   "name": "python3"
  },
  "language_info": {
   "codemirror_mode": {
    "name": "ipython",
    "version": 3
   },
   "file_extension": ".py",
   "mimetype": "text/x-python",
   "name": "python",
   "nbconvert_exporter": "python",
   "pygments_lexer": "ipython3",
   "version": "3.7.6"
  }
 },
 "nbformat": 4,
 "nbformat_minor": 5
}
