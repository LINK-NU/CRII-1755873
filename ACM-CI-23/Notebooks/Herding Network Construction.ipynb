{
 "cells": [
  {
   "cell_type": "markdown",
   "metadata": {},
   "source": [
    "**Description:** \n",
    "\n",
    "**Input:** \n",
    "- Bids\n",
    "- Listings\n",
    "\n",
    "**Output:** \n",
    "- ListingKey\n",
    "- AmountRequested\n",
    "- NoBids\n",
    "- AvgInterBidTime\n",
    "- CoV\n",
    "- DebtToIncomeRatio\n",
    "- DescriptionLength\n",
    "- RepaidOrNot\n",
    "- Network_3\n",
    "- Network_5\n",
    "- Network_7"
   ]
  },
  {
   "cell_type": "code",
   "execution_count": 1,
   "metadata": {},
   "outputs": [],
   "source": [
    "import os\n",
    "import json\n",
    "import pandas as pd\n",
    "import numpy as np\n",
    "import networkx as nx\n",
    "from scipy import stats\n",
    "from tqdm import tqdm_notebook\n",
    "from collections import Counter\n",
    "from sklearn.preprocessing import MinMaxScaler\n",
    "from sklearn.linear_model import LogisticRegression\n",
    "from sklearn.ensemble import RandomForestClassifier\n",
    "from sklearn.model_selection import train_test_split, KFold\n",
    "from sklearn import metrics\n",
    "import warnings\n",
    "import matplotlib.pyplot as plt\n",
    "warnings.filterwarnings('ignore')\n",
    "pd.set_option('display.max_colwidth', -1)\n",
    "pd.set_option('display.float_format', lambda x: '%.3f' % x)\n",
    "pd.set_option('display.max_rows', 500)\n",
    "pd.set_option('display.max_columns', 500)\n",
    "pd.set_option('display.width', 1000)\n",
    "\n",
    "# Lender bids coefficient of variation\n",
    "def bid_cv(bid_amount_list):\n",
    "    return np.std(bid_amount_list) / np.mean(bid_amount_list)\n",
    "\n",
    "# Bid feature selection\n",
    "bid_features = [\"ListingKey\", \"AmountRequested\", \"NoBids\", \"AvgInterBidTime\", \n",
    "                \"CoV\", \"DebtToIncomeRatio\", \"DescriptionLength\", \"RepaidOrNot\"]\n",
    "\n",
    "# Bid aggregation mapping\n",
    "f = {'Lst_Key': ['max'],\n",
    "     'Amount': [bid_cv]}\n",
    "\n",
    "__author__ = 'HK Dambanemuya'"
   ]
  },
  {
   "cell_type": "markdown",
   "metadata": {},
   "source": [
    "# Bids Data"
   ]
  },
  {
   "cell_type": "code",
   "execution_count": 2,
   "metadata": {},
   "outputs": [
    {
     "data": {
      "text/html": [
       "<div>\n",
       "<style scoped>\n",
       "    .dataframe tbody tr th:only-of-type {\n",
       "        vertical-align: middle;\n",
       "    }\n",
       "\n",
       "    .dataframe tbody tr th {\n",
       "        vertical-align: top;\n",
       "    }\n",
       "\n",
       "    .dataframe thead th {\n",
       "        text-align: right;\n",
       "    }\n",
       "</style>\n",
       "<table border=\"1\" class=\"dataframe\">\n",
       "  <thead>\n",
       "    <tr style=\"text-align: right;\">\n",
       "      <th></th>\n",
       "      <th>ListingKey</th>\n",
       "      <th>MemberKey</th>\n",
       "      <th>Bid_Key</th>\n",
       "      <th>CreationDate</th>\n",
       "      <th>Amount</th>\n",
       "      <th>ParticipationAmount</th>\n",
       "      <th>Status</th>\n",
       "      <th>ListingStatus</th>\n",
       "    </tr>\n",
       "  </thead>\n",
       "  <tbody>\n",
       "    <tr>\n",
       "      <th>6812190</th>\n",
       "      <td>413134781144085017C9BB9</td>\n",
       "      <td>321934097845511151641D1</td>\n",
       "      <td>44C235816756734983A6885</td>\n",
       "      <td>2010-03-09 20:18:04</td>\n",
       "      <td>25.000</td>\n",
       "      <td>25.000</td>\n",
       "      <td>Winning</td>\n",
       "      <td>Completed</td>\n",
       "    </tr>\n",
       "    <tr>\n",
       "      <th>5713356</th>\n",
       "      <td>61EF34299053151797308DE</td>\n",
       "      <td>33973412263058634D9090F</td>\n",
       "      <td>6C253535828709674C96164</td>\n",
       "      <td>2008-09-13 11:27:35</td>\n",
       "      <td>50.000</td>\n",
       "      <td>50.000</td>\n",
       "      <td>Winning</td>\n",
       "      <td>Completed</td>\n",
       "    </tr>\n",
       "    <tr>\n",
       "      <th>4090283</th>\n",
       "      <td>4B83341608464940140FDC3</td>\n",
       "      <td>84473416642323685087438</td>\n",
       "      <td>08933520259028951BF25E9</td>\n",
       "      <td>2008-04-01 21:11:12</td>\n",
       "      <td>100.000</td>\n",
       "      <td>100.000</td>\n",
       "      <td>Winning</td>\n",
       "      <td>Completed</td>\n",
       "    </tr>\n",
       "    <tr>\n",
       "      <th>825258</th>\n",
       "      <td>BF5A3379098150731B89E51</td>\n",
       "      <td>EFF63368815933830260B54</td>\n",
       "      <td>AAED33801973640936228E2</td>\n",
       "      <td>2007-02-04 08:53:36</td>\n",
       "      <td>50.330</td>\n",
       "      <td>50.330</td>\n",
       "      <td>Winning</td>\n",
       "      <td>Expired</td>\n",
       "    </tr>\n",
       "    <tr>\n",
       "      <th>1970531</th>\n",
       "      <td>846933938623159307DCB19</td>\n",
       "      <td>08AA3385767444417DD0690</td>\n",
       "      <td>8188349640523013836A522</td>\n",
       "      <td>2007-06-28 00:20:20</td>\n",
       "      <td>100.000</td>\n",
       "      <td>0.000</td>\n",
       "      <td>Outbid</td>\n",
       "      <td>Cancelled</td>\n",
       "    </tr>\n",
       "  </tbody>\n",
       "</table>\n",
       "</div>"
      ],
      "text/plain": [
       "                      ListingKey                MemberKey                  Bid_Key         CreationDate  Amount  ParticipationAmount   Status ListingStatus\n",
       "6812190  413134781144085017C9BB9  321934097845511151641D1  44C235816756734983A6885  2010-03-09 20:18:04 25.000  25.000                Winning  Completed   \n",
       "5713356  61EF34299053151797308DE  33973412263058634D9090F  6C253535828709674C96164  2008-09-13 11:27:35 50.000  50.000                Winning  Completed   \n",
       "4090283  4B83341608464940140FDC3  84473416642323685087438  08933520259028951BF25E9  2008-04-01 21:11:12 100.000 100.000               Winning  Completed   \n",
       "825258   BF5A3379098150731B89E51  EFF63368815933830260B54  AAED33801973640936228E2  2007-02-04 08:53:36 50.330  50.330                Winning  Expired     \n",
       "1970531  846933938623159307DCB19  08AA3385767444417DD0690  8188349640523013836A522  2007-06-28 00:20:20 100.000 0.000                 Outbid   Cancelled   "
      ]
     },
     "execution_count": 2,
     "metadata": {},
     "output_type": "execute_result"
    }
   ],
   "source": [
    "# Import bid-level data\n",
    "bids = pd.read_csv(\"../../Data/bid_notick.txt\", sep=\"|\")\n",
    "# Filter only the necessary columns\n",
    "bids = bids[['ListingKey', 'MemberKey', 'Bid_Key', 'CreationDate', 'Amount', 'ParticipationAmount', 'Status', 'ListingStatus']]\n",
    "# Sample 5 bids\n",
    "bids.sample(5)"
   ]
  },
  {
   "cell_type": "markdown",
   "metadata": {},
   "source": [
    "## Bids Feature Engineering from Bid Level Data"
   ]
  },
  {
   "cell_type": "code",
   "execution_count": 3,
   "metadata": {},
   "outputs": [
    {
     "data": {
      "text/html": [
       "<div>\n",
       "<style scoped>\n",
       "    .dataframe tbody tr th:only-of-type {\n",
       "        vertical-align: middle;\n",
       "    }\n",
       "\n",
       "    .dataframe tbody tr th {\n",
       "        vertical-align: top;\n",
       "    }\n",
       "\n",
       "    .dataframe thead th {\n",
       "        text-align: right;\n",
       "    }\n",
       "</style>\n",
       "<table border=\"1\" class=\"dataframe\">\n",
       "  <thead>\n",
       "    <tr style=\"text-align: right;\">\n",
       "      <th></th>\n",
       "      <th>ListingKey</th>\n",
       "      <th>CoV</th>\n",
       "    </tr>\n",
       "  </thead>\n",
       "  <tbody>\n",
       "    <tr>\n",
       "      <th>134088</th>\n",
       "      <td>913934244343752021AD3C2</td>\n",
       "      <td>0.000</td>\n",
       "    </tr>\n",
       "    <tr>\n",
       "      <th>149735</th>\n",
       "      <td>A22634126666823136B25F4</td>\n",
       "      <td>0.000</td>\n",
       "    </tr>\n",
       "    <tr>\n",
       "      <th>175541</th>\n",
       "      <td>BE343401733824788179BA6</td>\n",
       "      <td>0.000</td>\n",
       "    </tr>\n",
       "    <tr>\n",
       "      <th>171076</th>\n",
       "      <td>B9643387906045060F3595B</td>\n",
       "      <td>0.291</td>\n",
       "    </tr>\n",
       "    <tr>\n",
       "      <th>36750</th>\n",
       "      <td>27F334778369849541DF236</td>\n",
       "      <td>0.282</td>\n",
       "    </tr>\n",
       "  </tbody>\n",
       "</table>\n",
       "</div>"
      ],
      "text/plain": [
       "                     ListingKey   CoV\n",
       "134088  913934244343752021AD3C2 0.000\n",
       "149735  A22634126666823136B25F4 0.000\n",
       "175541  BE343401733824788179BA6 0.000\n",
       "171076  B9643387906045060F3595B 0.291\n",
       "36750   27F334778369849541DF236 0.282"
      ]
     },
     "execution_count": 3,
     "metadata": {},
     "output_type": "execute_result"
    }
   ],
   "source": [
    "# Copy bids dataframe\n",
    "bid_fe = bids.copy()\n",
    "# Duplicate ListingKey column for grouping\n",
    "bid_fe['Lst_Key'] = bid_fe.ListingKey \n",
    "# Aggregate bids by listing key (to get unique loans) and amount (to get CoH)\n",
    "bid_fe = pd.DataFrame(bid_fe[['ListingKey','Lst_Key', 'Amount']].groupby('ListingKey').agg(f).to_numpy())\n",
    "# Rename columns\n",
    "bid_fe = bid_fe.rename(index=str, columns={0: \"ListingKey\", 1: \"CoV\"})\n",
    "# Sample 5 loans\n",
    "bid_fe.sample(5)"
   ]
  },
  {
   "cell_type": "markdown",
   "metadata": {},
   "source": [
    "## Aggregate Bid Data to Loan Listing"
   ]
  },
  {
   "cell_type": "code",
   "execution_count": 4,
   "metadata": {},
   "outputs": [
    {
     "data": {
      "text/html": [
       "<div>\n",
       "<style scoped>\n",
       "    .dataframe tbody tr th:only-of-type {\n",
       "        vertical-align: middle;\n",
       "    }\n",
       "\n",
       "    .dataframe tbody tr th {\n",
       "        vertical-align: top;\n",
       "    }\n",
       "\n",
       "    .dataframe thead th {\n",
       "        text-align: right;\n",
       "    }\n",
       "</style>\n",
       "<table border=\"1\" class=\"dataframe\">\n",
       "  <thead>\n",
       "    <tr style=\"text-align: right;\">\n",
       "      <th></th>\n",
       "      <th>ListingKey</th>\n",
       "      <th>AmountRequested</th>\n",
       "      <th>NoBids</th>\n",
       "      <th>AvgInterBidTime</th>\n",
       "      <th>CoV</th>\n",
       "      <th>DebtToIncomeRatio</th>\n",
       "      <th>DescriptionLength</th>\n",
       "      <th>RepaidOrNot</th>\n",
       "    </tr>\n",
       "  </thead>\n",
       "  <tbody>\n",
       "    <tr>\n",
       "      <th>17479</th>\n",
       "      <td>831B3376802213291BFA395</td>\n",
       "      <td>1800.000</td>\n",
       "      <td>65</td>\n",
       "      <td>13262.723</td>\n",
       "      <td>0.807</td>\n",
       "      <td>0.270</td>\n",
       "      <td>670</td>\n",
       "      <td>True</td>\n",
       "    </tr>\n",
       "    <tr>\n",
       "      <th>17070</th>\n",
       "      <td>7FF834323429674147A56A6</td>\n",
       "      <td>7500.000</td>\n",
       "      <td>235</td>\n",
       "      <td>5474.111</td>\n",
       "      <td>0.581</td>\n",
       "      <td>0.200</td>\n",
       "      <td>139</td>\n",
       "      <td>False</td>\n",
       "    </tr>\n",
       "    <tr>\n",
       "      <th>21506</th>\n",
       "      <td>A1D5337727275292155279B</td>\n",
       "      <td>4900.000</td>\n",
       "      <td>155</td>\n",
       "      <td>5604.058</td>\n",
       "      <td>0.592</td>\n",
       "      <td>0.140</td>\n",
       "      <td>117</td>\n",
       "      <td>True</td>\n",
       "    </tr>\n",
       "    <tr>\n",
       "      <th>11989</th>\n",
       "      <td>5A5D336623216190991FD1F</td>\n",
       "      <td>1000.000</td>\n",
       "      <td>6</td>\n",
       "      <td>94633.333</td>\n",
       "      <td>1.108</td>\n",
       "      <td>0.080</td>\n",
       "      <td>28</td>\n",
       "      <td>False</td>\n",
       "    </tr>\n",
       "    <tr>\n",
       "      <th>31379</th>\n",
       "      <td>ECBF35098714179940AFE1D</td>\n",
       "      <td>15000.000</td>\n",
       "      <td>313</td>\n",
       "      <td>4578.965</td>\n",
       "      <td>1.868</td>\n",
       "      <td>0.240</td>\n",
       "      <td>131</td>\n",
       "      <td>True</td>\n",
       "    </tr>\n",
       "  </tbody>\n",
       "</table>\n",
       "</div>"
      ],
      "text/plain": [
       "                    ListingKey  AmountRequested  NoBids  AvgInterBidTime   CoV  DebtToIncomeRatio  DescriptionLength  RepaidOrNot\n",
       "17479  831B3376802213291BFA395 1800.000          65     13262.723        0.807 0.270               670                True       \n",
       "17070  7FF834323429674147A56A6 7500.000          235    5474.111         0.581 0.200               139                False      \n",
       "21506  A1D5337727275292155279B 4900.000          155    5604.058         0.592 0.140               117                True       \n",
       "11989  5A5D336623216190991FD1F 1000.000          6      94633.333        1.108 0.080               28                 False      \n",
       "31379  ECBF35098714179940AFE1D 15000.000         313    4578.965         1.868 0.240               131                True       "
      ]
     },
     "execution_count": 4,
     "metadata": {},
     "output_type": "execute_result"
    }
   ],
   "source": [
    "# Listing Level Bid Data\n",
    "bid_data = pd.read_csv(\"../../Data/ProjectLevelData.txt\", sep=\"|\")\n",
    "# Filter Funded (Repaid and Defaulted) Listings\n",
    "bid_data = bid_data.query(\"RepaidOrNot==True or RepaidOrNot==False\")\n",
    "# Merge Listing Level Bid Data with Engineered Bid Features at Listing Level\n",
    "bid_data = bid_data.merge(bid_fe, on=\"ListingKey\", how=\"inner\")\n",
    "# Filter Bid Features\n",
    "bid_data = bid_data[bid_features]\n",
    "# Debt to Income Ratio Median\n",
    "dtirm = bid_data.DebtToIncomeRatio.median()\n",
    "bid_data['DebtToIncomeRatio'] = bid_data['DebtToIncomeRatio'].fillna(dtirm)\n",
    "# Convert all columns to numeric\n",
    "bid_data[bid_data.columns[1:]] = bid_data[bid_data.columns[1:]].apply(pd.to_numeric)\n",
    "# Show sample data\n",
    "bid_data.sample(5)"
   ]
  },
  {
   "cell_type": "code",
   "execution_count": 5,
   "metadata": {},
   "outputs": [
    {
     "name": "stdout",
     "output_type": "stream",
     "text": [
      "Counter({True: 22236, False: 11730})\n"
     ]
    },
    {
     "data": {
      "text/html": [
       "<div>\n",
       "<style scoped>\n",
       "    .dataframe tbody tr th:only-of-type {\n",
       "        vertical-align: middle;\n",
       "    }\n",
       "\n",
       "    .dataframe tbody tr th {\n",
       "        vertical-align: top;\n",
       "    }\n",
       "\n",
       "    .dataframe thead th {\n",
       "        text-align: right;\n",
       "    }\n",
       "</style>\n",
       "<table border=\"1\" class=\"dataframe\">\n",
       "  <thead>\n",
       "    <tr style=\"text-align: right;\">\n",
       "      <th></th>\n",
       "      <th>AmountRequested</th>\n",
       "      <th>NoBids</th>\n",
       "      <th>AvgInterBidTime</th>\n",
       "      <th>CoV</th>\n",
       "      <th>DebtToIncomeRatio</th>\n",
       "      <th>DescriptionLength</th>\n",
       "    </tr>\n",
       "  </thead>\n",
       "  <tbody>\n",
       "    <tr>\n",
       "      <th>count</th>\n",
       "      <td>33966.000</td>\n",
       "      <td>33966.000</td>\n",
       "      <td>33966.000</td>\n",
       "      <td>33966.000</td>\n",
       "      <td>33966.000</td>\n",
       "      <td>33966.000</td>\n",
       "    </tr>\n",
       "    <tr>\n",
       "      <th>mean</th>\n",
       "      <td>5982.832</td>\n",
       "      <td>134.999</td>\n",
       "      <td>15628.643</td>\n",
       "      <td>1.109</td>\n",
       "      <td>0.304</td>\n",
       "      <td>210.656</td>\n",
       "    </tr>\n",
       "    <tr>\n",
       "      <th>std</th>\n",
       "      <td>5381.875</td>\n",
       "      <td>139.222</td>\n",
       "      <td>112657.723</td>\n",
       "      <td>0.697</td>\n",
       "      <td>0.850</td>\n",
       "      <td>144.735</td>\n",
       "    </tr>\n",
       "    <tr>\n",
       "      <th>min</th>\n",
       "      <td>1000.000</td>\n",
       "      <td>1.000</td>\n",
       "      <td>0.000</td>\n",
       "      <td>0.000</td>\n",
       "      <td>0.000</td>\n",
       "      <td>0.000</td>\n",
       "    </tr>\n",
       "    <tr>\n",
       "      <th>25%</th>\n",
       "      <td>2500.000</td>\n",
       "      <td>39.000</td>\n",
       "      <td>2293.446</td>\n",
       "      <td>0.701</td>\n",
       "      <td>0.120</td>\n",
       "      <td>102.000</td>\n",
       "    </tr>\n",
       "    <tr>\n",
       "      <th>50%</th>\n",
       "      <td>4200.000</td>\n",
       "      <td>89.000</td>\n",
       "      <td>4715.764</td>\n",
       "      <td>0.934</td>\n",
       "      <td>0.190</td>\n",
       "      <td>171.000</td>\n",
       "    </tr>\n",
       "    <tr>\n",
       "      <th>75%</th>\n",
       "      <td>7500.000</td>\n",
       "      <td>180.000</td>\n",
       "      <td>10133.630</td>\n",
       "      <td>1.270</td>\n",
       "      <td>0.290</td>\n",
       "      <td>286.000</td>\n",
       "    </tr>\n",
       "    <tr>\n",
       "      <th>max</th>\n",
       "      <td>25000.000</td>\n",
       "      <td>1206.000</td>\n",
       "      <td>11034125.000</td>\n",
       "      <td>8.148</td>\n",
       "      <td>10.010</td>\n",
       "      <td>813.000</td>\n",
       "    </tr>\n",
       "  </tbody>\n",
       "</table>\n",
       "</div>"
      ],
      "text/plain": [
       "       AmountRequested    NoBids  AvgInterBidTime       CoV  DebtToIncomeRatio  DescriptionLength\n",
       "count 33966.000        33966.000 33966.000        33966.000 33966.000          33966.000         \n",
       "mean  5982.832         134.999   15628.643        1.109     0.304              210.656           \n",
       "std   5381.875         139.222   112657.723       0.697     0.850              144.735           \n",
       "min   1000.000         1.000     0.000            0.000     0.000              0.000             \n",
       "25%   2500.000         39.000    2293.446         0.701     0.120              102.000           \n",
       "50%   4200.000         89.000    4715.764         0.934     0.190              171.000           \n",
       "75%   7500.000         180.000   10133.630        1.270     0.290              286.000           \n",
       "max   25000.000        1206.000  11034125.000     8.148     10.010             813.000           "
      ]
     },
     "execution_count": 5,
     "metadata": {},
     "output_type": "execute_result"
    }
   ],
   "source": [
    "print (Counter(bid_data['RepaidOrNot']))\n",
    "bid_data.describe()"
   ]
  },
  {
   "cell_type": "code",
   "execution_count": 6,
   "metadata": {},
   "outputs": [
    {
     "name": "stdout",
     "output_type": "stream",
     "text": [
      "(0.06745975341533694, 1.4617810426014224e-35)\n",
      "(-0.026336080151550603, 1.2077137905265889e-06)\n",
      "(0.04586861863186291, 2.727828759930367e-17)\n",
      "(0.04925171742110739, 1.06398457855983e-19)\n"
     ]
    }
   ],
   "source": [
    "print (stats.pearsonr(bid_data['CoV'], bid_data['NoBids']))\n",
    "print (stats.pearsonr(bid_data['CoV'], bid_data['AvgInterBidTime']))\n",
    "print (stats.pearsonr(bid_data['CoV'], bid_data['DebtToIncomeRatio']))\n",
    "print (stats.pearsonr(bid_data['CoV'], bid_data['DescriptionLength']))"
   ]
  },
  {
   "cell_type": "markdown",
   "metadata": {},
   "source": [
    "# Network Construction"
   ]
  },
  {
   "cell_type": "code",
   "execution_count": 7,
   "metadata": {},
   "outputs": [],
   "source": [
    "def get_edgelist(steps = 6):\n",
    "    edge_list = [] # Series of edge lists for each loan listing\n",
    "    # Iterate through all loan listings\n",
    "    for key in tqdm_notebook(bid_data['ListingKey'].values): \n",
    "        # Create temporary dataframe to store listing bids\n",
    "        temp_df = bids[bids['ListingKey']==key].sort_values(by='CreationDate')\n",
    "        # Reset dataframe index for enumeration\n",
    "        temp_df = temp_df.reset_index(drop=True) \n",
    "        # Create edge_list and avoid duplicate edges\n",
    "        temp_edge_list, observed = [], []\n",
    "        # Iterate through all bids for the listing \n",
    "        for i in range(len(temp_df)-steps):\n",
    "            # Iterate through bids in herding range\n",
    "            for step in range(steps):\n",
    "                # Check if consecutive bids are not from the same lender\n",
    "                if temp_df.loc[i, \"MemberKey\"] != temp_df.loc[i+step, \"MemberKey\"]:\n",
    "                    # Check if the edge has not already been observed\n",
    "                    if (temp_df.loc[i+step, \"MemberKey\"], \"->\", temp_df.loc[i, \"MemberKey\"]) not in observed:\n",
    "                        # Check if consecutive bids within range are similar\n",
    "                        if temp_df.loc[i, \"Amount\"] == temp_df.loc[i+step, \"Amount\"]:\n",
    "                            # Add edge from follower to herder\n",
    "                            temp_edge_list.append([temp_df.loc[i+step, \"MemberKey\"], temp_df.loc[i, \"MemberKey\"]])\n",
    "                            # Indicate the edge is observed to avoide duplicate edges\n",
    "                            observed.append((temp_df.loc[i+step, \"MemberKey\"], \"->\", temp_df.loc[i, \"MemberKey\"]))\n",
    "        # Add listing's edge list to main list\n",
    "        edge_list.append(temp_edge_list)\n",
    "    return edge_list"
   ]
  },
  {
   "cell_type": "code",
   "execution_count": 8,
   "metadata": {},
   "outputs": [
    {
     "data": {
      "application/vnd.jupyter.widget-view+json": {
       "model_id": "eb03c00470f2466a97e55d4d608c1e35",
       "version_major": 2,
       "version_minor": 0
      },
      "text/plain": [
       "  0%|          | 0/33966 [00:00<?, ?it/s]"
      ]
     },
     "metadata": {},
     "output_type": "display_data"
    },
    {
     "data": {
      "application/vnd.jupyter.widget-view+json": {
       "model_id": "4dbb98d90f4b474c9b79c6e231a75afa",
       "version_major": 2,
       "version_minor": 0
      },
      "text/plain": [
       "  0%|          | 0/33966 [00:00<?, ?it/s]"
      ]
     },
     "metadata": {},
     "output_type": "display_data"
    },
    {
     "data": {
      "application/vnd.jupyter.widget-view+json": {
       "model_id": "9047c1f6fe854dd1a4050b03362d587e",
       "version_major": 2,
       "version_minor": 0
      },
      "text/plain": [
       "  0%|          | 0/33966 [00:00<?, ?it/s]"
      ]
     },
     "metadata": {},
     "output_type": "display_data"
    }
   ],
   "source": [
    "# Get edge_lists for different herding ranges\n",
    "edge_list_3 = get_edgelist(steps = 4)\n",
    "edge_list_5 = get_edgelist(steps = 6)\n",
    "edge_list_7 = get_edgelist(steps = 8)"
   ]
  },
  {
   "cell_type": "code",
   "execution_count": 9,
   "metadata": {},
   "outputs": [],
   "source": [
    "# Add edge lists to dataframe\n",
    "bid_data['Network_3'] = edge_list_3\n",
    "bid_data['Network_5'] = edge_list_5\n",
    "bid_data['Network_7'] = edge_list_7"
   ]
  },
  {
   "cell_type": "code",
   "execution_count": 10,
   "metadata": {},
   "outputs": [],
   "source": [
    "## Save dataframe\n",
    "bid_data.to_csv('../../Data/colending_data.csv', index=False)"
   ]
  },
  {
   "cell_type": "code",
   "execution_count": null,
   "metadata": {},
   "outputs": [],
   "source": []
  }
 ],
 "metadata": {
  "kernelspec": {
   "display_name": "Python 3 (ipykernel)",
   "language": "python",
   "name": "python3"
  },
  "language_info": {
   "codemirror_mode": {
    "name": "ipython",
    "version": 3
   },
   "file_extension": ".py",
   "mimetype": "text/x-python",
   "name": "python",
   "nbconvert_exporter": "python",
   "pygments_lexer": "ipython3",
   "version": "3.9.7"
  }
 },
 "nbformat": 4,
 "nbformat_minor": 4
}
