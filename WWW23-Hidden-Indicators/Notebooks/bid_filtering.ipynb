{
 "cells": [
  {
   "cell_type": "code",
   "execution_count": 1,
   "metadata": {},
   "outputs": [],
   "source": [
    "import numpy as np\n",
    "import pandas as pd\n",
    "import cPickle as pickle\n",
    "from datetime import datetime\n",
    "from tqdm import tqdm, tqdm_notebook\n",
    "import warnings\n",
    "warnings.filterwarnings('ignore')\n",
    "pd.set_option('display.max_colwidth', -1)\n",
    "pd.set_option('display.float_format', lambda x: '%.3f' % x)\n",
    "pd.set_option('display.max_rows', 500)\n",
    "pd.set_option('display.max_columns', 500)\n",
    "pd.set_option('display.width', 1000)\n",
    "\n",
    "__author__ = 'HK Dambanemuya'\n",
    "__version__ = 'Python 2'"
   ]
  },
  {
   "cell_type": "markdown",
   "metadata": {},
   "source": [
    "## Bids"
   ]
  },
  {
   "cell_type": "code",
   "execution_count": 2,
   "metadata": {},
   "outputs": [
    {
     "data": {
      "text/html": [
       "<div>\n",
       "<style scoped>\n",
       "    .dataframe tbody tr th:only-of-type {\n",
       "        vertical-align: middle;\n",
       "    }\n",
       "\n",
       "    .dataframe tbody tr th {\n",
       "        vertical-align: top;\n",
       "    }\n",
       "\n",
       "    .dataframe thead th {\n",
       "        text-align: right;\n",
       "    }\n",
       "</style>\n",
       "<table border=\"1\" class=\"dataframe\">\n",
       "  <thead>\n",
       "    <tr style=\"text-align: right;\">\n",
       "      <th></th>\n",
       "      <th>ListingKey</th>\n",
       "      <th>Bid_Key</th>\n",
       "      <th>MemberKey</th>\n",
       "      <th>CreationDate</th>\n",
       "      <th>Amount</th>\n",
       "      <th>Status</th>\n",
       "      <th>time_trunc</th>\n",
       "    </tr>\n",
       "  </thead>\n",
       "  <tbody>\n",
       "    <tr>\n",
       "      <th>2032267</th>\n",
       "      <td>84B133945199612709DB08D</td>\n",
       "      <td>66313497642617281F30330</td>\n",
       "      <td>3B043366342183806EA5D33</td>\n",
       "      <td>2007-07-10 15:51:25</td>\n",
       "      <td>50.000</td>\n",
       "      <td>Completed</td>\n",
       "      <td>200707</td>\n",
       "    </tr>\n",
       "    <tr>\n",
       "      <th>3412818</th>\n",
       "      <td>8E0A3409756585025F66BED</td>\n",
       "      <td>5A523513202868407D55DA0</td>\n",
       "      <td>541534047010026075EBA11</td>\n",
       "      <td>2008-01-12 21:54:54</td>\n",
       "      <td>50.000</td>\n",
       "      <td>Expired</td>\n",
       "      <td>200801</td>\n",
       "    </tr>\n",
       "    <tr>\n",
       "      <th>6462053</th>\n",
       "      <td>1D79341881940842914C9B7</td>\n",
       "      <td>220235882701504440FE5B2</td>\n",
       "      <td>A38433711100206687D3E99</td>\n",
       "      <td>2010-05-10 18:26:43</td>\n",
       "      <td>25.000</td>\n",
       "      <td>Completed</td>\n",
       "      <td>201005</td>\n",
       "    </tr>\n",
       "    <tr>\n",
       "      <th>4198432</th>\n",
       "      <td>1B2C34180097436185198A7</td>\n",
       "      <td>F909352137028252955E1E5</td>\n",
       "      <td>F03533861525517625E0E52</td>\n",
       "      <td>2008-04-10 13:11:54</td>\n",
       "      <td>50.000</td>\n",
       "      <td>Expired</td>\n",
       "      <td>200804</td>\n",
       "    </tr>\n",
       "    <tr>\n",
       "      <th>4928957</th>\n",
       "      <td>BDA734242072609714B4CB5</td>\n",
       "      <td>A0A135262976934818F7189</td>\n",
       "      <td>A2F63406970196509388CCD</td>\n",
       "      <td>2008-06-10 11:17:25</td>\n",
       "      <td>50.000</td>\n",
       "      <td>Expired</td>\n",
       "      <td>200806</td>\n",
       "    </tr>\n",
       "  </tbody>\n",
       "</table>\n",
       "</div>"
      ],
      "text/plain": [
       "                      ListingKey                  Bid_Key                MemberKey        CreationDate  Amount     Status time_trunc\n",
       "2032267  84B133945199612709DB08D  66313497642617281F30330  3B043366342183806EA5D33 2007-07-10 15:51:25 50.000   Completed  200707   \n",
       "3412818  8E0A3409756585025F66BED  5A523513202868407D55DA0  541534047010026075EBA11 2008-01-12 21:54:54 50.000   Expired    200801   \n",
       "6462053  1D79341881940842914C9B7  220235882701504440FE5B2  A38433711100206687D3E99 2010-05-10 18:26:43 25.000   Completed  201005   \n",
       "4198432  1B2C34180097436185198A7  F909352137028252955E1E5  F03533861525517625E0E52 2008-04-10 13:11:54 50.000   Expired    200804   \n",
       "4928957  BDA734242072609714B4CB5  A0A135262976934818F7189  A2F63406970196509388CCD 2008-06-10 11:17:25 50.000   Expired    200806   "
      ]
     },
     "execution_count": 2,
     "metadata": {},
     "output_type": "execute_result"
    }
   ],
   "source": [
    "bids = pd.read_csv(\"../../Data/lending/bid_notick.txt\", sep=\"|\")\n",
    "# Filter winning bids\n",
    "bids = bids[bids.Status.isin([\"Winning\", \"Partially Participating\"])]\n",
    "# Remove current listings\n",
    "bids = bids[bids.ListingStatus.isin([\"Expired\", \"Completed\"])]\n",
    "# Filter relevant columns\n",
    "bids = bids[[\"ListingKey\", \"Bid_Key\", \"MemberKey\", \"CreationDate\", \"Amount\", \"ListingStatus\"]]\n",
    "# Convert creation date to datetime format\n",
    "bids[\"CreationDate\"] = pd.to_datetime(bids.CreationDate)\n",
    "# Variable /YYYY/MM to allow monthly time unit analysis\n",
    "bids[\"time_trunc\"] = bids.CreationDate.map(lambda x: x.strftime('%Y%m'))\n",
    "# Rename status colunmn for consistency with other projects\n",
    "bids = bids.rename(index=str, columns={\"ListingStatus\": \"Status\"})\n",
    "# Exclude these bids in preliminary analysis to correspond to final listing list\n",
    "with open(\"../../Data/lending/final_listings\", 'rb') as f:\n",
    "    filtered = pickle.load(f)\n",
    "bids = bids[bids['ListingKey'].isin(filtered)] \n",
    "# Show sample bids\n",
    "bids.sample(5)"
   ]
  },
  {
   "cell_type": "markdown",
   "metadata": {},
   "source": [
    "## Listings"
   ]
  },
  {
   "cell_type": "code",
   "execution_count": 3,
   "metadata": {
    "scrolled": true
   },
   "outputs": [
    {
     "data": {
      "text/html": [
       "<div>\n",
       "<style scoped>\n",
       "    .dataframe tbody tr th:only-of-type {\n",
       "        vertical-align: middle;\n",
       "    }\n",
       "\n",
       "    .dataframe tbody tr th {\n",
       "        vertical-align: top;\n",
       "    }\n",
       "\n",
       "    .dataframe thead th {\n",
       "        text-align: right;\n",
       "    }\n",
       "</style>\n",
       "<table border=\"1\" class=\"dataframe\">\n",
       "  <thead>\n",
       "    <tr style=\"text-align: right;\">\n",
       "      <th></th>\n",
       "      <th>ProjectID</th>\n",
       "      <th>AmountRequested</th>\n",
       "      <th>AmountRaised</th>\n",
       "      <th>StartDate</th>\n",
       "      <th>EndDate</th>\n",
       "      <th>Status</th>\n",
       "      <th>BorrowerRate</th>\n",
       "      <th>ProsperScore</th>\n",
       "      <th>Duration</th>\n",
       "      <th>CreditGrade</th>\n",
       "      <th>DebtToIncomeRatio</th>\n",
       "      <th>IsBorrowerHomeowner</th>\n",
       "    </tr>\n",
       "  </thead>\n",
       "  <tbody>\n",
       "    <tr>\n",
       "      <th>56</th>\n",
       "      <td>68463366021964690748937</td>\n",
       "      <td>2995.000</td>\n",
       "      <td>1050.680</td>\n",
       "      <td>2006-06-22 14:50:57</td>\n",
       "      <td>2006-07-02 14:51:13</td>\n",
       "      <td>Expired</td>\n",
       "      <td>0.287</td>\n",
       "      <td>nan</td>\n",
       "      <td>10</td>\n",
       "      <td>2</td>\n",
       "      <td>0.040</td>\n",
       "      <td>False</td>\n",
       "    </tr>\n",
       "    <tr>\n",
       "      <th>57</th>\n",
       "      <td>68C933650780012599F665D</td>\n",
       "      <td>1500.000</td>\n",
       "      <td>200.000</td>\n",
       "      <td>2006-06-23 12:48:26</td>\n",
       "      <td>2006-06-30 12:50:36</td>\n",
       "      <td>Expired</td>\n",
       "      <td>0.237</td>\n",
       "      <td>nan</td>\n",
       "      <td>7</td>\n",
       "      <td>2</td>\n",
       "      <td>0.150</td>\n",
       "      <td>False</td>\n",
       "    </tr>\n",
       "    <tr>\n",
       "      <th>72</th>\n",
       "      <td>32FB33655503533550522A0</td>\n",
       "      <td>4000.000</td>\n",
       "      <td>650.000</td>\n",
       "      <td>2006-07-22 15:40:03</td>\n",
       "      <td>2006-07-29 15:41:06</td>\n",
       "      <td>Expired</td>\n",
       "      <td>0.070</td>\n",
       "      <td>nan</td>\n",
       "      <td>7</td>\n",
       "      <td>8</td>\n",
       "      <td>0.060</td>\n",
       "      <td>True</td>\n",
       "    </tr>\n",
       "    <tr>\n",
       "      <th>74</th>\n",
       "      <td>AF5833649932087691B64A6</td>\n",
       "      <td>2000.000</td>\n",
       "      <td>825.000</td>\n",
       "      <td>2006-07-28 10:04:50</td>\n",
       "      <td>2006-08-04 10:07:57</td>\n",
       "      <td>Expired</td>\n",
       "      <td>0.290</td>\n",
       "      <td>nan</td>\n",
       "      <td>7</td>\n",
       "      <td>2</td>\n",
       "      <td>0.190</td>\n",
       "      <td>True</td>\n",
       "    </tr>\n",
       "    <tr>\n",
       "      <th>80</th>\n",
       "      <td>5D553365615243726AB58E0</td>\n",
       "      <td>5000.000</td>\n",
       "      <td>300.000</td>\n",
       "      <td>2006-08-07 14:29:47</td>\n",
       "      <td>2006-08-14 14:33:56</td>\n",
       "      <td>Expired</td>\n",
       "      <td>0.290</td>\n",
       "      <td>nan</td>\n",
       "      <td>7</td>\n",
       "      <td>2</td>\n",
       "      <td>0.120</td>\n",
       "      <td>True</td>\n",
       "    </tr>\n",
       "  </tbody>\n",
       "</table>\n",
       "</div>"
      ],
      "text/plain": [
       "                  ProjectID  AmountRequested  AmountRaised            StartDate              EndDate   Status  BorrowerRate  ProsperScore  Duration  CreditGrade  DebtToIncomeRatio IsBorrowerHomeowner\n",
       "56  68463366021964690748937 2995.000         1050.680       2006-06-22 14:50:57  2006-07-02 14:51:13  Expired 0.287         nan            10        2           0.040               False             \n",
       "57  68C933650780012599F665D 1500.000         200.000        2006-06-23 12:48:26  2006-06-30 12:50:36  Expired 0.237         nan            7         2           0.150               False             \n",
       "72  32FB33655503533550522A0 4000.000         650.000        2006-07-22 15:40:03  2006-07-29 15:41:06  Expired 0.070         nan            7         8           0.060               True              \n",
       "74  AF5833649932087691B64A6 2000.000         825.000        2006-07-28 10:04:50  2006-08-04 10:07:57  Expired 0.290         nan            7         2           0.190               True              \n",
       "80  5D553365615243726AB58E0 5000.000         300.000        2006-08-07 14:29:47  2006-08-14 14:33:56  Expired 0.290         nan            7         2           0.120               True              "
      ]
     },
     "execution_count": 3,
     "metadata": {},
     "output_type": "execute_result"
    }
   ],
   "source": [
    "listings = pd.read_csv('../../Data/lending/listing.txt', sep=\"|\")\n",
    "# Select relevant columns\n",
    "columns = [\"Lst_Key\", \"AmountRequested\", \"AmountFunded\", \"StartDate\", \"EndDate\", \"Status\", \"BorrowerRate\", \"ProsperScore\", \"Duration\", \"CreditGrade\", \"DebtToIncomeRatio\", \"IsBorrowerHomeowner\"]\n",
    "listings = listings[columns]\n",
    "# Rename columns\n",
    "listings = listings.rename(index=str, columns={\"Lst_Key\": \"ProjectID\",\n",
    "                                               \"AmountFunded\": \"AmountRaised\"})\n",
    "# Pre-process credit information\n",
    "creditmap = {'AA':8, 'A':7, 'B':6, 'C':5, 'D':4, 'E':3, 'HR':2, 'NC':1}\n",
    "listings['CreditGrade'] = listings.CreditGrade.fillna(9)\n",
    "listings = listings.applymap(lambda s: creditmap.get(s) if s in creditmap else s)\n",
    "# Drop records with no credit information\n",
    "listings = listings[listings['CreditGrade']<9] \n",
    "# Remove current listings\n",
    "listings = listings[listings.Status.isin([\"Expired\", \"Completed\"])]\n",
    "# Remove listings that raised $0\n",
    "listings = listings[listings.AmountRaised > 0]\n",
    "# Show sample listings\n",
    "listings.head(5)"
   ]
  },
  {
   "cell_type": "markdown",
   "metadata": {},
   "source": [
    "## Listing Keys & Amount Requested Map"
   ]
  },
  {
   "cell_type": "code",
   "execution_count": 4,
   "metadata": {},
   "outputs": [],
   "source": [
    "# Create listing Key Variable\n",
    "listing_keys = list(set(bids['ListingKey']))\n",
    "assert len(listing_keys) == len(listings)\n",
    "\n",
    "# Map ProjectID to AmountRequested\n",
    "amount_requested_map = dict(zip(listings.ProjectID, listings.AmountRequested))"
   ]
  },
  {
   "cell_type": "markdown",
   "metadata": {},
   "source": [
    "## Map Listing Keys to Bid DFs"
   ]
  },
  {
   "cell_type": "code",
   "execution_count": 5,
   "metadata": {},
   "outputs": [
    {
     "data": {
      "application/vnd.jupyter.widget-view+json": {
       "model_id": "107ddbf50276433c8825e123312825d9",
       "version_major": 2,
       "version_minor": 0
      },
      "text/plain": [
       "HBox(children=(IntProgress(value=0, max=143770), HTML(value=u'')))"
      ]
     },
     "metadata": {},
     "output_type": "display_data"
    },
    {
     "name": "stdout",
     "output_type": "stream",
     "text": [
      "\n"
     ]
    }
   ],
   "source": [
    "# Map Listing Keys to Bids Dataframes\n",
    "listing_bids_map = {}\n",
    "for listing_key in tqdm_notebook(listing_keys):\n",
    "    var_df = bids.query(\"ListingKey == '{0}'\".format(listing_key)).sort_values(by='CreationDate')\n",
    "    # Create bid amounts series \n",
    "    series = var_df['Amount'].fillna(0)\n",
    "    # Convert series to CDF\n",
    "    norm_cdf = np.cumsum(series)\n",
    "    var_df['cdf'] = norm_cdf\n",
    "    listing_bids_map[listing_key] = var_df"
   ]
  },
  {
   "cell_type": "markdown",
   "metadata": {},
   "source": [
    "## Bids Filtering Method"
   ]
  },
  {
   "cell_type": "code",
   "execution_count": 6,
   "metadata": {},
   "outputs": [],
   "source": [
    "# Take bids that contribute t% of the total amount raised\n",
    "def filter_bids_by_amount(threshold):\n",
    "    bids_ = [] # Global bids dataframes list\n",
    "    threshold = threshold # Cut-off point\n",
    "    # Iterate through all listing keys\n",
    "    for listing_key in tqdm_notebook(listing_keys):\n",
    "        # Get bids dataframe for each listing key\n",
    "        # Bids in dataframe are sorted chronologically\n",
    "        var_df = listing_bids_map[listing_key]\n",
    "        # Limit based on threshold\n",
    "        limit = amount_requested_map.get(listing_key)*threshold\n",
    "        # If project raised more than threshold\n",
    "        if (len(var_df)>0) and (max(var_df['cdf']) >= limit):\n",
    "            # Get bids that comprise <= threshold\n",
    "            var_df = var_df[var_df['cdf']<=limit] \n",
    "            # add filtered bids dataframe to temporary list        \n",
    "            bids_.append(var_df)\n",
    "    return pd.concat(bids_, axis=0)"
   ]
  },
  {
   "cell_type": "markdown",
   "metadata": {},
   "source": [
    "## Filter Bids"
   ]
  },
  {
   "cell_type": "code",
   "execution_count": 7,
   "metadata": {},
   "outputs": [
    {
     "data": {
      "application/vnd.jupyter.widget-view+json": {
       "model_id": "f995267dc9a74363a1d77cb09a8d44e7",
       "version_major": 2,
       "version_minor": 0
      },
      "text/plain": [
       "HBox(children=(IntProgress(value=0, max=143770), HTML(value=u'')))"
      ]
     },
     "metadata": {},
     "output_type": "display_data"
    },
    {
     "name": "stdout",
     "output_type": "stream",
     "text": [
      "\n",
      "53810\n"
     ]
    }
   ],
   "source": [
    "bids_10 = filter_bids_by_amount(0.10)\n",
    "print bids_10['ListingKey'].nunique() \n",
    "bids_10.to_csv(\"../../Data/lending/filtered/bids_amount_10.csv\", index=False)"
   ]
  },
  {
   "cell_type": "code",
   "execution_count": 8,
   "metadata": {},
   "outputs": [
    {
     "data": {
      "application/vnd.jupyter.widget-view+json": {
       "model_id": "f190dd4ffcfa47e6bb133ccd5041413f",
       "version_major": 2,
       "version_minor": 0
      },
      "text/plain": [
       "HBox(children=(IntProgress(value=0, max=143770), HTML(value=u'')))"
      ]
     },
     "metadata": {},
     "output_type": "display_data"
    },
    {
     "name": "stdout",
     "output_type": "stream",
     "text": [
      "\n",
      "42363\n"
     ]
    }
   ],
   "source": [
    "bids_20 = filter_bids_by_amount(0.20)\n",
    "print bids_20['ListingKey'].nunique() \n",
    "bids_20.to_csv(\"../../Data/lending/filtered/bids_amount_20.csv\", index=False)"
   ]
  },
  {
   "cell_type": "code",
   "execution_count": 9,
   "metadata": {},
   "outputs": [],
   "source": [
    "# bids_25 = filter_bids_by_amount(0.25)\n",
    "# print bids_25['ListingKey'].nunique() \n",
    "# bids_25.to_csv(\"../../Data/lending/filtered/bids_amount_25.csv\", index=False)"
   ]
  },
  {
   "cell_type": "code",
   "execution_count": 10,
   "metadata": {},
   "outputs": [
    {
     "data": {
      "application/vnd.jupyter.widget-view+json": {
       "model_id": "7a8fc368a1fd4f80b8fda74dcd72f3cb",
       "version_major": 2,
       "version_minor": 0
      },
      "text/plain": [
       "HBox(children=(IntProgress(value=0, max=143770), HTML(value=u'')))"
      ]
     },
     "metadata": {},
     "output_type": "display_data"
    },
    {
     "name": "stdout",
     "output_type": "stream",
     "text": [
      "\n",
      "37484\n"
     ]
    }
   ],
   "source": [
    "bids_30 = filter_bids_by_amount(0.30)\n",
    "print bids_30['ListingKey'].nunique() \n",
    "bids_30.to_csv(\"../../Data/lending/filtered/bids_amount_30.csv\", index=False)"
   ]
  },
  {
   "cell_type": "code",
   "execution_count": 11,
   "metadata": {},
   "outputs": [
    {
     "data": {
      "application/vnd.jupyter.widget-view+json": {
       "model_id": "7d0e44d264d7430fb677a03b2c0e3e64",
       "version_major": 2,
       "version_minor": 0
      },
      "text/plain": [
       "HBox(children=(IntProgress(value=0, max=143770), HTML(value=u'')))"
      ]
     },
     "metadata": {},
     "output_type": "display_data"
    },
    {
     "name": "stdout",
     "output_type": "stream",
     "text": [
      "\n",
      "34340\n"
     ]
    }
   ],
   "source": [
    "bids_40 = filter_bids_by_amount(0.40)\n",
    "print bids_40['ListingKey'].nunique() \n",
    "bids_40.to_csv(\"../../Data/lending/filtered/bids_amount_40.csv\", index=False)"
   ]
  },
  {
   "cell_type": "code",
   "execution_count": 12,
   "metadata": {},
   "outputs": [
    {
     "data": {
      "application/vnd.jupyter.widget-view+json": {
       "model_id": "d3fa842ada1c46cda4327ea0935b1598",
       "version_major": 2,
       "version_minor": 0
      },
      "text/plain": [
       "HBox(children=(IntProgress(value=0, max=143770), HTML(value=u'')))"
      ]
     },
     "metadata": {},
     "output_type": "display_data"
    },
    {
     "name": "stdout",
     "output_type": "stream",
     "text": [
      "\n",
      "32409\n"
     ]
    }
   ],
   "source": [
    "bids_50 = filter_bids_by_amount(0.50)\n",
    "print bids_50['ListingKey'].nunique() \n",
    "bids_50.to_csv(\"../../Data/lending/filtered/bids_amount_50.csv\", index=False)"
   ]
  },
  {
   "cell_type": "code",
   "execution_count": 13,
   "metadata": {},
   "outputs": [
    {
     "data": {
      "application/vnd.jupyter.widget-view+json": {
       "model_id": "8ac6532d0ffc493e8910496554949139",
       "version_major": 2,
       "version_minor": 0
      },
      "text/plain": [
       "HBox(children=(IntProgress(value=0, max=143770), HTML(value=u'')))"
      ]
     },
     "metadata": {},
     "output_type": "display_data"
    },
    {
     "name": "stdout",
     "output_type": "stream",
     "text": [
      "\n",
      "31104\n"
     ]
    }
   ],
   "source": [
    "bids_60 = filter_bids_by_amount(0.60)\n",
    "print bids_60['ListingKey'].nunique() \n",
    "bids_60.to_csv(\"../../Data/lending/filtered/bids_amount_60.csv\", index=False)"
   ]
  },
  {
   "cell_type": "code",
   "execution_count": 14,
   "metadata": {},
   "outputs": [
    {
     "data": {
      "application/vnd.jupyter.widget-view+json": {
       "model_id": "822f981723164f3ebc47a8d818399b0c",
       "version_major": 2,
       "version_minor": 0
      },
      "text/plain": [
       "HBox(children=(IntProgress(value=0, max=143770), HTML(value=u'')))"
      ]
     },
     "metadata": {},
     "output_type": "display_data"
    },
    {
     "name": "stdout",
     "output_type": "stream",
     "text": [
      "\n",
      "30065\n"
     ]
    }
   ],
   "source": [
    "bids_70 = filter_bids_by_amount(0.70)\n",
    "print bids_70['ListingKey'].nunique() \n",
    "bids_70.to_csv(\"../../Data/lending/filtered/bids_amount_70.csv\", index=False)"
   ]
  },
  {
   "cell_type": "code",
   "execution_count": 15,
   "metadata": {},
   "outputs": [],
   "source": [
    "# bids_75 = filter_bids_by_amount(0.75)\n",
    "# print bids_75['ListingKey'].nunique() \n",
    "# bids_75.to_csv(\"../../Data/lending/filtered/bids_amount_75.csv\", index=False)"
   ]
  },
  {
   "cell_type": "code",
   "execution_count": 16,
   "metadata": {},
   "outputs": [
    {
     "data": {
      "application/vnd.jupyter.widget-view+json": {
       "model_id": "93775398c05e4f04ae9a7a72d78932e1",
       "version_major": 2,
       "version_minor": 0
      },
      "text/plain": [
       "HBox(children=(IntProgress(value=0, max=143770), HTML(value=u'')))"
      ]
     },
     "metadata": {},
     "output_type": "display_data"
    },
    {
     "name": "stdout",
     "output_type": "stream",
     "text": [
      "\n",
      "29401\n"
     ]
    }
   ],
   "source": [
    "bids_80 = filter_bids_by_amount(0.80)\n",
    "print bids_80['ListingKey'].nunique() \n",
    "bids_80.to_csv(\"../../Data/lending/filtered/bids_amount_80.csv\", index=False)"
   ]
  },
  {
   "cell_type": "code",
   "execution_count": 17,
   "metadata": {},
   "outputs": [
    {
     "data": {
      "application/vnd.jupyter.widget-view+json": {
       "model_id": "940e6cbb4e3a4287835045ad8a5f7dca",
       "version_major": 2,
       "version_minor": 0
      },
      "text/plain": [
       "HBox(children=(IntProgress(value=0, max=143770), HTML(value=u'')))"
      ]
     },
     "metadata": {},
     "output_type": "display_data"
    },
    {
     "name": "stdout",
     "output_type": "stream",
     "text": [
      "\n",
      "28934\n"
     ]
    }
   ],
   "source": [
    "bids_90 = filter_bids_by_amount(0.90)\n",
    "print bids_90['ListingKey'].nunique() \n",
    "bids_90.to_csv(\"../../Data/lending/filtered/bids_amount_90.csv\", index=False)"
   ]
  },
  {
   "cell_type": "code",
   "execution_count": 18,
   "metadata": {},
   "outputs": [
    {
     "data": {
      "application/vnd.jupyter.widget-view+json": {
       "model_id": "f356dbceaa984b3587b55d7303cffaab",
       "version_major": 2,
       "version_minor": 0
      },
      "text/plain": [
       "HBox(children=(IntProgress(value=0, max=143770), HTML(value=u'')))"
      ]
     },
     "metadata": {},
     "output_type": "display_data"
    },
    {
     "name": "stdout",
     "output_type": "stream",
     "text": [
      "\n",
      "28913\n"
     ]
    }
   ],
   "source": [
    "bids_100 = filter_bids_by_amount(1.00)\n",
    "print bids_100['ListingKey'].nunique() \n",
    "bids_100.to_csv(\"../../Data/lending/filtered/bids_amount_100.csv\", index=False)"
   ]
  },
  {
   "cell_type": "code",
   "execution_count": null,
   "metadata": {},
   "outputs": [],
   "source": []
  }
 ],
 "metadata": {
  "kernelspec": {
   "display_name": "Python 2",
   "language": "python",
   "name": "python2"
  },
  "language_info": {
   "codemirror_mode": {
    "name": "ipython",
    "version": 2
   },
   "file_extension": ".py",
   "mimetype": "text/x-python",
   "name": "python",
   "nbconvert_exporter": "python",
   "pygments_lexer": "ipython2",
   "version": "2.7.16"
  }
 },
 "nbformat": 4,
 "nbformat_minor": 2
}
