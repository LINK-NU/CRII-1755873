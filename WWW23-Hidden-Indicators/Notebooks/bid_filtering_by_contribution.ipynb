{
 "cells": [
  {
   "cell_type": "code",
   "execution_count": 1,
   "metadata": {},
   "outputs": [],
   "source": [
    "__author__ = 'HK Dambanemuya'\n",
    "__version__ = 'Python Interactive'\n",
    "\n",
    "import numpy as np\n",
    "import pandas as pd\n",
    "import pickle\n",
    "from datetime import datetime\n",
    "from tqdm import tqdm, tqdm_notebook\n",
    "import warnings\n",
    "warnings.filterwarnings('ignore')\n",
    "pd.set_option('display.max_colwidth', -1)\n",
    "pd.set_option('display.float_format', lambda x: '%.3f' % x)\n",
    "pd.set_option('display.max_rows', 500)\n",
    "pd.set_option('display.max_columns', 500)\n",
    "pd.set_option('display.width', 1000)\n",
    "\n",
    "# Take first n bids \n",
    "def filter_bids_by_n_sample(n):\n",
    "    return pd.concat([listing_bids_map[key].head(n) for key in list(listing_bids_map.keys())], axis=0)\n"
   ]
  },
  {
   "cell_type": "code",
   "execution_count": 2,
   "metadata": {},
   "outputs": [],
   "source": [
    "bids = pd.read_csv(\"../../Data/lending/bid_notick.txt\", sep=\"|\")\n",
    "# Filter winning bids\n",
    "bids = bids[bids.Status.isin([\"Winning\", \"Partially Participating\"])]\n",
    "# Remove current listings\n",
    "bids = bids[bids.ListingStatus.isin([\"Expired\", \"Completed\"])]\n",
    "# Filter relevant columns\n",
    "bids = bids[[\"ListingKey\", \"Bid_Key\", \"MemberKey\", \"CreationDate\", \"Amount\", \"ListingStatus\"]]\n",
    "# Convert creation date to datetime format\n",
    "bids[\"CreationDate\"] = pd.to_datetime(bids.CreationDate)\n",
    "# Variable /YYYY/MM to allow monthly time unit analysis\n",
    "bids[\"time_trunc\"] = bids.CreationDate.map(lambda x: x.strftime('%Y%m'))\n",
    "# Rename status colunmn for consistency with other projects\n",
    "bids = bids.rename(index=str, columns={\"ListingStatus\": \"Status\"})\n",
    "# Exclude these bids in preliminary analysis to correspond to final listing list\n",
    "with open(\"../../Data/lending/final_listings\", 'rb') as f:\n",
    "    filtered = pickle.load(f)\n",
    "bids = bids[bids['ListingKey'].isin(filtered)] "
   ]
  },
  {
   "cell_type": "code",
   "execution_count": 3,
   "metadata": {},
   "outputs": [],
   "source": [
    "listings = pd.read_csv('../../Data/lending/listing.txt', sep=\"|\")\n",
    "# Select relevant columns\n",
    "columns = [\"Lst_Key\", \"AmountRequested\", \"AmountFunded\", \"StartDate\", \"EndDate\", \"Status\", \"BorrowerRate\", \"ProsperScore\", \"Duration\", \"CreditGrade\", \"DebtToIncomeRatio\", \"IsBorrowerHomeowner\"]\n",
    "listings = listings[columns]\n",
    "# Rename columns\n",
    "listings = listings.rename(index=str, columns={\"Lst_Key\": \"ProjectID\",\n",
    "                                               \"AmountFunded\": \"AmountRaised\"})\n",
    "# Pre-process credit information\n",
    "creditmap = {'AA':8, 'A':7, 'B':6, 'C':5, 'D':4, 'E':3, 'HR':2, 'NC':1}\n",
    "listings['CreditGrade'] = listings.CreditGrade.fillna(9)\n",
    "listings = listings.applymap(lambda s: creditmap.get(s) if s in creditmap else s)\n",
    "# Drop records with no credit information\n",
    "listings = listings[listings['CreditGrade']<9] \n",
    "# Remove current listings\n",
    "listings = listings[listings.Status.isin([\"Expired\", \"Completed\"])]\n",
    "# Remove listings that raised $0\n",
    "listings = listings[listings.AmountRaised > 0]\n",
    "# Show sample listings"
   ]
  },
  {
   "cell_type": "code",
   "execution_count": 4,
   "metadata": {},
   "outputs": [
    {
     "data": {
      "text/plain": [
       "143770"
      ]
     },
     "execution_count": 4,
     "metadata": {},
     "output_type": "execute_result"
    }
   ],
   "source": [
    "# Create listing Key Variable\n",
    "listing_keys = list(set(bids['ListingKey']))\n",
    "assert len(listing_keys) == len(listings)\n",
    "len(listing_keys)"
   ]
  },
  {
   "cell_type": "code",
   "execution_count": 5,
   "metadata": {},
   "outputs": [],
   "source": [
    "# Map ProjectID to AmountRequested \n",
    "amount_requested_map = dict(zip(listings.ProjectID, listings.AmountRequested))\n",
    "\n",
    "# Map Listing Keys to Bids Dataframes(15 hours)\n",
    "listing_bids_map = {key:bids.query(f\"ListingKey == '{key}'\").sort_values(by='CreationDate') for key in listing_keys}    \n",
    "    \n"
   ]
  },
  {
   "cell_type": "code",
   "execution_count": 6,
   "metadata": {},
   "outputs": [
    {
     "data": {
      "application/vnd.jupyter.widget-view+json": {
       "model_id": "4c70e06e3041499895a77c27b5d32142",
       "version_major": 2,
       "version_minor": 0
      },
      "text/plain": [
       "HBox(children=(FloatProgress(value=0.0, max=10.0), HTML(value='')))"
      ]
     },
     "metadata": {},
     "output_type": "display_data"
    },
    {
     "name": "stdout",
     "output_type": "stream",
     "text": [
      "\n"
     ]
    }
   ],
   "source": [
    "filtered_map ={}\n",
    "\n",
    "for i in tqdm_notebook(range(1,11)):\n",
    "    var_df = filter_bids_by_n_sample(i)\n",
    "    filtered_map[f'bids_{i}'] = var_df\n",
    "    var_df.to_csv(f\"../../Data/lending/filtered/bids_{i}.csv\", index=False)"
   ]
  },
  {
   "cell_type": "code",
   "execution_count": null,
   "metadata": {},
   "outputs": [],
   "source": []
  }
 ],
 "metadata": {
  "kernelspec": {
   "display_name": "'Python Interactive'",
   "language": "python",
   "name": "ccdd5e71-ce48-459c-8f52-48afa3c7b57d"
  },
  "language_info": {
   "codemirror_mode": {
    "name": "ipython",
    "version": 3
   },
   "file_extension": ".py",
   "mimetype": "text/x-python",
   "name": "python",
   "nbconvert_exporter": "python",
   "pygments_lexer": "ipython3",
   "version": "3.7.6"
  }
 },
 "nbformat": 4,
 "nbformat_minor": 2
}
