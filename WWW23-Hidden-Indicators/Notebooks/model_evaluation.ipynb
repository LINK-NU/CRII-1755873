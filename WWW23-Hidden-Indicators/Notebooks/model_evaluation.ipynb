{
 "cells": [
  {
   "cell_type": "code",
   "execution_count": 1,
   "metadata": {},
   "outputs": [
    {
     "name": "stderr",
     "output_type": "stream",
     "text": [
      "\n",
      "Bad key \"text.kerning_factor\" on line 4 in\n",
      "/usr/local/Caskroom/miniconda/base/lib/python3.7/site-packages/matplotlib/mpl-data/stylelib/_classic_test_patch.mplstyle.\n",
      "You probably need to get an updated matplotlibrc file from\n",
      "https://github.com/matplotlib/matplotlib/blob/v3.1.3/matplotlibrc.template\n",
      "or from the matplotlib source distribution\n"
     ]
    }
   ],
   "source": [
    "import timeit\n",
    "import numpy as np\n",
    "import pandas as pd\n",
    "from scipy import stats\n",
    "from collections import Counter\n",
    "import seaborn as sns\n",
    "import matplotlib.pyplot as plt\n",
    "from sklearn import metrics\n",
    "from sklearn.preprocessing import MinMaxScaler\n",
    "from sklearn.ensemble import RandomForestClassifier\n",
    "from sklearn.model_selection import train_test_split, KFold\n",
    "from sklearn.metrics import classification_report\n",
    "from sklearn.metrics import confusion_matrix\n",
    "from sklearn.metrics import roc_auc_score\n",
    "from sklearn.metrics import roc_curve\n",
    "from tqdm import tqdm_notebook\n",
    "import warnings\n",
    "warnings.filterwarnings('ignore')\n",
    "pd.set_option('display.max_colwidth', -1)\n",
    "pd.set_option('display.float_format', lambda x: '%.3f' % x)\n",
    "pd.set_option('display.max_rows', 500)\n",
    "pd.set_option('display.max_columns', 500)\n",
    "pd.set_option('display.width', 1000)\n",
    "sns.set_style('whitegrid')\n",
    "plt.style.use('seaborn-whitegrid')\n",
    "\n",
    "__author__ = 'HK Dambanemuya'\n",
    "__version__ = 'Python 3'"
   ]
  },
  {
   "cell_type": "code",
   "execution_count": 2,
   "metadata": {},
   "outputs": [],
   "source": [
    "# K-Fold cross validation\n",
    "def run_cv(X,y,clf_class):\n",
    "    # Construct a kfolds\n",
    "    kf = KFold(n_splits=5,shuffle=True)\n",
    "    kf.get_n_splits(X)\n",
    "    y_pred = y.copy()\n",
    "\n",
    "    # Iterate through folds\n",
    "    for train_index, test_index in kf.split(X):\n",
    "        X_train, X_test = X[train_index], X[test_index]\n",
    "        y_train = y[train_index]\n",
    "        clf = clf_class\n",
    "        clf.fit(X_train,y_train)\n",
    "        y_pred[test_index] = clf.predict(X_test)\n",
    "    return y_pred\n",
    "\n",
    "# Evaluation Summary\n",
    "def evaluation_summary(df_map):\n",
    "    eval_df = pd.DataFrame()\n",
    "    t_, mean_, std_ = [], [], []\n",
    "    for k, v in tqdm_notebook(df_map.items()):\n",
    "        if k[-2:] == '00':\n",
    "            threshold = f\"1{k[-2:]}%\"\n",
    "        else:\n",
    "            threshold = f\"{k[-2:]}%\"\n",
    "        \n",
    "        t_.append(threshold[:-1])\n",
    "        \n",
    "        X = v[v.columns[1:-1]].values\n",
    "        y = v[v.columns[-1]].values\n",
    "        \n",
    "        auc_ = [] \n",
    "        \n",
    "        start = timeit.default_timer()\n",
    "        auc_ = [auc(y, run_cv(X,y,clf)) for i in tqdm_notebook(range(2)) ]    \n",
    "        stop = timeit.default_timer()\n",
    "        \n",
    "        mean_.append(np.mean(auc_))\n",
    "        std_.append(np.std(auc_))\n",
    "        \n",
    "        print (f\"Completed 2 iterations of {threshold} dataset in {stop-start} seconds. AUC (mean, std) = {np.mean(auc_)}, {np.std(auc_)}.\")\n",
    "    \n",
    "    eval_df['Threshold'] = t_\n",
    "    eval_df['Mean'] = mean_\n",
    "    eval_df['Std'] = std_\n",
    "    \n",
    "    return eval_df\n",
    "\n",
    "# AUC Metric\n",
    "def auc(y_true, y_pred): return metrics.roc_auc_score(y_true, y_pred)\n",
    "\n",
    "# Initialize MinMax Scaler\n",
    "scaler = MinMaxScaler() \n",
    "\n",
    "# Initialize Random Forest Classifier\n",
    "clf = RandomForestClassifier(random_state=42)"
   ]
  },
  {
   "cell_type": "code",
   "execution_count": 3,
   "metadata": {},
   "outputs": [],
   "source": [
    "# Import Bid Data\n",
    "df_map = {'bids_1': pd.read_csv(\"../../Data/lending/aggregated/bids_1.csv\").fillna(-1),\n",
    "        'bids_10': pd.read_csv(\"../../Data/lending/aggregated/bids_10.csv\").fillna(-1)}"
   ]
  },
  {
   "cell_type": "code",
   "execution_count": 4,
   "metadata": {
    "scrolled": true
   },
   "outputs": [
    {
     "data": {
      "application/vnd.jupyter.widget-view+json": {
       "model_id": "618fe8b1b0eb498985f305aad904bbee",
       "version_major": 2,
       "version_minor": 0
      },
      "text/plain": [
       "HBox(children=(FloatProgress(value=0.0, max=2.0), HTML(value='')))"
      ]
     },
     "metadata": {},
     "output_type": "display_data"
    },
    {
     "data": {
      "application/vnd.jupyter.widget-view+json": {
       "model_id": "3c29f76682a54bfba7c3d558ac06054d",
       "version_major": 2,
       "version_minor": 0
      },
      "text/plain": [
       "HBox(children=(FloatProgress(value=0.0, max=2.0), HTML(value='')))"
      ]
     },
     "metadata": {},
     "output_type": "display_data"
    },
    {
     "name": "stdout",
     "output_type": "stream",
     "text": [
      "\n",
      "Completed 2 iterations of _1% dataset in 148.167524664 seconds. AUC (mean, std) = 0.637069853795979, 6.891805502429182e-05.\n"
     ]
    },
    {
     "data": {
      "application/vnd.jupyter.widget-view+json": {
       "model_id": "5484185df128436f865905b9632b2cf9",
       "version_major": 2,
       "version_minor": 0
      },
      "text/plain": [
       "HBox(children=(FloatProgress(value=0.0, max=2.0), HTML(value='')))"
      ]
     },
     "metadata": {},
     "output_type": "display_data"
    },
    {
     "name": "stdout",
     "output_type": "stream",
     "text": [
      "\n",
      "Completed 2 iterations of 10% dataset in 161.62265068699998 seconds. AUC (mean, std) = 0.7560089015734792, 0.0004955686123500613.\n",
      "\n"
     ]
    },
    {
     "data": {
      "text/html": [
       "<div>\n",
       "<style scoped>\n",
       "    .dataframe tbody tr th:only-of-type {\n",
       "        vertical-align: middle;\n",
       "    }\n",
       "\n",
       "    .dataframe tbody tr th {\n",
       "        vertical-align: top;\n",
       "    }\n",
       "\n",
       "    .dataframe thead th {\n",
       "        text-align: right;\n",
       "    }\n",
       "</style>\n",
       "<table border=\"1\" class=\"dataframe\">\n",
       "  <thead>\n",
       "    <tr style=\"text-align: right;\">\n",
       "      <th></th>\n",
       "      <th>Threshold</th>\n",
       "      <th>Mean</th>\n",
       "      <th>Std</th>\n",
       "    </tr>\n",
       "  </thead>\n",
       "  <tbody>\n",
       "    <tr>\n",
       "      <th>0</th>\n",
       "      <td>_1</td>\n",
       "      <td>0.637</td>\n",
       "      <td>0.000</td>\n",
       "    </tr>\n",
       "    <tr>\n",
       "      <th>1</th>\n",
       "      <td>10</td>\n",
       "      <td>0.756</td>\n",
       "      <td>0.000</td>\n",
       "    </tr>\n",
       "  </tbody>\n",
       "</table>\n",
       "</div>"
      ],
      "text/plain": [
       "  Threshold  Mean   Std\n",
       "0  _1       0.637 0.000\n",
       "1  10       0.756 0.000"
      ]
     },
     "execution_count": 4,
     "metadata": {},
     "output_type": "execute_result"
    }
   ],
   "source": [
    "eval_df = evaluation_summary(df_map)\n",
    "eval_df.to_csv('../../Data/evaluation/lending.csv', index=False)\n",
    "eval_df"
   ]
  },
  {
   "cell_type": "code",
   "execution_count": null,
   "metadata": {},
   "outputs": [],
   "source": []
  },
  {
   "cell_type": "code",
   "execution_count": null,
   "metadata": {},
   "outputs": [],
   "source": []
  }
 ],
 "metadata": {
  "kernelspec": {
   "display_name": "Python 3",
   "language": "python",
   "name": "python3"
  },
  "language_info": {
   "codemirror_mode": {
    "name": "ipython",
    "version": 3
   },
   "file_extension": ".py",
   "mimetype": "text/x-python",
   "name": "python",
   "nbconvert_exporter": "python",
   "pygments_lexer": "ipython3",
   "version": "3.7.6"
  }
 },
 "nbformat": 4,
 "nbformat_minor": 4
}
