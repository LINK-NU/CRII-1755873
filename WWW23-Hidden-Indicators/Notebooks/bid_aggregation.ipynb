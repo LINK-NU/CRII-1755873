{
 "cells": [
  {
   "cell_type": "code",
   "execution_count": 1,
   "metadata": {},
   "outputs": [],
   "source": [
    "import numpy as np\n",
    "import pandas as pd\n",
    "from datetime import datetime\n",
    "from tqdm import tqdm_notebook\n",
    "from sklearn.preprocessing import LabelEncoder \n",
    "import warnings\n",
    "warnings.filterwarnings('ignore')\n",
    "pd.set_option('display.max_colwidth', -1)\n",
    "pd.set_option('display.float_format', lambda x: '%.3f' % x)\n",
    "pd.set_option('display.max_rows', 500)\n",
    "pd.set_option('display.max_columns', 500)\n",
    "pd.set_option('display.width', 1000)\n",
    "\n",
    "le = LabelEncoder()\n",
    "\n",
    "__author__ = 'HK Dambanemuya'\n",
    "__version__ = 'Python 3'"
   ]
  },
  {
   "cell_type": "markdown",
   "metadata": {},
   "source": [
    "## Aggregation Functions"
   ]
  },
  {
   "cell_type": "code",
   "execution_count": 2,
   "metadata": {},
   "outputs": [],
   "source": [
    "\n",
    "def description_length(string):\n",
    "    return len(str(string).split())\n",
    "\n",
    "def interEventTime(arr):\n",
    "    return [(t - s).seconds for s, t in zip(sorted(arr), sorted(arr)[1:])]\n",
    "\n",
    "def avgInterEventTime(arr):\n",
    "    return np.mean(interEventTime(arr))\n",
    "\n",
    "def gini(x, w=None):\n",
    "    # The rest of the code requires numpy arrays.\n",
    "    x = np.asarray(x)\n",
    "    if w is not None:\n",
    "        w = np.asarray(w)\n",
    "        sorted_indices = np.argsort(x)\n",
    "        sorted_x = x[sorted_indices]\n",
    "        sorted_w = w[sorted_indices]\n",
    "        # Force float dtype to avoid overflows\n",
    "        cumw = np.cumsum(sorted_w, dtype=float)\n",
    "        cumxw = np.cumsum(sorted_x * sorted_w, dtype=float)\n",
    "        return (np.sum(cumxw[1:] * cumw[:-1] - cumxw[:-1] * cumw[1:]) / \n",
    "                (cumxw[-1] * cumw[-1]))\n",
    "    else:\n",
    "        sorted_x = np.sort(x)\n",
    "        n = len(x)\n",
    "        cumx = np.cumsum(sorted_x, dtype=float)\n",
    "        # The above formula, with all weights equal to 1 simplifies to:\n",
    "        return (n + 1 - 2 * np.sum(cumx) / cumx[-1]) / n\n",
    "\n",
    "\n",
    "# Aggregation Map\n",
    "f = {\n",
    "     'CreationDate': avgInterEventTime, # \n",
    "     'Amount': gini, #\n",
    "     'momentum_at_1': 'max'\n",
    "}"
   ]
  },
  {
   "cell_type": "markdown",
   "metadata": {},
   "source": [
    "## Import Listing Data"
   ]
  },
  {
   "cell_type": "code",
   "execution_count": 3,
   "metadata": {},
   "outputs": [
    {
     "data": {
      "text/html": [
       "<div>\n",
       "<style scoped>\n",
       "    .dataframe tbody tr th:only-of-type {\n",
       "        vertical-align: middle;\n",
       "    }\n",
       "\n",
       "    .dataframe tbody tr th {\n",
       "        vertical-align: top;\n",
       "    }\n",
       "\n",
       "    .dataframe thead th {\n",
       "        text-align: right;\n",
       "    }\n",
       "</style>\n",
       "<table border=\"1\" class=\"dataframe\">\n",
       "  <thead>\n",
       "    <tr style=\"text-align: right;\">\n",
       "      <th></th>\n",
       "      <th>ListingKey</th>\n",
       "      <th>approved_timestamp</th>\n",
       "      <th>AmountRequested</th>\n",
       "      <th>CreditGrade</th>\n",
       "      <th>DebtToIncomeRatio</th>\n",
       "      <th>Description</th>\n",
       "      <th>Region</th>\n",
       "      <th>Status</th>\n",
       "    </tr>\n",
       "  </thead>\n",
       "  <tbody>\n",
       "    <tr>\n",
       "      <th>0</th>\n",
       "      <td>C0933365069571441D6651D</td>\n",
       "      <td>2006-02-25 05:51:10</td>\n",
       "      <td>20000.000</td>\n",
       "      <td>3</td>\n",
       "      <td>0.142</td>\n",
       "      <td>1</td>\n",
       "      <td>7</td>\n",
       "      <td>Expired</td>\n",
       "    </tr>\n",
       "    <tr>\n",
       "      <th>2</th>\n",
       "      <td>9D5E336577848196944F197</td>\n",
       "      <td>2006-03-15 21:52:45</td>\n",
       "      <td>3000.000</td>\n",
       "      <td>2</td>\n",
       "      <td>0.169</td>\n",
       "      <td>348</td>\n",
       "      <td>20</td>\n",
       "      <td>Expired</td>\n",
       "    </tr>\n",
       "    <tr>\n",
       "      <th>13</th>\n",
       "      <td>F7C433651616107108B5E83</td>\n",
       "      <td>2006-04-11 00:52:59</td>\n",
       "      <td>15000.000</td>\n",
       "      <td>4</td>\n",
       "      <td>0.194</td>\n",
       "      <td>95</td>\n",
       "      <td>46</td>\n",
       "      <td>Expired</td>\n",
       "    </tr>\n",
       "    <tr>\n",
       "      <th>15</th>\n",
       "      <td>AFE53364876098574BEA11A</td>\n",
       "      <td>2006-04-19 14:20:05</td>\n",
       "      <td>5000.000</td>\n",
       "      <td>1</td>\n",
       "      <td>nan</td>\n",
       "      <td>47</td>\n",
       "      <td>7</td>\n",
       "      <td>Expired</td>\n",
       "    </tr>\n",
       "    <tr>\n",
       "      <th>16</th>\n",
       "      <td>ABA53364509248269675D6B</td>\n",
       "      <td>2006-04-24 18:04:52</td>\n",
       "      <td>3500.000</td>\n",
       "      <td>2</td>\n",
       "      <td>0.026</td>\n",
       "      <td>55</td>\n",
       "      <td>13</td>\n",
       "      <td>Expired</td>\n",
       "    </tr>\n",
       "    <tr>\n",
       "      <th>...</th>\n",
       "      <td>...</td>\n",
       "      <td>...</td>\n",
       "      <td>...</td>\n",
       "      <td>...</td>\n",
       "      <td>...</td>\n",
       "      <td>...</td>\n",
       "      <td>...</td>\n",
       "      <td>...</td>\n",
       "    </tr>\n",
       "    <tr>\n",
       "      <th>341834</th>\n",
       "      <td>519F3434500591392AA8BC3</td>\n",
       "      <td>2008-10-11 04:12:38</td>\n",
       "      <td>1100.000</td>\n",
       "      <td>2</td>\n",
       "      <td>nan</td>\n",
       "      <td>187</td>\n",
       "      <td>37</td>\n",
       "      <td>Completed</td>\n",
       "    </tr>\n",
       "    <tr>\n",
       "      <th>341983</th>\n",
       "      <td>CB193434007735493F21BFC</td>\n",
       "      <td>2008-10-11 14:55:57</td>\n",
       "      <td>1000.000</td>\n",
       "      <td>4</td>\n",
       "      <td>0.100</td>\n",
       "      <td>216</td>\n",
       "      <td>17</td>\n",
       "      <td>Completed</td>\n",
       "    </tr>\n",
       "    <tr>\n",
       "      <th>342044</th>\n",
       "      <td>134034338475907815A0699</td>\n",
       "      <td>2008-10-11 18:47:11</td>\n",
       "      <td>2000.000</td>\n",
       "      <td>4</td>\n",
       "      <td>0.070</td>\n",
       "      <td>127</td>\n",
       "      <td>5</td>\n",
       "      <td>Completed</td>\n",
       "    </tr>\n",
       "    <tr>\n",
       "      <th>342321</th>\n",
       "      <td>7BED3433972278236407AE5</td>\n",
       "      <td>2008-10-07 09:54:21</td>\n",
       "      <td>3600.000</td>\n",
       "      <td>8</td>\n",
       "      <td>nan</td>\n",
       "      <td>448</td>\n",
       "      <td>7</td>\n",
       "      <td>Completed</td>\n",
       "    </tr>\n",
       "    <tr>\n",
       "      <th>342381</th>\n",
       "      <td>33FE34339107878647C5B49</td>\n",
       "      <td>2008-10-12 21:44:31</td>\n",
       "      <td>2200.000</td>\n",
       "      <td>6</td>\n",
       "      <td>0.310</td>\n",
       "      <td>476</td>\n",
       "      <td>17</td>\n",
       "      <td>Completed</td>\n",
       "    </tr>\n",
       "  </tbody>\n",
       "</table>\n",
       "<p>220522 rows × 8 columns</p>\n",
       "</div>"
      ],
      "text/plain": [
       "                     ListingKey  approved_timestamp  AmountRequested  CreditGrade  DebtToIncomeRatio  Description  Region     Status\n",
       "0       C0933365069571441D6651D 2006-02-25 05:51:10 20000.000         3           0.142               1            7       Expired  \n",
       "2       9D5E336577848196944F197 2006-03-15 21:52:45 3000.000          2           0.169               348          20      Expired  \n",
       "13      F7C433651616107108B5E83 2006-04-11 00:52:59 15000.000         4           0.194               95           46      Expired  \n",
       "15      AFE53364876098574BEA11A 2006-04-19 14:20:05 5000.000          1           nan                 47           7       Expired  \n",
       "16      ABA53364509248269675D6B 2006-04-24 18:04:52 3500.000          2           0.026               55           13      Expired  \n",
       "...                         ...                 ...      ...         ..             ...               ..           ..          ...  \n",
       "341834  519F3434500591392AA8BC3 2008-10-11 04:12:38 1100.000          2           nan                 187          37      Completed\n",
       "341983  CB193434007735493F21BFC 2008-10-11 14:55:57 1000.000          4           0.100               216          17      Completed\n",
       "342044  134034338475907815A0699 2008-10-11 18:47:11 2000.000          4           0.070               127          5       Completed\n",
       "342321  7BED3433972278236407AE5 2008-10-07 09:54:21 3600.000          8           nan                 448          7       Completed\n",
       "342381  33FE34339107878647C5B49 2008-10-12 21:44:31 2200.000          6           0.310               476          17      Completed\n",
       "\n",
       "[220522 rows x 8 columns]"
      ]
     },
     "execution_count": 3,
     "metadata": {},
     "output_type": "execute_result"
    }
   ],
   "source": [
    "listings = pd.read_csv('../../Data/lending/listing.txt', sep=\"|\")\n",
    "listings = listings[['Lst_Key', 'CreationDate', 'AmountRequested', 'CreditGrade', 'DebtToIncomeRatio', 'Description', 'BorrowerState', 'Status']] \n",
    "listings['CreationDate'] = pd.to_datetime(listings['CreationDate'])\n",
    "listings['Description'] = listings['Description'].apply(description_length)\n",
    "listings['BorrowerState'] = le.fit_transform(listings['BorrowerState'])\n",
    "creditmap = {'AA':8, 'A':7, 'B':6, 'C':5, 'D':4, 'E':3, 'HR':2, 'NC':1}\n",
    "listings['CreditGrade'] = listings.CreditGrade.fillna(9)\n",
    "listings = listings.applymap(lambda s: creditmap.get(s) if s in creditmap else s)\n",
    "listings = listings.rename(index = str, columns={'Lst_Key': 'ListingKey',\n",
    "                                                 'BorrowerState': 'Region',\n",
    "                                                'CreationDate': 'approved_timestamp'})\n",
    "# Drop records with no credit information\n",
    "listings = listings[listings['CreditGrade']<9] \n",
    "# Remove current listings\n",
    "listings = listings[listings.Status.isin([\"Expired\", \"Completed\"])]\n",
    "\n",
    "listings"
   ]
  },
  {
   "cell_type": "code",
   "execution_count": 4,
   "metadata": {},
   "outputs": [
    {
     "data": {
      "text/plain": [
       "Expired      191408\n",
       "Completed    29114 \n",
       "Name: Status, dtype: int64"
      ]
     },
     "execution_count": 4,
     "metadata": {},
     "output_type": "execute_result"
    }
   ],
   "source": [
    "listings.Status.value_counts()"
   ]
  },
  {
   "cell_type": "markdown",
   "metadata": {},
   "source": [
    "## Import Filtered Bids"
   ]
  },
  {
   "cell_type": "code",
   "execution_count": 5,
   "metadata": {},
   "outputs": [
    {
     "data": {
      "application/vnd.jupyter.widget-view+json": {
       "model_id": "be0555bc4c0c4cf7ab9ff24a3f9ac3f2",
       "version_major": 2,
       "version_minor": 0
      },
      "text/plain": [
       "HBox(children=(FloatProgress(value=0.0, max=10.0), HTML(value='')))"
      ]
     },
     "metadata": {},
     "output_type": "display_data"
    },
    {
     "name": "stdout",
     "output_type": "stream",
     "text": [
      "bids_1 campaigns = 143770\n",
      "bids_1 bids = 143770\n",
      "bids_2 campaigns = 143770\n",
      "bids_2 bids = 240403\n",
      "bids_3 campaigns = 143770\n",
      "bids_3 bids = 319220\n",
      "bids_4 campaigns = 143770\n",
      "bids_4 bids = 388381\n",
      "bids_5 campaigns = 143770\n",
      "bids_5 bids = 451249\n",
      "bids_6 campaigns = 143770\n",
      "bids_6 bids = 509451\n",
      "bids_7 campaigns = 143770\n",
      "bids_7 bids = 564030\n",
      "bids_8 campaigns = 143770\n",
      "bids_8 bids = 615760\n",
      "bids_9 campaigns = 143770\n",
      "bids_9 bids = 665097\n",
      "bids_10 campaigns = 143770\n",
      "bids_10 bids = 712335\n",
      "\n"
     ]
    }
   ],
   "source": [
    "# Import Bid Data\n",
    "bids_map = {'bids_1': pd.read_csv(\"../../Data/lending/filtered/bids_1.csv\"),\n",
    "            'bids_2': pd.read_csv(\"../../Data/lending/filtered/bids_2.csv\"),\n",
    "            'bids_3': pd.read_csv(\"../../Data/lending/filtered/bids_3.csv\"),\n",
    "            'bids_4': pd.read_csv(\"../../Data/lending/filtered/bids_4.csv\"),\n",
    "            'bids_5': pd.read_csv(\"../../Data/lending/filtered/bids_5.csv\"),\n",
    "            'bids_6': pd.read_csv(\"../../Data/lending/filtered/bids_6.csv\"),\n",
    "            'bids_7': pd.read_csv(\"../../Data/lending/filtered/bids_7.csv\"),\n",
    "            'bids_8': pd.read_csv(\"../../Data/lending/filtered/bids_8.csv\"),\n",
    "            'bids_9': pd.read_csv(\"../../Data/lending/filtered/bids_9.csv\"),\n",
    "            'bids_10': pd.read_csv(\"../../Data/lending/filtered/bids_10.csv\")}\n",
    "\n",
    "# Inspect bid record counts\n",
    "for k,v in tqdm_notebook(bids_map.items()):\n",
    "    print (f\"{k} campaigns = {v.ListingKey.nunique()}\")\n",
    "    print (f\"{k} bids = {len(v)}\")"
   ]
  },
  {
   "cell_type": "markdown",
   "metadata": {},
   "source": [
    "## Aggregate Filtered Bids"
   ]
  },
  {
   "cell_type": "code",
   "execution_count": 6,
   "metadata": {},
   "outputs": [
    {
     "data": {
      "application/vnd.jupyter.widget-view+json": {
       "model_id": "37a833b268f54aa39ac7477fccc83cd8",
       "version_major": 2,
       "version_minor": 0
      },
      "text/plain": [
       "HBox(children=(FloatProgress(value=0.0, max=10.0), HTML(value='')))"
      ]
     },
     "metadata": {},
     "output_type": "display_data"
    },
    {
     "name": "stdout",
     "output_type": "stream",
     "text": [
      "\n"
     ]
    }
   ],
   "source": [
    "for k,v in tqdm_notebook(bids_map.items()):\n",
    "  \n",
    "    var_bids = bids_map[k]\n",
    "    var_bids['Amount'] = var_bids['Amount'].astype(float)\n",
    "    var_bids = var_bids.drop(['time_trunc'], axis=1)\n",
    "    var_bids.CreationDate = pd.to_datetime(var_bids.CreationDate)\n",
    "    var_bids = var_bids.merge(listings[['ListingKey', 'approved_timestamp']], on=\"ListingKey\", how='left')\n",
    "    var_bids['CreationDate'] = pd.to_datetime(var_bids['CreationDate'])\n",
    "    var_bids['approved_timestamp'] = pd.to_datetime(var_bids['approved_timestamp'])\n",
    "    var_bids['momentum_at_1'] = [t.seconds for t in (var_bids['approved_timestamp'] - var_bids['CreationDate'])]\n",
    "    var_bids = pd.DataFrame(var_bids.groupby('ListingKey').agg(f)).reset_index()\n",
    "    var_bids.columns = ['ProjectID','Momentum','Diversity', 'Momentum1']\n",
    "    var_bids['Momentum'] = var_bids['Momentum'].fillna(var_bids['Momentum1'])\n",
    "\n",
    "    if k=='bids_1':\n",
    "        var_bids['Momentum'] = var_bids['Momentum1']\n",
    "        var_bids = var_bids[var_bids.columns[:-1]]\n",
    "    else:\n",
    "        var_bids = var_bids[var_bids.columns[:-1]]\n",
    "\n",
    "    var_bids = var_bids.merge(listings, left_on='ProjectID', right_on='ListingKey', how='left')\n",
    "    var_bids['Status'].replace({'Expired': 0, 'Completed':1}, inplace=True)\n",
    "    var_bids = var_bids.drop_duplicates(subset=['ProjectID'])\n",
    "    var_bids = var_bids[['ProjectID', 'Momentum', 'Diversity','CreditGrade', \n",
    "                         'DebtToIncomeRatio', 'Description', 'Status']]\n",
    "    var_bids = var_bids.fillna(-1)\n",
    "\n",
    "    var_bids.to_csv(f\"../../Data/lending/aggregated/{k}.csv\", index=False)"
   ]
  },
  {
   "cell_type": "code",
   "execution_count": null,
   "metadata": {},
   "outputs": [],
   "source": []
  }
 ],
 "metadata": {
  "kernelspec": {
   "display_name": "Python 3",
   "language": "python",
   "name": "python3"
  },
  "language_info": {
   "codemirror_mode": {
    "name": "ipython",
    "version": 3
   },
   "file_extension": ".py",
   "mimetype": "text/x-python",
   "name": "python",
   "nbconvert_exporter": "python",
   "pygments_lexer": "ipython3",
   "version": "3.7.6"
  }
 },
 "nbformat": 4,
 "nbformat_minor": 4
}
