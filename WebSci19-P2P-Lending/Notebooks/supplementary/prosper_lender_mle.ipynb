{
 "cells": [
  {
   "cell_type": "code",
   "execution_count": 1,
   "metadata": {},
   "outputs": [],
   "source": [
    "import ml\n",
    "reload(ml)\n",
    "from ml import *\n",
    "import timeit\n",
    "import scipy\n",
    "import operator\n",
    "import numpy as np\n",
    "import pandas as pd\n",
    "from scipy import stats\n",
    "import seaborn as sns\n",
    "from datetime import datetime\n",
    "from collections import Counter\n",
    "import matplotlib.pyplot as plt\n",
    "from pprint import pprint\n",
    "from __future__ import division\n",
    "import statsmodels.api as sm\n",
    "import warnings\n",
    "warnings.filterwarnings('ignore')\n",
    "pd.set_option('display.max_colwidth', -1)\n",
    "pd.set_option('display.float_format', lambda x: '%.3f' % x)\n",
    "sns.set_style('whitegrid')\n",
    "plt.style.use('seaborn-whitegrid')\n",
    "%matplotlib inline\n",
    "\n",
    "__author__ = 'HK Dambanemuya'\n",
    "__version__ = 'Python 2'\n",
    "\n",
    "'''\n",
    "    Analysis originaly performed in Python 2 (deprecated)\n",
    "    Seaborn, Statsmodel, and * imports broken in Python 3\n",
    "'''"
   ]
  },
  {
   "cell_type": "code",
   "execution_count": 7,
   "metadata": {},
   "outputs": [
    {
     "data": {
      "text/html": [
       "<div>\n",
       "<style scoped>\n",
       "    .dataframe tbody tr th:only-of-type {\n",
       "        vertical-align: middle;\n",
       "    }\n",
       "\n",
       "    .dataframe tbody tr th {\n",
       "        vertical-align: top;\n",
       "    }\n",
       "\n",
       "    .dataframe thead th {\n",
       "        text-align: right;\n",
       "    }\n",
       "</style>\n",
       "<table border=\"1\" class=\"dataframe\">\n",
       "  <thead>\n",
       "    <tr style=\"text-align: right;\">\n",
       "      <th></th>\n",
       "      <th>MemberKey</th>\n",
       "      <th>ListingKey</th>\n",
       "    </tr>\n",
       "  </thead>\n",
       "  <tbody>\n",
       "    <tr>\n",
       "      <th>0</th>\n",
       "      <td>F4273365023760472DBD934</td>\n",
       "      <td>D6473365888221963456102</td>\n",
       "    </tr>\n",
       "    <tr>\n",
       "      <th>1</th>\n",
       "      <td>F4273365023760472DBD934</td>\n",
       "      <td>D6473365888221963456102</td>\n",
       "    </tr>\n",
       "    <tr>\n",
       "      <th>2</th>\n",
       "      <td>F4273365023760472DBD934</td>\n",
       "      <td>3B09336533376614186EEF7</td>\n",
       "    </tr>\n",
       "    <tr>\n",
       "      <th>3</th>\n",
       "      <td>F4273365023760472DBD934</td>\n",
       "      <td>601833660859080305A2AC3</td>\n",
       "    </tr>\n",
       "    <tr>\n",
       "      <th>4</th>\n",
       "      <td>F4273365023760472DBD934</td>\n",
       "      <td>601833660859080305A2AC3</td>\n",
       "    </tr>\n",
       "  </tbody>\n",
       "</table>\n",
       "</div>"
      ],
      "text/plain": [
       "                 MemberKey               ListingKey\n",
       "0  F4273365023760472DBD934  D6473365888221963456102\n",
       "1  F4273365023760472DBD934  D6473365888221963456102\n",
       "2  F4273365023760472DBD934  3B09336533376614186EEF7\n",
       "3  F4273365023760472DBD934  601833660859080305A2AC3\n",
       "4  F4273365023760472DBD934  601833660859080305A2AC3"
      ]
     },
     "execution_count": 7,
     "metadata": {},
     "output_type": "execute_result"
    }
   ],
   "source": [
    "bid_data = pd.read_csv(\"../Data/bid_notick.txt\", sep=\"|\")\n",
    "bid_data = bid_data[[\"MemberKey\", \"ListingKey\"]]\n",
    "# bid_data['Member_Key'] = bid_data.MemberKey\n",
    "# bid_data['Listing_Key'] = bid_data.ListingKey\n",
    "bid_data.head()"
   ]
  },
  {
   "cell_type": "code",
   "execution_count": 20,
   "metadata": {},
   "outputs": [
    {
     "data": {
      "text/html": [
       "<div>\n",
       "<style scoped>\n",
       "    .dataframe tbody tr th:only-of-type {\n",
       "        vertical-align: middle;\n",
       "    }\n",
       "\n",
       "    .dataframe tbody tr th {\n",
       "        vertical-align: top;\n",
       "    }\n",
       "\n",
       "    .dataframe thead th {\n",
       "        text-align: right;\n",
       "    }\n",
       "</style>\n",
       "<table border=\"1\" class=\"dataframe\">\n",
       "  <thead>\n",
       "    <tr style=\"text-align: right;\">\n",
       "      <th></th>\n",
       "      <th>MemberKey</th>\n",
       "      <th>ListingKey</th>\n",
       "    </tr>\n",
       "  </thead>\n",
       "  <tbody>\n",
       "    <tr>\n",
       "      <th>0</th>\n",
       "      <td>0000340501560805347A59F</td>\n",
       "      <td>00FB34079745424975EB1BA</td>\n",
       "    </tr>\n",
       "    <tr>\n",
       "      <th>1</th>\n",
       "      <td>0000340501560805347A59F</td>\n",
       "      <td>017C3411773435978D691F2</td>\n",
       "    </tr>\n",
       "    <tr>\n",
       "      <th>2</th>\n",
       "      <td>0000340501560805347A59F</td>\n",
       "      <td>027F3412487404995AA0CA8</td>\n",
       "    </tr>\n",
       "    <tr>\n",
       "      <th>3</th>\n",
       "      <td>0000340501560805347A59F</td>\n",
       "      <td>03EB34108513343934BF681</td>\n",
       "    </tr>\n",
       "    <tr>\n",
       "      <th>4</th>\n",
       "      <td>0000340501560805347A59F</td>\n",
       "      <td>04033409811481500AF6997</td>\n",
       "    </tr>\n",
       "  </tbody>\n",
       "</table>\n",
       "</div>"
      ],
      "text/plain": [
       "                 MemberKey               ListingKey\n",
       "0  0000340501560805347A59F  00FB34079745424975EB1BA\n",
       "1  0000340501560805347A59F  017C3411773435978D691F2\n",
       "2  0000340501560805347A59F  027F3412487404995AA0CA8\n",
       "3  0000340501560805347A59F  03EB34108513343934BF681\n",
       "4  0000340501560805347A59F  04033409811481500AF6997"
      ]
     },
     "execution_count": 20,
     "metadata": {},
     "output_type": "execute_result"
    }
   ],
   "source": [
    "llm = bid_data.groupby(['MemberKey', 'ListingKey']).size().reset_index()\n",
    "llm = llm.drop(0, axis=1)\n",
    "llm.head()"
   ]
  },
  {
   "cell_type": "code",
   "execution_count": 21,
   "metadata": {},
   "outputs": [],
   "source": [
    "llm.to_csv(\"../Data/llm.txt\", index=False)"
   ]
  },
  {
   "cell_type": "code",
   "execution_count": 22,
   "metadata": {},
   "outputs": [
    {
     "data": {
      "text/plain": [
       "8785460"
      ]
     },
     "execution_count": 22,
     "metadata": {},
     "output_type": "execute_result"
    }
   ],
   "source": [
    "len(llm)"
   ]
  },
  {
   "cell_type": "code",
   "execution_count": null,
   "metadata": {},
   "outputs": [],
   "source": []
  }
 ],
 "metadata": {
  "kernelspec": {
   "display_name": "Python 2",
   "language": "python",
   "name": "python2"
  },
  "language_info": {
   "codemirror_mode": {
    "name": "ipython",
    "version": 2
   },
   "file_extension": ".py",
   "mimetype": "text/x-python",
   "name": "python",
   "nbconvert_exporter": "python",
   "pygments_lexer": "ipython2",
   "version": "2.7.16"
  }
 },
 "nbformat": 4,
 "nbformat_minor": 2
}
