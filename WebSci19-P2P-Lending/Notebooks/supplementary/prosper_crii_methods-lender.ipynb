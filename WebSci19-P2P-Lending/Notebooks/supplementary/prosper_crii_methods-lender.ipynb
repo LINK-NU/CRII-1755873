{
 "cells": [
  {
   "cell_type": "code",
   "execution_count": 1,
   "metadata": {},
   "outputs": [],
   "source": [
    "import ml\n",
    "reload(ml)\n",
    "from ml import *\n",
    "import json\n",
    "import timeit\n",
    "import numba\n",
    "import scipy\n",
    "import swifter\n",
    "import operator\n",
    "import itertools\n",
    "import numpy as np\n",
    "import pandas as pd\n",
    "from scipy import stats\n",
    "import seaborn as sns\n",
    "from datetime import datetime\n",
    "from collections import Counter\n",
    "import matplotlib.pyplot as plt\n",
    "from pprint import pprint\n",
    "from sklearn.ensemble import VotingClassifier\n",
    "from __future__ import division\n",
    "import statsmodels.api as sm\n",
    "import warnings\n",
    "warnings.filterwarnings('ignore')\n",
    "pd.set_option('display.max_colwidth', -1)\n",
    "pd.set_option('display.float_format', lambda x: '%.3f' % x)\n",
    "sns.set_style('whitegrid')\n",
    "plt.style.use('seaborn-whitegrid')\n",
    "%matplotlib inline\n",
    "\n",
    "__author__ = 'HK Dambanemuya'\n",
    "__version__ = 'Python 2'\n",
    "\n",
    "'''\n",
    "    Analysis originaly performed in Python 2 (deprecated)\n",
    "    Seaborn, Statsmodel, and * imports broken in Python 3\n",
    "'''"
   ]
  },
  {
   "cell_type": "code",
   "execution_count": 2,
   "metadata": {},
   "outputs": [],
   "source": [
    "# Import features\n",
    "with open(\"../Data/features.txt\") as file:\n",
    "    features = json.load(file)\n",
    "# Initialize Standard Scaler\n",
    "scaler = StandardScaler() \n",
    "# Initialize Feature Values\n",
    "feature_values = {}\n",
    "# Import Data\n",
    "data = pd.read_csv(\"../Data/prosper_final.csv\")"
   ]
  },
  {
   "cell_type": "markdown",
   "metadata": {},
   "source": [
    "## Model Evaluation"
   ]
  },
  {
   "cell_type": "markdown",
   "metadata": {},
   "source": [
    "## Lender Features"
   ]
  },
  {
   "cell_type": "code",
   "execution_count": 3,
   "metadata": {},
   "outputs": [
    {
     "name": "stdout",
     "output_type": "stream",
     "text": [
      "[u'LenderYieldRate', u'Gini', u'AvgInterBidTime', u'BidCount', u'TimeToFirstBid', u'TimeBetweenFirstLastBid', u'LenderExperience']\n",
      "Completed QDA in 0.1375694 seconds\n",
      "Completed CART in 1.3334511 seconds\n",
      "Completed GNB in 0.0937693 seconds\n",
      "Completed RF in 98.9434756 seconds\n",
      "Completed LR in 0.4223356 seconds\n",
      "Completed ADB in 7.3757928 seconds\n"
     ]
    },
    {
     "data": {
      "text/html": [
       "<div>\n",
       "<style scoped>\n",
       "    .dataframe tbody tr th:only-of-type {\n",
       "        vertical-align: middle;\n",
       "    }\n",
       "\n",
       "    .dataframe tbody tr th {\n",
       "        vertical-align: top;\n",
       "    }\n",
       "\n",
       "    .dataframe thead th {\n",
       "        text-align: right;\n",
       "    }\n",
       "</style>\n",
       "<table border=\"1\" class=\"dataframe\">\n",
       "  <thead>\n",
       "    <tr style=\"text-align: right;\">\n",
       "      <th></th>\n",
       "      <th>Model</th>\n",
       "      <th>Accuracy</th>\n",
       "      <th>Precision</th>\n",
       "      <th>Recall</th>\n",
       "      <th>F1</th>\n",
       "      <th>AUC</th>\n",
       "    </tr>\n",
       "  </thead>\n",
       "  <tbody>\n",
       "    <tr>\n",
       "      <th>0</th>\n",
       "      <td>QDA</td>\n",
       "      <td>0.648</td>\n",
       "      <td>0.697</td>\n",
       "      <td>0.785</td>\n",
       "      <td>0.738</td>\n",
       "      <td>0.599</td>\n",
       "    </tr>\n",
       "    <tr>\n",
       "      <th>1</th>\n",
       "      <td>CART</td>\n",
       "      <td>0.591</td>\n",
       "      <td>0.677</td>\n",
       "      <td>0.672</td>\n",
       "      <td>0.675</td>\n",
       "      <td>0.562</td>\n",
       "    </tr>\n",
       "    <tr>\n",
       "      <th>2</th>\n",
       "      <td>GNB</td>\n",
       "      <td>0.654</td>\n",
       "      <td>0.699</td>\n",
       "      <td>0.794</td>\n",
       "      <td>0.744</td>\n",
       "      <td>0.604</td>\n",
       "    </tr>\n",
       "    <tr>\n",
       "      <th>3</th>\n",
       "      <td>RF</td>\n",
       "      <td>0.638</td>\n",
       "      <td>0.760</td>\n",
       "      <td>0.624</td>\n",
       "      <td>0.685</td>\n",
       "      <td>0.643</td>\n",
       "    </tr>\n",
       "    <tr>\n",
       "      <th>4</th>\n",
       "      <td>LR</td>\n",
       "      <td>0.566</td>\n",
       "      <td>0.842</td>\n",
       "      <td>0.386</td>\n",
       "      <td>0.529</td>\n",
       "      <td>0.631</td>\n",
       "    </tr>\n",
       "    <tr>\n",
       "      <th>5</th>\n",
       "      <td>ADB</td>\n",
       "      <td>0.671</td>\n",
       "      <td>0.709</td>\n",
       "      <td>0.813</td>\n",
       "      <td>0.757</td>\n",
       "      <td>0.620</td>\n",
       "    </tr>\n",
       "  </tbody>\n",
       "</table>\n",
       "</div>"
      ],
      "text/plain": [
       "  Model  Accuracy  Precision  Recall    F1   AUC\n",
       "0  QDA  0.648     0.697      0.785   0.738 0.599\n",
       "1  CART 0.591     0.677      0.672   0.675 0.562\n",
       "2  GNB  0.654     0.699      0.794   0.744 0.604\n",
       "3  RF   0.638     0.760      0.624   0.685 0.643\n",
       "4  LR   0.566     0.842      0.386   0.529 0.631\n",
       "5  ADB  0.671     0.709      0.813   0.757 0.620"
      ]
     },
     "execution_count": 3,
     "metadata": {},
     "output_type": "execute_result"
    }
   ],
   "source": [
    "# lender_features = list(set(features.get(\"Lender\")) - set([\"LenderAvgBidWinningRate\", \"LenderAvgListingSuccessRate\", \n",
    "#                                                           \"LenderAvgRepaymentSuccessRate\", \n",
    "#                                                           \"LenderSumUnlikelyBid\", \"LenderSumUnlikelyBidAmount\"]))\n",
    "# , \"LenderAvgRepaidListings\", \"LenderAvgCompletedListings\",\n",
    "#                   \"LenderAvgWinningBids\", \"LenderAvgTotalListings\", \"LenderAvgTotalBids\",\n",
    "lender_features = features.get(\"Lender\")\n",
    "X = data[lender_features].fillna(0)\n",
    "X = scaler.fit_transform(X)\n",
    "y = data['RepaidOrNot']\n",
    "print features.get(\"Lender\")\n",
    "evaluation = evaluation_summary(X,y)\n",
    "feature_values[\"Lender Features\"] = evaluation.query(\"Model == 'RF'\")[\"AUC\"].item()\n",
    "evaluation"
   ]
  },
  {
   "cell_type": "code",
   "execution_count": 4,
   "metadata": {},
   "outputs": [
    {
     "name": "stdout",
     "output_type": "stream",
     "text": [
      "Feature ranking completed in 49.2947294 seconds\n"
     ]
    },
    {
     "data": {
      "text/html": [
       "<div>\n",
       "<style scoped>\n",
       "    .dataframe tbody tr th:only-of-type {\n",
       "        vertical-align: middle;\n",
       "    }\n",
       "\n",
       "    .dataframe tbody tr th {\n",
       "        vertical-align: top;\n",
       "    }\n",
       "\n",
       "    .dataframe thead th {\n",
       "        text-align: right;\n",
       "    }\n",
       "</style>\n",
       "<table border=\"1\" class=\"dataframe\">\n",
       "  <thead>\n",
       "    <tr style=\"text-align: right;\">\n",
       "      <th></th>\n",
       "      <th>Feature</th>\n",
       "      <th>RFE Rank</th>\n",
       "      <th>RFE Support</th>\n",
       "      <th>RF Importance</th>\n",
       "      <th>x</th>\n",
       "    </tr>\n",
       "  </thead>\n",
       "  <tbody>\n",
       "    <tr>\n",
       "      <th>0</th>\n",
       "      <td>LenderYieldRate</td>\n",
       "      <td>1</td>\n",
       "      <td>True</td>\n",
       "      <td>0.274</td>\n",
       "      <td>1</td>\n",
       "    </tr>\n",
       "    <tr>\n",
       "      <th>1</th>\n",
       "      <td>LenderExperience</td>\n",
       "      <td>1</td>\n",
       "      <td>True</td>\n",
       "      <td>0.137</td>\n",
       "      <td>7</td>\n",
       "    </tr>\n",
       "    <tr>\n",
       "      <th>2</th>\n",
       "      <td>TimeBetweenFirstLastBid</td>\n",
       "      <td>1</td>\n",
       "      <td>True</td>\n",
       "      <td>0.122</td>\n",
       "      <td>6</td>\n",
       "    </tr>\n",
       "    <tr>\n",
       "      <th>3</th>\n",
       "      <td>AvgInterBidTime</td>\n",
       "      <td>1</td>\n",
       "      <td>True</td>\n",
       "      <td>0.121</td>\n",
       "      <td>3</td>\n",
       "    </tr>\n",
       "    <tr>\n",
       "      <th>4</th>\n",
       "      <td>Gini</td>\n",
       "      <td>1</td>\n",
       "      <td>True</td>\n",
       "      <td>0.121</td>\n",
       "      <td>2</td>\n",
       "    </tr>\n",
       "    <tr>\n",
       "      <th>5</th>\n",
       "      <td>TimeToFirstBid</td>\n",
       "      <td>1</td>\n",
       "      <td>True</td>\n",
       "      <td>0.114</td>\n",
       "      <td>5</td>\n",
       "    </tr>\n",
       "    <tr>\n",
       "      <th>6</th>\n",
       "      <td>BidCount</td>\n",
       "      <td>1</td>\n",
       "      <td>True</td>\n",
       "      <td>0.111</td>\n",
       "      <td>4</td>\n",
       "    </tr>\n",
       "  </tbody>\n",
       "</table>\n",
       "</div>"
      ],
      "text/plain": [
       "                   Feature  RFE Rank  RFE Support  RF Importance  x\n",
       "0  LenderYieldRate          1         True        0.274           1\n",
       "1  LenderExperience         1         True        0.137           7\n",
       "2  TimeBetweenFirstLastBid  1         True        0.122           6\n",
       "3  AvgInterBidTime          1         True        0.121           3\n",
       "4  Gini                     1         True        0.121           2\n",
       "5  TimeToFirstBid           1         True        0.114           5\n",
       "6  BidCount                 1         True        0.111           4"
      ]
     },
     "execution_count": 4,
     "metadata": {},
     "output_type": "execute_result"
    }
   ],
   "source": [
    "frank_summary(X, y, lender_features)"
   ]
  },
  {
   "cell_type": "code",
   "execution_count": 5,
   "metadata": {},
   "outputs": [
    {
     "data": {
      "image/png": "[encoded data removed]",
      "text/plain": [
       "<Figure size 720x720 with 2 Axes>"
      ]
     },
     "metadata": {},
     "output_type": "display_data"
    }
   ],
   "source": [
    "corr = data[lender_features+[\"BorrowerRate\", \"RepaidOrNot\"]].fillna(0).corr(method='pearson')\n",
    "mask = np.zeros_like(corr, dtype=np.bool)\n",
    "mask[np.triu_indices_from(mask)] = True\n",
    "plt.figure(figsize=(10,10))\n",
    "sns.heatmap(corr, \n",
    "        xticklabels=corr.columns,\n",
    "        yticklabels=corr.columns,\n",
    "        cmap=sns.color_palette(\"coolwarm_r\"),\n",
    "        mask = mask,\n",
    "        vmin = -1,\n",
    "        vmax= 1,\n",
    "        linewidths=.5,\n",
    "        annot=True)\n",
    "plt.title(\"Variable Correlation Heatmap\")\n",
    "plt.show()"
   ]
  },
  {
   "cell_type": "markdown",
   "metadata": {},
   "source": [
    "## Borrower Features"
   ]
  },
  {
   "cell_type": "code",
   "execution_count": null,
   "metadata": {},
   "outputs": [],
   "source": []
  }
 ],
 "metadata": {
  "kernelspec": {
   "display_name": "Python 2",
   "language": "python",
   "name": "python2"
  },
  "language_info": {
   "codemirror_mode": {
    "name": "ipython",
    "version": 2
   },
   "file_extension": ".py",
   "mimetype": "text/x-python",
   "name": "python",
   "nbconvert_exporter": "python",
   "pygments_lexer": "ipython2",
   "version": "2.7.16"
  }
 },
 "nbformat": 4,
 "nbformat_minor": 2
}
