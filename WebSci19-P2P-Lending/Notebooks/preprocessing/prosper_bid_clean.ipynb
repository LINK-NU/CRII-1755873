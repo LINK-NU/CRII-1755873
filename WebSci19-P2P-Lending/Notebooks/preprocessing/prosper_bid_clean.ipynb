{
 "cells": [
  {
   "cell_type": "code",
   "execution_count": 1,
   "metadata": {},
   "outputs": [],
   "source": [
    "import ml\n",
    "reload(ml)\n",
    "from ml import *\n",
    "import timeit\n",
    "import scipy\n",
    "import operator\n",
    "import collections\n",
    "import numpy as np\n",
    "import pandas as pd\n",
    "from scipy import stats\n",
    "import seaborn as sns\n",
    "from collections import Counter\n",
    "from __future__ import division\n",
    "import matplotlib.pyplot as plt\n",
    "from matplotlib.colors import ListedColormap\n",
    "import statsmodels.api as sm\n",
    "from sklearn import metrics\n",
    "from sklearn.svm import SVC\n",
    "from sklearn.feature_selection import RFE\n",
    "from sklearn.linear_model import LogisticRegression\n",
    "from sklearn.naive_bayes import GaussianNB as GNB\n",
    "from sklearn.ensemble import AdaBoostClassifier as ADB\n",
    "from sklearn.neural_network import MLPClassifier as MLP\n",
    "from sklearn.tree import DecisionTreeClassifier as CART\n",
    "from sklearn.ensemble import RandomForestClassifier as RF\n",
    "from sklearn.neighbors import KNeighborsClassifier as KNN\n",
    "from sklearn.discriminant_analysis import QuadraticDiscriminantAnalysis as QDA\n",
    "from sklearn.model_selection import train_test_split, KFold\n",
    "from sklearn.metrics import classification_report\n",
    "from sklearn.ensemble import ExtraTreesClassifier\n",
    "from sklearn.preprocessing import StandardScaler\n",
    "from sklearn.metrics import confusion_matrix\n",
    "from sklearn.manifold.t_sne import TSNE\n",
    "from sklearn.metrics import roc_auc_score\n",
    "from sklearn.metrics import roc_curve\n",
    "from collections import OrderedDict\n",
    "import warnings\n",
    "warnings.filterwarnings('ignore')\n",
    "pd.set_option('display.max_colwidth', -1)\n",
    "pd.set_option('display.float_format', lambda x: '%.3f' % x)\n",
    "sns.set_style('whitegrid')\n",
    "plt.style.use('seaborn-whitegrid')\n",
    "\n",
    "__author__ = 'HK Dambanemuya'\n",
    "__version__ = 'Python 2'\n",
    "\n",
    "'''\n",
    "    Analysis originaly performed in Python 2 (deprecated)\n",
    "    Seaborn, Statsmodel, and * imports broken in Python 3\n",
    "'''"
   ]
  },
  {
   "cell_type": "code",
   "execution_count": 2,
   "metadata": {},
   "outputs": [
    {
     "data": {
      "text/html": [
       "<div>\n",
       "<style scoped>\n",
       "    .dataframe tbody tr th:only-of-type {\n",
       "        vertical-align: middle;\n",
       "    }\n",
       "\n",
       "    .dataframe tbody tr th {\n",
       "        vertical-align: top;\n",
       "    }\n",
       "\n",
       "    .dataframe thead th {\n",
       "        text-align: right;\n",
       "    }\n",
       "</style>\n",
       "<table border=\"1\" class=\"dataframe\">\n",
       "  <thead>\n",
       "    <tr style=\"text-align: right;\">\n",
       "      <th></th>\n",
       "      <th>ListingKey</th>\n",
       "      <th>HowManythBid</th>\n",
       "      <th>AmountRequested</th>\n",
       "      <th>AvgInterBidTime</th>\n",
       "      <th>FundedOrNot</th>\n",
       "      <th>RepaidOrNot</th>\n",
       "      <th>Gini</th>\n",
       "      <th>NoBids</th>\n",
       "      <th>BorrowerState</th>\n",
       "      <th>Year</th>\n",
       "      <th>CreditGrade</th>\n",
       "      <th>DebtToIncomeRatio</th>\n",
       "      <th>DescriptionLength</th>\n",
       "    </tr>\n",
       "  </thead>\n",
       "  <tbody>\n",
       "    <tr>\n",
       "      <th>235762</th>\n",
       "      <td>0649336712422710175AF8F</td>\n",
       "      <td>256</td>\n",
       "      <td>9000.000</td>\n",
       "      <td>271.219</td>\n",
       "      <td>True</td>\n",
       "      <td>True</td>\n",
       "      <td>0.404</td>\n",
       "      <td>354</td>\n",
       "      <td>GA</td>\n",
       "      <td>2006</td>\n",
       "      <td>C</td>\n",
       "      <td>0.270</td>\n",
       "      <td>73</td>\n",
       "    </tr>\n",
       "    <tr>\n",
       "      <th>4986924</th>\n",
       "      <td>82CE351074455404235446F</td>\n",
       "      <td>27</td>\n",
       "      <td>9000.000</td>\n",
       "      <td>15106.407</td>\n",
       "      <td>True</td>\n",
       "      <td>NaN</td>\n",
       "      <td>0.270</td>\n",
       "      <td>226</td>\n",
       "      <td>MI</td>\n",
       "      <td>2011</td>\n",
       "      <td>NaN</td>\n",
       "      <td>0.140</td>\n",
       "      <td>88</td>\n",
       "    </tr>\n",
       "    <tr>\n",
       "      <th>1305320</th>\n",
       "      <td>221535250030198642E0EEC</td>\n",
       "      <td>72</td>\n",
       "      <td>5500.000</td>\n",
       "      <td>16308.444</td>\n",
       "      <td>False</td>\n",
       "      <td>NaN</td>\n",
       "      <td>0.319</td>\n",
       "      <td>103</td>\n",
       "      <td>FL</td>\n",
       "      <td>2011</td>\n",
       "      <td>NaN</td>\n",
       "      <td>nan</td>\n",
       "      <td>69</td>\n",
       "    </tr>\n",
       "    <tr>\n",
       "      <th>1250267</th>\n",
       "      <td>20A1341629243942243690C</td>\n",
       "      <td>163</td>\n",
       "      <td>9924.000</td>\n",
       "      <td>589.025</td>\n",
       "      <td>True</td>\n",
       "      <td>True</td>\n",
       "      <td>0.478</td>\n",
       "      <td>322</td>\n",
       "      <td>GA</td>\n",
       "      <td>2008</td>\n",
       "      <td>B</td>\n",
       "      <td>0.260</td>\n",
       "      <td>332</td>\n",
       "    </tr>\n",
       "    <tr>\n",
       "      <th>7552596</th>\n",
       "      <td>C7213390428121060ABCA17</td>\n",
       "      <td>3</td>\n",
       "      <td>12500.000</td>\n",
       "      <td>345.667</td>\n",
       "      <td>True</td>\n",
       "      <td>True</td>\n",
       "      <td>0.019</td>\n",
       "      <td>108</td>\n",
       "      <td>AZ</td>\n",
       "      <td>2007</td>\n",
       "      <td>B</td>\n",
       "      <td>0.300</td>\n",
       "      <td>237</td>\n",
       "    </tr>\n",
       "  </tbody>\n",
       "</table>\n",
       "</div>"
      ],
      "text/plain": [
       "                      ListingKey  HowManythBid  AmountRequested  \\\n",
       "235762   0649336712422710175AF8F  256          9000.000           \n",
       "4986924  82CE351074455404235446F  27           9000.000           \n",
       "1305320  221535250030198642E0EEC  72           5500.000           \n",
       "1250267  20A1341629243942243690C  163          9924.000           \n",
       "7552596  C7213390428121060ABCA17  3            12500.000          \n",
       "\n",
       "         AvgInterBidTime  FundedOrNot RepaidOrNot  Gini  NoBids BorrowerState  \\\n",
       "235762  271.219           True         True       0.404  354     GA             \n",
       "4986924 15106.407         True         NaN        0.270  226     MI             \n",
       "1305320 16308.444         False        NaN        0.319  103     FL             \n",
       "1250267 589.025           True         True       0.478  322     GA             \n",
       "7552596 345.667           True         True       0.019  108     AZ             \n",
       "\n",
       "         Year CreditGrade  DebtToIncomeRatio  DescriptionLength  \n",
       "235762   2006  C          0.270               73                 \n",
       "4986924  2011  NaN        0.140               88                 \n",
       "1305320  2011  NaN        nan                 69                 \n",
       "1250267  2008  B          0.260               332                \n",
       "7552596  2007  B          0.300               237                "
      ]
     },
     "execution_count": 2,
     "metadata": {},
     "output_type": "execute_result"
    }
   ],
   "source": [
    "data = pd.read_csv(\"../Data/BidLevelData.txt\", sep=\"|\")\n",
    "data.sample(5)"
   ]
  },
  {
   "cell_type": "code",
   "execution_count": 3,
   "metadata": {},
   "outputs": [],
   "source": [
    "f = {'ListingKey': ['max'],\n",
    "     'NoBids':['max'], \n",
    "     'AmountRequested':['max'], \n",
    "     'AvgInterBidTime': ['median'],\n",
    "     'Gini': ['median'],\n",
    "     'DebtToIncomeRatio': ['max'],\n",
    "     'DescriptionLength': ['max'],\n",
    "     'RepaidOrNot': ['max']}\n",
    "\n",
    "all_features = [\"ListingKey\",\"NoBids\", \"AmountRequested\", \"AvgInterBidTime\", \"Gini\", \n",
    "                \"DebtToIncomeRatio\", \"DescriptionLength\", \"RepaidOrNot\"]\n",
    "train_features = [\"NoBids\", \"AmountRequested\", \"AvgInterBidTime\", \"Gini\", \n",
    "                  \"DebtToIncomeRatio\", \"DescriptionLength\"]"
   ]
  },
  {
   "cell_type": "markdown",
   "metadata": {},
   "source": [
    "## Funded Data"
   ]
  },
  {
   "cell_type": "code",
   "execution_count": 4,
   "metadata": {},
   "outputs": [
    {
     "data": {
      "text/html": [
       "<div>\n",
       "<style scoped>\n",
       "    .dataframe tbody tr th:only-of-type {\n",
       "        vertical-align: middle;\n",
       "    }\n",
       "\n",
       "    .dataframe tbody tr th {\n",
       "        vertical-align: top;\n",
       "    }\n",
       "\n",
       "    .dataframe thead th {\n",
       "        text-align: right;\n",
       "    }\n",
       "</style>\n",
       "<table border=\"1\" class=\"dataframe\">\n",
       "  <thead>\n",
       "    <tr style=\"text-align: right;\">\n",
       "      <th></th>\n",
       "      <th>AmountRequested</th>\n",
       "      <th>Gini</th>\n",
       "      <th>DebtToIncomeRatio</th>\n",
       "      <th>AvgInterBidTime</th>\n",
       "      <th>NoBids</th>\n",
       "      <th>DescriptionLength</th>\n",
       "      <th>RepaidOrNot</th>\n",
       "    </tr>\n",
       "  </thead>\n",
       "  <tbody>\n",
       "    <tr>\n",
       "      <th>32438</th>\n",
       "      <td>9000.000</td>\n",
       "      <td>0.451</td>\n",
       "      <td>0.130</td>\n",
       "      <td>4408.781</td>\n",
       "      <td>88</td>\n",
       "      <td>153</td>\n",
       "      <td>True</td>\n",
       "    </tr>\n",
       "    <tr>\n",
       "      <th>22770</th>\n",
       "      <td>1500.000</td>\n",
       "      <td>0.259</td>\n",
       "      <td>NaN</td>\n",
       "      <td>11210.244</td>\n",
       "      <td>287</td>\n",
       "      <td>86</td>\n",
       "      <td>True</td>\n",
       "    </tr>\n",
       "    <tr>\n",
       "      <th>21577</th>\n",
       "      <td>2500.000</td>\n",
       "      <td>0.090</td>\n",
       "      <td>0.130</td>\n",
       "      <td>325538.125</td>\n",
       "      <td>90</td>\n",
       "      <td>8</td>\n",
       "      <td>False</td>\n",
       "    </tr>\n",
       "    <tr>\n",
       "      <th>19363</th>\n",
       "      <td>3000.000</td>\n",
       "      <td>0.093</td>\n",
       "      <td>0.330</td>\n",
       "      <td>22.205</td>\n",
       "      <td>171</td>\n",
       "      <td>69</td>\n",
       "      <td>True</td>\n",
       "    </tr>\n",
       "    <tr>\n",
       "      <th>15733</th>\n",
       "      <td>3000.000</td>\n",
       "      <td>0.494</td>\n",
       "      <td>0.180</td>\n",
       "      <td>19124.802</td>\n",
       "      <td>327</td>\n",
       "      <td>34</td>\n",
       "      <td>True</td>\n",
       "    </tr>\n",
       "  </tbody>\n",
       "</table>\n",
       "</div>"
      ],
      "text/plain": [
       "      AmountRequested  Gini DebtToIncomeRatio AvgInterBidTime NoBids  \\\n",
       "32438 9000.000        0.451 0.130             4408.781         88      \n",
       "22770 1500.000        0.259  NaN              11210.244        287     \n",
       "21577 2500.000        0.090 0.130             325538.125       90      \n",
       "19363 3000.000        0.093 0.330             22.205           171     \n",
       "15733 3000.000        0.494 0.180             19124.802        327     \n",
       "\n",
       "      DescriptionLength RepaidOrNot  \n",
       "32438  153               True        \n",
       "22770  86                True        \n",
       "21577  8                 False       \n",
       "19363  69                True        \n",
       "15733  34                True        "
      ]
     },
     "execution_count": 4,
     "metadata": {},
     "output_type": "execute_result"
    }
   ],
   "source": [
    "funded_data = pd.DataFrame(data.loc[(data['RepaidOrNot']==True) | (data['RepaidOrNot']==False)][all_features].groupby('ListingKey').agg(f).as_matrix())\n",
    "funded_data = funded_data.rename(index=str, columns={0: \"AmountRequested\", \n",
    "                                                       1: \"Gini\", \n",
    "                                                       2: \"DebtToIncomeRatio\",\n",
    "                                                       3: \"AvgInterBidTime\",\n",
    "                                                       4: \"NoBids\",\n",
    "                                                       5: \"DescriptionLength\",\n",
    "                                                       6: \"RepaidOrNot\"})\n",
    "funded_data = funded_data.drop(7, axis=1)\n",
    "funded_data.sample(5)"
   ]
  },
  {
   "cell_type": "code",
   "execution_count": 5,
   "metadata": {},
   "outputs": [
    {
     "name": "stdout",
     "output_type": "stream",
     "text": [
      "Percentage not repaid from funded listings: %\n",
      "34.5345345345\n"
     ]
    }
   ],
   "source": [
    "print (\"Percentage not repaid from funded listings: %\")\n",
    "print (dict(Counter(funded_data.RepaidOrNot))[False] / len(funded_data)) * 100 "
   ]
  },
  {
   "cell_type": "markdown",
   "metadata": {},
   "source": [
    "## Unfunded Data"
   ]
  },
  {
   "cell_type": "code",
   "execution_count": 6,
   "metadata": {},
   "outputs": [
    {
     "data": {
      "text/html": [
       "<div>\n",
       "<style scoped>\n",
       "    .dataframe tbody tr th:only-of-type {\n",
       "        vertical-align: middle;\n",
       "    }\n",
       "\n",
       "    .dataframe tbody tr th {\n",
       "        vertical-align: top;\n",
       "    }\n",
       "\n",
       "    .dataframe thead th {\n",
       "        text-align: right;\n",
       "    }\n",
       "</style>\n",
       "<table border=\"1\" class=\"dataframe\">\n",
       "  <thead>\n",
       "    <tr style=\"text-align: right;\">\n",
       "      <th></th>\n",
       "      <th>AmountRequested</th>\n",
       "      <th>Gini</th>\n",
       "      <th>DebtToIncomeRatio</th>\n",
       "      <th>AvgInterBidTime</th>\n",
       "      <th>NoBids</th>\n",
       "      <th>DescriptionLength</th>\n",
       "    </tr>\n",
       "  </thead>\n",
       "  <tbody>\n",
       "    <tr>\n",
       "      <th>86600</th>\n",
       "      <td>3000.000</td>\n",
       "      <td>0.083</td>\n",
       "      <td>0.290</td>\n",
       "      <td>424333.750</td>\n",
       "      <td>166</td>\n",
       "      <td>2</td>\n",
       "    </tr>\n",
       "    <tr>\n",
       "      <th>167798</th>\n",
       "      <td>4900.000</td>\n",
       "      <td>0.326</td>\n",
       "      <td>0.210</td>\n",
       "      <td>31670.028</td>\n",
       "      <td>188</td>\n",
       "      <td>44</td>\n",
       "    </tr>\n",
       "    <tr>\n",
       "      <th>60873</th>\n",
       "      <td>9000.000</td>\n",
       "      <td>0.000</td>\n",
       "      <td>0.390</td>\n",
       "      <td>603591.000</td>\n",
       "      <td>207</td>\n",
       "      <td>1</td>\n",
       "    </tr>\n",
       "    <tr>\n",
       "      <th>12527</th>\n",
       "      <td>1600.000</td>\n",
       "      <td>0.000</td>\n",
       "      <td>NaN</td>\n",
       "      <td>864121.000</td>\n",
       "      <td>132</td>\n",
       "      <td>1</td>\n",
       "    </tr>\n",
       "    <tr>\n",
       "      <th>55023</th>\n",
       "      <td>25000.000</td>\n",
       "      <td>0.000</td>\n",
       "      <td>0.320</td>\n",
       "      <td>520.000</td>\n",
       "      <td>313</td>\n",
       "      <td>1</td>\n",
       "    </tr>\n",
       "  </tbody>\n",
       "</table>\n",
       "</div>"
      ],
      "text/plain": [
       "       AmountRequested  Gini DebtToIncomeRatio AvgInterBidTime NoBids  \\\n",
       "86600  3000.000        0.083 0.290             424333.750       166     \n",
       "167798 4900.000        0.326 0.210             31670.028        188     \n",
       "60873  9000.000        0.000 0.390             603591.000       207     \n",
       "12527  1600.000        0.000  NaN              864121.000       132     \n",
       "55023  25000.000       0.000 0.320             520.000          313     \n",
       "\n",
       "       DescriptionLength  \n",
       "86600   2                 \n",
       "167798  44                \n",
       "60873   1                 \n",
       "12527   1                 \n",
       "55023   1                 "
      ]
     },
     "execution_count": 6,
     "metadata": {},
     "output_type": "execute_result"
    }
   ],
   "source": [
    "unfunded_data = pd.DataFrame(data.loc[data['FundedOrNot']==False][all_features].groupby('ListingKey').agg(f).as_matrix())\n",
    "unfunded_data = unfunded_data.rename(index=str, columns={0: \"AmountRequested\", \n",
    "                                                       1: \"Gini\", \n",
    "                                                       2: \"DebtToIncomeRatio\",\n",
    "                                                       3: \"AvgInterBidTime\",\n",
    "                                                       4: \"NoBids\",\n",
    "                                                       5: \"DescriptionLength\"})\n",
    "unfunded_data = unfunded_data.drop([6,7], axis=1)\n",
    "unfunded_data.sample(5)"
   ]
  },
  {
   "cell_type": "markdown",
   "metadata": {},
   "source": [
    "## Test Set"
   ]
  },
  {
   "cell_type": "code",
   "execution_count": 7,
   "metadata": {},
   "outputs": [],
   "source": [
    "X_test = unfunded_data[train_features].fillna(-1).as_matrix()"
   ]
  },
  {
   "cell_type": "code",
   "execution_count": 8,
   "metadata": {},
   "outputs": [],
   "source": [
    "RF = RF(random_state=42) # Random Forest Classifier\n",
    "scaler = StandardScaler() # Standard Scaler"
   ]
  },
  {
   "cell_type": "markdown",
   "metadata": {},
   "source": [
    "## Imbalanced Classes"
   ]
  },
  {
   "cell_type": "code",
   "execution_count": 9,
   "metadata": {},
   "outputs": [
    {
     "data": {
      "text/plain": [
       "RandomForestClassifier(bootstrap=True, class_weight=None, criterion='gini',\n",
       "            max_depth=None, max_features='auto', max_leaf_nodes=None,\n",
       "            min_impurity_decrease=0.0, min_impurity_split=None,\n",
       "            min_samples_leaf=1, min_samples_split=2,\n",
       "            min_weight_fraction_leaf=0.0, n_estimators=10, n_jobs=1,\n",
       "            oob_score=False, random_state=42, verbose=0, warm_start=False)"
      ]
     },
     "execution_count": 9,
     "metadata": {},
     "output_type": "execute_result"
    }
   ],
   "source": [
    "X_train = funded_data[train_features].fillna(-1).as_matrix()\n",
    "X_train = scaler.fit_transform(X_train)\n",
    "\n",
    "y_train = funded_data[\"RepaidOrNot\"].astype(int)\n",
    "\n",
    "RF.fit(X_train,y_train)"
   ]
  },
  {
   "cell_type": "code",
   "execution_count": 10,
   "metadata": {},
   "outputs": [],
   "source": [
    "y_pred = RF.predict(X_test)"
   ]
  },
  {
   "cell_type": "code",
   "execution_count": 11,
   "metadata": {},
   "outputs": [
    {
     "name": "stdout",
     "output_type": "stream",
     "text": [
      "Percentage not repaid from unfunded listings: %\n",
      "52.6076161189\n"
     ]
    }
   ],
   "source": [
    "print (\"Percentage not repaid from unfunded listings: %\")\n",
    "print (dict(Counter(y_pred))[0] / len(y_pred)) * 100 "
   ]
  },
  {
   "cell_type": "markdown",
   "metadata": {},
   "source": [
    "## Validation"
   ]
  },
  {
   "cell_type": "code",
   "execution_count": 12,
   "metadata": {},
   "outputs": [
    {
     "name": "stdout",
     "output_type": "stream",
     "text": [
      "Accuracy:  0.6092563151386681\n",
      "Precision:  0.6905936383738731\n",
      "Recall:  0.7303471847454578\n",
      "F-Measure:  0.7099143206854345\n",
      "AUC/ROC:  0.555028664836497\n"
     ]
    }
   ],
   "source": [
    "y_pred = run_cv(X_train, y_train, RF)\n",
    "\n",
    "print \"Accuracy: \", accuracy(y_train, y_pred)\n",
    "print \"Precision: \", precision(y_train, y_pred)\n",
    "print \"Recall: \", recall(y_train, y_pred)\n",
    "print \"F-Measure: \", f1(y_train, y_pred)\n",
    "print \"AUC/ROC: \",  auc(y_train, y_pred)"
   ]
  },
  {
   "cell_type": "markdown",
   "metadata": {},
   "source": [
    "## Feature Ranking"
   ]
  },
  {
   "cell_type": "code",
   "execution_count": 13,
   "metadata": {},
   "outputs": [
    {
     "data": {
      "text/html": [
       "<div>\n",
       "<style scoped>\n",
       "    .dataframe tbody tr th:only-of-type {\n",
       "        vertical-align: middle;\n",
       "    }\n",
       "\n",
       "    .dataframe tbody tr th {\n",
       "        vertical-align: top;\n",
       "    }\n",
       "\n",
       "    .dataframe thead th {\n",
       "        text-align: right;\n",
       "    }\n",
       "</style>\n",
       "<table border=\"1\" class=\"dataframe\">\n",
       "  <thead>\n",
       "    <tr style=\"text-align: right;\">\n",
       "      <th></th>\n",
       "      <th>Rank</th>\n",
       "      <th>Feature</th>\n",
       "      <th>Importance</th>\n",
       "      <th>Support</th>\n",
       "      <th>x</th>\n",
       "    </tr>\n",
       "  </thead>\n",
       "  <tbody>\n",
       "    <tr>\n",
       "      <th>0</th>\n",
       "      <td>1</td>\n",
       "      <td>NoBids</td>\n",
       "      <td>0.177</td>\n",
       "      <td>True</td>\n",
       "      <td>1</td>\n",
       "    </tr>\n",
       "    <tr>\n",
       "      <th>1</th>\n",
       "      <td>1</td>\n",
       "      <td>AmountRequested</td>\n",
       "      <td>0.137</td>\n",
       "      <td>True</td>\n",
       "      <td>2</td>\n",
       "    </tr>\n",
       "    <tr>\n",
       "      <th>2</th>\n",
       "      <td>1</td>\n",
       "      <td>DescriptionLength</td>\n",
       "      <td>0.178</td>\n",
       "      <td>True</td>\n",
       "      <td>6</td>\n",
       "    </tr>\n",
       "    <tr>\n",
       "      <th>3</th>\n",
       "      <td>2</td>\n",
       "      <td>DebtToIncomeRatio</td>\n",
       "      <td>0.163</td>\n",
       "      <td>False</td>\n",
       "      <td>5</td>\n",
       "    </tr>\n",
       "    <tr>\n",
       "      <th>4</th>\n",
       "      <td>3</td>\n",
       "      <td>AvgInterBidTime</td>\n",
       "      <td>0.174</td>\n",
       "      <td>False</td>\n",
       "      <td>3</td>\n",
       "    </tr>\n",
       "    <tr>\n",
       "      <th>5</th>\n",
       "      <td>4</td>\n",
       "      <td>Gini</td>\n",
       "      <td>0.170</td>\n",
       "      <td>False</td>\n",
       "      <td>4</td>\n",
       "    </tr>\n",
       "  </tbody>\n",
       "</table>\n",
       "</div>"
      ],
      "text/plain": [
       "   Rank            Feature  Importance  Support  x\n",
       "0  1     NoBids            0.177        True     1\n",
       "1  1     AmountRequested   0.137        True     2\n",
       "2  1     DescriptionLength 0.178        True     6\n",
       "3  2     DebtToIncomeRatio 0.163        False    5\n",
       "4  3     AvgInterBidTime   0.174        False    3\n",
       "5  4     Gini              0.170        False    4"
      ]
     },
     "execution_count": 13,
     "metadata": {},
     "output_type": "execute_result"
    }
   ],
   "source": [
    "frank_summary(X_train, y_train, train_features)"
   ]
  },
  {
   "cell_type": "markdown",
   "metadata": {},
   "source": [
    "## Balanced Classes"
   ]
  },
  {
   "cell_type": "code",
   "execution_count": 14,
   "metadata": {},
   "outputs": [
    {
     "data": {
      "text/plain": [
       "True     11730\n",
       "False    11730\n",
       "Name: RepaidOrNot, dtype: int64"
      ]
     },
     "execution_count": 14,
     "metadata": {},
     "output_type": "execute_result"
    }
   ],
   "source": [
    "from sklearn.utils import resample\n",
    "\n",
    "# Separate majority and minority classes\n",
    "funded_majority = funded_data[funded_data.RepaidOrNot==True]\n",
    "funded_minority = funded_data[funded_data.RepaidOrNot==False]\n",
    "\n",
    "funded_majority_downsampled = resample(funded_majority, \n",
    "                                         replace=False,    # sample without replacement\n",
    "                                         n_samples=11730,  # to match minority class\n",
    "                                         random_state=123) # reproducible results\n",
    "\n",
    "# Combine minority class with downsampled majority class\n",
    "funded_downsampled = pd.concat([funded_majority_downsampled, funded_minority])\n",
    " \n",
    "# Display new class counts\n",
    "funded_downsampled.RepaidOrNot.value_counts()"
   ]
  },
  {
   "cell_type": "code",
   "execution_count": 15,
   "metadata": {},
   "outputs": [
    {
     "data": {
      "text/html": [
       "<div>\n",
       "<style scoped>\n",
       "    .dataframe tbody tr th:only-of-type {\n",
       "        vertical-align: middle;\n",
       "    }\n",
       "\n",
       "    .dataframe tbody tr th {\n",
       "        vertical-align: top;\n",
       "    }\n",
       "\n",
       "    .dataframe thead th {\n",
       "        text-align: right;\n",
       "    }\n",
       "</style>\n",
       "<table border=\"1\" class=\"dataframe\">\n",
       "  <thead>\n",
       "    <tr style=\"text-align: right;\">\n",
       "      <th></th>\n",
       "      <th>AmountRequested</th>\n",
       "      <th>Gini</th>\n",
       "      <th>DebtToIncomeRatio</th>\n",
       "      <th>AvgInterBidTime</th>\n",
       "      <th>NoBids</th>\n",
       "      <th>DescriptionLength</th>\n",
       "      <th>RepaidOrNot</th>\n",
       "    </tr>\n",
       "  </thead>\n",
       "  <tbody>\n",
       "    <tr>\n",
       "      <th>30944</th>\n",
       "      <td>3000.000</td>\n",
       "      <td>0.389</td>\n",
       "      <td>0.350</td>\n",
       "      <td>16390.922</td>\n",
       "      <td>299</td>\n",
       "      <td>102</td>\n",
       "      <td>True</td>\n",
       "    </tr>\n",
       "    <tr>\n",
       "      <th>17062</th>\n",
       "      <td>3200.000</td>\n",
       "      <td>0.349</td>\n",
       "      <td>0.260</td>\n",
       "      <td>14646.060</td>\n",
       "      <td>365</td>\n",
       "      <td>46</td>\n",
       "      <td>True</td>\n",
       "    </tr>\n",
       "    <tr>\n",
       "      <th>33538</th>\n",
       "      <td>3700.000</td>\n",
       "      <td>0.377</td>\n",
       "      <td>0.130</td>\n",
       "      <td>4769.868</td>\n",
       "      <td>365</td>\n",
       "      <td>151</td>\n",
       "      <td>True</td>\n",
       "    </tr>\n",
       "    <tr>\n",
       "      <th>8464</th>\n",
       "      <td>9800.000</td>\n",
       "      <td>0.588</td>\n",
       "      <td>0.260</td>\n",
       "      <td>2148.144</td>\n",
       "      <td>271</td>\n",
       "      <td>391</td>\n",
       "      <td>True</td>\n",
       "    </tr>\n",
       "    <tr>\n",
       "      <th>6260</th>\n",
       "      <td>5000.000</td>\n",
       "      <td>0.389</td>\n",
       "      <td>0.480</td>\n",
       "      <td>7560.851</td>\n",
       "      <td>321</td>\n",
       "      <td>182</td>\n",
       "      <td>True</td>\n",
       "    </tr>\n",
       "  </tbody>\n",
       "</table>\n",
       "</div>"
      ],
      "text/plain": [
       "      AmountRequested  Gini DebtToIncomeRatio AvgInterBidTime NoBids  \\\n",
       "30944 3000.000        0.389 0.350             16390.922        299     \n",
       "17062 3200.000        0.349 0.260             14646.060        365     \n",
       "33538 3700.000        0.377 0.130             4769.868         365     \n",
       "8464  9800.000        0.588 0.260             2148.144         271     \n",
       "6260  5000.000        0.389 0.480             7560.851         321     \n",
       "\n",
       "      DescriptionLength RepaidOrNot  \n",
       "30944  102               True        \n",
       "17062  46                True        \n",
       "33538  151               True        \n",
       "8464   391               True        \n",
       "6260   182               True        "
      ]
     },
     "execution_count": 15,
     "metadata": {},
     "output_type": "execute_result"
    }
   ],
   "source": [
    "funded_downsampled.sample(5)"
   ]
  },
  {
   "cell_type": "code",
   "execution_count": 16,
   "metadata": {},
   "outputs": [
    {
     "data": {
      "text/plain": [
       "RandomForestClassifier(bootstrap=True, class_weight=None, criterion='gini',\n",
       "            max_depth=None, max_features='auto', max_leaf_nodes=None,\n",
       "            min_impurity_decrease=0.0, min_impurity_split=None,\n",
       "            min_samples_leaf=1, min_samples_split=2,\n",
       "            min_weight_fraction_leaf=0.0, n_estimators=10, n_jobs=1,\n",
       "            oob_score=False, random_state=42, verbose=0, warm_start=False)"
      ]
     },
     "execution_count": 16,
     "metadata": {},
     "output_type": "execute_result"
    }
   ],
   "source": [
    "X_train = funded_downsampled[train_features].fillna(-1).as_matrix()\n",
    "X_train = scaler.fit_transform(X_train)\n",
    "\n",
    "y_train = funded_downsampled[\"RepaidOrNot\"].astype(int)\n",
    "\n",
    "RF.fit(X_train,y_train)"
   ]
  },
  {
   "cell_type": "code",
   "execution_count": 17,
   "metadata": {},
   "outputs": [],
   "source": [
    "y_pred = RF.predict(X_test)"
   ]
  },
  {
   "cell_type": "code",
   "execution_count": 18,
   "metadata": {},
   "outputs": [
    {
     "name": "stdout",
     "output_type": "stream",
     "text": [
      "Percentage not repaid from unfunded listings: %\n",
      "73.2088429128\n"
     ]
    }
   ],
   "source": [
    "print (\"Percentage not repaid from unfunded listings: %\")\n",
    "print (dict(Counter(y_pred))[0] / len(y_pred)) * 100 "
   ]
  },
  {
   "cell_type": "markdown",
   "metadata": {},
   "source": [
    "## Listing Summary"
   ]
  },
  {
   "cell_type": "code",
   "execution_count": 19,
   "metadata": {},
   "outputs": [
    {
     "name": "stdout",
     "output_type": "stream",
     "text": [
      "Funded Listings: % 14.407451867\n",
      "Repaid Loans: % 65.4654654655\n",
      "Defaulted Loans: % 34.5345345345\n",
      "Failed Listings: % 78.07196515\n"
     ]
    }
   ],
   "source": [
    "print \"Funded Listings: %\", len(funded_data) / len(data.groupby('ListingKey')) * 100\n",
    "print \"Repaid Loans: %\", len(funded_data[funded_data.RepaidOrNot == True]) / len(funded_data) * 100\n",
    "print \"Defaulted Loans: %\", len(funded_data[funded_data.RepaidOrNot == False]) / len(funded_data) * 100\n",
    "print \"Failed Listings: %\", len(unfunded_data) /len(data.groupby('ListingKey')) * 100"
   ]
  },
  {
   "cell_type": "code",
   "execution_count": 20,
   "metadata": {},
   "outputs": [
    {
     "data": {
      "text/html": [
       "<div>\n",
       "<style scoped>\n",
       "    .dataframe tbody tr th:only-of-type {\n",
       "        vertical-align: middle;\n",
       "    }\n",
       "\n",
       "    .dataframe tbody tr th {\n",
       "        vertical-align: top;\n",
       "    }\n",
       "\n",
       "    .dataframe thead th {\n",
       "        text-align: right;\n",
       "    }\n",
       "</style>\n",
       "<table border=\"1\" class=\"dataframe\">\n",
       "  <thead>\n",
       "    <tr style=\"text-align: right;\">\n",
       "      <th></th>\n",
       "      <th>AmountRequested</th>\n",
       "      <th>Gini</th>\n",
       "      <th>DebtToIncomeRatio</th>\n",
       "      <th>AvgInterBidTime</th>\n",
       "      <th>NoBids</th>\n",
       "      <th>DescriptionLength</th>\n",
       "      <th>RepaidOrNot</th>\n",
       "    </tr>\n",
       "  </thead>\n",
       "  <tbody>\n",
       "    <tr>\n",
       "      <th>count</th>\n",
       "      <td>33966.000</td>\n",
       "      <td>33966.000</td>\n",
       "      <td>32111.000</td>\n",
       "      <td>33966.000</td>\n",
       "      <td>33966</td>\n",
       "      <td>33966</td>\n",
       "      <td>33966</td>\n",
       "    </tr>\n",
       "    <tr>\n",
       "      <th>unique</th>\n",
       "      <td>1030.000</td>\n",
       "      <td>32552.000</td>\n",
       "      <td>1124.000</td>\n",
       "      <td>33860.000</td>\n",
       "      <td>731</td>\n",
       "      <td>844</td>\n",
       "      <td>2</td>\n",
       "    </tr>\n",
       "    <tr>\n",
       "      <th>top</th>\n",
       "      <td>5000.000</td>\n",
       "      <td>0.000</td>\n",
       "      <td>0.180</td>\n",
       "      <td>0.000</td>\n",
       "      <td>57</td>\n",
       "      <td>1</td>\n",
       "      <td>True</td>\n",
       "    </tr>\n",
       "    <tr>\n",
       "      <th>freq</th>\n",
       "      <td>3183.000</td>\n",
       "      <td>477.000</td>\n",
       "      <td>1095.000</td>\n",
       "      <td>22.000</td>\n",
       "      <td>248</td>\n",
       "      <td>338</td>\n",
       "      <td>22236</td>\n",
       "    </tr>\n",
       "  </tbody>\n",
       "</table>\n",
       "</div>"
      ],
      "text/plain": [
       "        AmountRequested      Gini  DebtToIncomeRatio  AvgInterBidTime  NoBids  \\\n",
       "count  33966.000        33966.000 32111.000          33966.000         33966    \n",
       "unique 1030.000         32552.000 1124.000           33860.000         731      \n",
       "top    5000.000         0.000     0.180              0.000             57       \n",
       "freq   3183.000         477.000   1095.000           22.000            248      \n",
       "\n",
       "        DescriptionLength RepaidOrNot  \n",
       "count   33966              33966       \n",
       "unique  844                2           \n",
       "top     1                  True        \n",
       "freq    338                22236       "
      ]
     },
     "execution_count": 20,
     "metadata": {},
     "output_type": "execute_result"
    }
   ],
   "source": [
    "funded_data.describe()"
   ]
  },
  {
   "cell_type": "code",
   "execution_count": 21,
   "metadata": {},
   "outputs": [
    {
     "data": {
      "text/html": [
       "<div>\n",
       "<style scoped>\n",
       "    .dataframe tbody tr th:only-of-type {\n",
       "        vertical-align: middle;\n",
       "    }\n",
       "\n",
       "    .dataframe tbody tr th {\n",
       "        vertical-align: top;\n",
       "    }\n",
       "\n",
       "    .dataframe thead th {\n",
       "        text-align: right;\n",
       "    }\n",
       "</style>\n",
       "<table border=\"1\" class=\"dataframe\">\n",
       "  <thead>\n",
       "    <tr style=\"text-align: right;\">\n",
       "      <th></th>\n",
       "      <th>AmountRequested</th>\n",
       "      <th>Gini</th>\n",
       "      <th>DebtToIncomeRatio</th>\n",
       "      <th>AvgInterBidTime</th>\n",
       "      <th>NoBids</th>\n",
       "      <th>DescriptionLength</th>\n",
       "    </tr>\n",
       "  </thead>\n",
       "  <tbody>\n",
       "    <tr>\n",
       "      <th>count</th>\n",
       "      <td>184057.000</td>\n",
       "      <td>184057.000</td>\n",
       "      <td>165841.000</td>\n",
       "      <td>184057.000</td>\n",
       "      <td>184057</td>\n",
       "      <td>184057</td>\n",
       "    </tr>\n",
       "    <tr>\n",
       "      <th>unique</th>\n",
       "      <td>2202.000</td>\n",
       "      <td>55009.000</td>\n",
       "      <td>3694.000</td>\n",
       "      <td>159252.000</td>\n",
       "      <td>767</td>\n",
       "      <td>747</td>\n",
       "    </tr>\n",
       "    <tr>\n",
       "      <th>top</th>\n",
       "      <td>5000.000</td>\n",
       "      <td>0.000</td>\n",
       "      <td>0.200</td>\n",
       "      <td>3.000</td>\n",
       "      <td>57</td>\n",
       "      <td>1</td>\n",
       "    </tr>\n",
       "    <tr>\n",
       "      <th>freq</th>\n",
       "      <td>20211.000</td>\n",
       "      <td>90573.000</td>\n",
       "      <td>4653.000</td>\n",
       "      <td>553.000</td>\n",
       "      <td>2646</td>\n",
       "      <td>64848</td>\n",
       "    </tr>\n",
       "  </tbody>\n",
       "</table>\n",
       "</div>"
      ],
      "text/plain": [
       "        AmountRequested       Gini  DebtToIncomeRatio  AvgInterBidTime  \\\n",
       "count  184057.000       184057.000 165841.000         184057.000         \n",
       "unique 2202.000         55009.000  3694.000           159252.000         \n",
       "top    5000.000         0.000      0.200              3.000              \n",
       "freq   20211.000        90573.000  4653.000           553.000            \n",
       "\n",
       "        NoBids  DescriptionLength  \n",
       "count   184057  184057             \n",
       "unique  767     747                \n",
       "top     57      1                  \n",
       "freq    2646    64848              "
      ]
     },
     "execution_count": 21,
     "metadata": {},
     "output_type": "execute_result"
    }
   ],
   "source": [
    "unfunded_data.describe()"
   ]
  }
 ],
 "metadata": {
  "kernelspec": {
   "display_name": "Python 2",
   "language": "python",
   "name": "python2"
  },
  "language_info": {
   "codemirror_mode": {
    "name": "ipython",
    "version": 2
   },
   "file_extension": ".py",
   "mimetype": "text/x-python",
   "name": "python",
   "nbconvert_exporter": "python",
   "pygments_lexer": "ipython2",
   "version": "2.7.16"
  }
 },
 "nbformat": 4,
 "nbformat_minor": 2
}
