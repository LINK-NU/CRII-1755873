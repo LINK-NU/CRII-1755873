{
 "cells": [
  {
   "cell_type": "code",
   "execution_count": 2,
   "metadata": {},
   "outputs": [],
   "source": [
    "import sys\n",
    "import numba\n",
    "import swifter\n",
    "import timeit\n",
    "import numpy as np\n",
    "import pandas as pd\n",
    "import seaborn as sns\n",
    "import matplotlib.pyplot as plt\n",
    "import warnings\n",
    "warnings.filterwarnings('ignore')\n",
    "pd.set_option('display.max_colwidth', -1)\n",
    "pd.set_option('display.float_format', lambda x: '%.3f' % x)\n",
    "sns.set_style('whitegrid')\n",
    "plt.style.use('seaborn-whitegrid')\n",
    "%matplotlib inline\n",
    "\n",
    "__author__ = 'HK Dambanemuya'\n",
    "__version__ = 'Python 2'\n",
    "\n",
    "'''\n",
    "    Analysis originaly performed in Python 2 (deprecated)\n",
    "    Seaborn, Statsmodel, and * imports broken in Python 3\n",
    "'''"
   ]
  },
  {
   "cell_type": "code",
   "execution_count": 3,
   "metadata": {},
   "outputs": [],
   "source": [
    "bid_1 = pd.read_csv(\"../Data/lender_bid_fe/lender_bid_fe_10k.csv\")\n",
    "bid_2 = pd.read_csv(\"../Data/lender_bid_fe/lender_bid_fe_20k.csv\")\n",
    "bid_3 = pd.read_csv(\"../Data/lender_bid_fe/lender_bid_fe_30k.csv\")\n",
    "bid_4 = pd.read_csv(\"../Data/lender_bid_fe/lender_bid_fe_40k.csv\")\n",
    "bid_5 = pd.read_csv(\"../Data/lender_bid_fe/lender_bid_fe_50k.csv\")\n",
    "bid_6 = pd.read_csv(\"../Data/lender_bid_fe/lender_bid_fe_60k.csv\")\n",
    "bid_7 = pd.read_csv(\"../Data/lender_bid_fe/lender_bid_fe_65k.csv\")"
   ]
  },
  {
   "cell_type": "code",
   "execution_count": 4,
   "metadata": {},
   "outputs": [],
   "source": [
    "bid_frames = [bid_1, bid_2, bid_3, bid_4, bid_5, bid_6, bid_7]"
   ]
  },
  {
   "cell_type": "code",
   "execution_count": 5,
   "metadata": {},
   "outputs": [
    {
     "data": {
      "text/html": [
       "<div>\n",
       "<style scoped>\n",
       "    .dataframe tbody tr th:only-of-type {\n",
       "        vertical-align: middle;\n",
       "    }\n",
       "\n",
       "    .dataframe tbody tr th {\n",
       "        vertical-align: top;\n",
       "    }\n",
       "\n",
       "    .dataframe thead th {\n",
       "        text-align: right;\n",
       "    }\n",
       "</style>\n",
       "<table border=\"1\" class=\"dataframe\">\n",
       "  <thead>\n",
       "    <tr style=\"text-align: right;\">\n",
       "      <th></th>\n",
       "      <th>ListingKey</th>\n",
       "      <th>MemberKey</th>\n",
       "      <th>LenderWinningBids</th>\n",
       "      <th>LenderTotalBids</th>\n",
       "      <th>LenderBidWinningRate</th>\n",
       "    </tr>\n",
       "  </thead>\n",
       "  <tbody>\n",
       "    <tr>\n",
       "      <th>0</th>\n",
       "      <td>3FF03364988124297E13A05</td>\n",
       "      <td>033E336453973913915CD6B</td>\n",
       "      <td>37</td>\n",
       "      <td>123</td>\n",
       "      <td>0.301</td>\n",
       "    </tr>\n",
       "    <tr>\n",
       "      <th>1</th>\n",
       "      <td>25713364434040193913F01</td>\n",
       "      <td>033E336453973913915CD6B</td>\n",
       "      <td>42</td>\n",
       "      <td>138</td>\n",
       "      <td>0.304</td>\n",
       "    </tr>\n",
       "    <tr>\n",
       "      <th>2</th>\n",
       "      <td>B8953365111581953FDF6FF</td>\n",
       "      <td>033E336453973913915CD6B</td>\n",
       "      <td>36</td>\n",
       "      <td>116</td>\n",
       "      <td>0.310</td>\n",
       "    </tr>\n",
       "    <tr>\n",
       "      <th>3</th>\n",
       "      <td>5D64336458879460900B458</td>\n",
       "      <td>033E336453973913915CD6B</td>\n",
       "      <td>25</td>\n",
       "      <td>83</td>\n",
       "      <td>0.301</td>\n",
       "    </tr>\n",
       "    <tr>\n",
       "      <th>4</th>\n",
       "      <td>113D3366128622300E1DBFD</td>\n",
       "      <td>033E336453973913915CD6B</td>\n",
       "      <td>25</td>\n",
       "      <td>84</td>\n",
       "      <td>0.298</td>\n",
       "    </tr>\n",
       "  </tbody>\n",
       "</table>\n",
       "</div>"
      ],
      "text/plain": [
       "                ListingKey                MemberKey  LenderWinningBids  \\\n",
       "0  3FF03364988124297E13A05  033E336453973913915CD6B  37                  \n",
       "1  25713364434040193913F01  033E336453973913915CD6B  42                  \n",
       "2  B8953365111581953FDF6FF  033E336453973913915CD6B  36                  \n",
       "3  5D64336458879460900B458  033E336453973913915CD6B  25                  \n",
       "4  113D3366128622300E1DBFD  033E336453973913915CD6B  25                  \n",
       "\n",
       "   LenderTotalBids  LenderBidWinningRate  \n",
       "0  123             0.301                  \n",
       "1  138             0.304                  \n",
       "2  116             0.310                  \n",
       "3  83              0.301                  \n",
       "4  84              0.298                  "
      ]
     },
     "execution_count": 5,
     "metadata": {},
     "output_type": "execute_result"
    }
   ],
   "source": [
    "data = pd.concat(bid_frames)\n",
    "data = data[['ListingKey', 'MemberKey', 'LenderWinningBids', 'LenderTotalBids']]\n",
    "data[\"LenderBidWinningRate\"] = data['LenderWinningBids'] / data['LenderTotalBids']\n",
    "data[[\"ListingKey\", \"MemberKey\", \"LenderBidWinningRate\"]].to_csv(\"../Data/lender_bid_winning_rate.csv\", index=False)\n",
    "print len(data)\n",
    "data.head()"
   ]
  },
  {
   "cell_type": "code",
   "execution_count": 7,
   "metadata": {},
   "outputs": [
    {
     "data": {
      "text/plain": [
       "9733452"
      ]
     },
     "execution_count": 7,
     "metadata": {},
     "output_type": "execute_result"
    }
   ],
   "source": []
  },
  {
   "cell_type": "code",
   "execution_count": null,
   "metadata": {},
   "outputs": [],
   "source": [
    "data = pd.concat(bid_frames)\n",
    "data['Listing_Key'] = data.ListingKey\n",
    "data = data[['Listing_Key', 'ListingKey', 'LenderWinningBids', 'LenderTotalBids']]\n",
    "data[\"LenderBidWinningRate\"] = data['LenderWinningBids'] / data['LenderTotalBids']\n",
    "data.head()"
   ]
  },
  {
   "cell_type": "code",
   "execution_count": 5,
   "metadata": {},
   "outputs": [],
   "source": [
    "del bid_1\n",
    "del bid_2\n",
    "del bid_3\n",
    "del bid_4\n",
    "del bid_5\n",
    "del bid_6\n",
    "del bid_7\n",
    "del bid_frames"
   ]
  },
  {
   "cell_type": "markdown",
   "metadata": {},
   "source": [
    "## Mean"
   ]
  },
  {
   "cell_type": "code",
   "execution_count": 6,
   "metadata": {},
   "outputs": [
    {
     "data": {
      "text/html": [
       "<div>\n",
       "<style scoped>\n",
       "    .dataframe tbody tr th:only-of-type {\n",
       "        vertical-align: middle;\n",
       "    }\n",
       "\n",
       "    .dataframe tbody tr th {\n",
       "        vertical-align: top;\n",
       "    }\n",
       "\n",
       "    .dataframe thead th {\n",
       "        text-align: right;\n",
       "    }\n",
       "</style>\n",
       "<table border=\"1\" class=\"dataframe\">\n",
       "  <thead>\n",
       "    <tr style=\"text-align: right;\">\n",
       "      <th></th>\n",
       "      <th>LenderAvgWinningBids</th>\n",
       "      <th>LenderAvgTotalBids</th>\n",
       "      <th>LenderAvgBidWinningRate</th>\n",
       "      <th>ListingKey</th>\n",
       "    </tr>\n",
       "  </thead>\n",
       "  <tbody>\n",
       "    <tr>\n",
       "      <th>0</th>\n",
       "      <td>568.500</td>\n",
       "      <td>949.500</td>\n",
       "      <td>0.632</td>\n",
       "      <td>00003383856420083050622</td>\n",
       "    </tr>\n",
       "    <tr>\n",
       "      <th>1</th>\n",
       "      <td>5530.000</td>\n",
       "      <td>5776.000</td>\n",
       "      <td>0.957</td>\n",
       "      <td>00003405662222292C12B86</td>\n",
       "    </tr>\n",
       "    <tr>\n",
       "      <th>2</th>\n",
       "      <td>8989.000</td>\n",
       "      <td>9199.000</td>\n",
       "      <td>0.977</td>\n",
       "      <td>000034085359462718B9059</td>\n",
       "    </tr>\n",
       "    <tr>\n",
       "      <th>3</th>\n",
       "      <td>508.000</td>\n",
       "      <td>713.500</td>\n",
       "      <td>0.671</td>\n",
       "      <td>000034203787284229CBEF1</td>\n",
       "    </tr>\n",
       "    <tr>\n",
       "      <th>4</th>\n",
       "      <td>677.933</td>\n",
       "      <td>947.000</td>\n",
       "      <td>0.597</td>\n",
       "      <td>00003423466422120D65CA3</td>\n",
       "    </tr>\n",
       "  </tbody>\n",
       "</table>\n",
       "</div>"
      ],
      "text/plain": [
       "  LenderAvgWinningBids LenderAvgTotalBids LenderAvgBidWinningRate  \\\n",
       "0 568.500              949.500            0.632                     \n",
       "1 5530.000             5776.000           0.957                     \n",
       "2 8989.000             9199.000           0.977                     \n",
       "3 508.000              713.500            0.671                     \n",
       "4 677.933              947.000            0.597                     \n",
       "\n",
       "                ListingKey  \n",
       "0  00003383856420083050622  \n",
       "1  00003405662222292C12B86  \n",
       "2  000034085359462718B9059  \n",
       "3  000034203787284229CBEF1  \n",
       "4  00003423466422120D65CA3  "
      ]
     },
     "execution_count": 6,
     "metadata": {},
     "output_type": "execute_result"
    }
   ],
   "source": [
    "f_avg = {'ListingKey': ['max'],\n",
    "         'LenderTotalBids': ['mean'],\n",
    "         'LenderWinningBids': ['mean'],\n",
    "         'LenderBidWinningRate': ['mean']\n",
    "}\n",
    "lender_mean_attr = pd.DataFrame(data.groupby([\"Listing_Key\"]).agg(f_avg).as_matrix())\n",
    "lender_mean_attr = lender_mean_attr.rename(index=str, columns={0: \"LenderAvgWinningBids\", \n",
    "                                                             1: \"LenderAvgTotalBids\",\n",
    "                                                             2: \"LenderAvgBidWinningRate\",\n",
    "                                                             3: \"ListingKey\"})\n",
    "lender_mean_attr.head()"
   ]
  },
  {
   "cell_type": "markdown",
   "metadata": {},
   "source": [
    "## Median Deviation"
   ]
  },
  {
   "cell_type": "code",
   "execution_count": 7,
   "metadata": {},
   "outputs": [],
   "source": [
    "# f_median = {'ListingKey': ['max'],\n",
    "#          'LenderTotalBids': ['median'],\n",
    "#          'LenderWinningBids': ['median'],\n",
    "#          'LenderBidWinningRate': ['median']\n",
    "# }\n",
    "# lender_median_attr = pd.DataFrame(data.groupby([\"Listing_Key\"]).agg(f_median).as_matrix())\n",
    "# lender_median_attr = lender_median_attr.rename(index=str, columns={0: \"LenderMedianWinningBids\", \n",
    "#                                                                  1: \"LenderMedianTotalBids\",\n",
    "#                                                                  2: \"LenderMedianBidWinningRate\",\n",
    "#                                                                  3: \"ListingKey\"})\n",
    "# lender_median_attr.head()"
   ]
  },
  {
   "cell_type": "markdown",
   "metadata": {},
   "source": [
    "## Standard Deviation"
   ]
  },
  {
   "cell_type": "code",
   "execution_count": 8,
   "metadata": {},
   "outputs": [],
   "source": [
    "# f_std = {'ListingKey': ['max'],\n",
    "#          'LenderTotalBids': ['std'],\n",
    "#          'LenderWinningBids': ['std'],\n",
    "#          'LenderBidWinningRate': ['std']\n",
    "# }\n",
    "\n",
    "# lender_std_attr = pd.DataFrame(data.groupby([\"Listing_Key\"]).agg(f_std).as_matrix())\n",
    "# lender_std_attr = lender_std_attr.rename(index=str, columns={0: \"LenderStdWinningBids\", \n",
    "#                                                                  1: \"LenderStdTotalBids\",\n",
    "#                                                                  2: \"LenderStdBidWinningRate\",\n",
    "#                                                                  3: \"ListingKey\"})\n",
    "# lender_std_attr.head()"
   ]
  },
  {
   "cell_type": "markdown",
   "metadata": {},
   "source": [
    "## Merge Bid Feature DataFrames"
   ]
  },
  {
   "cell_type": "code",
   "execution_count": 9,
   "metadata": {},
   "outputs": [
    {
     "data": {
      "text/html": [
       "<div>\n",
       "<style scoped>\n",
       "    .dataframe tbody tr th:only-of-type {\n",
       "        vertical-align: middle;\n",
       "    }\n",
       "\n",
       "    .dataframe tbody tr th {\n",
       "        vertical-align: top;\n",
       "    }\n",
       "\n",
       "    .dataframe thead th {\n",
       "        text-align: right;\n",
       "    }\n",
       "</style>\n",
       "<table border=\"1\" class=\"dataframe\">\n",
       "  <thead>\n",
       "    <tr style=\"text-align: right;\">\n",
       "      <th></th>\n",
       "      <th>LenderAvgWinningBids</th>\n",
       "      <th>LenderAvgTotalBids</th>\n",
       "      <th>LenderAvgBidWinningRate</th>\n",
       "      <th>ListingKey</th>\n",
       "    </tr>\n",
       "  </thead>\n",
       "  <tbody>\n",
       "    <tr>\n",
       "      <th>0</th>\n",
       "      <td>568.500</td>\n",
       "      <td>949.500</td>\n",
       "      <td>0.632</td>\n",
       "      <td>00003383856420083050622</td>\n",
       "    </tr>\n",
       "    <tr>\n",
       "      <th>1</th>\n",
       "      <td>5530.000</td>\n",
       "      <td>5776.000</td>\n",
       "      <td>0.957</td>\n",
       "      <td>00003405662222292C12B86</td>\n",
       "    </tr>\n",
       "    <tr>\n",
       "      <th>2</th>\n",
       "      <td>8989.000</td>\n",
       "      <td>9199.000</td>\n",
       "      <td>0.977</td>\n",
       "      <td>000034085359462718B9059</td>\n",
       "    </tr>\n",
       "    <tr>\n",
       "      <th>3</th>\n",
       "      <td>508.000</td>\n",
       "      <td>713.500</td>\n",
       "      <td>0.671</td>\n",
       "      <td>000034203787284229CBEF1</td>\n",
       "    </tr>\n",
       "    <tr>\n",
       "      <th>4</th>\n",
       "      <td>677.933</td>\n",
       "      <td>947.000</td>\n",
       "      <td>0.597</td>\n",
       "      <td>00003423466422120D65CA3</td>\n",
       "    </tr>\n",
       "  </tbody>\n",
       "</table>\n",
       "</div>"
      ],
      "text/plain": [
       "  LenderAvgWinningBids LenderAvgTotalBids LenderAvgBidWinningRate  \\\n",
       "0 568.500              949.500            0.632                     \n",
       "1 5530.000             5776.000           0.957                     \n",
       "2 8989.000             9199.000           0.977                     \n",
       "3 508.000              713.500            0.671                     \n",
       "4 677.933              947.000            0.597                     \n",
       "\n",
       "                ListingKey  \n",
       "0  00003383856420083050622  \n",
       "1  00003405662222292C12B86  \n",
       "2  000034085359462718B9059  \n",
       "3  000034203787284229CBEF1  \n",
       "4  00003423466422120D65CA3  "
      ]
     },
     "execution_count": 9,
     "metadata": {},
     "output_type": "execute_result"
    }
   ],
   "source": [
    "# Prepare final data\n",
    "final_lender_data = lender_mean_attr\n",
    "# final_lender_data = final_lender_data.merge(lender_median_attr, on=\"ListingKey\")\n",
    "# final_lender_data = final_lender_data.merge(lender_std_attr, on=\"ListingKey\")\n",
    "final_lender_data.head()"
   ]
  },
  {
   "cell_type": "markdown",
   "metadata": {},
   "source": [
    "## Import Class Variable"
   ]
  },
  {
   "cell_type": "code",
   "execution_count": 10,
   "metadata": {},
   "outputs": [
    {
     "data": {
      "text/html": [
       "<div>\n",
       "<style scoped>\n",
       "    .dataframe tbody tr th:only-of-type {\n",
       "        vertical-align: middle;\n",
       "    }\n",
       "\n",
       "    .dataframe tbody tr th {\n",
       "        vertical-align: top;\n",
       "    }\n",
       "\n",
       "    .dataframe thead th {\n",
       "        text-align: right;\n",
       "    }\n",
       "</style>\n",
       "<table border=\"1\" class=\"dataframe\">\n",
       "  <thead>\n",
       "    <tr style=\"text-align: right;\">\n",
       "      <th></th>\n",
       "      <th>ListingKey</th>\n",
       "      <th>RepaidOrNot</th>\n",
       "    </tr>\n",
       "  </thead>\n",
       "  <tbody>\n",
       "    <tr>\n",
       "      <th>17</th>\n",
       "      <td>00033425227988088FA6752</td>\n",
       "      <td>True</td>\n",
       "    </tr>\n",
       "    <tr>\n",
       "      <th>21</th>\n",
       "      <td>000433785890431972B4743</td>\n",
       "      <td>False</td>\n",
       "    </tr>\n",
       "    <tr>\n",
       "      <th>38</th>\n",
       "      <td>00083422661625108817246</td>\n",
       "      <td>True</td>\n",
       "    </tr>\n",
       "    <tr>\n",
       "      <th>46</th>\n",
       "      <td>000A34209897973969CFA81</td>\n",
       "      <td>True</td>\n",
       "    </tr>\n",
       "    <tr>\n",
       "      <th>56</th>\n",
       "      <td>000D3410451511356B08F17</td>\n",
       "      <td>True</td>\n",
       "    </tr>\n",
       "  </tbody>\n",
       "</table>\n",
       "</div>"
      ],
      "text/plain": [
       "                 ListingKey RepaidOrNot\n",
       "17  00033425227988088FA6752  True      \n",
       "21  000433785890431972B4743  False     \n",
       "38  00083422661625108817246  True      \n",
       "46  000A34209897973969CFA81  True      \n",
       "56  000D3410451511356B08F17  True      "
      ]
     },
     "execution_count": 10,
     "metadata": {},
     "output_type": "execute_result"
    }
   ],
   "source": [
    "listing_data = pd.read_csv(\"../Data/ProjectLevelData.txt\", sep=\"|\")\n",
    "listing_data = listing_data.loc[(listing_data['RepaidOrNot']==True) | (listing_data['RepaidOrNot']==False)]\n",
    "listing_data = listing_data[[\"ListingKey\", \"RepaidOrNot\"]]\n",
    "listing_data.head()"
   ]
  },
  {
   "cell_type": "markdown",
   "metadata": {},
   "source": [
    "## Merge Features and Class Variable"
   ]
  },
  {
   "cell_type": "code",
   "execution_count": 11,
   "metadata": {},
   "outputs": [
    {
     "data": {
      "text/html": [
       "<div>\n",
       "<style scoped>\n",
       "    .dataframe tbody tr th:only-of-type {\n",
       "        vertical-align: middle;\n",
       "    }\n",
       "\n",
       "    .dataframe tbody tr th {\n",
       "        vertical-align: top;\n",
       "    }\n",
       "\n",
       "    .dataframe thead th {\n",
       "        text-align: right;\n",
       "    }\n",
       "</style>\n",
       "<table border=\"1\" class=\"dataframe\">\n",
       "  <thead>\n",
       "    <tr style=\"text-align: right;\">\n",
       "      <th></th>\n",
       "      <th>LenderAvgWinningBids</th>\n",
       "      <th>LenderAvgTotalBids</th>\n",
       "      <th>LenderAvgBidWinningRate</th>\n",
       "      <th>ListingKey</th>\n",
       "      <th>RepaidOrNot</th>\n",
       "    </tr>\n",
       "  </thead>\n",
       "  <tbody>\n",
       "    <tr>\n",
       "      <th>0</th>\n",
       "      <td>480.000</td>\n",
       "      <td>698.000</td>\n",
       "      <td>0.702</td>\n",
       "      <td>00033425227988088FA6752</td>\n",
       "      <td>1</td>\n",
       "    </tr>\n",
       "    <tr>\n",
       "      <th>1</th>\n",
       "      <td>163.267</td>\n",
       "      <td>242.167</td>\n",
       "      <td>0.654</td>\n",
       "      <td>000433785890431972B4743</td>\n",
       "      <td>0</td>\n",
       "    </tr>\n",
       "    <tr>\n",
       "      <th>2</th>\n",
       "      <td>297.752</td>\n",
       "      <td>479.518</td>\n",
       "      <td>0.587</td>\n",
       "      <td>00083422661625108817246</td>\n",
       "      <td>1</td>\n",
       "    </tr>\n",
       "    <tr>\n",
       "      <th>3</th>\n",
       "      <td>85.500</td>\n",
       "      <td>170.500</td>\n",
       "      <td>0.521</td>\n",
       "      <td>000A34209897973969CFA81</td>\n",
       "      <td>1</td>\n",
       "    </tr>\n",
       "    <tr>\n",
       "      <th>4</th>\n",
       "      <td>200.218</td>\n",
       "      <td>355.222</td>\n",
       "      <td>0.501</td>\n",
       "      <td>000D3410451511356B08F17</td>\n",
       "      <td>1</td>\n",
       "    </tr>\n",
       "  </tbody>\n",
       "</table>\n",
       "</div>"
      ],
      "text/plain": [
       "  LenderAvgWinningBids LenderAvgTotalBids LenderAvgBidWinningRate  \\\n",
       "0 480.000              698.000            0.702                     \n",
       "1 163.267              242.167            0.654                     \n",
       "2 297.752              479.518            0.587                     \n",
       "3 85.500               170.500            0.521                     \n",
       "4 200.218              355.222            0.501                     \n",
       "\n",
       "                ListingKey  RepaidOrNot  \n",
       "0  00033425227988088FA6752  1            \n",
       "1  000433785890431972B4743  0            \n",
       "2  00083422661625108817246  1            \n",
       "3  000A34209897973969CFA81  1            \n",
       "4  000D3410451511356B08F17  1            "
      ]
     },
     "execution_count": 11,
     "metadata": {},
     "output_type": "execute_result"
    }
   ],
   "source": [
    "final_data = final_lender_data.merge(listing_data, on=\"ListingKey\")\n",
    "final_data['RepaidOrNot'] = final_data['RepaidOrNot'].astype(int)\n",
    "final_data.head()"
   ]
  },
  {
   "cell_type": "markdown",
   "metadata": {},
   "source": [
    "## Check Feature Correlation"
   ]
  },
  {
   "cell_type": "code",
   "execution_count": 12,
   "metadata": {},
   "outputs": [
    {
     "data": {
      "image/png": "[encoded data removed]",
      "text/plain": [
       "<Figure size 864x864 with 2 Axes>"
      ]
     },
     "metadata": {},
     "output_type": "display_data"
    }
   ],
   "source": [
    "corr = final_data.swifter.apply(pd.to_numeric, errors='coerce').corr(method='pearson')\n",
    "mask = np.zeros_like(corr, dtype=np.bool)\n",
    "mask[np.triu_indices_from(mask)] = True\n",
    "plt.figure(figsize=(12,12))\n",
    "sns.heatmap(corr, \n",
    "        xticklabels=corr.columns,\n",
    "        yticklabels=corr.columns,\n",
    "        cmap=sns.color_palette(\"coolwarm_r\"),\n",
    "        mask = mask,\n",
    "        linewidths=.5,\n",
    "        vmin=-1,\n",
    "        vmax=1,\n",
    "        annot=True)\n",
    "plt.title(\"Variable Correlation Heatmap\")\n",
    "plt.show()"
   ]
  },
  {
   "cell_type": "markdown",
   "metadata": {},
   "source": [
    "## Save Data to CSV"
   ]
  },
  {
   "cell_type": "code",
   "execution_count": 14,
   "metadata": {},
   "outputs": [],
   "source": [
    "## Save data to csv file\n",
    "# final_lender_data.to_csv(\"../Data/lender_listing_attr_filtered.csv\", index=False)\n",
    "# selected_attributes = [\"LenderAvgBidWinningRate\", \"LenderAvgWinningBids\", \"LenderAvgTotalBids\"]\n",
    "final_lender_data.to_csv(\"../Data/lender_bid_attr.csv\", index=False)"
   ]
  },
  {
   "cell_type": "code",
   "execution_count": null,
   "metadata": {},
   "outputs": [],
   "source": []
  }
 ],
 "metadata": {
  "kernelspec": {
   "display_name": "Python 2",
   "language": "python",
   "name": "python2"
  },
  "language_info": {
   "codemirror_mode": {
    "name": "ipython",
    "version": 2
   },
   "file_extension": ".py",
   "mimetype": "text/x-python",
   "name": "python",
   "nbconvert_exporter": "python",
   "pygments_lexer": "ipython2",
   "version": "2.7.16"
  }
 },
 "nbformat": 4,
 "nbformat_minor": 2
}
