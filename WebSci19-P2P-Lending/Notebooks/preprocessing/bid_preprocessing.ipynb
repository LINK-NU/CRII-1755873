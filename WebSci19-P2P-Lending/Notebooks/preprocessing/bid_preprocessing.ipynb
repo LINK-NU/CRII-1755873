{
 "cells": [
  {
   "cell_type": "code",
   "execution_count": 3,
   "metadata": {},
   "outputs": [],
   "source": [
    "# install.packages('lubridate')\n",
    "# install.packages('data.table')"
   ]
  },
  {
   "cell_type": "code",
   "execution_count": 4,
   "metadata": {},
   "outputs": [
    {
     "name": "stderr",
     "output_type": "stream",
     "text": [
      "\n",
      "Attaching package: 'lubridate'\n",
      "\n",
      "The following objects are masked from 'package:data.table':\n",
      "\n",
      "    hour, isoweek, mday, minute, month, quarter, second, wday, week,\n",
      "    yday, year\n",
      "\n",
      "The following object is masked from 'package:base':\n",
      "\n",
      "    date\n",
      "\n"
     ]
    }
   ],
   "source": [
    "library(data.table)\n",
    "library(lubridate)"
   ]
  },
  {
   "cell_type": "code",
   "execution_count": null,
   "metadata": {},
   "outputs": [],
   "source": [
    "# read bid data to compute CI signals\n",
    "data <- read.csv(\"../Data/bid_notick.txt\",header=TRUE,sep='|')\n",
    "data <- data[,c(\"Amount\",\"CreationDate\",\"ListingKey\",\"ListingStatus\")]\n",
    "names(data) <- c(\"BidAmount\",\"BidCreationDate\",\"ListingKey\",\"ListingStatus\")\n",
    "data <- data[which(data$ListingStatus!=\"Active\"&data$ListingStatus!=\"Pending Completion\"),] \n",
    "data <- data[which(data$BidAmount>0),]\n",
    "data$BidCreationDate <- as.POSIXct(data$BidCreationDate)"
   ]
  },
  {
   "cell_type": "code",
   "execution_count": null,
   "metadata": {},
   "outputs": [],
   "source": [
    "#data <- data[which(year(data$BidCreationDate)>2005),] # eliminate entries for 2005\n",
    "data <- droplevels(data)\n",
    "# fund-raising label\n",
    "data$FundedOrNot <- data$ListingStatus==\"Completed\"\n",
    "# k\n",
    "data$HowManythBid <- ave(as.numeric(data$BidCreationDate),data$ListingKey,FUN=seq_along)\n",
    "# keep only relevant parts\n",
    "data <- data[,c(\"BidAmount\",\"BidCreationDate\",\"ListingKey\",\"FundedOrNot\",\"HowManythBid\")]"
   ]
  },
  {
   "cell_type": "code",
   "execution_count": null,
   "metadata": {},
   "outputs": [],
   "source": [
    "# compute Gini inequality at the bid level\n",
    "dt <- data.table(data)\n",
    "dt <- dt[order(dt$ListingKey,dt$BidCreationDate),]\n",
    "dt$HowManythBid <- ave(as.numeric(dt$BidCreationDate),dt$ListingKey,FUN=seq_along)\n",
    "dt <- dt[,NoBids:=length(BidAmount),by=list(ListingKey)]\n",
    "dt_part <- dt[which(dt$NoBids>1),]\n",
    "dt_part <- dt_part[,Gini:=diag(t(apply(apply(as.matrix(dist(BidAmount)),2,cumsum),1,cumsum)))\n",
    "                   /(2*HowManythBid*cumsum(BidAmount)),by=list(ListingKey)]\n",
    "dt_part2 <- cbind(dt[which(dt$NoBids==1),],Gini=rep(0,nrow(dt[which(dt$NoBids==1),])))\n",
    "dt <- rbind(dt_part,dt_part2)\n",
    "rm(dt_part)\n",
    "rm(dt_part2)\n",
    "gc()\n",
    "# keep only the relevant parts of the data table\n",
    "dt <- dt[,c(\"ListingKey\",\"HowManythBid\",\"Gini\",\"NoBids\"),with=FALSE] "
   ]
  },
  {
   "cell_type": "code",
   "execution_count": null,
   "metadata": {},
   "outputs": [],
   "source": [
    "data2 <- read.csv(\"../Data/listing.txt\",header=TRUE,sep='|')\n",
    "data2a <- data2[,c(\"Lst_Key\",\"AmountRequested\",\"CreationDate\")] # keep only the relevant parts of the data frame\n",
    "names(data2a) <- c(\"ListingKey\",\"AmountRequested\",\"ListingStartDate\") # start and duration of listing\n",
    "data <- merge(data,data2a,by=\"ListingKey\")"
   ]
  },
  {
   "cell_type": "code",
   "execution_count": null,
   "metadata": {},
   "outputs": [],
   "source": [
    "# momentum feature\n",
    "data <- data[order(data$ListingKey,data$BidCreationDate),]\n",
    "# time taken\n",
    "data$TimeTaken <- as.numeric(difftime(data$BidCreationDate,data$ListingStartDate,units=\"mins\"))\n",
    "data[which(data$TimeTaken<0),]$TimeTaken <- 0\n",
    "# inter-bid time\n",
    "data$NumericDate <- as.numeric(data$BidCreationDate) # unit is second\n",
    "data <- data[order(data$ListingKey,data$BidCreationDate),] \n",
    "# if transform doesn't change the order of the rows, the line above is not necessary\n",
    "diffs <- c(-1,diff(data$NumericDate))\n",
    "data$InterBidTime <- diffs\n",
    "# replace the inter-bid-time for the first bid with the time-to-bid\n",
    "data[!duplicated(data$ListingKey),]$InterBidTime <- data[!duplicated(data$ListingKey),]$TimeTaken*60 # we want it in seconds\n",
    "data <- transform(data,CumInterBidTime=ave(InterBidTime,ListingKey,FUN=cumsum)) \n",
    "data$AvgInterBidTime <- data$CumInterBidTime/data$HowManythBid\n",
    "data <- data[,c(\"ListingKey\",\"HowManythBid\",\"AmountRequested\",\"ListingStartDate\",\n",
    "                \"AvgInterBidTime\",\"FundedOrNot\")]"
   ]
  },
  {
   "cell_type": "code",
   "execution_count": null,
   "metadata": {},
   "outputs": [],
   "source": [
    "# load data for repayment label\n",
    "data3 <- read.csv(\"../Data/loan.txt\",header=TRUE,sep='|')\n",
    "data3 <- data3[,c(\"Status\",\"ListingKey\",\"CreationDate\")] # keep only the relevant parts of the data frame\n",
    "names(data3) <- c(\"LoanStatus\",\"ListingKey\",\"LoanCreationDate\")\n",
    "data3$LoanCreationDate <- as.POSIXct(data3$LoanCreationDate)\n",
    "data3 <- data3[order(data3$LoanCreationDate),]\n",
    "data3 <- data3[which(duplicated(data3$ListingKey)==F),]\n",
    "#data3 <- data3[which(year(data3$LoanCreationDate)>2005),] # eliminate entries for 2005\n",
    "data <- merge(data,data3,by=\"ListingKey\",all.x=T)\n",
    "# label details\n",
    "data[which(data$LoanStatus==\"1 month late\"),]$LoanStatus <- NA\n",
    "data[which(data$LoanStatus==\"2 months late\"),]$LoanStatus <- NA\n",
    "data[which(data$LoanStatus==\"3 months late\"),]$LoanStatus <- NA\n",
    "data[which(data$LoanStatus==\"4+ months late\"),]$LoanStatus <- NA\n",
    "data[which(data$LoanStatus==\"Cancelled\"),]$LoanStatus <- NA\n",
    "data[which(data$LoanStatus==\"Current\"),]$LoanStatus <- NA\n",
    "data[which(data$LoanStatus==\"Late\"),]$LoanStatus <- NA\n",
    "data[which(data$LoanStatus==\"Payoff in progress\"),]$LoanStatus <- NA\n",
    "data[which(data$LoanStatus==\"Repurchased\"),]$LoanStatus <- NA\n",
    "data$RepaidOrNot <- data$LoanStatus==\"Paid\" \n",
    "data <- data[,c(\"ListingKey\",\"HowManythBid\",\"AmountRequested\",\"ListingStartDate\",\n",
    "                \"AvgInterBidTime\",\"FundedOrNot\",\"RepaidOrNot\")]\n",
    "data <- droplevels(data)"
   ]
  },
  {
   "cell_type": "code",
   "execution_count": null,
   "metadata": {},
   "outputs": [],
   "source": [
    "data <- data[order(data$ListingKey,data$HowManythBid),]\n",
    "dt <- dt[order(dt$ListingKey,dt$HowManythBid),]\n",
    "data <- cbind(data,dt[,c(\"Gini\",\"NoBids\"),with=F])"
   ]
  },
  {
   "cell_type": "code",
   "execution_count": null,
   "metadata": {},
   "outputs": [],
   "source": [
    "# get additional data about projects (controls)\n",
    "data2b <- data2[,c(\"BorrowerState\",\"CreationDate\",\"CreditGrade\",\"DebtToIncomeRatio\",\"Description\",\"Lst_Key\")]\n",
    "data2b$Year <- substr(data2b$CreationDate,1,4)\n",
    "#data2b <- data2b[which(data2b$Year>2005),]\n",
    "data2b <- data2b[,c(\"BorrowerState\",\"Year\",\"CreditGrade\",\"DebtToIncomeRatio\",\"Description\",\"Lst_Key\")]\n",
    "names(data2b) <- c(\"BorrowerState\",\"Year\",\"CreditGrade\",\"DebtToIncomeRatio\",\"Description\",\"ListingKey\")\n",
    "\n",
    "# clean the description text\n",
    "cleanHTML <- function(htmlString) {\n",
    "  return(gsub(\"<.*?>\", \" \", htmlString))\n",
    "}\n",
    "data2b$Description <- cleanHTML(data2b$Description) # delete html tags\n",
    "\n",
    "cleanWhites1 <- function(htmlString) {\n",
    "  return(gsub(\"\\n*|\\r*\", \"\", htmlString))\n",
    "}\n",
    "data2b$Description <- cleanWhites1(data2b$Description) # delete white spaces\n",
    "\n",
    "cleanWhites2 <- function(htmlString) {\n",
    "  return(gsub(\"^\\\\s+|\\\\s+$\", \"\", htmlString))\n",
    "}\n",
    "data2b$Description <- cleanWhites2(data2b$Description) # delete white spaces\n",
    "\n",
    "trim <- function(x) {\n",
    "  return(gsub(\"^ *|(?<= ) | *$\", \"\", x, perl=T))  \n",
    "}\n",
    "data2b$Description <- trim(data2b$Description) # delete more white spaces\n",
    "# get the length of the description\n",
    "library(stringr)\n",
    "data2b$DescriptionLength <- str_count(data2b$Description,\" \")+1\n",
    "data2b[which(data2b$DescriptionLength==1),]$DescriptionLength <- 0\n",
    "data2b <- data2b[-c(5)] # drop Description"
   ]
  },
  {
   "cell_type": "code",
   "execution_count": null,
   "metadata": {},
   "outputs": [],
   "source": [
    "data <- merge(data,data2b,by=\"ListingKey\")\n",
    "data <- droplevels(data)\n",
    "t <- c(\"ListingKey\",\"AvgInterBidTime\",\"FundedOrNot\",\"HowManythBid\",\n",
    "       \"RepaidOrNot\",\"Gini\",\"AmountRequested\",\"NoBids\",\"DescriptionLength\",\n",
    "       \"BorrowerState\",\"Year\",\"CreditGrade\",\"DebtToIncomeRatio\")\n",
    "data <- data[,which(names(data)%in%t)]\n",
    "write.table(data,\"../Data/BidLevelData.txt\",row.names=F,col.names=T,sep=\"|\")"
   ]
  },
  {
   "cell_type": "code",
   "execution_count": null,
   "metadata": {},
   "outputs": [],
   "source": [
    "dt <- data.table(data)\n",
    "pdata <- dt[dt[, .I[HowManythBid==max(HowManythBid)],by=ListingKey]$V1]\n",
    "write.table(pdata,\"../Data/ProjectLevelData.txt\",row.names=F,col.names=T,sep=\"|\")"
   ]
  },
  {
   "cell_type": "code",
   "execution_count": null,
   "metadata": {},
   "outputs": [],
   "source": []
  }
 ],
 "metadata": {
  "kernelspec": {
   "display_name": "R",
   "language": "R",
   "name": "ir"
  },
  "language_info": {
   "codemirror_mode": "r",
   "file_extension": ".r",
   "mimetype": "text/x-r-source",
   "name": "R",
   "pygments_lexer": "r",
   "version": "3.5.1"
  }
 },
 "nbformat": 4,
 "nbformat_minor": 2
}
