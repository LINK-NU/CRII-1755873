{
 "cells": [
  {
   "cell_type": "code",
   "execution_count": 1,
   "metadata": {},
   "outputs": [
    {
     "name": "stderr",
     "output_type": "stream",
     "text": [
      "/Users/henrydambanemuya/Library/Python/2.7/lib/python/site-packages/tqdm/autonotebook/__init__.py:18: TqdmExperimentalWarning: Using `tqdm.autonotebook.tqdm` in notebook mode. Use `tqdm.tqdm` instead to force console mode (e.g. in jupyter console)\n",
      "  \" (e.g. in jupyter console)\", TqdmExperimentalWarning)\n"
     ]
    },
    {
     "data": {
      "text/plain": [
       "'\\n    Analysis originaly performed in Python 2 (deprecated)\\n    Seaborn, Statsmodel, and * imports broken in Python 3\\n'"
      ]
     },
     "execution_count": 1,
     "metadata": {},
     "output_type": "execute_result"
    }
   ],
   "source": [
    "import sys\n",
    "import numba\n",
    "import swifter\n",
    "import timeit\n",
    "import numpy as np\n",
    "import pandas as pd\n",
    "# import seaborn as sns\n",
    "import matplotlib.pyplot as plt\n",
    "import warnings\n",
    "warnings.filterwarnings('ignore')\n",
    "pd.set_option('display.max_colwidth', -1)\n",
    "pd.set_option('display.float_format', lambda x: '%.3f' % x)\n",
    "# sns.set_style('whitegrid')\n",
    "plt.style.use('seaborn-whitegrid')\n",
    "%matplotlib inline\n",
    "\n",
    "__author__ = 'HK Dambanemuya'\n",
    "__version__ = 'Python 2'\n",
    "\n",
    "'''\n",
    "    Analysis originaly performed in Python 2 (deprecated)\n",
    "    Seaborn, Statsmodel, and * imports broken in Python 3\n",
    "'''"
   ]
  },
  {
   "cell_type": "code",
   "execution_count": 2,
   "metadata": {},
   "outputs": [],
   "source": [
    "borrower_1 = pd.read_csv(\"../Data/borrower_listing_fe/borrower_listing_fe_25k.csv\")\n",
    "borrower_2 = pd.read_csv(\"../Data/borrower_listing_fe/borrower_listing_fe_50k.csv\")\n",
    "borrower_3 = pd.read_csv(\"../Data/borrower_listing_fe/borrower_listing_fe_75k.csv\")\n",
    "borrower_4 = pd.read_csv(\"../Data/borrower_listing_fe/borrower_listing_fe_100k.csv\")\n",
    "borrower_5 = pd.read_csv(\"../Data/borrower_listing_fe/borrower_listing_fe_128k.csv\")"
   ]
  },
  {
   "cell_type": "code",
   "execution_count": 3,
   "metadata": {},
   "outputs": [],
   "source": [
    "borrower_frames = [borrower_1, borrower_2, borrower_3, borrower_4, borrower_5]"
   ]
  },
  {
   "cell_type": "code",
   "execution_count": 4,
   "metadata": {},
   "outputs": [
    {
     "data": {
      "text/html": [
       "<div>\n",
       "<style scoped>\n",
       "    .dataframe tbody tr th:only-of-type {\n",
       "        vertical-align: middle;\n",
       "    }\n",
       "\n",
       "    .dataframe tbody tr th {\n",
       "        vertical-align: top;\n",
       "    }\n",
       "\n",
       "    .dataframe thead th {\n",
       "        text-align: right;\n",
       "    }\n",
       "</style>\n",
       "<table border=\"1\" class=\"dataframe\">\n",
       "  <thead>\n",
       "    <tr style=\"text-align: right;\">\n",
       "      <th></th>\n",
       "      <th>Listing_Key</th>\n",
       "      <th>ListingKey</th>\n",
       "      <th>BorrowerCompletedListings</th>\n",
       "      <th>BorrowerRepaidListings</th>\n",
       "      <th>BorrowerTotalListings</th>\n",
       "      <th>BorrowerListingSuccessRate</th>\n",
       "      <th>BorrowerRepaymentSuccessRate</th>\n",
       "    </tr>\n",
       "  </thead>\n",
       "  <tbody>\n",
       "    <tr>\n",
       "      <th>0</th>\n",
       "      <td>00003383856420083050622</td>\n",
       "      <td>00003383856420083050622</td>\n",
       "      <td>0</td>\n",
       "      <td>0</td>\n",
       "      <td>0</td>\n",
       "      <td>nan</td>\n",
       "      <td>nan</td>\n",
       "    </tr>\n",
       "    <tr>\n",
       "      <th>1</th>\n",
       "      <td>000034085359462718B9059</td>\n",
       "      <td>000034085359462718B9059</td>\n",
       "      <td>0</td>\n",
       "      <td>0</td>\n",
       "      <td>3</td>\n",
       "      <td>0.000</td>\n",
       "      <td>nan</td>\n",
       "    </tr>\n",
       "    <tr>\n",
       "      <th>2</th>\n",
       "      <td>000034203787284229CBEF1</td>\n",
       "      <td>000034203787284229CBEF1</td>\n",
       "      <td>0</td>\n",
       "      <td>0</td>\n",
       "      <td>0</td>\n",
       "      <td>nan</td>\n",
       "      <td>nan</td>\n",
       "    </tr>\n",
       "    <tr>\n",
       "      <th>3</th>\n",
       "      <td>00003423466422120D65CA3</td>\n",
       "      <td>00003423466422120D65CA3</td>\n",
       "      <td>0</td>\n",
       "      <td>0</td>\n",
       "      <td>1</td>\n",
       "      <td>0.000</td>\n",
       "      <td>nan</td>\n",
       "    </tr>\n",
       "    <tr>\n",
       "      <th>4</th>\n",
       "      <td>00003468952897947CDC3A8</td>\n",
       "      <td>00003468952897947CDC3A8</td>\n",
       "      <td>0</td>\n",
       "      <td>0</td>\n",
       "      <td>0</td>\n",
       "      <td>nan</td>\n",
       "      <td>nan</td>\n",
       "    </tr>\n",
       "  </tbody>\n",
       "</table>\n",
       "</div>"
      ],
      "text/plain": [
       "               Listing_Key               ListingKey  \\\n",
       "0  00003383856420083050622  00003383856420083050622   \n",
       "1  000034085359462718B9059  000034085359462718B9059   \n",
       "2  000034203787284229CBEF1  000034203787284229CBEF1   \n",
       "3  00003423466422120D65CA3  00003423466422120D65CA3   \n",
       "4  00003468952897947CDC3A8  00003468952897947CDC3A8   \n",
       "\n",
       "   BorrowerCompletedListings  BorrowerRepaidListings  BorrowerTotalListings  \\\n",
       "0  0                          0                       0                       \n",
       "1  0                          0                       3                       \n",
       "2  0                          0                       0                       \n",
       "3  0                          0                       1                       \n",
       "4  0                          0                       0                       \n",
       "\n",
       "   BorrowerListingSuccessRate  BorrowerRepaymentSuccessRate  \n",
       "0 nan                         nan                            \n",
       "1 0.000                       nan                            \n",
       "2 nan                         nan                            \n",
       "3 0.000                       nan                            \n",
       "4 nan                         nan                            "
      ]
     },
     "execution_count": 4,
     "metadata": {},
     "output_type": "execute_result"
    }
   ],
   "source": [
    "data = pd.concat(borrower_frames)\n",
    "data['Listing_Key'] = data.ListingKey\n",
    "data = data[['Listing_Key', 'ListingKey', 'BorrowerCompletedListings', 'BorrowerRepaidListings', 'BorrowerTotalListings']]\n",
    "data[\"BorrowerListingSuccessRate\"] = data['BorrowerCompletedListings'] / data['BorrowerTotalListings']\n",
    "data[\"BorrowerRepaymentSuccessRate\"] = data['BorrowerRepaidListings'] / data['BorrowerCompletedListings']\n",
    "data.head()"
   ]
  },
  {
   "cell_type": "code",
   "execution_count": 5,
   "metadata": {},
   "outputs": [],
   "source": [
    "del borrower_1\n",
    "del borrower_2\n",
    "del borrower_3\n",
    "del borrower_4\n",
    "del borrower_5\n",
    "del borrower_frames"
   ]
  },
  {
   "cell_type": "markdown",
   "metadata": {},
   "source": [
    "## Mean"
   ]
  },
  {
   "cell_type": "code",
   "execution_count": 6,
   "metadata": {},
   "outputs": [
    {
     "data": {
      "text/html": [
       "<div>\n",
       "<style scoped>\n",
       "    .dataframe tbody tr th:only-of-type {\n",
       "        vertical-align: middle;\n",
       "    }\n",
       "\n",
       "    .dataframe tbody tr th {\n",
       "        vertical-align: top;\n",
       "    }\n",
       "\n",
       "    .dataframe thead th {\n",
       "        text-align: right;\n",
       "    }\n",
       "</style>\n",
       "<table border=\"1\" class=\"dataframe\">\n",
       "  <thead>\n",
       "    <tr style=\"text-align: right;\">\n",
       "      <th></th>\n",
       "      <th>BorrowerAvgRepaidListings</th>\n",
       "      <th>BorrowerAvgTotalListings</th>\n",
       "      <th>BorrowerAvgCompletedListings</th>\n",
       "      <th>BorrowerAvgListingSuccessRate</th>\n",
       "      <th>BorrowerAvgRepaymentSuccessRate</th>\n",
       "      <th>ListingKey</th>\n",
       "    </tr>\n",
       "  </thead>\n",
       "  <tbody>\n",
       "    <tr>\n",
       "      <th>0</th>\n",
       "      <td>0</td>\n",
       "      <td>0</td>\n",
       "      <td>0</td>\n",
       "      <td>NaN</td>\n",
       "      <td>NaN</td>\n",
       "      <td>00003383856420083050622</td>\n",
       "    </tr>\n",
       "    <tr>\n",
       "      <th>1</th>\n",
       "      <td>0</td>\n",
       "      <td>0</td>\n",
       "      <td>0</td>\n",
       "      <td>NaN</td>\n",
       "      <td>NaN</td>\n",
       "      <td>00003405662222292C12B86</td>\n",
       "    </tr>\n",
       "    <tr>\n",
       "      <th>2</th>\n",
       "      <td>0</td>\n",
       "      <td>3</td>\n",
       "      <td>0</td>\n",
       "      <td>0.000</td>\n",
       "      <td>NaN</td>\n",
       "      <td>000034085359462718B9059</td>\n",
       "    </tr>\n",
       "    <tr>\n",
       "      <th>3</th>\n",
       "      <td>0</td>\n",
       "      <td>0</td>\n",
       "      <td>0</td>\n",
       "      <td>NaN</td>\n",
       "      <td>NaN</td>\n",
       "      <td>000034203787284229CBEF1</td>\n",
       "    </tr>\n",
       "    <tr>\n",
       "      <th>4</th>\n",
       "      <td>0</td>\n",
       "      <td>1</td>\n",
       "      <td>0</td>\n",
       "      <td>0.000</td>\n",
       "      <td>NaN</td>\n",
       "      <td>00003423466422120D65CA3</td>\n",
       "    </tr>\n",
       "  </tbody>\n",
       "</table>\n",
       "</div>"
      ],
      "text/plain": [
       "  BorrowerAvgRepaidListings BorrowerAvgTotalListings  \\\n",
       "0  0                         0                         \n",
       "1  0                         0                         \n",
       "2  0                         3                         \n",
       "3  0                         0                         \n",
       "4  0                         1                         \n",
       "\n",
       "  BorrowerAvgCompletedListings BorrowerAvgListingSuccessRate  \\\n",
       "0  0                            NaN                            \n",
       "1  0                            NaN                            \n",
       "2  0                           0.000                           \n",
       "3  0                            NaN                            \n",
       "4  0                           0.000                           \n",
       "\n",
       "  BorrowerAvgRepaymentSuccessRate               ListingKey  \n",
       "0  NaN                             00003383856420083050622  \n",
       "1  NaN                             00003405662222292C12B86  \n",
       "2  NaN                             000034085359462718B9059  \n",
       "3  NaN                             000034203787284229CBEF1  \n",
       "4  NaN                             00003423466422120D65CA3  "
      ]
     },
     "execution_count": 6,
     "metadata": {},
     "output_type": "execute_result"
    }
   ],
   "source": [
    "f_avg = {'ListingKey': ['max'],\n",
    "         'BorrowerCompletedListings': ['mean'],\n",
    "         'BorrowerRepaidListings': ['mean'],\n",
    "         'BorrowerTotalListings': ['mean'],\n",
    "         'BorrowerListingSuccessRate': ['mean'],\n",
    "         'BorrowerRepaymentSuccessRate': ['mean']\n",
    "}\n",
    "borrower_mean_attr = pd.DataFrame(data.groupby([\"Listing_Key\"]).agg(f_avg).as_matrix())\n",
    "borrower_mean_attr = borrower_mean_attr.rename(index=str, columns={0: \"BorrowerAvgRepaidListings\", \n",
    "                                                             1: \"BorrowerAvgTotalListings\",\n",
    "                                                             2: \"BorrowerAvgCompletedListings\",\n",
    "                                                             3: \"BorrowerAvgListingSuccessRate\",\n",
    "                                                             4: \"BorrowerAvgRepaymentSuccessRate\",\n",
    "                                                             5: \"ListingKey\"})\n",
    "borrower_mean_attr.head()"
   ]
  },
  {
   "cell_type": "markdown",
   "metadata": {},
   "source": [
    "## Median"
   ]
  },
  {
   "cell_type": "code",
   "execution_count": 7,
   "metadata": {},
   "outputs": [],
   "source": [
    "# f_median = {'ListingKey': ['max'],\n",
    "#          'BorrowerCompletedListings': ['median'],\n",
    "#          'BorrowerRepaidListings': ['median'],\n",
    "#          'BorrowerTotalListings': ['median'],\n",
    "#          'BorrowerListingSuccessRate': ['median'],\n",
    "#          'BorrowerRepaymentSuccessRate': ['median']\n",
    "# }\n",
    "# borrower_median_attr = pd.DataFrame(data.groupby([\"Listing_Key\"]).agg(f_median).as_matrix())\n",
    "# borrower_median_attr = borrower_median_attr.rename(index=str, columns={0: \"BorrowerMedianRepaidListings\", \n",
    "#                                                                  1: \"BorrowerMedianTotalListings\",\n",
    "#                                                                  2: \"BorrowerMedianCompletedListings\",\n",
    "#                                                                  3: \"BorrowerMedianListingSuccessRate\",\n",
    "#                                                                  4: \"BorrowerMedianRepaymentSuccessRate\",\n",
    "#                                                                  5: \"ListingKey\"})\n",
    "# borrower_median_attr.head()"
   ]
  },
  {
   "cell_type": "code",
   "execution_count": 8,
   "metadata": {},
   "outputs": [],
   "source": [
    "# np.mean(data[data[\"ListingKey\"]==\"00003383856420083050622\"].groupby([\"Listing_Key\"]).agg(f_avg))"
   ]
  },
  {
   "cell_type": "markdown",
   "metadata": {},
   "source": [
    "## Standard Deviation"
   ]
  },
  {
   "cell_type": "code",
   "execution_count": 9,
   "metadata": {},
   "outputs": [],
   "source": [
    "# f_std = {'ListingKey': ['max'],\n",
    "#          'BorrowerCompletedListings': ['std'],\n",
    "#          'BorrowerRepaidListings': ['std'],\n",
    "#          'BorrowerTotalListings': ['std'],\n",
    "#          'BorrowerListingSuccessRate': ['std'],\n",
    "#          'BorrowerRepaymentSuccessRate': ['std']\n",
    "# }\n",
    "\n",
    "# borrower_std_attr = pd.DataFrame(data.groupby([\"Listing_Key\"]).agg(f_std).as_matrix())\n",
    "# borrower_std_attr = borrower_std_attr.rename(index=str, columns={0: \"BorrowerStdRepaidListings\", \n",
    "#                                                              1: \"BorrowerStdTotalListings\",\n",
    "#                                                              2: \"BorrowerStdCompletedListings\",\n",
    "#                                                              3: \"BorrowerStdListingSuccessRate\",\n",
    "#                                                              4: \"BorrowerStdRepaymentSuccessRate\",\n",
    "#                                                              5: \"ListingKey\"})\n",
    "# borrower_std_attr.head()"
   ]
  },
  {
   "cell_type": "markdown",
   "metadata": {},
   "source": [
    "## Merge Listing Feature DataFrames"
   ]
  },
  {
   "cell_type": "code",
   "execution_count": 10,
   "metadata": {},
   "outputs": [
    {
     "data": {
      "text/html": [
       "<div>\n",
       "<style scoped>\n",
       "    .dataframe tbody tr th:only-of-type {\n",
       "        vertical-align: middle;\n",
       "    }\n",
       "\n",
       "    .dataframe tbody tr th {\n",
       "        vertical-align: top;\n",
       "    }\n",
       "\n",
       "    .dataframe thead th {\n",
       "        text-align: right;\n",
       "    }\n",
       "</style>\n",
       "<table border=\"1\" class=\"dataframe\">\n",
       "  <thead>\n",
       "    <tr style=\"text-align: right;\">\n",
       "      <th></th>\n",
       "      <th>ListingKey</th>\n",
       "      <th>BorrowerExperience</th>\n",
       "    </tr>\n",
       "  </thead>\n",
       "  <tbody>\n",
       "    <tr>\n",
       "      <th>0</th>\n",
       "      <td>00003383856420083050622</td>\n",
       "      <td>NaN</td>\n",
       "    </tr>\n",
       "    <tr>\n",
       "      <th>1</th>\n",
       "      <td>00003405662222292C12B86</td>\n",
       "      <td>NaN</td>\n",
       "    </tr>\n",
       "    <tr>\n",
       "      <th>2</th>\n",
       "      <td>000034085359462718B9059</td>\n",
       "      <td>NaN</td>\n",
       "    </tr>\n",
       "    <tr>\n",
       "      <th>3</th>\n",
       "      <td>000034203787284229CBEF1</td>\n",
       "      <td>NaN</td>\n",
       "    </tr>\n",
       "    <tr>\n",
       "      <th>4</th>\n",
       "      <td>00003423466422120D65CA3</td>\n",
       "      <td>NaN</td>\n",
       "    </tr>\n",
       "  </tbody>\n",
       "</table>\n",
       "</div>"
      ],
      "text/plain": [
       "                ListingKey BorrowerExperience\n",
       "0  00003383856420083050622  NaN              \n",
       "1  00003405662222292C12B86  NaN              \n",
       "2  000034085359462718B9059  NaN              \n",
       "3  000034203787284229CBEF1  NaN              \n",
       "4  00003423466422120D65CA3  NaN              "
      ]
     },
     "execution_count": 10,
     "metadata": {},
     "output_type": "execute_result"
    }
   ],
   "source": [
    "# Prepare final data\n",
    "final_borrower_data = borrower_mean_attr\n",
    "# final_borrower_data = final_borrower_data.merge(borrower_median_attr, on=\"ListingKey\")\n",
    "# final_borrower_data = final_borrower_data.merge(borrower_std_attr, on=\"ListingKey\")\n",
    "final_borrower_data[\"BorrowerExperience\"] = (final_borrower_data.BorrowerAvgListingSuccessRate*1) + (final_borrower_data.BorrowerAvgRepaymentSuccessRate*2)\n",
    "final_borrower_data = final_borrower_data[[\"ListingKey\", \"BorrowerExperience\"]]\n",
    "final_borrower_data.head()"
   ]
  },
  {
   "cell_type": "markdown",
   "metadata": {},
   "source": [
    "## Import Class Variable"
   ]
  },
  {
   "cell_type": "code",
   "execution_count": 11,
   "metadata": {},
   "outputs": [
    {
     "data": {
      "text/html": [
       "<div>\n",
       "<style scoped>\n",
       "    .dataframe tbody tr th:only-of-type {\n",
       "        vertical-align: middle;\n",
       "    }\n",
       "\n",
       "    .dataframe tbody tr th {\n",
       "        vertical-align: top;\n",
       "    }\n",
       "\n",
       "    .dataframe thead th {\n",
       "        text-align: right;\n",
       "    }\n",
       "</style>\n",
       "<table border=\"1\" class=\"dataframe\">\n",
       "  <thead>\n",
       "    <tr style=\"text-align: right;\">\n",
       "      <th></th>\n",
       "      <th>ListingKey</th>\n",
       "      <th>RepaidOrNot</th>\n",
       "    </tr>\n",
       "  </thead>\n",
       "  <tbody>\n",
       "    <tr>\n",
       "      <th>17</th>\n",
       "      <td>00033425227988088FA6752</td>\n",
       "      <td>True</td>\n",
       "    </tr>\n",
       "    <tr>\n",
       "      <th>21</th>\n",
       "      <td>000433785890431972B4743</td>\n",
       "      <td>False</td>\n",
       "    </tr>\n",
       "    <tr>\n",
       "      <th>38</th>\n",
       "      <td>00083422661625108817246</td>\n",
       "      <td>True</td>\n",
       "    </tr>\n",
       "    <tr>\n",
       "      <th>46</th>\n",
       "      <td>000A34209897973969CFA81</td>\n",
       "      <td>True</td>\n",
       "    </tr>\n",
       "    <tr>\n",
       "      <th>56</th>\n",
       "      <td>000D3410451511356B08F17</td>\n",
       "      <td>True</td>\n",
       "    </tr>\n",
       "  </tbody>\n",
       "</table>\n",
       "</div>"
      ],
      "text/plain": [
       "                 ListingKey RepaidOrNot\n",
       "17  00033425227988088FA6752  True      \n",
       "21  000433785890431972B4743  False     \n",
       "38  00083422661625108817246  True      \n",
       "46  000A34209897973969CFA81  True      \n",
       "56  000D3410451511356B08F17  True      "
      ]
     },
     "execution_count": 11,
     "metadata": {},
     "output_type": "execute_result"
    }
   ],
   "source": [
    "listing_data = pd.read_csv(\"../Data/ProjectLevelData.txt\", sep=\"|\")\n",
    "listing_data = listing_data.loc[(listing_data['RepaidOrNot']==True) | (listing_data['RepaidOrNot']==False)]\n",
    "listing_data = listing_data[[\"ListingKey\", \"RepaidOrNot\"]]\n",
    "listing_data.head()"
   ]
  },
  {
   "cell_type": "markdown",
   "metadata": {},
   "source": [
    "## Merge Features and Class Variable"
   ]
  },
  {
   "cell_type": "code",
   "execution_count": 12,
   "metadata": {},
   "outputs": [],
   "source": [
    "# del data"
   ]
  },
  {
   "cell_type": "code",
   "execution_count": 13,
   "metadata": {},
   "outputs": [
    {
     "data": {
      "text/html": [
       "<div>\n",
       "<style scoped>\n",
       "    .dataframe tbody tr th:only-of-type {\n",
       "        vertical-align: middle;\n",
       "    }\n",
       "\n",
       "    .dataframe tbody tr th {\n",
       "        vertical-align: top;\n",
       "    }\n",
       "\n",
       "    .dataframe thead th {\n",
       "        text-align: right;\n",
       "    }\n",
       "</style>\n",
       "<table border=\"1\" class=\"dataframe\">\n",
       "  <thead>\n",
       "    <tr style=\"text-align: right;\">\n",
       "      <th></th>\n",
       "      <th>ListingKey</th>\n",
       "      <th>BorrowerExperience</th>\n",
       "      <th>RepaidOrNot</th>\n",
       "    </tr>\n",
       "  </thead>\n",
       "  <tbody>\n",
       "    <tr>\n",
       "      <th>0</th>\n",
       "      <td>00033425227988088FA6752</td>\n",
       "      <td>0.000</td>\n",
       "      <td>1</td>\n",
       "    </tr>\n",
       "    <tr>\n",
       "      <th>1</th>\n",
       "      <td>000433785890431972B4743</td>\n",
       "      <td>0.000</td>\n",
       "      <td>0</td>\n",
       "    </tr>\n",
       "    <tr>\n",
       "      <th>2</th>\n",
       "      <td>00083422661625108817246</td>\n",
       "      <td>0.000</td>\n",
       "      <td>1</td>\n",
       "    </tr>\n",
       "    <tr>\n",
       "      <th>3</th>\n",
       "      <td>000A34209897973969CFA81</td>\n",
       "      <td>0.000</td>\n",
       "      <td>1</td>\n",
       "    </tr>\n",
       "    <tr>\n",
       "      <th>4</th>\n",
       "      <td>000D3410451511356B08F17</td>\n",
       "      <td>0.000</td>\n",
       "      <td>1</td>\n",
       "    </tr>\n",
       "  </tbody>\n",
       "</table>\n",
       "</div>"
      ],
      "text/plain": [
       "                ListingKey  BorrowerExperience  RepaidOrNot\n",
       "0  00033425227988088FA6752 0.000                1          \n",
       "1  000433785890431972B4743 0.000                0          \n",
       "2  00083422661625108817246 0.000                1          \n",
       "3  000A34209897973969CFA81 0.000                1          \n",
       "4  000D3410451511356B08F17 0.000                1          "
      ]
     },
     "execution_count": 13,
     "metadata": {},
     "output_type": "execute_result"
    }
   ],
   "source": [
    "final_data = final_borrower_data.merge(listing_data, on=\"ListingKey\")\n",
    "final_data['RepaidOrNot'] = final_data['RepaidOrNot'].astype(int)\n",
    "final_data = final_data.fillna(0)\n",
    "final_data.head()"
   ]
  },
  {
   "cell_type": "markdown",
   "metadata": {},
   "source": [
    "## Check Feature Correlation"
   ]
  },
  {
   "cell_type": "code",
   "execution_count": 14,
   "metadata": {},
   "outputs": [
    {
     "data": {
      "image/png": "[encoded data removed]",
      "text/plain": [
       "<Figure size 864x864 with 2 Axes>"
      ]
     },
     "metadata": {},
     "output_type": "display_data"
    }
   ],
   "source": [
    "corr = final_data.swifter.apply(pd.to_numeric, errors='coerce').corr(method='pearson')\n",
    "mask = np.zeros_like(corr, dtype=np.bool)\n",
    "mask[np.triu_indices_from(mask)] = True\n",
    "plt.figure(figsize=(12,12))\n",
    "sns.heatmap(corr, \n",
    "        xticklabels=corr.columns,\n",
    "        yticklabels=corr.columns,\n",
    "        cmap=sns.color_palette(\"coolwarm_r\"),\n",
    "        mask = mask,\n",
    "        linewidths=.5,\n",
    "        vmin=-1,\n",
    "        vmax=1,\n",
    "        annot=True)\n",
    "plt.title(\"Variable Correlation Heatmap\")\n",
    "plt.show()"
   ]
  },
  {
   "cell_type": "markdown",
   "metadata": {},
   "source": [
    "## Save Data to CSV"
   ]
  },
  {
   "cell_type": "code",
   "execution_count": 15,
   "metadata": {},
   "outputs": [],
   "source": [
    "## Save data to csv file\n",
    "# final_lender_data.to_csv(\"../Data/lender_listing_attr_filtered.csv\", index=False)\n",
    "final_borrower_data = final_borrower_data.fillna(0)\n",
    "final_borrower_data.to_csv(\"../Data/borrower_listing_attr.csv\", index=False)"
   ]
  },
  {
   "cell_type": "code",
   "execution_count": 16,
   "metadata": {},
   "outputs": [
    {
     "data": {
      "text/html": [
       "<div>\n",
       "<style scoped>\n",
       "    .dataframe tbody tr th:only-of-type {\n",
       "        vertical-align: middle;\n",
       "    }\n",
       "\n",
       "    .dataframe tbody tr th {\n",
       "        vertical-align: top;\n",
       "    }\n",
       "\n",
       "    .dataframe thead th {\n",
       "        text-align: right;\n",
       "    }\n",
       "</style>\n",
       "<table border=\"1\" class=\"dataframe\">\n",
       "  <thead>\n",
       "    <tr style=\"text-align: right;\">\n",
       "      <th></th>\n",
       "      <th>ListingKey</th>\n",
       "      <th>BorrowerExperience</th>\n",
       "    </tr>\n",
       "  </thead>\n",
       "  <tbody>\n",
       "    <tr>\n",
       "      <th>0</th>\n",
       "      <td>00003383856420083050622</td>\n",
       "      <td>0.000</td>\n",
       "    </tr>\n",
       "    <tr>\n",
       "      <th>1</th>\n",
       "      <td>00003405662222292C12B86</td>\n",
       "      <td>0.000</td>\n",
       "    </tr>\n",
       "    <tr>\n",
       "      <th>2</th>\n",
       "      <td>000034085359462718B9059</td>\n",
       "      <td>0.000</td>\n",
       "    </tr>\n",
       "    <tr>\n",
       "      <th>3</th>\n",
       "      <td>000034203787284229CBEF1</td>\n",
       "      <td>0.000</td>\n",
       "    </tr>\n",
       "    <tr>\n",
       "      <th>4</th>\n",
       "      <td>00003423466422120D65CA3</td>\n",
       "      <td>0.000</td>\n",
       "    </tr>\n",
       "  </tbody>\n",
       "</table>\n",
       "</div>"
      ],
      "text/plain": [
       "                ListingKey  BorrowerExperience\n",
       "0  00003383856420083050622 0.000              \n",
       "1  00003405662222292C12B86 0.000              \n",
       "2  000034085359462718B9059 0.000              \n",
       "3  000034203787284229CBEF1 0.000              \n",
       "4  00003423466422120D65CA3 0.000              "
      ]
     },
     "execution_count": 16,
     "metadata": {},
     "output_type": "execute_result"
    }
   ],
   "source": [
    "final_borrower_data.head()"
   ]
  },
  {
   "cell_type": "code",
   "execution_count": null,
   "metadata": {},
   "outputs": [],
   "source": []
  }
 ],
 "metadata": {
  "kernelspec": {
   "display_name": "Python 2",
   "language": "python",
   "name": "python2"
  },
  "language_info": {
   "codemirror_mode": {
    "name": "ipython",
    "version": 2
   },
   "file_extension": ".py",
   "mimetype": "text/x-python",
   "name": "python",
   "nbconvert_exporter": "python",
   "pygments_lexer": "ipython2",
   "version": "2.7.16"
  }
 },
 "nbformat": 4,
 "nbformat_minor": 2
}
