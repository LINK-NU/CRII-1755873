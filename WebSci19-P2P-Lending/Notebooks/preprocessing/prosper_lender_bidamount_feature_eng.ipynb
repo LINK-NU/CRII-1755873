{
 "cells": [
  {
   "cell_type": "code",
   "execution_count": 1,
   "metadata": {},
   "outputs": [],
   "source": [
    "import sys\n",
    "import numba\n",
    "import swifter\n",
    "import timeit\n",
    "import numpy as np\n",
    "import pandas as pd\n",
    "import seaborn as sns\n",
    "import matplotlib.pyplot as plt\n",
    "import warnings\n",
    "warnings.filterwarnings('ignore')\n",
    "pd.set_option('display.max_colwidth', -1)\n",
    "pd.set_option('display.float_format', lambda x: '%.3f' % x)\n",
    "sns.set_style('whitegrid')\n",
    "plt.style.use('seaborn-whitegrid')\n",
    "%matplotlib inline\n",
    "\n",
    "__author__ = 'HK Dambanemuya'\n",
    "__version__ = 'Python 2'\n",
    "\n",
    "'''\n",
    "    Analysis originaly performed in Python 2 (deprecated)\n",
    "    Seaborn, Statsmodel, and * imports broken in Python 3\n",
    "'''"
   ]
  },
  {
   "cell_type": "code",
   "execution_count": 2,
   "metadata": {},
   "outputs": [],
   "source": [
    "bid_1 = pd.read_csv(\"../Data/lender_bidamount_fe/lender_bidamount_fe_10k.csv\")\n",
    "bid_2 = pd.read_csv(\"../Data/lender_bidamount_fe/lender_bidamount_fe_20k.csv\")\n",
    "bid_3 = pd.read_csv(\"../Data/lender_bidamount_fe/lender_bidamount_fe_30k.csv\")\n",
    "bid_4 = pd.read_csv(\"../Data/lender_bidamount_fe/lender_bidamount_fe_40k.csv\")\n",
    "bid_5 = pd.read_csv(\"../Data/lender_bidamount_fe/lender_bidamount_fe_50k.csv\")\n",
    "bid_6 = pd.read_csv(\"../Data/lender_bidamount_fe/lender_bidamount_fe_60k.csv\")\n",
    "bid_7 = pd.read_csv(\"../Data/lender_bidamount_fe/lender_bidamount_fe_65k.csv\")"
   ]
  },
  {
   "cell_type": "code",
   "execution_count": 3,
   "metadata": {},
   "outputs": [],
   "source": [
    "bid_frames = [bid_1, bid_2, bid_3, bid_4, bid_5, bid_6, bid_7]"
   ]
  },
  {
   "cell_type": "code",
   "execution_count": 4,
   "metadata": {},
   "outputs": [
    {
     "data": {
      "text/html": [
       "<div>\n",
       "<style scoped>\n",
       "    .dataframe tbody tr th:only-of-type {\n",
       "        vertical-align: middle;\n",
       "    }\n",
       "\n",
       "    .dataframe tbody tr th {\n",
       "        vertical-align: top;\n",
       "    }\n",
       "\n",
       "    .dataframe thead th {\n",
       "        text-align: right;\n",
       "    }\n",
       "</style>\n",
       "<table border=\"1\" class=\"dataframe\">\n",
       "  <thead>\n",
       "    <tr style=\"text-align: right;\">\n",
       "      <th></th>\n",
       "      <th>Listing_Key</th>\n",
       "      <th>ListingKey</th>\n",
       "      <th>MemberKey</th>\n",
       "      <th>BidAmount</th>\n",
       "      <th>LenderMedianBidAmount</th>\n",
       "      <th>LenderMeanBidAmount</th>\n",
       "      <th>LenderMaxBidAmount</th>\n",
       "      <th>LenderSumBidAmount</th>\n",
       "      <th>LenderUnlikelyBid</th>\n",
       "      <th>LenderSumUnlikelyBidAmount</th>\n",
       "    </tr>\n",
       "  </thead>\n",
       "  <tbody>\n",
       "    <tr>\n",
       "      <th>0</th>\n",
       "      <td>3FF03364988124297E13A05</td>\n",
       "      <td>3FF03364988124297E13A05</td>\n",
       "      <td>033E336453973913915CD6B</td>\n",
       "      <td>50.000</td>\n",
       "      <td>100.000</td>\n",
       "      <td>91.920</td>\n",
       "      <td>200.000</td>\n",
       "      <td>11306.210</td>\n",
       "      <td>0</td>\n",
       "      <td>0.000</td>\n",
       "    </tr>\n",
       "    <tr>\n",
       "      <th>1</th>\n",
       "      <td>25713364434040193913F01</td>\n",
       "      <td>25713364434040193913F01</td>\n",
       "      <td>033E336453973913915CD6B</td>\n",
       "      <td>50.000</td>\n",
       "      <td>100.000</td>\n",
       "      <td>87.726</td>\n",
       "      <td>200.000</td>\n",
       "      <td>12106.210</td>\n",
       "      <td>0</td>\n",
       "      <td>0.000</td>\n",
       "    </tr>\n",
       "    <tr>\n",
       "      <th>2</th>\n",
       "      <td>B8953365111581953FDF6FF</td>\n",
       "      <td>B8953365111581953FDF6FF</td>\n",
       "      <td>033E336453973913915CD6B</td>\n",
       "      <td>90.180</td>\n",
       "      <td>100.000</td>\n",
       "      <td>92.895</td>\n",
       "      <td>200.000</td>\n",
       "      <td>10775.850</td>\n",
       "      <td>0</td>\n",
       "      <td>0.000</td>\n",
       "    </tr>\n",
       "    <tr>\n",
       "      <th>3</th>\n",
       "      <td>5D64336458879460900B458</td>\n",
       "      <td>5D64336458879460900B458</td>\n",
       "      <td>033E336453973913915CD6B</td>\n",
       "      <td>50.000</td>\n",
       "      <td>100.000</td>\n",
       "      <td>93.052</td>\n",
       "      <td>200.000</td>\n",
       "      <td>7723.330</td>\n",
       "      <td>0</td>\n",
       "      <td>0.000</td>\n",
       "    </tr>\n",
       "    <tr>\n",
       "      <th>4</th>\n",
       "      <td>113D3366128622300E1DBFD</td>\n",
       "      <td>113D3366128622300E1DBFD</td>\n",
       "      <td>033E336453973913915CD6B</td>\n",
       "      <td>50.000</td>\n",
       "      <td>100.000</td>\n",
       "      <td>92.540</td>\n",
       "      <td>200.000</td>\n",
       "      <td>7773.330</td>\n",
       "      <td>0</td>\n",
       "      <td>0.000</td>\n",
       "    </tr>\n",
       "  </tbody>\n",
       "</table>\n",
       "</div>"
      ],
      "text/plain": [
       "               Listing_Key               ListingKey                MemberKey  \\\n",
       "0  3FF03364988124297E13A05  3FF03364988124297E13A05  033E336453973913915CD6B   \n",
       "1  25713364434040193913F01  25713364434040193913F01  033E336453973913915CD6B   \n",
       "2  B8953365111581953FDF6FF  B8953365111581953FDF6FF  033E336453973913915CD6B   \n",
       "3  5D64336458879460900B458  5D64336458879460900B458  033E336453973913915CD6B   \n",
       "4  113D3366128622300E1DBFD  113D3366128622300E1DBFD  033E336453973913915CD6B   \n",
       "\n",
       "   BidAmount  LenderMedianBidAmount  LenderMeanBidAmount  LenderMaxBidAmount  \\\n",
       "0 50.000     100.000                91.920               200.000               \n",
       "1 50.000     100.000                87.726               200.000               \n",
       "2 90.180     100.000                92.895               200.000               \n",
       "3 50.000     100.000                93.052               200.000               \n",
       "4 50.000     100.000                92.540               200.000               \n",
       "\n",
       "   LenderSumBidAmount  LenderUnlikelyBid  LenderSumUnlikelyBidAmount  \n",
       "0 11306.210            0                 0.000                        \n",
       "1 12106.210            0                 0.000                        \n",
       "2 10775.850            0                 0.000                        \n",
       "3 7723.330             0                 0.000                        \n",
       "4 7773.330             0                 0.000                        "
      ]
     },
     "execution_count": 4,
     "metadata": {},
     "output_type": "execute_result"
    }
   ],
   "source": [
    "data = pd.concat(bid_frames)\n",
    "data['Listing_Key'] = data.ListingKey\n",
    "data = data[['Listing_Key', 'ListingKey', 'MemberKey', 'BidAmount', 'LenderMedianBidAmount', 'LenderMeanBidAmount', 'LenderMaxBidAmount', 'LenderSumBidAmount']]\n",
    "data['LenderUnlikelyBid'] = (data.BidAmount > data.LenderMedianBidAmount).astype(int)\n",
    "data['LenderSumUnlikelyBidAmount'] = (data.LenderUnlikelyBid *data.BidAmount)\n",
    "data.head()"
   ]
  },
  {
   "cell_type": "code",
   "execution_count": 5,
   "metadata": {},
   "outputs": [],
   "source": [
    "del bid_1\n",
    "del bid_2\n",
    "del bid_3\n",
    "del bid_4\n",
    "del bid_5\n",
    "del bid_6\n",
    "del bid_7\n",
    "del bid_frames"
   ]
  },
  {
   "cell_type": "markdown",
   "metadata": {},
   "source": [
    "## Mean"
   ]
  },
  {
   "cell_type": "code",
   "execution_count": 6,
   "metadata": {},
   "outputs": [],
   "source": [
    "# f_avg = {'ListingKey': ['max'],\n",
    "#          'LenderTotalBids': ['mean'],\n",
    "#          'LenderWinningBids': ['mean'],\n",
    "#          'LenderBidWinningRate': ['mean']\n",
    "# }\n",
    "# lender_mean_attr = pd.DataFrame(data.groupby([\"Listing_Key\"]).agg(f_avg).as_matrix())\n",
    "# lender_mean_attr = lender_mean_attr.rename(index=str, columns={0: \"LenderAvgWinningBids\", \n",
    "#                                                              1: \"LenderAvgTotalBids\",\n",
    "#                                                              2: \"LenderAvgBidWinningRate\",\n",
    "#                                                              3: \"ListingKey\"})\n",
    "# lender_mean_attr.head()"
   ]
  },
  {
   "cell_type": "markdown",
   "metadata": {},
   "source": [
    "## Median"
   ]
  },
  {
   "cell_type": "code",
   "execution_count": 7,
   "metadata": {},
   "outputs": [],
   "source": [
    "# f_median = {'ListingKey': ['max'],\n",
    "#          'LenderTotalBids': ['median'],\n",
    "#          'LenderWinningBids': ['median'],\n",
    "#          'LenderBidWinningRate': ['median']\n",
    "# }\n",
    "# lender_median_attr = pd.DataFrame(data.groupby([\"Listing_Key\"]).agg(f_median).as_matrix())\n",
    "# lender_median_attr = lender_median_attr.rename(index=str, columns={0: \"LenderMedianWinningBids\", \n",
    "#                                                                  1: \"LenderMedianTotalBids\",\n",
    "#                                                                  2: \"LenderMedianBidWinningRate\",\n",
    "#                                                                  3: \"ListingKey\"})\n",
    "# lender_median_attr.head()"
   ]
  },
  {
   "cell_type": "markdown",
   "metadata": {},
   "source": [
    "## Lender Unlikely Bids"
   ]
  },
  {
   "cell_type": "code",
   "execution_count": 8,
   "metadata": {},
   "outputs": [],
   "source": [
    "# f_unlikely = {'ListingKey': ['max'],\n",
    "#               'LenderUnlikelyBids': ['sum']\n",
    "    \n",
    "# }\n",
    "# lender_unlikely_attr = pd.DataFrame(data[[\"Listing_Key\", 'ListingKey', \"MemberKey\", \"LenderUnlikelyBids\"]].groupby([\"Listing_Key\"]).agg(f_unlikely)"
   ]
  },
  {
   "cell_type": "markdown",
   "metadata": {},
   "source": [
    "## Standard Deviation"
   ]
  },
  {
   "cell_type": "code",
   "execution_count": null,
   "metadata": {},
   "outputs": [],
   "source": [
    "f_std = {'ListingKey': ['max'],\n",
    "         'LenderMedianBidAmount': ['std'],\n",
    "         'LenderMeanBidAmount': ['std'],\n",
    "         'LenderMaxBidAmount': ['std'],\n",
    "         'LenderSumBidAmount': ['std'],\n",
    "         'LenderUnlikelyBid': ['sum'],\n",
    "         'LenderSumUnlikelyBidAmount': ['sum']\n",
    "}\n",
    "\n",
    "lender_std_attr = pd.DataFrame(data.groupby([\"Listing_Key\"]).agg(f_std).as_matrix())\n",
    "lender_std_attr = lender_std_attr.rename(index=str, columns={0: \"LenderSumUnlikelyBidAmount\", \n",
    "                                                             1: \"LenderStdMedianBidAmount\",\n",
    "                                                             2: \"LenderSumUnlikelyBid\",\n",
    "                                                             3: \"LenderStdSumBidAmount\",\n",
    "                                                             4: \"ListingKey\",\n",
    "                                                             5: \"LenderMeanBidAmount\",\n",
    "                                                             6: \"LenderMaxBidAmount\"})\n",
    "lender_std_attr.head()"
   ]
  },
  {
   "cell_type": "code",
   "execution_count": null,
   "metadata": {},
   "outputs": [],
   "source": [
    "# data[data[\"ListingKey\"] == \"00003383856420083050622\"].groupby([\"Listing_Key\"]).agg(f_std)"
   ]
  },
  {
   "cell_type": "markdown",
   "metadata": {},
   "source": [
    "## Merge Bid Feature DataFrames"
   ]
  },
  {
   "cell_type": "code",
   "execution_count": null,
   "metadata": {},
   "outputs": [],
   "source": [
    "# Prepare final data\n",
    "# final_lender_data = lender_mean_attr.merge(lender_median_attr, on=\"ListingKey\")\n",
    "# final_lender_data = final_lender_data.merge(lender_std_attr, on=\"ListingKey\")\n",
    "final_lender_data = lender_std_attr\n",
    "final_lender_data.head()"
   ]
  },
  {
   "cell_type": "markdown",
   "metadata": {},
   "source": [
    "## Import Class Variable"
   ]
  },
  {
   "cell_type": "code",
   "execution_count": null,
   "metadata": {},
   "outputs": [],
   "source": [
    "listing_data = pd.read_csv(\"../Data/ProjectLevelData.txt\", sep=\"|\")\n",
    "listing_data = listing_data.loc[(listing_data['RepaidOrNot']==True) | (listing_data['RepaidOrNot']==False)]\n",
    "listing_data = listing_data[[\"ListingKey\", \"RepaidOrNot\"]]\n",
    "listing_data.head()"
   ]
  },
  {
   "cell_type": "markdown",
   "metadata": {},
   "source": [
    "## Merge Features and Class Variable"
   ]
  },
  {
   "cell_type": "code",
   "execution_count": null,
   "metadata": {},
   "outputs": [],
   "source": [
    "final_data = final_lender_data.merge(listing_data, on=\"ListingKey\")\n",
    "final_data['RepaidOrNot'] = final_data['RepaidOrNot'].astype(int)\n",
    "final_data.head()"
   ]
  },
  {
   "cell_type": "markdown",
   "metadata": {},
   "source": [
    "## Check Feature Correlation"
   ]
  },
  {
   "cell_type": "code",
   "execution_count": null,
   "metadata": {},
   "outputs": [],
   "source": [
    "corr = final_data.swifter.apply(pd.to_numeric, errors='coerce').corr(method='pearson')\n",
    "mask = np.zeros_like(corr, dtype=np.bool)\n",
    "mask[np.triu_indices_from(mask)] = True\n",
    "plt.figure(figsize=(12,12))\n",
    "sns.heatmap(corr, \n",
    "        xticklabels=corr.columns,\n",
    "        yticklabels=corr.columns,\n",
    "        cmap=sns.color_palette(\"coolwarm_r\"),\n",
    "        mask = mask,\n",
    "        linewidths=.5,\n",
    "        vmin=-1,\n",
    "        vmax=1,\n",
    "        annot=True)\n",
    "plt.title(\"Variable Correlation Heatmap\")\n",
    "plt.show()"
   ]
  },
  {
   "cell_type": "markdown",
   "metadata": {},
   "source": [
    "## Save Data to CSV"
   ]
  },
  {
   "cell_type": "code",
   "execution_count": null,
   "metadata": {},
   "outputs": [],
   "source": [
    "## Save data to csv file\n",
    "# final_lender_data.to_csv(\"../Data/lender_listing_attr_filtered.csv\", index=False)\n",
    "final_lender_data.to_csv(\"../Data/lender_bidamount_attr.csv\", index=False)"
   ]
  },
  {
   "cell_type": "code",
   "execution_count": null,
   "metadata": {},
   "outputs": [],
   "source": []
  }
 ],
 "metadata": {
  "kernelspec": {
   "display_name": "Python 2",
   "language": "python",
   "name": "python2"
  },
  "language_info": {
   "codemirror_mode": {
    "name": "ipython",
    "version": 2
   },
   "file_extension": ".py",
   "mimetype": "text/x-python",
   "name": "python",
   "nbconvert_exporter": "python",
   "pygments_lexer": "ipython2",
   "version": "2.7.16"
  }
 },
 "nbformat": 4,
 "nbformat_minor": 2
}
