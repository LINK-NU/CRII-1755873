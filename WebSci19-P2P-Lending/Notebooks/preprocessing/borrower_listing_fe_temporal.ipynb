{
 "cells": [
  {
   "cell_type": "code",
   "execution_count": 1,
   "metadata": {},
   "outputs": [],
   "source": [
    "import sys\n",
    "import numba\n",
    "import swifter\n",
    "import timeit\n",
    "import pandas as pd\n",
    "import numpy as np\n",
    "from collections import Counter\n",
    "import warnings\n",
    "warnings.filterwarnings('ignore')\n",
    "\n",
    "__author__ = 'HK Dambanemuya'\n",
    "__version__ = 'Python 2'"
   ]
  },
  {
   "cell_type": "code",
   "execution_count": 2,
   "metadata": {},
   "outputs": [
    {
     "data": {
      "text/html": [
       "<div>\n",
       "<style scoped>\n",
       "    .dataframe tbody tr th:only-of-type {\n",
       "        vertical-align: middle;\n",
       "    }\n",
       "\n",
       "    .dataframe tbody tr th {\n",
       "        vertical-align: top;\n",
       "    }\n",
       "\n",
       "    .dataframe thead th {\n",
       "        text-align: right;\n",
       "    }\n",
       "</style>\n",
       "<table border=\"1\" class=\"dataframe\">\n",
       "  <thead>\n",
       "    <tr style=\"text-align: right;\">\n",
       "      <th></th>\n",
       "      <th>ListingKey</th>\n",
       "      <th>FundedOrNot</th>\n",
       "      <th>RepaidOrNot</th>\n",
       "      <th>MemberKey</th>\n",
       "      <th>StartDate</th>\n",
       "    </tr>\n",
       "  </thead>\n",
       "  <tbody>\n",
       "    <tr>\n",
       "      <th>75232</th>\n",
       "      <td>52023539254476097E5F8B3</td>\n",
       "      <td>True</td>\n",
       "      <td>NaN</td>\n",
       "      <td>D07A353815634906381F7D8</td>\n",
       "      <td>2012-02-03 17:00:45</td>\n",
       "    </tr>\n",
       "    <tr>\n",
       "      <th>166717</th>\n",
       "      <td>B5233419412472610E8F52B</td>\n",
       "      <td>False</td>\n",
       "      <td>NaN</td>\n",
       "      <td>5F4A341823207729253E67C</td>\n",
       "      <td>2008-04-28 06:28:38</td>\n",
       "    </tr>\n",
       "    <tr>\n",
       "      <th>225846</th>\n",
       "      <td>F57B35195812571519730DC</td>\n",
       "      <td>False</td>\n",
       "      <td>NaN</td>\n",
       "      <td>E3013517720606600494049</td>\n",
       "      <td>2011-06-26 12:00:14</td>\n",
       "    </tr>\n",
       "    <tr>\n",
       "      <th>95309</th>\n",
       "      <td>67B5342694054840671068A</td>\n",
       "      <td>False</td>\n",
       "      <td>NaN</td>\n",
       "      <td>972233791490488424EA064</td>\n",
       "      <td>2008-07-25 13:39:34</td>\n",
       "    </tr>\n",
       "    <tr>\n",
       "      <th>72400</th>\n",
       "      <td>4EEE34860289313013F98EF</td>\n",
       "      <td>True</td>\n",
       "      <td>True</td>\n",
       "      <td>B26D3467686303402E81ED1</td>\n",
       "      <td>2010-06-09 16:09:17</td>\n",
       "    </tr>\n",
       "  </tbody>\n",
       "</table>\n",
       "</div>"
      ],
      "text/plain": [
       "                     ListingKey  FundedOrNot RepaidOrNot  \\\n",
       "75232   52023539254476097E5F8B3         True         NaN   \n",
       "166717  B5233419412472610E8F52B        False         NaN   \n",
       "225846  F57B35195812571519730DC        False         NaN   \n",
       "95309   67B5342694054840671068A        False         NaN   \n",
       "72400   4EEE34860289313013F98EF         True        True   \n",
       "\n",
       "                      MemberKey            StartDate  \n",
       "75232   D07A353815634906381F7D8  2012-02-03 17:00:45  \n",
       "166717  5F4A341823207729253E67C  2008-04-28 06:28:38  \n",
       "225846  E3013517720606600494049  2011-06-26 12:00:14  \n",
       "95309   972233791490488424EA064  2008-07-25 13:39:34  \n",
       "72400   B26D3467686303402E81ED1  2010-06-09 16:09:17  "
      ]
     },
     "execution_count": 2,
     "metadata": {},
     "output_type": "execute_result"
    }
   ],
   "source": [
    "project_data = pd.read_csv('../Data/ProjectLevelData.txt', sep=\"|\")\n",
    "listing_data = pd.read_csv('../Data/listing.txt', sep=\"|\")\n",
    "listing_data = listing_data.rename(index=str, columns={\"Lst_Key\": \"ListingKey\"})\n",
    "borrower_data = project_data[[\"ListingKey\", \"FundedOrNot\", \"RepaidOrNot\"]].merge(listing_data[[\"ListingKey\", \"MemberKey\", \"StartDate\"]], on=\"ListingKey\")\n",
    "borrower_data.sample(5)"
   ]
  },
  {
   "cell_type": "code",
   "execution_count": 3,
   "metadata": {},
   "outputs": [
    {
     "data": {
      "text/plain": [
       "128998"
      ]
     },
     "execution_count": 3,
     "metadata": {},
     "output_type": "execute_result"
    }
   ],
   "source": [
    "len(set(borrower_data.MemberKey))"
   ]
  },
  {
   "cell_type": "code",
   "execution_count": 4,
   "metadata": {},
   "outputs": [
    {
     "data": {
      "text/plain": [
       "28998"
      ]
     },
     "execution_count": 4,
     "metadata": {},
     "output_type": "execute_result"
    }
   ],
   "source": [
    "hashmap = dict()\n",
    "memberkeys = sorted(list(set(borrower_data.MemberKey)))[100000:]\n",
    "len(memberkeys)"
   ]
  },
  {
   "cell_type": "code",
   "execution_count": 5,
   "metadata": {},
   "outputs": [
    {
     "name": "stdout",
     "output_type": "stream",
     "text": [
      "Hashmap generated in 10.0335017783 minutes\n"
     ]
    }
   ],
   "source": [
    "start = timeit.default_timer()\n",
    "for key in memberkeys:\n",
    "    hashmap[key] = borrower_data.query(\"MemberKey == '{0}'\".format(key))\n",
    "stop = timeit.default_timer()\n",
    "print \"Hashmap generated in {0} minutes\".format((stop-start)/60) "
   ]
  },
  {
   "cell_type": "code",
   "execution_count": 6,
   "metadata": {},
   "outputs": [
    {
     "data": {
      "text/plain": [
       "235753"
      ]
     },
     "execution_count": 6,
     "metadata": {},
     "output_type": "execute_result"
    }
   ],
   "source": [
    "len(borrower_data)"
   ]
  },
  {
   "cell_type": "code",
   "execution_count": 7,
   "metadata": {},
   "outputs": [],
   "source": [
    "borrower_data = borrower_data[borrower_data['MemberKey'].isin(memberkeys)]"
   ]
  },
  {
   "cell_type": "code",
   "execution_count": 8,
   "metadata": {},
   "outputs": [
    {
     "data": {
      "text/plain": [
       "52870"
      ]
     },
     "execution_count": 8,
     "metadata": {},
     "output_type": "execute_result"
    }
   ],
   "source": [
    "len(borrower_data)"
   ]
  },
  {
   "cell_type": "code",
   "execution_count": 9,
   "metadata": {},
   "outputs": [
    {
     "name": "stdout",
     "output_type": "stream",
     "text": [
      "Feature engineering completed in 8.81185622 minutes\n"
     ]
    }
   ],
   "source": [
    "def borrower_completed_listings(x):\n",
    "    return hashmap[x[\"MemberKey\"]].query(\"FundedOrNot == True and StartDate < '{0}'\".format(x[\"StartDate\"]))[\"ListingKey\"].nunique()\n",
    "\n",
    "start = timeit.default_timer()    \n",
    "borrower_data[\"BorrowerCompletedListings\"] = borrower_data[[\"MemberKey\", \"StartDate\"]].swifter.apply(borrower_completed_listings, axis=1)\n",
    "stop = timeit.default_timer()\n",
    "print \"Feature engineering completed in {0} minutes\".format((stop-start)/60) "
   ]
  },
  {
   "cell_type": "code",
   "execution_count": 10,
   "metadata": {},
   "outputs": [
    {
     "name": "stdout",
     "output_type": "stream",
     "text": [
      "Feature engineering completed in 8.788467935 minutes\n"
     ]
    }
   ],
   "source": [
    "def borrower_repaid_listings(x):\n",
    "    return hashmap[x[\"MemberKey\"]].query(\"RepaidOrNot == True and StartDate < '{0}'\".format(x[\"StartDate\"]))[\"ListingKey\"].nunique()\n",
    "\n",
    "start = timeit.default_timer()    \n",
    "borrower_data[\"BorrowerRepaidListings\"] = borrower_data[[\"MemberKey\", \"StartDate\"]].swifter.apply(borrower_repaid_listings, axis=1)\n",
    "stop = timeit.default_timer()\n",
    "print \"Feature engineering completed in {0} minutes\".format((stop-start)/60) "
   ]
  },
  {
   "cell_type": "code",
   "execution_count": 11,
   "metadata": {},
   "outputs": [
    {
     "name": "stdout",
     "output_type": "stream",
     "text": [
      "Feature engineering completed in 8.46764088833 minutes\n"
     ]
    }
   ],
   "source": [
    "def borrower_total_listings(x):\n",
    "    return hashmap[x[\"MemberKey\"]].query(\"StartDate < '{0}'\".format(x[\"StartDate\"]))[\"ListingKey\"].nunique()\n",
    "\n",
    "start = timeit.default_timer()    \n",
    "borrower_data[\"BorrowerTotalListings\"] = borrower_data[[\"MemberKey\", \"StartDate\"]].swifter.apply(borrower_total_listings, axis=1)\n",
    "stop = timeit.default_timer()\n",
    "print \"Feature engineering completed in {0} minutes\".format((stop-start)/60) "
   ]
  },
  {
   "cell_type": "code",
   "execution_count": 29,
   "metadata": {},
   "outputs": [
    {
     "data": {
      "text/html": [
       "<div>\n",
       "<style scoped>\n",
       "    .dataframe tbody tr th:only-of-type {\n",
       "        vertical-align: middle;\n",
       "    }\n",
       "\n",
       "    .dataframe tbody tr th {\n",
       "        vertical-align: top;\n",
       "    }\n",
       "\n",
       "    .dataframe thead th {\n",
       "        text-align: right;\n",
       "    }\n",
       "</style>\n",
       "<table border=\"1\" class=\"dataframe\">\n",
       "  <thead>\n",
       "    <tr style=\"text-align: right;\">\n",
       "      <th></th>\n",
       "      <th>ListingKey</th>\n",
       "      <th>FundedOrNot</th>\n",
       "      <th>RepaidOrNot</th>\n",
       "      <th>MemberKey</th>\n",
       "      <th>StartDate</th>\n",
       "      <th>BorrowerCompletedListings</th>\n",
       "      <th>BorrowerRepaidListings</th>\n",
       "      <th>BorrowerTotalListings</th>\n",
       "    </tr>\n",
       "  </thead>\n",
       "  <tbody>\n",
       "    <tr>\n",
       "      <th>56527</th>\n",
       "      <td>3DA0346588771940210EE4F</td>\n",
       "      <td>True</td>\n",
       "      <td>True</td>\n",
       "      <td>DB16346765130182994B3CB</td>\n",
       "      <td>2009-10-28 16:08:42</td>\n",
       "      <td>0</td>\n",
       "      <td>0</td>\n",
       "      <td>0</td>\n",
       "    </tr>\n",
       "    <tr>\n",
       "      <th>98603</th>\n",
       "      <td>6B3C3486137275045A46769</td>\n",
       "      <td>False</td>\n",
       "      <td>NaN</td>\n",
       "      <td>DB16346765130182994B3CB</td>\n",
       "      <td>2010-05-28 15:58:36</td>\n",
       "      <td>1</td>\n",
       "      <td>1</td>\n",
       "      <td>1</td>\n",
       "    </tr>\n",
       "    <tr>\n",
       "      <th>91489</th>\n",
       "      <td>63AC3485685085349980A99</td>\n",
       "      <td>True</td>\n",
       "      <td>True</td>\n",
       "      <td>DB16346765130182994B3CB</td>\n",
       "      <td>2010-06-10 15:34:45</td>\n",
       "      <td>1</td>\n",
       "      <td>1</td>\n",
       "      <td>2</td>\n",
       "    </tr>\n",
       "    <tr>\n",
       "      <th>132727</th>\n",
       "      <td>902035118287281640FBB5C</td>\n",
       "      <td>False</td>\n",
       "      <td>NaN</td>\n",
       "      <td>DB16346765130182994B3CB</td>\n",
       "      <td>2011-08-08 17:00:15</td>\n",
       "      <td>2</td>\n",
       "      <td>2</td>\n",
       "      <td>3</td>\n",
       "    </tr>\n",
       "  </tbody>\n",
       "</table>\n",
       "</div>"
      ],
      "text/plain": [
       "                     ListingKey  FundedOrNot RepaidOrNot  \\\n",
       "56527   3DA0346588771940210EE4F         True        True   \n",
       "98603   6B3C3486137275045A46769        False         NaN   \n",
       "91489   63AC3485685085349980A99         True        True   \n",
       "132727  902035118287281640FBB5C        False         NaN   \n",
       "\n",
       "                      MemberKey            StartDate  \\\n",
       "56527   DB16346765130182994B3CB  2009-10-28 16:08:42   \n",
       "98603   DB16346765130182994B3CB  2010-05-28 15:58:36   \n",
       "91489   DB16346765130182994B3CB  2010-06-10 15:34:45   \n",
       "132727  DB16346765130182994B3CB  2011-08-08 17:00:15   \n",
       "\n",
       "        BorrowerCompletedListings  BorrowerRepaidListings  \\\n",
       "56527                           0                       0   \n",
       "98603                           1                       1   \n",
       "91489                           1                       1   \n",
       "132727                          2                       2   \n",
       "\n",
       "        BorrowerTotalListings  \n",
       "56527                       0  \n",
       "98603                       1  \n",
       "91489                       2  \n",
       "132727                      3  "
      ]
     },
     "execution_count": 29,
     "metadata": {},
     "output_type": "execute_result"
    }
   ],
   "source": [
    "borrower_data[borrower_data.MemberKey==memberkeys[np.random.randint(25000)]].sort_values(\"StartDate\")"
   ]
  },
  {
   "cell_type": "code",
   "execution_count": 20,
   "metadata": {},
   "outputs": [],
   "source": [
    "borrower_data.to_csv(\"../Data/borrower_listing_fe/borrower_listing_fe_128k.csv\", index=False)"
   ]
  },
  {
   "cell_type": "code",
   "execution_count": null,
   "metadata": {},
   "outputs": [],
   "source": []
  }
 ],
 "metadata": {
  "kernelspec": {
   "display_name": "Python 2",
   "language": "python",
   "name": "python2"
  },
  "language_info": {
   "codemirror_mode": {
    "name": "ipython",
    "version": 2
   },
   "file_extension": ".py",
   "mimetype": "text/x-python",
   "name": "python",
   "nbconvert_exporter": "python",
   "pygments_lexer": "ipython2",
   "version": "2.7.16"
  }
 },
 "nbformat": 4,
 "nbformat_minor": 2
}
