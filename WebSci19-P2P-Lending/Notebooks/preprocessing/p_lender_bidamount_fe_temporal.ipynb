{
 "cells": [
  {
   "cell_type": "code",
   "execution_count": 1,
   "metadata": {},
   "outputs": [],
   "source": [
    "import sys\n",
    "import numba\n",
    "import swifter\n",
    "import timeit\n",
    "import numpy as np\n",
    "import pandas as pd\n",
    "import warnings\n",
    "warnings.filterwarnings('ignore')\n",
    "\n",
    "__author__ = 'HK Dambanemuya'\n",
    "__version__ = 'Python 2'"
   ]
  },
  {
   "cell_type": "code",
   "execution_count": 2,
   "metadata": {},
   "outputs": [
    {
     "data": {
      "text/html": [
       "<div>\n",
       "<style scoped>\n",
       "    .dataframe tbody tr th:only-of-type {\n",
       "        vertical-align: middle;\n",
       "    }\n",
       "\n",
       "    .dataframe tbody tr th {\n",
       "        vertical-align: top;\n",
       "    }\n",
       "\n",
       "    .dataframe thead th {\n",
       "        text-align: right;\n",
       "    }\n",
       "</style>\n",
       "<table border=\"1\" class=\"dataframe\">\n",
       "  <thead>\n",
       "    <tr style=\"text-align: right;\">\n",
       "      <th></th>\n",
       "      <th>ListingKey</th>\n",
       "      <th>BidCreationDate</th>\n",
       "      <th>MemberKey</th>\n",
       "      <th>BidKey</th>\n",
       "      <th>BidAmount</th>\n",
       "      <th>ParticipationAmount</th>\n",
       "      <th>ListingStatus</th>\n",
       "      <th>Status</th>\n",
       "      <th>ListingCreationDate</th>\n",
       "      <th>ListingStartDate</th>\n",
       "    </tr>\n",
       "  </thead>\n",
       "  <tbody>\n",
       "    <tr>\n",
       "      <th>7653301</th>\n",
       "      <td>4E7D34986923926656B7245</td>\n",
       "      <td>2010-10-26 14:52:23</td>\n",
       "      <td>79CE3381502119641216E82</td>\n",
       "      <td>F9653602953828428C31C61</td>\n",
       "      <td>25.00</td>\n",
       "      <td>25.00</td>\n",
       "      <td>Completed</td>\n",
       "      <td>Winning</td>\n",
       "      <td>2010-10-26 09:16:14</td>\n",
       "      <td>2010-10-26 14:41:27</td>\n",
       "    </tr>\n",
       "    <tr>\n",
       "      <th>5398429</th>\n",
       "      <td>EEC63428354068905FA5C6F</td>\n",
       "      <td>2008-07-30 14:37:00</td>\n",
       "      <td>D6743420240239666C086EE</td>\n",
       "      <td>D094353192999003069C75B</td>\n",
       "      <td>50.00</td>\n",
       "      <td>0.00</td>\n",
       "      <td>Withdrawn</td>\n",
       "      <td>Outbid</td>\n",
       "      <td>2008-07-30 14:34:45</td>\n",
       "      <td>2008-07-30 14:35:39</td>\n",
       "    </tr>\n",
       "    <tr>\n",
       "      <th>3849965</th>\n",
       "      <td>222234147959734849524A7</td>\n",
       "      <td>2008-02-27 06:25:48</td>\n",
       "      <td>F01033794807872492FF99F</td>\n",
       "      <td>B8A93518209130306459A91</td>\n",
       "      <td>50.00</td>\n",
       "      <td>50.00</td>\n",
       "      <td>Completed</td>\n",
       "      <td>Winning</td>\n",
       "      <td>2008-02-26 23:35:40</td>\n",
       "      <td>2008-02-26 23:47:20</td>\n",
       "    </tr>\n",
       "    <tr>\n",
       "      <th>3072843</th>\n",
       "      <td>967F3408158435156B7E544</td>\n",
       "      <td>2007-12-11 08:29:43</td>\n",
       "      <td>47A43366032490436748D50</td>\n",
       "      <td>0DE03511474230473E79CF2</td>\n",
       "      <td>190.00</td>\n",
       "      <td>0.00</td>\n",
       "      <td>Completed</td>\n",
       "      <td>Outbid</td>\n",
       "      <td>2007-12-06 14:16:57</td>\n",
       "      <td>2007-12-06 14:49:18</td>\n",
       "    </tr>\n",
       "    <tr>\n",
       "      <th>2863066</th>\n",
       "      <td>02ED340355421846781EC6D</td>\n",
       "      <td>2007-11-11 05:46:38</td>\n",
       "      <td>E8593398457375304186803</td>\n",
       "      <td>57E73509164921876C0339F</td>\n",
       "      <td>59.79</td>\n",
       "      <td>59.79</td>\n",
       "      <td>Completed</td>\n",
       "      <td>Winning</td>\n",
       "      <td>2007-11-04 10:08:24</td>\n",
       "      <td>2007-11-04 10:10:19</td>\n",
       "    </tr>\n",
       "  </tbody>\n",
       "</table>\n",
       "</div>"
      ],
      "text/plain": [
       "                      ListingKey      BidCreationDate  \\\n",
       "7653301  4E7D34986923926656B7245  2010-10-26 14:52:23   \n",
       "5398429  EEC63428354068905FA5C6F  2008-07-30 14:37:00   \n",
       "3849965  222234147959734849524A7  2008-02-27 06:25:48   \n",
       "3072843  967F3408158435156B7E544  2007-12-11 08:29:43   \n",
       "2863066  02ED340355421846781EC6D  2007-11-11 05:46:38   \n",
       "\n",
       "                       MemberKey                   BidKey  BidAmount  \\\n",
       "7653301  79CE3381502119641216E82  F9653602953828428C31C61      25.00   \n",
       "5398429  D6743420240239666C086EE  D094353192999003069C75B      50.00   \n",
       "3849965  F01033794807872492FF99F  B8A93518209130306459A91      50.00   \n",
       "3072843  47A43366032490436748D50  0DE03511474230473E79CF2     190.00   \n",
       "2863066  E8593398457375304186803  57E73509164921876C0339F      59.79   \n",
       "\n",
       "         ParticipationAmount ListingStatus   Status  ListingCreationDate  \\\n",
       "7653301                25.00     Completed  Winning  2010-10-26 09:16:14   \n",
       "5398429                 0.00     Withdrawn   Outbid  2008-07-30 14:34:45   \n",
       "3849965                50.00     Completed  Winning  2008-02-26 23:35:40   \n",
       "3072843                 0.00     Completed   Outbid  2007-12-06 14:16:57   \n",
       "2863066                59.79     Completed  Winning  2007-11-04 10:08:24   \n",
       "\n",
       "            ListingStartDate  \n",
       "7653301  2010-10-26 14:41:27  \n",
       "5398429  2008-07-30 14:35:39  \n",
       "3849965  2008-02-26 23:47:20  \n",
       "3072843  2007-12-06 14:49:18  \n",
       "2863066  2007-11-04 10:10:19  "
      ]
     },
     "execution_count": 2,
     "metadata": {},
     "output_type": "execute_result"
    }
   ],
   "source": [
    "data = pd.read_csv(\"../Data/bid_fe_revised.csv\")\n",
    "data.sample(5)"
   ]
  },
  {
   "cell_type": "code",
   "execution_count": 3,
   "metadata": {},
   "outputs": [
    {
     "data": {
      "text/plain": [
       "9732656"
      ]
     },
     "execution_count": 3,
     "metadata": {},
     "output_type": "execute_result"
    }
   ],
   "source": [
    "len(data)"
   ]
  },
  {
   "cell_type": "code",
   "execution_count": 4,
   "metadata": {},
   "outputs": [
    {
     "data": {
      "text/plain": [
       "10000"
      ]
     },
     "execution_count": 4,
     "metadata": {},
     "output_type": "execute_result"
    }
   ],
   "source": [
    "hashmap = dict()\n",
    "memberkeys = sorted(list(set(data.MemberKey)))[10000:20000]\n",
    "len(memberkeys)"
   ]
  },
  {
   "cell_type": "code",
   "execution_count": 5,
   "metadata": {
    "scrolled": true
   },
   "outputs": [
    {
     "name": "stdout",
     "output_type": "stream",
     "text": [
      "Hashmap generated in 3164.6809115 seconds\n"
     ]
    }
   ],
   "source": [
    "start = timeit.default_timer()\n",
    "for key in memberkeys:\n",
    "    hashmap[key] = data.query(\"MemberKey == '{0}'\".format(key))\n",
    "stop = timeit.default_timer()\n",
    "print \"Hashmap generated in {0} seconds\".format((stop-start)) "
   ]
  },
  {
   "cell_type": "code",
   "execution_count": 6,
   "metadata": {},
   "outputs": [],
   "source": [
    "data = data[data['MemberKey'].isin(memberkeys)]"
   ]
  },
  {
   "cell_type": "code",
   "execution_count": 7,
   "metadata": {},
   "outputs": [
    {
     "data": {
      "text/plain": [
       "1484157"
      ]
     },
     "execution_count": 7,
     "metadata": {},
     "output_type": "execute_result"
    }
   ],
   "source": [
    "len(data)"
   ]
  },
  {
   "cell_type": "code",
   "execution_count": 8,
   "metadata": {},
   "outputs": [],
   "source": [
    "# data[[\"MemberKey\", \"ListingKey\", \"ListingStartDate\", \"BidKey\", \"BidCreationDate\", \"Status\", \"BidAmount\", \"ParticipationAmount\"]].query(\"MemberKey=='{0}'\".format(memberkeys[2])).sort_values(\"ListingStartDate\")"
   ]
  },
  {
   "cell_type": "markdown",
   "metadata": {},
   "source": [
    "## Lender Median Bid Amount"
   ]
  },
  {
   "cell_type": "code",
   "execution_count": 9,
   "metadata": {},
   "outputs": [
    {
     "name": "stdout",
     "output_type": "stream",
     "text": [
      "Feature engineering completed in 3018.8430712 seconds\n"
     ]
    }
   ],
   "source": [
    "def lender_median_bid_amount(x):\n",
    "    return np.median(hashmap[x[\"MemberKey\"]].query(\"ListingStartDate < '{0}'\".format(x[\"ListingStartDate\"]))[\"BidAmount\"])\n",
    "\n",
    "start = timeit.default_timer()    \n",
    "data[\"LenderMedianBidAmount\"] = data[[\"MemberKey\", \"ListingStartDate\"]].swifter.apply(lender_median_bid_amount, axis=1)\n",
    "stop = timeit.default_timer()\n",
    "print \"Feature engineering completed in {0} seconds\".format((stop-start)) "
   ]
  },
  {
   "cell_type": "code",
   "execution_count": 10,
   "metadata": {},
   "outputs": [],
   "source": [
    "# data[[\"MemberKey\", \"ListingKey\", \"ListingStartDate\", \"BidKey\", \"BidCreationDate\", \"Status\", \"BidAmount\", \"ParticipationAmount\", \"LenderMedianBidAmount\"]].query(\"MemberKey=='{0}'\".format(memberkeys[2])).sort_values(\"ListingStartDate\")"
   ]
  },
  {
   "cell_type": "markdown",
   "metadata": {},
   "source": [
    "## Lender Mean Bid Amout"
   ]
  },
  {
   "cell_type": "code",
   "execution_count": 11,
   "metadata": {},
   "outputs": [
    {
     "name": "stdout",
     "output_type": "stream",
     "text": [
      "Feature engineering completed in 3066.3744641 seconds\n"
     ]
    }
   ],
   "source": [
    "def lender_mean_bid_amount(x):\n",
    "    return np.mean(hashmap[x[\"MemberKey\"]].query(\"ListingStartDate < '{0}'\".format(x[\"ListingStartDate\"]))[\"BidAmount\"])\n",
    "\n",
    "start = timeit.default_timer()    \n",
    "data[\"LenderMeanBidAmount\"] = data[[\"MemberKey\", \"ListingStartDate\"]].swifter.apply(lender_mean_bid_amount, axis=1)\n",
    "stop = timeit.default_timer()\n",
    "print \"Feature engineering completed in {0} seconds\".format((stop-start)) "
   ]
  },
  {
   "cell_type": "code",
   "execution_count": 12,
   "metadata": {},
   "outputs": [],
   "source": [
    "# data[[\"MemberKey\", \"ListingKey\", \"ListingStartDate\", \"BidKey\", \"BidCreationDate\", \"Status\", \"BidAmount\", \"ParticipationAmount\", \"LenderMedianBidAmount\", \"LenderMeanBidAmount\"]].query(\"MemberKey=='{0}'\".format(memberkeys[2])).sort_values(\"ListingStartDate\")"
   ]
  },
  {
   "cell_type": "markdown",
   "metadata": {},
   "source": [
    "## Lender Max Bid Amount"
   ]
  },
  {
   "cell_type": "code",
   "execution_count": 13,
   "metadata": {},
   "outputs": [
    {
     "name": "stdout",
     "output_type": "stream",
     "text": [
      "Feature engineering completed in 3018.0943099 seconds\n"
     ]
    }
   ],
   "source": [
    "def lender_max_bid_amount(x):\n",
    "    return np.max(hashmap[x[\"MemberKey\"]].query(\"ListingStartDate < '{0}'\".format(x[\"ListingStartDate\"]))[\"BidAmount\"])\n",
    "\n",
    "start = timeit.default_timer()    \n",
    "data[\"LenderMaxBidAmount\"] = data[[\"MemberKey\", \"ListingStartDate\"]].swifter.apply(lender_max_bid_amount, axis=1)\n",
    "stop = timeit.default_timer()\n",
    "print \"Feature engineering completed in {0} seconds\".format((stop-start)) "
   ]
  },
  {
   "cell_type": "code",
   "execution_count": 14,
   "metadata": {},
   "outputs": [],
   "source": [
    "# data[[\"MemberKey\", \"ListingKey\", \"ListingStartDate\", \"BidKey\", \"BidCreationDate\", \"Status\", \"BidAmount\", \"ParticipationAmount\", \"LenderMedianBidAmount\", \"LenderMeanBidAmount\", \"LenderMaxBidAmount\"]].query(\"MemberKey=='{0}'\".format(memberkeys[2])).sort_values(\"ListingStartDate\")"
   ]
  },
  {
   "cell_type": "markdown",
   "metadata": {},
   "source": [
    "## Lender Sum Bid Amount"
   ]
  },
  {
   "cell_type": "code",
   "execution_count": 15,
   "metadata": {},
   "outputs": [
    {
     "name": "stdout",
     "output_type": "stream",
     "text": [
      "Feature engineering completed in 3022.5846485 seconds\n"
     ]
    }
   ],
   "source": [
    "def lender_sum_bid_amount(x):\n",
    "    return np.sum(hashmap[x[\"MemberKey\"]].query(\"ListingStartDate < '{0}'\".format(x[\"ListingStartDate\"]))[\"BidAmount\"])\n",
    "\n",
    "start = timeit.default_timer()    \n",
    "data[\"LenderSumBidAmount\"] = data[[\"MemberKey\", \"ListingStartDate\"]].swifter.apply(lender_sum_bid_amount, axis=1)\n",
    "stop = timeit.default_timer()\n",
    "print \"Feature engineering completed in {0} seconds\".format((stop-start)) "
   ]
  },
  {
   "cell_type": "code",
   "execution_count": 16,
   "metadata": {},
   "outputs": [
    {
     "data": {
      "text/html": [
       "<div>\n",
       "<style scoped>\n",
       "    .dataframe tbody tr th:only-of-type {\n",
       "        vertical-align: middle;\n",
       "    }\n",
       "\n",
       "    .dataframe tbody tr th {\n",
       "        vertical-align: top;\n",
       "    }\n",
       "\n",
       "    .dataframe thead th {\n",
       "        text-align: right;\n",
       "    }\n",
       "</style>\n",
       "<table border=\"1\" class=\"dataframe\">\n",
       "  <thead>\n",
       "    <tr style=\"text-align: right;\">\n",
       "      <th></th>\n",
       "      <th>MemberKey</th>\n",
       "      <th>ListingKey</th>\n",
       "      <th>ListingStartDate</th>\n",
       "      <th>BidKey</th>\n",
       "      <th>BidCreationDate</th>\n",
       "      <th>Status</th>\n",
       "      <th>BidAmount</th>\n",
       "      <th>ParticipationAmount</th>\n",
       "      <th>LenderMedianBidAmount</th>\n",
       "      <th>LenderMeanBidAmount</th>\n",
       "      <th>LenderMaxBidAmount</th>\n",
       "      <th>LenderSumBidAmount</th>\n",
       "    </tr>\n",
       "  </thead>\n",
       "  <tbody>\n",
       "    <tr>\n",
       "      <th>3055437</th>\n",
       "      <td>27693406673501223ADCB6C</td>\n",
       "      <td>465634058437445298A8B5E</td>\n",
       "      <td>2007-11-29 10:30:53</td>\n",
       "      <td>BAE4351128578899452CDB5</td>\n",
       "      <td>2007-12-03 11:24:10</td>\n",
       "      <td>Outbid</td>\n",
       "      <td>500.0</td>\n",
       "      <td>0.0</td>\n",
       "      <td>NaN</td>\n",
       "      <td>NaN</td>\n",
       "      <td>NaN</td>\n",
       "      <td>0.0</td>\n",
       "    </tr>\n",
       "    <tr>\n",
       "      <th>3055439</th>\n",
       "      <td>27693406673501223ADCB6C</td>\n",
       "      <td>CB0534073651114089CA8DF</td>\n",
       "      <td>2007-12-02 12:22:24</td>\n",
       "      <td>45D4351051498459327AA4D</td>\n",
       "      <td>2007-12-11 12:14:29</td>\n",
       "      <td>Winning</td>\n",
       "      <td>50.0</td>\n",
       "      <td>50.0</td>\n",
       "      <td>500.0</td>\n",
       "      <td>500.000000</td>\n",
       "      <td>500.0</td>\n",
       "      <td>500.0</td>\n",
       "    </tr>\n",
       "    <tr>\n",
       "      <th>3055438</th>\n",
       "      <td>27693406673501223ADCB6C</td>\n",
       "      <td>744E340613588850873B15A</td>\n",
       "      <td>2007-12-02 22:37:12</td>\n",
       "      <td>53CB35117956109196B8BF0</td>\n",
       "      <td>2007-12-11 12:14:30</td>\n",
       "      <td>Winning</td>\n",
       "      <td>50.0</td>\n",
       "      <td>50.0</td>\n",
       "      <td>275.0</td>\n",
       "      <td>275.000000</td>\n",
       "      <td>500.0</td>\n",
       "      <td>550.0</td>\n",
       "    </tr>\n",
       "    <tr>\n",
       "      <th>3150582</th>\n",
       "      <td>27693406673501223ADCB6C</td>\n",
       "      <td>002B340592777918822C7D4</td>\n",
       "      <td>2007-12-04 08:29:19</td>\n",
       "      <td>86963511288790334E07DED</td>\n",
       "      <td>2007-12-11 12:14:31</td>\n",
       "      <td>Winning</td>\n",
       "      <td>50.0</td>\n",
       "      <td>50.0</td>\n",
       "      <td>50.0</td>\n",
       "      <td>200.000000</td>\n",
       "      <td>500.0</td>\n",
       "      <td>600.0</td>\n",
       "    </tr>\n",
       "    <tr>\n",
       "      <th>3343451</th>\n",
       "      <td>27693406673501223ADCB6C</td>\n",
       "      <td>4525340787894249506C91A</td>\n",
       "      <td>2007-12-04 11:45:46</td>\n",
       "      <td>FD7C3511275022248BFBFC2</td>\n",
       "      <td>2007-12-11 12:14:28</td>\n",
       "      <td>Winning</td>\n",
       "      <td>50.0</td>\n",
       "      <td>50.0</td>\n",
       "      <td>50.0</td>\n",
       "      <td>162.500000</td>\n",
       "      <td>500.0</td>\n",
       "      <td>650.0</td>\n",
       "    </tr>\n",
       "    <tr>\n",
       "      <th>3055440</th>\n",
       "      <td>27693406673501223ADCB6C</td>\n",
       "      <td>1B0A34079158318628B685F</td>\n",
       "      <td>2007-12-04 23:16:39</td>\n",
       "      <td>D7E735106651981517B67F8</td>\n",
       "      <td>2007-12-11 12:14:30</td>\n",
       "      <td>Winning</td>\n",
       "      <td>50.0</td>\n",
       "      <td>50.0</td>\n",
       "      <td>50.0</td>\n",
       "      <td>140.000000</td>\n",
       "      <td>500.0</td>\n",
       "      <td>700.0</td>\n",
       "    </tr>\n",
       "    <tr>\n",
       "      <th>3247523</th>\n",
       "      <td>27693406673501223ADCB6C</td>\n",
       "      <td>58F3340712108260398087C</td>\n",
       "      <td>2007-12-05 19:05:30</td>\n",
       "      <td>301C351196438054754B51F</td>\n",
       "      <td>2007-12-11 12:14:30</td>\n",
       "      <td>Winning</td>\n",
       "      <td>50.0</td>\n",
       "      <td>50.0</td>\n",
       "      <td>50.0</td>\n",
       "      <td>125.000000</td>\n",
       "      <td>500.0</td>\n",
       "      <td>750.0</td>\n",
       "    </tr>\n",
       "    <tr>\n",
       "      <th>3150581</th>\n",
       "      <td>27693406673501223ADCB6C</td>\n",
       "      <td>164B34076451096479FCEE3</td>\n",
       "      <td>2007-12-06 06:00:48</td>\n",
       "      <td>3D6F35120600466823BF908</td>\n",
       "      <td>2007-12-13 06:48:53</td>\n",
       "      <td>Winning</td>\n",
       "      <td>50.0</td>\n",
       "      <td>50.0</td>\n",
       "      <td>50.0</td>\n",
       "      <td>114.285714</td>\n",
       "      <td>500.0</td>\n",
       "      <td>800.0</td>\n",
       "    </tr>\n",
       "    <tr>\n",
       "      <th>3150583</th>\n",
       "      <td>27693406673501223ADCB6C</td>\n",
       "      <td>20A53406411728868168D71</td>\n",
       "      <td>2007-12-06 19:07:59</td>\n",
       "      <td>15AF3510193430405EC442B</td>\n",
       "      <td>2007-12-11 12:14:31</td>\n",
       "      <td>Winning</td>\n",
       "      <td>50.0</td>\n",
       "      <td>50.0</td>\n",
       "      <td>50.0</td>\n",
       "      <td>106.250000</td>\n",
       "      <td>500.0</td>\n",
       "      <td>850.0</td>\n",
       "    </tr>\n",
       "    <tr>\n",
       "      <th>3055441</th>\n",
       "      <td>27693406673501223ADCB6C</td>\n",
       "      <td>0E2434070840530686B28AB</td>\n",
       "      <td>2007-12-07 14:02:26</td>\n",
       "      <td>ABE23510933580993750626</td>\n",
       "      <td>2007-12-12 12:33:46</td>\n",
       "      <td>Outbid</td>\n",
       "      <td>50.0</td>\n",
       "      <td>0.0</td>\n",
       "      <td>50.0</td>\n",
       "      <td>100.000000</td>\n",
       "      <td>500.0</td>\n",
       "      <td>900.0</td>\n",
       "    </tr>\n",
       "    <tr>\n",
       "      <th>3150585</th>\n",
       "      <td>27693406673501223ADCB6C</td>\n",
       "      <td>786C340645225418399DB88</td>\n",
       "      <td>2007-12-07 16:38:17</td>\n",
       "      <td>ABDC3512054519482587DC2</td>\n",
       "      <td>2007-12-11 12:14:29</td>\n",
       "      <td>Winning</td>\n",
       "      <td>50.0</td>\n",
       "      <td>50.0</td>\n",
       "      <td>50.0</td>\n",
       "      <td>95.000000</td>\n",
       "      <td>500.0</td>\n",
       "      <td>950.0</td>\n",
       "    </tr>\n",
       "    <tr>\n",
       "      <th>3150584</th>\n",
       "      <td>27693406673501223ADCB6C</td>\n",
       "      <td>82AA34079752427027AABD3</td>\n",
       "      <td>2007-12-08 19:33:44</td>\n",
       "      <td>23693511372293939E6441A</td>\n",
       "      <td>2007-12-11 12:14:31</td>\n",
       "      <td>Winning</td>\n",
       "      <td>50.0</td>\n",
       "      <td>50.0</td>\n",
       "      <td>50.0</td>\n",
       "      <td>90.909091</td>\n",
       "      <td>500.0</td>\n",
       "      <td>1000.0</td>\n",
       "    </tr>\n",
       "    <tr>\n",
       "      <th>3055442</th>\n",
       "      <td>27693406673501223ADCB6C</td>\n",
       "      <td>140434075577757122358FA</td>\n",
       "      <td>2007-12-10 15:54:07</td>\n",
       "      <td>2B2B3510164345997865E0B</td>\n",
       "      <td>2007-12-11 12:14:30</td>\n",
       "      <td>Winning</td>\n",
       "      <td>50.0</td>\n",
       "      <td>50.0</td>\n",
       "      <td>50.0</td>\n",
       "      <td>87.500000</td>\n",
       "      <td>500.0</td>\n",
       "      <td>1050.0</td>\n",
       "    </tr>\n",
       "  </tbody>\n",
       "</table>\n",
       "</div>"
      ],
      "text/plain": [
       "                       MemberKey               ListingKey  \\\n",
       "3055437  27693406673501223ADCB6C  465634058437445298A8B5E   \n",
       "3055439  27693406673501223ADCB6C  CB0534073651114089CA8DF   \n",
       "3055438  27693406673501223ADCB6C  744E340613588850873B15A   \n",
       "3150582  27693406673501223ADCB6C  002B340592777918822C7D4   \n",
       "3343451  27693406673501223ADCB6C  4525340787894249506C91A   \n",
       "3055440  27693406673501223ADCB6C  1B0A34079158318628B685F   \n",
       "3247523  27693406673501223ADCB6C  58F3340712108260398087C   \n",
       "3150581  27693406673501223ADCB6C  164B34076451096479FCEE3   \n",
       "3150583  27693406673501223ADCB6C  20A53406411728868168D71   \n",
       "3055441  27693406673501223ADCB6C  0E2434070840530686B28AB   \n",
       "3150585  27693406673501223ADCB6C  786C340645225418399DB88   \n",
       "3150584  27693406673501223ADCB6C  82AA34079752427027AABD3   \n",
       "3055442  27693406673501223ADCB6C  140434075577757122358FA   \n",
       "\n",
       "            ListingStartDate                   BidKey      BidCreationDate  \\\n",
       "3055437  2007-11-29 10:30:53  BAE4351128578899452CDB5  2007-12-03 11:24:10   \n",
       "3055439  2007-12-02 12:22:24  45D4351051498459327AA4D  2007-12-11 12:14:29   \n",
       "3055438  2007-12-02 22:37:12  53CB35117956109196B8BF0  2007-12-11 12:14:30   \n",
       "3150582  2007-12-04 08:29:19  86963511288790334E07DED  2007-12-11 12:14:31   \n",
       "3343451  2007-12-04 11:45:46  FD7C3511275022248BFBFC2  2007-12-11 12:14:28   \n",
       "3055440  2007-12-04 23:16:39  D7E735106651981517B67F8  2007-12-11 12:14:30   \n",
       "3247523  2007-12-05 19:05:30  301C351196438054754B51F  2007-12-11 12:14:30   \n",
       "3150581  2007-12-06 06:00:48  3D6F35120600466823BF908  2007-12-13 06:48:53   \n",
       "3150583  2007-12-06 19:07:59  15AF3510193430405EC442B  2007-12-11 12:14:31   \n",
       "3055441  2007-12-07 14:02:26  ABE23510933580993750626  2007-12-12 12:33:46   \n",
       "3150585  2007-12-07 16:38:17  ABDC3512054519482587DC2  2007-12-11 12:14:29   \n",
       "3150584  2007-12-08 19:33:44  23693511372293939E6441A  2007-12-11 12:14:31   \n",
       "3055442  2007-12-10 15:54:07  2B2B3510164345997865E0B  2007-12-11 12:14:30   \n",
       "\n",
       "          Status  BidAmount  ParticipationAmount  LenderMedianBidAmount  \\\n",
       "3055437   Outbid      500.0                  0.0                    NaN   \n",
       "3055439  Winning       50.0                 50.0                  500.0   \n",
       "3055438  Winning       50.0                 50.0                  275.0   \n",
       "3150582  Winning       50.0                 50.0                   50.0   \n",
       "3343451  Winning       50.0                 50.0                   50.0   \n",
       "3055440  Winning       50.0                 50.0                   50.0   \n",
       "3247523  Winning       50.0                 50.0                   50.0   \n",
       "3150581  Winning       50.0                 50.0                   50.0   \n",
       "3150583  Winning       50.0                 50.0                   50.0   \n",
       "3055441   Outbid       50.0                  0.0                   50.0   \n",
       "3150585  Winning       50.0                 50.0                   50.0   \n",
       "3150584  Winning       50.0                 50.0                   50.0   \n",
       "3055442  Winning       50.0                 50.0                   50.0   \n",
       "\n",
       "         LenderMeanBidAmount  LenderMaxBidAmount  LenderSumBidAmount  \n",
       "3055437                  NaN                 NaN                 0.0  \n",
       "3055439           500.000000               500.0               500.0  \n",
       "3055438           275.000000               500.0               550.0  \n",
       "3150582           200.000000               500.0               600.0  \n",
       "3343451           162.500000               500.0               650.0  \n",
       "3055440           140.000000               500.0               700.0  \n",
       "3247523           125.000000               500.0               750.0  \n",
       "3150581           114.285714               500.0               800.0  \n",
       "3150583           106.250000               500.0               850.0  \n",
       "3055441           100.000000               500.0               900.0  \n",
       "3150585            95.000000               500.0               950.0  \n",
       "3150584            90.909091               500.0              1000.0  \n",
       "3055442            87.500000               500.0              1050.0  "
      ]
     },
     "execution_count": 16,
     "metadata": {},
     "output_type": "execute_result"
    }
   ],
   "source": [
    "data[[\"MemberKey\", \"ListingKey\", \"ListingStartDate\", \"BidKey\", \"BidCreationDate\", \"Status\", \"BidAmount\", \"ParticipationAmount\", \"LenderMedianBidAmount\", \"LenderMeanBidAmount\", \"LenderMaxBidAmount\", \"LenderSumBidAmount\"]].query(\"MemberKey=='{0}'\".format(memberkeys[2])).sort_values(\"ListingStartDate\")"
   ]
  },
  {
   "cell_type": "markdown",
   "metadata": {},
   "source": [
    "## Save Data"
   ]
  },
  {
   "cell_type": "code",
   "execution_count": 17,
   "metadata": {},
   "outputs": [],
   "source": [
    "data.to_csv(\"../Data/lender_bidamount_fe/lender_bidamount_fe_20k.csv\", index=False)"
   ]
  },
  {
   "cell_type": "code",
   "execution_count": null,
   "metadata": {},
   "outputs": [],
   "source": []
  }
 ],
 "metadata": {
  "kernelspec": {
   "display_name": "Python 2",
   "language": "python",
   "name": "python2"
  },
  "language_info": {
   "codemirror_mode": {
    "name": "ipython",
    "version": 2
   },
   "file_extension": ".py",
   "mimetype": "text/x-python",
   "name": "python",
   "nbconvert_exporter": "python",
   "pygments_lexer": "ipython2",
   "version": "2.7.16"
  }
 },
 "nbformat": 4,
 "nbformat_minor": 2
}
