{
 "cells": [
  {
   "cell_type": "code",
   "execution_count": 1,
   "metadata": {},
   "outputs": [],
   "source": [
    "import pandas as pd\n",
    "import numpy as np; np.random.seed(0)\n",
    "from scipy import stats\n",
    "import statsmodels\n",
    "import statsmodels.api as sm\n",
    "import seaborn as sns; sns.set()\n",
    "from collections import Counter\n",
    "import matplotlib.pyplot as plt\n",
    "import warnings\n",
    "warnings.filterwarnings('ignore')\n",
    "pd.set_option('display.max_colwidth', -1)\n",
    "pd.set_option('display.float_format', lambda x: '%.3f' % x)\n",
    "pd.set_option('display.max_rows', 500)\n",
    "pd.set_option('display.max_columns', 500)\n",
    "pd.set_option('display.width', 1000)\n",
    "plt.style.use('classic')\n",
    "%matplotlib inline"
   ]
  },
  {
   "cell_type": "code",
   "execution_count": 2,
   "metadata": {},
   "outputs": [],
   "source": [
    "# Load selection data\n",
    "data = pd.read_csv('selections.csv')\n",
    "# Exclude Caddies category\n",
    "data = data[data['Category']!=0].reset_index(drop=True)\n",
    "# Randomly select one outcome from each selection pair\n",
    "for i in np.arange(0,len(data),2):\n",
    "    data.drop([i,i+1][np.random.randint(2)],inplace=True)\n",
    "ytrain = data['Outcome']\n",
    "data = data.drop(['Outcome'], axis=1)"
   ]
  },
  {
   "cell_type": "code",
   "execution_count": 3,
   "metadata": {},
   "outputs": [],
   "source": [
    "# Pre-process Independent variables\n",
    "for column in data.columns[:7]:\n",
    "    dummy_df = pd.get_dummies(data[column],prefix=column, drop_first=True)\n",
    "    for dummy in dummy_df.columns:\n",
    "        data[dummy] = dummy_df[dummy]\n",
    "data = data.drop(data.columns[:7], axis=1)\n",
    "Xtrain = data.copy()"
   ]
  },
  {
   "cell_type": "markdown",
   "metadata": {},
   "source": [
    "## MODEL 1"
   ]
  },
  {
   "cell_type": "code",
   "execution_count": 4,
   "metadata": {},
   "outputs": [
    {
     "name": "stdout",
     "output_type": "stream",
     "text": [
      "Optimization terminated successfully.\n",
      "         Current function value: 0.688245\n",
      "         Iterations 4\n",
      "                           Logit Regression Results                           \n",
      "==============================================================================\n",
      "Dep. Variable:                Outcome   No. Observations:                  477\n",
      "Model:                          Logit   Df Residuals:                      475\n",
      "Method:                           MLE   Df Model:                            1\n",
      "Date:                Mon, 26 Jul 2021   Pseudo R-squ.:                0.005682\n",
      "Time:                        19:25:12   Log-Likelihood:                -328.29\n",
      "converged:                       True   LL-Null:                       -330.17\n",
      "Covariance Type:            nonrobust   LLR p-value:                   0.05275\n",
      "==============================================================================\n",
      "                 coef    std err          z      P>|z|      [0.025      0.975]\n",
      "------------------------------------------------------------------------------\n",
      "Treatment      0.3369      0.182      1.852      0.064      -0.020       0.693\n",
      "Baseline      -0.0011      0.002     -0.458      0.647      -0.006       0.004\n",
      "==============================================================================\n"
     ]
    }
   ],
   "source": [
    "log_reg = sm.Logit(ytrain, data[['Treatment', 'Baseline']]).fit()\n",
    "print(log_reg.summary())"
   ]
  },
  {
   "cell_type": "markdown",
   "metadata": {},
   "source": [
    "## MODEL 2"
   ]
  },
  {
   "cell_type": "code",
   "execution_count": 5,
   "metadata": {},
   "outputs": [
    {
     "name": "stdout",
     "output_type": "stream",
     "text": [
      "Optimization terminated successfully.\n",
      "         Current function value: 0.686083\n",
      "         Iterations 4\n",
      "                           Logit Regression Results                           \n",
      "==============================================================================\n",
      "Dep. Variable:                Outcome   No. Observations:                  477\n",
      "Model:                          Logit   Df Residuals:                      472\n",
      "Method:                           MLE   Df Model:                            4\n",
      "Date:                Mon, 26 Jul 2021   Pseudo R-squ.:                0.008805\n",
      "Time:                        19:25:12   Log-Likelihood:                -327.26\n",
      "converged:                       True   LL-Null:                       -330.17\n",
      "Covariance Type:            nonrobust   LLR p-value:                    0.2134\n",
      "==============================================================================\n",
      "                 coef    std err          z      P>|z|      [0.025      0.975]\n",
      "------------------------------------------------------------------------------\n",
      "Treatment      0.3224      0.184      1.755      0.079      -0.038       0.682\n",
      "Baseline      -0.0081      0.007     -1.190      0.234      -0.022       0.005\n",
      "Altruism       0.0081      0.009      0.953      0.340      -0.009       0.025\n",
      "SSI           -0.0033      0.007     -0.484      0.628      -0.016       0.010\n",
      "Interest       0.0694      0.145      0.480      0.631      -0.214       0.353\n",
      "==============================================================================\n"
     ]
    }
   ],
   "source": [
    "log_reg = sm.Logit(ytrain, data[['Treatment', 'Baseline', 'Altruism', 'SSI', 'Interest']]).fit()\n",
    "print(log_reg.summary())"
   ]
  },
  {
   "cell_type": "code",
   "execution_count": 6,
   "metadata": {},
   "outputs": [
    {
     "name": "stdout",
     "output_type": "stream",
     "text": [
      "Optimization terminated successfully.\n",
      "         Current function value: 0.691783\n",
      "         Iterations 3\n",
      "                           Logit Regression Results                           \n",
      "==============================================================================\n",
      "Dep. Variable:                Outcome   No. Observations:                  477\n",
      "Model:                          Logit   Df Residuals:                      475\n",
      "Method:                           MLE   Df Model:                            1\n",
      "Date:                Mon, 26 Jul 2021   Pseudo R-squ.:               0.0005707\n",
      "Time:                        19:25:12   Log-Likelihood:                -329.98\n",
      "converged:                       True   LL-Null:                       -330.17\n",
      "Covariance Type:            nonrobust   LLR p-value:                    0.5393\n",
      "==============================================================================\n",
      "                 coef    std err          z      P>|z|      [0.025      0.975]\n",
      "------------------------------------------------------------------------------\n",
      "Gender_1       0.0591      0.130      0.455      0.649      -0.196       0.314\n",
      "Gender_2       0.1370      0.131      1.045      0.296      -0.120       0.394\n",
      "==============================================================================\n"
     ]
    }
   ],
   "source": [
    "log_reg = sm.Logit(ytrain, data[['Gender_1', 'Gender_2']]).fit()\n",
    "print(log_reg.summary())"
   ]
  },
  {
   "cell_type": "markdown",
   "metadata": {},
   "source": [
    "## MODEL 3"
   ]
  },
  {
   "cell_type": "code",
   "execution_count": 7,
   "metadata": {},
   "outputs": [
    {
     "name": "stdout",
     "output_type": "stream",
     "text": [
      "Optimization terminated successfully.\n",
      "         Current function value: 0.661978\n",
      "         Iterations 5\n",
      "                           Logit Regression Results                           \n",
      "==============================================================================\n",
      "Dep. Variable:                Outcome   No. Observations:                  477\n",
      "Model:                          Logit   Df Residuals:                      446\n",
      "Method:                           MLE   Df Model:                           30\n",
      "Date:                Mon, 26 Jul 2021   Pseudo R-squ.:                 0.04363\n",
      "Time:                        19:25:12   Log-Likelihood:                -315.76\n",
      "converged:                       True   LL-Null:                       -330.17\n",
      "Covariance Type:            nonrobust   LLR p-value:                    0.5276\n",
      "================================================================================\n",
      "                   coef    std err          z      P>|z|      [0.025      0.975]\n",
      "--------------------------------------------------------------------------------\n",
      "Interest         0.1063      0.166      0.639      0.523      -0.220       0.433\n",
      "Baseline         0.0079      0.010      0.781      0.435      -0.012       0.028\n",
      "SSI             -0.0034      0.008     -0.442      0.658      -0.018       0.012\n",
      "Altruism         0.0150      0.010      1.470      0.142      -0.005       0.035\n",
      "Treatment        0.3857      0.193      2.001      0.045       0.008       0.764\n",
      "Category_2      -0.3461      0.271     -1.279      0.201      -0.876       0.184\n",
      "Category_3       0.0056      0.238      0.024      0.981      -0.461       0.472\n",
      "Gender_1         0.1263      0.769      0.164      0.870      -1.382       1.634\n",
      "Gender_2         0.1533      0.785      0.195      0.845      -1.384       1.691\n",
      "Age_1            0.0483      0.271      0.178      0.859      -0.483       0.580\n",
      "Age_2           -0.2885      0.340     -0.848      0.396      -0.955       0.378\n",
      "Age_3           -0.7925      0.599     -1.323      0.186      -1.966       0.381\n",
      "Employment_1    -0.5861      0.684     -0.857      0.392      -1.927       0.755\n",
      "Employment_2    -0.1934      0.614     -0.315      0.753      -1.397       1.010\n",
      "Employment_3    -0.4670      0.578     -0.807      0.419      -1.601       0.667\n",
      "Employment_4    -0.6939      0.558     -1.243      0.214      -1.788       0.400\n",
      "Employment_5    -0.2964      0.793     -0.374      0.709      -1.851       1.258\n",
      "Education_1     -0.1689      0.900     -0.188      0.851      -1.932       1.594\n",
      "Education_2     -0.3075      0.854     -0.360      0.719      -1.981       1.366\n",
      "Education_3      0.4629      1.101      0.420      0.674      -1.695       2.621\n",
      "Education_4      0.3444      0.873      0.394      0.693      -1.367       2.056\n",
      "Education_5      0.2614      0.890      0.294      0.769      -1.482       2.005\n",
      "Income_1        -0.3156      0.438     -0.720      0.471      -1.174       0.543\n",
      "Income_2         0.0547      0.408      0.134      0.893      -0.745       0.855\n",
      "Income_3         0.0776      0.423      0.183      0.855      -0.752       0.908\n",
      "Income_4         0.0642      0.442      0.145      0.885      -0.803       0.931\n",
      "Income_5         0.0753      0.435      0.173      0.863      -0.776       0.927\n",
      "Race_1          -1.2468      0.667     -1.869      0.062      -2.554       0.061\n",
      "Race_2          -0.7396      0.545     -1.358      0.175      -1.807       0.328\n",
      "Race_3          -0.3042      1.308     -0.233      0.816      -2.868       2.259\n",
      "Race_4          -0.8744      0.617     -1.418      0.156      -2.083       0.334\n",
      "================================================================================\n"
     ]
    }
   ],
   "source": [
    "log_reg = sm.Logit(ytrain, Xtrain).fit()\n",
    "print(log_reg.summary())"
   ]
  }
 ],
 "metadata": {
  "kernelspec": {
   "display_name": "Python 3",
   "language": "python",
   "name": "python3"
  },
  "language_info": {
   "codemirror_mode": {
    "name": "ipython",
    "version": 3
   },
   "file_extension": ".py",
   "mimetype": "text/x-python",
   "name": "python",
   "nbconvert_exporter": "python",
   "pygments_lexer": "ipython3",
   "version": "3.7.6"
  }
 },
 "nbformat": 4,
 "nbformat_minor": 4
}
