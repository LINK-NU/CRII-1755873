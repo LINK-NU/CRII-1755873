{
 "cells": [
  {
   "cell_type": "code",
   "execution_count": 24,
   "metadata": {},
   "outputs": [],
   "source": [
    "# Documentation: https://research.donorschoose.org/t/download-opendata/33\n",
    "import ml\n",
    "reload(ml)\n",
    "from ml import *\n",
    "import timeit\n",
    "import scipy\n",
    "import operator\n",
    "import numpy as np\n",
    "import pandas as pd\n",
    "import cPickle as pickle\n",
    "from scipy import stats\n",
    "import seaborn as sns\n",
    "from datetime import datetime\n",
    "from collections import Counter\n",
    "import matplotlib.pyplot as plt\n",
    "from pprint import pprint\n",
    "from __future__ import division\n",
    "import statsmodels.api as sm\n",
    "from sklearn.preprocessing import LabelEncoder  \n",
    "from sklearn.utils import resample\n",
    "from tqdm import tqdm, tqdm_notebook\n",
    "tqdm.pandas()\n",
    "import warnings\n",
    "warnings.filterwarnings('ignore')\n",
    "pd.set_option('display.max_colwidth', -1)\n",
    "pd.set_option('display.float_format', lambda x: '%.3f' % x)\n",
    "pd.set_option('display.max_rows', 500)\n",
    "pd.set_option('display.max_columns', 500)\n",
    "pd.set_option('display.width', 1000)\n",
    "plt.style.use('classic')\n",
    "%matplotlib inline\n",
    "\n",
    "__author__ = 'HK Dambanemuya'\n",
    "__version__ = 'Python 2'\n",
    "\n",
    "'''\n",
    "    Analysis originaly performed in Python 2 (deprecated)\n",
    "    Seaborn, Statsmodel, and * imports broken in Python 3\n",
    "'''"
   ]
  },
  {
   "cell_type": "markdown",
   "metadata": {},
   "source": [
    "## Methods"
   ]
  },
  {
   "cell_type": "code",
   "execution_count": 2,
   "metadata": {},
   "outputs": [],
   "source": [
    "def cov(arr):\n",
    "    return np.std(arr) / np.mean(arr) \n",
    "\n",
    "def fundingTime(arr):\n",
    "    return (arr.max() - arr.min()).days\n",
    "\n",
    "def interEventTime(arr):\n",
    "    return [(t - s).seconds for s, t in zip(sorted(arr), sorted(arr)[1:])]\n",
    "\n",
    "def avgInterEventTime(arr):\n",
    "    return np.mean(interEventTime(arr))\n",
    "\n",
    "def covInterEventTime(arr):\n",
    "    varr = interEventTime(arr)\n",
    "    return np.std(varr) / np.mean(varr) \n",
    "\n",
    "# Initialize Label Encoder\n",
    "le = LabelEncoder()\n",
    "# Initialize Standard Scaler\n",
    "scaler = StandardScaler() \n",
    "# projectsgeq4 = np.loadtxt('projectsgeq4contributions.out', delimiter=',', dtype=str)\n",
    "projectsall = np.loadtxt('projectsall.out', delimiter=',', dtype=str)"
   ]
  },
  {
   "cell_type": "markdown",
   "metadata": {},
   "source": [
    "## Donations"
   ]
  },
  {
   "cell_type": "code",
   "execution_count": 3,
   "metadata": {},
   "outputs": [
    {
     "data": {
      "text/html": [
       "<div>\n",
       "<style scoped>\n",
       "    .dataframe tbody tr th:only-of-type {\n",
       "        vertical-align: middle;\n",
       "    }\n",
       "\n",
       "    .dataframe tbody tr th {\n",
       "        vertical-align: top;\n",
       "    }\n",
       "\n",
       "    .dataframe thead th {\n",
       "        text-align: right;\n",
       "    }\n",
       "</style>\n",
       "<table border=\"1\" class=\"dataframe\">\n",
       "  <thead>\n",
       "    <tr style=\"text-align: right;\">\n",
       "      <th></th>\n",
       "      <th>_donationid</th>\n",
       "      <th>_projectid</th>\n",
       "      <th>_donor_acctid</th>\n",
       "      <th>donation_timestamp</th>\n",
       "      <th>donation_total</th>\n",
       "      <th>time_trunc</th>\n",
       "    </tr>\n",
       "  </thead>\n",
       "  <tbody>\n",
       "    <tr>\n",
       "      <th>994053</th>\n",
       "      <td>28ede5c8c8fe6b6af0d8bb0313c30c17</td>\n",
       "      <td>f8b2848191166c090f727d109f01dfdd</td>\n",
       "      <td>bb4aed2151296282a644a65e541da29d</td>\n",
       "      <td>2007-11-27 12:23:47.516</td>\n",
       "      <td>50.000</td>\n",
       "      <td>200711</td>\n",
       "    </tr>\n",
       "    <tr>\n",
       "      <th>2261309</th>\n",
       "      <td>5d2c3487caf28e1fc26f9d4536912566</td>\n",
       "      <td>e429f379b38178028333bb4315d039e0</td>\n",
       "      <td>1665f065802108cc0fd1fdddc75f578a</td>\n",
       "      <td>2010-12-28 22:29:33.690</td>\n",
       "      <td>25.000</td>\n",
       "      <td>201012</td>\n",
       "    </tr>\n",
       "    <tr>\n",
       "      <th>1097812</th>\n",
       "      <td>2d36fe6c633864b29b3dad575ac068e5</td>\n",
       "      <td>2c080db7d96400f01560de0de8c589ad</td>\n",
       "      <td>922f9b701bfe745011eba7d8975c6377</td>\n",
       "      <td>2013-11-19 20:40:17.656</td>\n",
       "      <td>25.000</td>\n",
       "      <td>201311</td>\n",
       "    </tr>\n",
       "    <tr>\n",
       "      <th>2547170</th>\n",
       "      <td>68f42b0edbff09f6cea632b8868cdd96</td>\n",
       "      <td>bcc93fa53007527575d6f2ef209a99c9</td>\n",
       "      <td>7fbbd53cb78bb7a35525d6918c6b5704</td>\n",
       "      <td>2015-09-13 09:46:35.756</td>\n",
       "      <td>2.000</td>\n",
       "      <td>201509</td>\n",
       "    </tr>\n",
       "    <tr>\n",
       "      <th>2096056</th>\n",
       "      <td>565e2b7b2ea60e5333429f2b0c2f8561</td>\n",
       "      <td>671c5c02ef8176cbdfcded038180990b</td>\n",
       "      <td>a4c5ccb8a63a455e93df7b61e3eac656</td>\n",
       "      <td>2009-06-22 14:20:47.575</td>\n",
       "      <td>141.000</td>\n",
       "      <td>200906</td>\n",
       "    </tr>\n",
       "  </tbody>\n",
       "</table>\n",
       "</div>"
      ],
      "text/plain": [
       "                              _donationid                        _projectid                     _donor_acctid      donation_timestamp  donation_total time_trunc\n",
       "994053   28ede5c8c8fe6b6af0d8bb0313c30c17  f8b2848191166c090f727d109f01dfdd  bb4aed2151296282a644a65e541da29d 2007-11-27 12:23:47.516 50.000           200711   \n",
       "2261309  5d2c3487caf28e1fc26f9d4536912566  e429f379b38178028333bb4315d039e0  1665f065802108cc0fd1fdddc75f578a 2010-12-28 22:29:33.690 25.000           201012   \n",
       "1097812  2d36fe6c633864b29b3dad575ac068e5  2c080db7d96400f01560de0de8c589ad  922f9b701bfe745011eba7d8975c6377 2013-11-19 20:40:17.656 25.000           201311   \n",
       "2547170  68f42b0edbff09f6cea632b8868cdd96  bcc93fa53007527575d6f2ef209a99c9  7fbbd53cb78bb7a35525d6918c6b5704 2015-09-13 09:46:35.756 2.000            201509   \n",
       "2096056  565e2b7b2ea60e5333429f2b0c2f8561  671c5c02ef8176cbdfcded038180990b  a4c5ccb8a63a455e93df7b61e3eac656 2009-06-22 14:20:47.575 141.000          200906   "
      ]
     },
     "execution_count": 3,
     "metadata": {},
     "output_type": "execute_result"
    }
   ],
   "source": [
    "donations = pd.read_csv('../Data/donations.gz', escapechar='\\\\', names=['_donationid', '_projectid', '_donor_acctid', '_cartid', 'donor_city', 'donor_state', 'donor_zip', 'is_teacher_acct', 'donation_timestamp', 'donation_to_project', 'donation_optional_support', 'donation_total', 'donation_included_optional_support', 'payment_method', 'payment_included_acct_credit', 'payment_included_campaign_gift_card', 'payment_included_web_purchased_gift_card', 'payment_was_promo_matched', 'is_teacher_referred', 'giving_page_id', 'giving_page_type', 'for_honoree', 'thank_you_packet_mailed'])\n",
    "# Filter relevant columns\n",
    "columns = [\"_donationid\", \"_projectid\", \"_donor_acctid\", \"donation_timestamp\", \"donation_total\", \"payment_method\"]\n",
    "donations = donations[columns]\n",
    "# Convert donation timestamp to datetime format\n",
    "donations[\"donation_timestamp\"] = pd.to_datetime(donations.donation_timestamp)\n",
    "# Variable /YYYY/MM to allow monthly time unit analysis\n",
    "donations[\"time_trunc\"] = donations.donation_timestamp.map(lambda x: x.strftime('%Y%m')) \n",
    "# List of project_ids for projects that received re-allocated funds\n",
    "filtered = list(set(donations[donations.payment_method == 'no_cash_received'][\"_projectid\"]))\n",
    "# Exclude these donations for donation level analysis\n",
    "donations = donations[donations.payment_method != 'no_cash_received'] \n",
    "# Drop temporary column\n",
    "donations = donations.drop(['payment_method'], axis=1)\n",
    "# Show sample data\n",
    "donations.sample(5)"
   ]
  },
  {
   "cell_type": "code",
   "execution_count": 4,
   "metadata": {},
   "outputs": [
    {
     "name": "stdout",
     "output_type": "stream",
     "text": [
      "Contributors: 1523962\n"
     ]
    }
   ],
   "source": [
    "print \"Contributors:\", donations._donor_acctid.nunique()"
   ]
  },
  {
   "cell_type": "code",
   "execution_count": 5,
   "metadata": {},
   "outputs": [
    {
     "name": "stdout",
     "output_type": "stream",
     "text": [
      "215825\n"
     ]
    }
   ],
   "source": [
    "print len(projectsall)"
   ]
  },
  {
   "cell_type": "markdown",
   "metadata": {},
   "source": [
    "### Filter Donations"
   ]
  },
  {
   "cell_type": "code",
   "execution_count": 6,
   "metadata": {},
   "outputs": [],
   "source": [
    "def filter_donations_by_amount(threshold):\n",
    "    donations_ = []\n",
    "    threshold = threshold\n",
    "    for project_id in tqdm_notebook(projectsall):\n",
    "        var_df = donations.query(\"_projectid == '{0}'\".format(project_id)).sort_values(by='donation_timestamp')\n",
    "        series = list(var_df['donation_total'].fillna(0))\n",
    "        norm_cdf = np.cumsum(series)\n",
    "        try:\n",
    "            limit = max(series)*threshold\n",
    "            if norm_cdf[0] > limit:\n",
    "                pass\n",
    "            else:\n",
    "                 for i in range(len(norm_cdf)):\n",
    "                    if limit < norm_cdf[i]:\n",
    "                        donations_.append(var_df[:i-1])  \n",
    "                        break\n",
    "        except Exception as e:\n",
    "            pass\n",
    "        \n",
    "    return pd.concat(donations_, axis=0)"
   ]
  },
  {
   "cell_type": "code",
   "execution_count": 7,
   "metadata": {},
   "outputs": [],
   "source": [
    "def filter_donations(threshold):  \n",
    "    donations_ = []\n",
    "    threshold = threshold\n",
    "    for project_id in tqdm_notebook(projectsgeq4):\n",
    "        var_df = donations.query(\"_projectid == '{0}'\".format(project_id)).sort_values(by='donation_timestamp')\n",
    "        donations_.append(var_df[:int(len(var_df)*threshold)])\n",
    "    return pd.concat(donations_, axis=0)"
   ]
  },
  {
   "cell_type": "code",
   "execution_count": 8,
   "metadata": {},
   "outputs": [
    {
     "data": {
      "application/vnd.jupyter.widget-view+json": {
       "model_id": "8d0a44f8b78542d8a2ecbbd69e4d7756",
       "version_major": 2,
       "version_minor": 0
      },
      "text/plain": [
       "HBox(children=(IntProgress(value=0, max=215825), HTML(value=u'')))"
      ]
     },
     "metadata": {},
     "output_type": "display_data"
    },
    {
     "name": "stdout",
     "output_type": "stream",
     "text": [
      "\n"
     ]
    },
    {
     "data": {
      "application/vnd.jupyter.widget-view+json": {
       "model_id": "7c073af89b8a4d72b86cd24c81e55db0",
       "version_major": 2,
       "version_minor": 0
      },
      "text/plain": [
       "HBox(children=(IntProgress(value=0, max=215825), HTML(value=u'')))"
      ]
     },
     "metadata": {},
     "output_type": "display_data"
    },
    {
     "name": "stdout",
     "output_type": "stream",
     "text": [
      "\n"
     ]
    },
    {
     "data": {
      "application/vnd.jupyter.widget-view+json": {
       "model_id": "0c3c1e00db0d4a40ba601add65dfeea0",
       "version_major": 2,
       "version_minor": 0
      },
      "text/plain": [
       "HBox(children=(IntProgress(value=0, max=215825), HTML(value=u'')))"
      ]
     },
     "metadata": {},
     "output_type": "display_data"
    },
    {
     "name": "stdout",
     "output_type": "stream",
     "text": [
      "\n"
     ]
    },
    {
     "data": {
      "application/vnd.jupyter.widget-view+json": {
       "model_id": "09053cce0be74eb9982f0d7ba4939a5d",
       "version_major": 2,
       "version_minor": 0
      },
      "text/plain": [
       "HBox(children=(IntProgress(value=0, max=215825), HTML(value=u'')))"
      ]
     },
     "metadata": {},
     "output_type": "display_data"
    },
    {
     "name": "stdout",
     "output_type": "stream",
     "text": [
      "\n"
     ]
    }
   ],
   "source": [
    "# donations_25 = filter_donations_by_amount(0.25)\n",
    "# donations_25.to_csv(\"../Data/donations_25.csv\", index=False)\n",
    "# donations_50 = filter_donations_by_amount(0.5)\n",
    "# donations_50.to_csv(\"../Data/donations_50.csv\", index=False)\n",
    "# donations_75 = filter_donations_by_amount(0.75)\n",
    "# donations_75.to_csv(\"../Data/donations_75.csv\", index=False)\n",
    "# donations_100 = filter_donations_by_amount(1)\n",
    "# donations_100.to_csv(\"../Data/donations_100.csv\", index=False)"
   ]
  },
  {
   "cell_type": "code",
   "execution_count": 9,
   "metadata": {},
   "outputs": [],
   "source": [
    "# donations_25 = pd.read_csv(\"../Data/donations_25.csv\")\n",
    "# donations_50 = pd.read_csv(\"../Data/donations_50.csv\")\n",
    "# donations_75 = pd.read_csv(\"../Data/donations_75.csv\")\n",
    "# donations_100 = pd.read_csv(\"../Data/donations_100.csv\")"
   ]
  },
  {
   "cell_type": "code",
   "execution_count": 10,
   "metadata": {},
   "outputs": [
    {
     "data": {
      "text/plain": [
       "(56918, 125482, 186646, 263821)"
      ]
     },
     "execution_count": 10,
     "metadata": {},
     "output_type": "execute_result"
    }
   ],
   "source": [
    "len(donations_25), len(donations_50), len(donations_75), len(donations_100)"
   ]
  },
  {
   "cell_type": "markdown",
   "metadata": {},
   "source": [
    "### Donations Aggregation"
   ]
  },
  {
   "cell_type": "code",
   "execution_count": 11,
   "metadata": {},
   "outputs": [],
   "source": [
    "f = {'_projectid': ['max'],\n",
    "     '_donationid': ['count'], # Contributions Count\n",
    "     '_donor_acctid':['count'], # Contributor Count\n",
    "     'donation_timestamp': ['min', avgInterEventTime, covInterEventTime], # First Contribution Timestamp, AvgInterEventTime, CovInterEventTime\n",
    "     'donation_total': ['min', 'mean', 'max', cov] # Minimum, Mean, Maximum, CoV\n",
    "}"
   ]
  },
  {
   "cell_type": "markdown",
   "metadata": {},
   "source": [
    "#### Donations 25%"
   ]
  },
  {
   "cell_type": "code",
   "execution_count": 12,
   "metadata": {},
   "outputs": [
    {
     "data": {
      "text/html": [
       "<div>\n",
       "<style scoped>\n",
       "    .dataframe tbody tr th:only-of-type {\n",
       "        vertical-align: middle;\n",
       "    }\n",
       "\n",
       "    .dataframe tbody tr th {\n",
       "        vertical-align: top;\n",
       "    }\n",
       "\n",
       "    .dataframe thead th {\n",
       "        text-align: right;\n",
       "    }\n",
       "</style>\n",
       "<table border=\"1\" class=\"dataframe\">\n",
       "  <thead>\n",
       "    <tr style=\"text-align: right;\">\n",
       "      <th></th>\n",
       "      <th>MinimumContributionAmount</th>\n",
       "      <th>MeanContributionAmount</th>\n",
       "      <th>MaxContributionAmount</th>\n",
       "      <th>CovContributionAmount</th>\n",
       "      <th>FirstContributionTimestamp</th>\n",
       "      <th>AvgInterEventTime_sec</th>\n",
       "      <th>CovInterEventTime</th>\n",
       "      <th>ProjectID</th>\n",
       "      <th>NumContributions</th>\n",
       "      <th>NumContributors</th>\n",
       "    </tr>\n",
       "  </thead>\n",
       "  <tbody>\n",
       "    <tr>\n",
       "      <th>0</th>\n",
       "      <td>75.000</td>\n",
       "      <td>75.000</td>\n",
       "      <td>75.000</td>\n",
       "      <td>0.000</td>\n",
       "      <td>2016-05-21 21:25:00.685000</td>\n",
       "      <td>NaN</td>\n",
       "      <td>NaN</td>\n",
       "      <td>00002eb25d60a09c318efbd0797bffb5</td>\n",
       "      <td>1</td>\n",
       "      <td>1</td>\n",
       "    </tr>\n",
       "    <tr>\n",
       "      <th>1</th>\n",
       "      <td>10.000</td>\n",
       "      <td>20.000</td>\n",
       "      <td>25.000</td>\n",
       "      <td>0.354</td>\n",
       "      <td>2015-03-22 08:38:41.548000</td>\n",
       "      <td>5556.000</td>\n",
       "      <td>1.000</td>\n",
       "      <td>00048c5627b7a599d81a424bcdc8c2eb</td>\n",
       "      <td>3</td>\n",
       "      <td>3</td>\n",
       "    </tr>\n",
       "    <tr>\n",
       "      <th>2</th>\n",
       "      <td>25.000</td>\n",
       "      <td>25.000</td>\n",
       "      <td>25.000</td>\n",
       "      <td>0.000</td>\n",
       "      <td>2016-01-10 14:56:07.828000</td>\n",
       "      <td>NaN</td>\n",
       "      <td>NaN</td>\n",
       "      <td>0008e601cd7d067abbe30c7f4ec589cd</td>\n",
       "      <td>1</td>\n",
       "      <td>1</td>\n",
       "    </tr>\n",
       "    <tr>\n",
       "      <th>3</th>\n",
       "      <td>20.000</td>\n",
       "      <td>20.000</td>\n",
       "      <td>20.000</td>\n",
       "      <td>0.000</td>\n",
       "      <td>2015-10-17 12:45:06.590000</td>\n",
       "      <td>NaN</td>\n",
       "      <td>NaN</td>\n",
       "      <td>000b4e95067c0bf756a213ad7698d3a3</td>\n",
       "      <td>1</td>\n",
       "      <td>1</td>\n",
       "    </tr>\n",
       "    <tr>\n",
       "      <th>4</th>\n",
       "      <td>10.000</td>\n",
       "      <td>10.000</td>\n",
       "      <td>10.000</td>\n",
       "      <td>0.000</td>\n",
       "      <td>2014-09-17 10:19:13.655000</td>\n",
       "      <td>NaN</td>\n",
       "      <td>NaN</td>\n",
       "      <td>000d06fe5336e85574a0e5d78269c4e5</td>\n",
       "      <td>1</td>\n",
       "      <td>1</td>\n",
       "    </tr>\n",
       "  </tbody>\n",
       "</table>\n",
       "</div>"
      ],
      "text/plain": [
       "  MinimumContributionAmount MeanContributionAmount MaxContributionAmount CovContributionAmount  FirstContributionTimestamp AvgInterEventTime_sec CovInterEventTime                         ProjectID NumContributions NumContributors\n",
       "0 75.000                    75.000                 75.000                0.000                  2016-05-21 21:25:00.685000  NaN                   NaN               00002eb25d60a09c318efbd0797bffb5  1                1             \n",
       "1 10.000                    20.000                 25.000                0.354                  2015-03-22 08:38:41.548000 5556.000              1.000              00048c5627b7a599d81a424bcdc8c2eb  3                3             \n",
       "2 25.000                    25.000                 25.000                0.000                  2016-01-10 14:56:07.828000  NaN                   NaN               0008e601cd7d067abbe30c7f4ec589cd  1                1             \n",
       "3 20.000                    20.000                 20.000                0.000                  2015-10-17 12:45:06.590000  NaN                   NaN               000b4e95067c0bf756a213ad7698d3a3  1                1             \n",
       "4 10.000                    10.000                 10.000                0.000                  2014-09-17 10:19:13.655000  NaN                   NaN               000d06fe5336e85574a0e5d78269c4e5  1                1             "
      ]
     },
     "execution_count": 12,
     "metadata": {},
     "output_type": "execute_result"
    }
   ],
   "source": [
    "donations_25 = donations_25.drop(['time_trunc'], axis=1)\n",
    "donations_25 = donations_25[~donations_25['_projectid'].isin(filtered)] # Exclude these projects for project level analysis\n",
    "donations_25 = pd.DataFrame(donations_25.groupby('_projectid').agg(f).as_matrix())\n",
    "donations_25 = donations_25.rename(index=str, columns={0: \"MinimumContributionAmount\", \n",
    "                                               1: \"MeanContributionAmount\",\n",
    "                                               2: \"MaxContributionAmount\",\n",
    "                                               3: \"CovContributionAmount\",\n",
    "                                               4: \"FirstContributionTimestamp\",\n",
    "                                               5: \"AvgInterEventTime_sec\",\n",
    "                                               6: \"CovInterEventTime\",\n",
    "                                               7: \"ProjectID\",\n",
    "                                               8: \"NumContributions\",\n",
    "                                               9: \"NumContributors\"})\n",
    "donations_25 = donations_25[donations_25.MinimumContributionAmount >=0]\n",
    "donations_25.head()"
   ]
  },
  {
   "cell_type": "markdown",
   "metadata": {},
   "source": [
    "#### Donations 50%"
   ]
  },
  {
   "cell_type": "code",
   "execution_count": 13,
   "metadata": {},
   "outputs": [
    {
     "data": {
      "text/html": [
       "<div>\n",
       "<style scoped>\n",
       "    .dataframe tbody tr th:only-of-type {\n",
       "        vertical-align: middle;\n",
       "    }\n",
       "\n",
       "    .dataframe tbody tr th {\n",
       "        vertical-align: top;\n",
       "    }\n",
       "\n",
       "    .dataframe thead th {\n",
       "        text-align: right;\n",
       "    }\n",
       "</style>\n",
       "<table border=\"1\" class=\"dataframe\">\n",
       "  <thead>\n",
       "    <tr style=\"text-align: right;\">\n",
       "      <th></th>\n",
       "      <th>MinimumContributionAmount</th>\n",
       "      <th>MeanContributionAmount</th>\n",
       "      <th>MaxContributionAmount</th>\n",
       "      <th>CovContributionAmount</th>\n",
       "      <th>FirstContributionTimestamp</th>\n",
       "      <th>AvgInterEventTime_sec</th>\n",
       "      <th>CovInterEventTime</th>\n",
       "      <th>ProjectID</th>\n",
       "      <th>NumContributions</th>\n",
       "      <th>NumContributors</th>\n",
       "    </tr>\n",
       "  </thead>\n",
       "  <tbody>\n",
       "    <tr>\n",
       "      <th>0</th>\n",
       "      <td>75.000</td>\n",
       "      <td>75.000</td>\n",
       "      <td>75.000</td>\n",
       "      <td>0.000</td>\n",
       "      <td>2016-05-21 21:25:00.685000</td>\n",
       "      <td>NaN</td>\n",
       "      <td>NaN</td>\n",
       "      <td>00002eb25d60a09c318efbd0797bffb5</td>\n",
       "      <td>1</td>\n",
       "      <td>1</td>\n",
       "    </tr>\n",
       "    <tr>\n",
       "      <th>1</th>\n",
       "      <td>25.000</td>\n",
       "      <td>25.000</td>\n",
       "      <td>25.000</td>\n",
       "      <td>0.000</td>\n",
       "      <td>2015-08-21 18:09:29.092000</td>\n",
       "      <td>NaN</td>\n",
       "      <td>NaN</td>\n",
       "      <td>000226bf2362b3ea92229b29c2edf737</td>\n",
       "      <td>1</td>\n",
       "      <td>1</td>\n",
       "    </tr>\n",
       "    <tr>\n",
       "      <th>2</th>\n",
       "      <td>25.000</td>\n",
       "      <td>25.000</td>\n",
       "      <td>25.000</td>\n",
       "      <td>0.000</td>\n",
       "      <td>2010-04-22 08:38:08.065000</td>\n",
       "      <td>NaN</td>\n",
       "      <td>NaN</td>\n",
       "      <td>000238b44c187c254752736e53ee46f2</td>\n",
       "      <td>1</td>\n",
       "      <td>1</td>\n",
       "    </tr>\n",
       "    <tr>\n",
       "      <th>3</th>\n",
       "      <td>46.000</td>\n",
       "      <td>46.000</td>\n",
       "      <td>46.000</td>\n",
       "      <td>0.000</td>\n",
       "      <td>2012-02-17 15:34:27.202000</td>\n",
       "      <td>NaN</td>\n",
       "      <td>NaN</td>\n",
       "      <td>00029c282384a5d15bf2184b0578630e</td>\n",
       "      <td>1</td>\n",
       "      <td>1</td>\n",
       "    </tr>\n",
       "    <tr>\n",
       "      <th>4</th>\n",
       "      <td>20.000</td>\n",
       "      <td>20.000</td>\n",
       "      <td>20.000</td>\n",
       "      <td>0.000</td>\n",
       "      <td>2015-08-08 16:08:11.163000</td>\n",
       "      <td>NaN</td>\n",
       "      <td>NaN</td>\n",
       "      <td>00046dc723c15f748b48b0d408f167f7</td>\n",
       "      <td>1</td>\n",
       "      <td>1</td>\n",
       "    </tr>\n",
       "  </tbody>\n",
       "</table>\n",
       "</div>"
      ],
      "text/plain": [
       "  MinimumContributionAmount MeanContributionAmount MaxContributionAmount CovContributionAmount  FirstContributionTimestamp AvgInterEventTime_sec CovInterEventTime                         ProjectID NumContributions NumContributors\n",
       "0 75.000                    75.000                 75.000                0.000                  2016-05-21 21:25:00.685000  NaN                   NaN               00002eb25d60a09c318efbd0797bffb5  1                1             \n",
       "1 25.000                    25.000                 25.000                0.000                  2015-08-21 18:09:29.092000  NaN                   NaN               000226bf2362b3ea92229b29c2edf737  1                1             \n",
       "2 25.000                    25.000                 25.000                0.000                  2010-04-22 08:38:08.065000  NaN                   NaN               000238b44c187c254752736e53ee46f2  1                1             \n",
       "3 46.000                    46.000                 46.000                0.000                  2012-02-17 15:34:27.202000  NaN                   NaN               00029c282384a5d15bf2184b0578630e  1                1             \n",
       "4 20.000                    20.000                 20.000                0.000                  2015-08-08 16:08:11.163000  NaN                   NaN               00046dc723c15f748b48b0d408f167f7  1                1             "
      ]
     },
     "execution_count": 13,
     "metadata": {},
     "output_type": "execute_result"
    }
   ],
   "source": [
    "donations_50 = donations_50.drop(['time_trunc'], axis=1)\n",
    "donations_50 = donations_50[~donations_50['_projectid'].isin(filtered)] # Exclude these projects for project level analysis\n",
    "donations_50 = pd.DataFrame(donations_50.groupby('_projectid').agg(f).as_matrix())\n",
    "donations_50 = donations_50.rename(index=str, columns={0: \"MinimumContributionAmount\", \n",
    "                                               1: \"MeanContributionAmount\",\n",
    "                                               2: \"MaxContributionAmount\",\n",
    "                                               3: \"CovContributionAmount\",\n",
    "                                               4: \"FirstContributionTimestamp\",\n",
    "                                               5: \"AvgInterEventTime_sec\",\n",
    "                                               6: \"CovInterEventTime\",\n",
    "                                               7: \"ProjectID\",\n",
    "                                               8: \"NumContributions\",\n",
    "                                               9: \"NumContributors\"})\n",
    "donations_50 = donations_50[donations_50.MinimumContributionAmount >=0]\n",
    "donations_50.head()"
   ]
  },
  {
   "cell_type": "markdown",
   "metadata": {},
   "source": [
    "#### Donations 75%"
   ]
  },
  {
   "cell_type": "code",
   "execution_count": 14,
   "metadata": {},
   "outputs": [
    {
     "data": {
      "text/html": [
       "<div>\n",
       "<style scoped>\n",
       "    .dataframe tbody tr th:only-of-type {\n",
       "        vertical-align: middle;\n",
       "    }\n",
       "\n",
       "    .dataframe tbody tr th {\n",
       "        vertical-align: top;\n",
       "    }\n",
       "\n",
       "    .dataframe thead th {\n",
       "        text-align: right;\n",
       "    }\n",
       "</style>\n",
       "<table border=\"1\" class=\"dataframe\">\n",
       "  <thead>\n",
       "    <tr style=\"text-align: right;\">\n",
       "      <th></th>\n",
       "      <th>MinimumContributionAmount</th>\n",
       "      <th>MeanContributionAmount</th>\n",
       "      <th>MaxContributionAmount</th>\n",
       "      <th>CovContributionAmount</th>\n",
       "      <th>FirstContributionTimestamp</th>\n",
       "      <th>AvgInterEventTime_sec</th>\n",
       "      <th>CovInterEventTime</th>\n",
       "      <th>ProjectID</th>\n",
       "      <th>NumContributions</th>\n",
       "      <th>NumContributors</th>\n",
       "    </tr>\n",
       "  </thead>\n",
       "  <tbody>\n",
       "    <tr>\n",
       "      <th>0</th>\n",
       "      <td>75.000</td>\n",
       "      <td>75.000</td>\n",
       "      <td>75.000</td>\n",
       "      <td>0.000</td>\n",
       "      <td>2016-05-21 21:25:00.685000</td>\n",
       "      <td>NaN</td>\n",
       "      <td>NaN</td>\n",
       "      <td>00002eb25d60a09c318efbd0797bffb5</td>\n",
       "      <td>1</td>\n",
       "      <td>1</td>\n",
       "    </tr>\n",
       "    <tr>\n",
       "      <th>1</th>\n",
       "      <td>100.000</td>\n",
       "      <td>100.000</td>\n",
       "      <td>100.000</td>\n",
       "      <td>0.000</td>\n",
       "      <td>2012-05-11 00:03:44.415000</td>\n",
       "      <td>NaN</td>\n",
       "      <td>NaN</td>\n",
       "      <td>00005f52c98eeaf92b2414a352b023a4</td>\n",
       "      <td>1</td>\n",
       "      <td>1</td>\n",
       "    </tr>\n",
       "    <tr>\n",
       "      <th>2</th>\n",
       "      <td>25.000</td>\n",
       "      <td>25.000</td>\n",
       "      <td>25.000</td>\n",
       "      <td>0.000</td>\n",
       "      <td>2015-08-21 18:09:29.092000</td>\n",
       "      <td>NaN</td>\n",
       "      <td>NaN</td>\n",
       "      <td>000226bf2362b3ea92229b29c2edf737</td>\n",
       "      <td>1</td>\n",
       "      <td>1</td>\n",
       "    </tr>\n",
       "    <tr>\n",
       "      <th>3</th>\n",
       "      <td>25.000</td>\n",
       "      <td>25.000</td>\n",
       "      <td>25.000</td>\n",
       "      <td>0.000</td>\n",
       "      <td>2010-04-22 08:38:08.065000</td>\n",
       "      <td>NaN</td>\n",
       "      <td>NaN</td>\n",
       "      <td>000238b44c187c254752736e53ee46f2</td>\n",
       "      <td>1</td>\n",
       "      <td>1</td>\n",
       "    </tr>\n",
       "    <tr>\n",
       "      <th>4</th>\n",
       "      <td>45.910</td>\n",
       "      <td>47.303</td>\n",
       "      <td>50.000</td>\n",
       "      <td>0.040</td>\n",
       "      <td>2012-02-17 15:34:27.202000</td>\n",
       "      <td>856.500</td>\n",
       "      <td>0.999</td>\n",
       "      <td>00029c282384a5d15bf2184b0578630e</td>\n",
       "      <td>3</td>\n",
       "      <td>3</td>\n",
       "    </tr>\n",
       "  </tbody>\n",
       "</table>\n",
       "</div>"
      ],
      "text/plain": [
       "  MinimumContributionAmount MeanContributionAmount MaxContributionAmount CovContributionAmount  FirstContributionTimestamp AvgInterEventTime_sec CovInterEventTime                         ProjectID NumContributions NumContributors\n",
       "0 75.000                    75.000                 75.000                0.000                  2016-05-21 21:25:00.685000  NaN                   NaN               00002eb25d60a09c318efbd0797bffb5  1                1             \n",
       "1 100.000                   100.000                100.000               0.000                  2012-05-11 00:03:44.415000  NaN                   NaN               00005f52c98eeaf92b2414a352b023a4  1                1             \n",
       "2 25.000                    25.000                 25.000                0.000                  2015-08-21 18:09:29.092000  NaN                   NaN               000226bf2362b3ea92229b29c2edf737  1                1             \n",
       "3 25.000                    25.000                 25.000                0.000                  2010-04-22 08:38:08.065000  NaN                   NaN               000238b44c187c254752736e53ee46f2  1                1             \n",
       "4 45.910                    47.303                 50.000                0.040                  2012-02-17 15:34:27.202000 856.500               0.999              00029c282384a5d15bf2184b0578630e  3                3             "
      ]
     },
     "execution_count": 14,
     "metadata": {},
     "output_type": "execute_result"
    }
   ],
   "source": [
    "donations_75 = donations_75.drop(['time_trunc'], axis=1)\n",
    "donations_75 = donations_75[~donations_75['_projectid'].isin(filtered)] # Exclude these projects for project level analysis\n",
    "donations_75 = pd.DataFrame(donations_75.groupby('_projectid').agg(f).as_matrix())\n",
    "donations_75 = donations_75.rename(index=str, columns={0: \"MinimumContributionAmount\", \n",
    "                                               1: \"MeanContributionAmount\",\n",
    "                                               2: \"MaxContributionAmount\",\n",
    "                                               3: \"CovContributionAmount\",\n",
    "                                               4: \"FirstContributionTimestamp\",\n",
    "                                               5: \"AvgInterEventTime_sec\",\n",
    "                                               6: \"CovInterEventTime\",\n",
    "                                               7: \"ProjectID\",\n",
    "                                               8: \"NumContributions\",\n",
    "                                               9: \"NumContributors\"})\n",
    "donations_75 = donations_75[donations_75.MinimumContributionAmount >=0]\n",
    "donations_75.head()"
   ]
  },
  {
   "cell_type": "markdown",
   "metadata": {},
   "source": [
    "#### Donations 100%"
   ]
  },
  {
   "cell_type": "code",
   "execution_count": 15,
   "metadata": {},
   "outputs": [
    {
     "data": {
      "text/html": [
       "<div>\n",
       "<style scoped>\n",
       "    .dataframe tbody tr th:only-of-type {\n",
       "        vertical-align: middle;\n",
       "    }\n",
       "\n",
       "    .dataframe tbody tr th {\n",
       "        vertical-align: top;\n",
       "    }\n",
       "\n",
       "    .dataframe thead th {\n",
       "        text-align: right;\n",
       "    }\n",
       "</style>\n",
       "<table border=\"1\" class=\"dataframe\">\n",
       "  <thead>\n",
       "    <tr style=\"text-align: right;\">\n",
       "      <th></th>\n",
       "      <th>MinimumContributionAmount</th>\n",
       "      <th>MeanContributionAmount</th>\n",
       "      <th>MaxContributionAmount</th>\n",
       "      <th>CovContributionAmount</th>\n",
       "      <th>FirstContributionTimestamp</th>\n",
       "      <th>AvgInterEventTime_sec</th>\n",
       "      <th>CovInterEventTime</th>\n",
       "      <th>ProjectID</th>\n",
       "      <th>NumContributions</th>\n",
       "      <th>NumContributors</th>\n",
       "    </tr>\n",
       "  </thead>\n",
       "  <tbody>\n",
       "    <tr>\n",
       "      <th>0</th>\n",
       "      <td>75.000</td>\n",
       "      <td>75.000</td>\n",
       "      <td>75.000</td>\n",
       "      <td>0.000</td>\n",
       "      <td>2016-05-21 21:25:00.685000</td>\n",
       "      <td>NaN</td>\n",
       "      <td>NaN</td>\n",
       "      <td>00002eb25d60a09c318efbd0797bffb5</td>\n",
       "      <td>1</td>\n",
       "      <td>1</td>\n",
       "    </tr>\n",
       "    <tr>\n",
       "      <th>1</th>\n",
       "      <td>20.000</td>\n",
       "      <td>60.000</td>\n",
       "      <td>100.000</td>\n",
       "      <td>0.667</td>\n",
       "      <td>2012-05-11 00:03:44.415000</td>\n",
       "      <td>2671.000</td>\n",
       "      <td>0.000</td>\n",
       "      <td>00005f52c98eeaf92b2414a352b023a4</td>\n",
       "      <td>2</td>\n",
       "      <td>2</td>\n",
       "    </tr>\n",
       "    <tr>\n",
       "      <th>2</th>\n",
       "      <td>25.000</td>\n",
       "      <td>25.000</td>\n",
       "      <td>25.000</td>\n",
       "      <td>0.000</td>\n",
       "      <td>2016-07-18 20:01:43.691000</td>\n",
       "      <td>NaN</td>\n",
       "      <td>NaN</td>\n",
       "      <td>0000c0bdc0f15bd239cfffa884791a10</td>\n",
       "      <td>1</td>\n",
       "      <td>1</td>\n",
       "    </tr>\n",
       "    <tr>\n",
       "      <th>3</th>\n",
       "      <td>25.000</td>\n",
       "      <td>25.000</td>\n",
       "      <td>25.000</td>\n",
       "      <td>0.000</td>\n",
       "      <td>2015-08-21 18:09:29.092000</td>\n",
       "      <td>NaN</td>\n",
       "      <td>NaN</td>\n",
       "      <td>000226bf2362b3ea92229b29c2edf737</td>\n",
       "      <td>1</td>\n",
       "      <td>1</td>\n",
       "    </tr>\n",
       "    <tr>\n",
       "      <th>4</th>\n",
       "      <td>25.000</td>\n",
       "      <td>25.000</td>\n",
       "      <td>25.000</td>\n",
       "      <td>0.000</td>\n",
       "      <td>2010-04-22 08:38:08.065000</td>\n",
       "      <td>NaN</td>\n",
       "      <td>NaN</td>\n",
       "      <td>000238b44c187c254752736e53ee46f2</td>\n",
       "      <td>1</td>\n",
       "      <td>1</td>\n",
       "    </tr>\n",
       "  </tbody>\n",
       "</table>\n",
       "</div>"
      ],
      "text/plain": [
       "  MinimumContributionAmount MeanContributionAmount MaxContributionAmount CovContributionAmount  FirstContributionTimestamp AvgInterEventTime_sec CovInterEventTime                         ProjectID NumContributions NumContributors\n",
       "0 75.000                    75.000                 75.000                0.000                  2016-05-21 21:25:00.685000  NaN                   NaN               00002eb25d60a09c318efbd0797bffb5  1                1             \n",
       "1 20.000                    60.000                 100.000               0.667                  2012-05-11 00:03:44.415000 2671.000              0.000              00005f52c98eeaf92b2414a352b023a4  2                2             \n",
       "2 25.000                    25.000                 25.000                0.000                  2016-07-18 20:01:43.691000  NaN                   NaN               0000c0bdc0f15bd239cfffa884791a10  1                1             \n",
       "3 25.000                    25.000                 25.000                0.000                  2015-08-21 18:09:29.092000  NaN                   NaN               000226bf2362b3ea92229b29c2edf737  1                1             \n",
       "4 25.000                    25.000                 25.000                0.000                  2010-04-22 08:38:08.065000  NaN                   NaN               000238b44c187c254752736e53ee46f2  1                1             "
      ]
     },
     "execution_count": 15,
     "metadata": {},
     "output_type": "execute_result"
    }
   ],
   "source": [
    "donations_100 = donations_100.drop(['time_trunc'], axis=1)\n",
    "donations_100 = donations_100[~donations_100['_projectid'].isin(filtered)] # Exclude these projects for project level analysis\n",
    "donations_100 = pd.DataFrame(donations_100.groupby('_projectid').agg(f).as_matrix())\n",
    "donations_100 = donations_100.rename(index=str, columns={0: \"MinimumContributionAmount\", \n",
    "                                               1: \"MeanContributionAmount\",\n",
    "                                               2: \"MaxContributionAmount\",\n",
    "                                               3: \"CovContributionAmount\",\n",
    "                                               4: \"FirstContributionTimestamp\",\n",
    "                                               5: \"AvgInterEventTime_sec\",\n",
    "                                               6: \"CovInterEventTime\",\n",
    "                                               7: \"ProjectID\",\n",
    "                                               8: \"NumContributions\",\n",
    "                                               9: \"NumContributors\"})\n",
    "donations_100 = donations_100[donations_100.MinimumContributionAmount >=0]\n",
    "donations_100.head()"
   ]
  },
  {
   "cell_type": "markdown",
   "metadata": {},
   "source": [
    "## Projects"
   ]
  },
  {
   "cell_type": "code",
   "execution_count": 16,
   "metadata": {},
   "outputs": [
    {
     "data": {
      "text/html": [
       "<div>\n",
       "<style scoped>\n",
       "    .dataframe tbody tr th:only-of-type {\n",
       "        vertical-align: middle;\n",
       "    }\n",
       "\n",
       "    .dataframe tbody tr th {\n",
       "        vertical-align: top;\n",
       "    }\n",
       "\n",
       "    .dataframe thead th {\n",
       "        text-align: right;\n",
       "    }\n",
       "</style>\n",
       "<table border=\"1\" class=\"dataframe\">\n",
       "  <thead>\n",
       "    <tr style=\"text-align: right;\">\n",
       "      <th></th>\n",
       "      <th>ProjectID</th>\n",
       "      <th>AmountRaised</th>\n",
       "      <th>Status</th>\n",
       "      <th>date_posted</th>\n",
       "      <th>date_completed</th>\n",
       "      <th>school_metro</th>\n",
       "      <th>primary_focus_area</th>\n",
       "      <th>poverty_level</th>\n",
       "      <th>grade_level</th>\n",
       "      <th>resource_type</th>\n",
       "      <th>teacher_prefix</th>\n",
       "    </tr>\n",
       "  </thead>\n",
       "  <tbody>\n",
       "    <tr>\n",
       "      <th>0</th>\n",
       "      <td>7342bd01a2a7725ce033a179d22e382d</td>\n",
       "      <td>251.900</td>\n",
       "      <td>1</td>\n",
       "      <td>2002-09-13</td>\n",
       "      <td>2002-09-23</td>\n",
       "      <td>3.000</td>\n",
       "      <td>46</td>\n",
       "      <td>1</td>\n",
       "      <td>64</td>\n",
       "      <td>54</td>\n",
       "      <td>47</td>\n",
       "    </tr>\n",
       "    <tr>\n",
       "      <th>1</th>\n",
       "      <td>ed87d61cef7fda668ae70be7e0c6cebf</td>\n",
       "      <td>137.000</td>\n",
       "      <td>1</td>\n",
       "      <td>2002-09-13</td>\n",
       "      <td>2002-09-23</td>\n",
       "      <td>0.000</td>\n",
       "      <td>49</td>\n",
       "      <td>1</td>\n",
       "      <td>65</td>\n",
       "      <td>52</td>\n",
       "      <td>50</td>\n",
       "    </tr>\n",
       "    <tr>\n",
       "      <th>2</th>\n",
       "      <td>b56b502d25666e29550d107bf7e17910</td>\n",
       "      <td>125.000</td>\n",
       "      <td>1</td>\n",
       "      <td>2002-09-16</td>\n",
       "      <td>2002-09-19</td>\n",
       "      <td>0.000</td>\n",
       "      <td>46</td>\n",
       "      <td>3</td>\n",
       "      <td>63</td>\n",
       "      <td>54</td>\n",
       "      <td>50</td>\n",
       "    </tr>\n",
       "    <tr>\n",
       "      <th>3</th>\n",
       "      <td>016f03312995d5c89d6b348be4682166</td>\n",
       "      <td>205.000</td>\n",
       "      <td>1</td>\n",
       "      <td>2002-09-17</td>\n",
       "      <td>2002-09-17</td>\n",
       "      <td>3.000</td>\n",
       "      <td>48</td>\n",
       "      <td>0</td>\n",
       "      <td>66</td>\n",
       "      <td>54</td>\n",
       "      <td>50</td>\n",
       "    </tr>\n",
       "    <tr>\n",
       "      <th>4</th>\n",
       "      <td>cf6275558534ca1b276b0d8d5130dd9a</td>\n",
       "      <td>264.000</td>\n",
       "      <td>1</td>\n",
       "      <td>2002-09-17</td>\n",
       "      <td>2002-09-23</td>\n",
       "      <td>3.000</td>\n",
       "      <td>46</td>\n",
       "      <td>1</td>\n",
       "      <td>66</td>\n",
       "      <td>54</td>\n",
       "      <td>50</td>\n",
       "    </tr>\n",
       "  </tbody>\n",
       "</table>\n",
       "</div>"
      ],
      "text/plain": [
       "                          ProjectID  AmountRaised  Status date_posted date_completed  school_metro  primary_focus_area  poverty_level  grade_level  resource_type  teacher_prefix\n",
       "0  7342bd01a2a7725ce033a179d22e382d 251.900        1      2002-09-13  2002-09-23     3.000          46                  1              64           54             47            \n",
       "1  ed87d61cef7fda668ae70be7e0c6cebf 137.000        1      2002-09-13  2002-09-23     0.000          49                  1              65           52             50            \n",
       "2  b56b502d25666e29550d107bf7e17910 125.000        1      2002-09-16  2002-09-19     0.000          46                  3              63           54             50            \n",
       "3  016f03312995d5c89d6b348be4682166 205.000        1      2002-09-17  2002-09-17     3.000          48                  0              66           54             50            \n",
       "4  cf6275558534ca1b276b0d8d5130dd9a 264.000        1      2002-09-17  2002-09-23     3.000          46                  1              66           54             50            "
      ]
     },
     "execution_count": 16,
     "metadata": {},
     "output_type": "execute_result"
    }
   ],
   "source": [
    "columns = [\"_projectid\", \"total_donations\", \"funding_status\", \"date_posted\", \"date_completed\",\n",
    "           \"school_metro\", \"primary_focus_area\", \"poverty_level\", \"grade_level\", \"resource_type\", \"teacher_prefix\"]\n",
    "statusmap = {'completed':1, 'expired':0, 'live':2, 'reallocated':3}\n",
    "metromap = {'rural':1, 'suburban':2, 'urban':3}\n",
    "projects = pd.read_csv('../Data/projects.gz', escapechar='\\\\', names=['_projectid', '_teacher_acctid', '_schoolid', 'school_ncesid', 'school_latitude', 'school_longitude', 'school_city', 'school_state', 'school_zip', 'school_metro', 'school_district', 'school_county', 'school_charter', 'school_magnet', 'school_year_round', 'school_nlns', 'school_kipp', 'school_charter_ready_promise', 'teacher_prefix', 'teacher_teach_for_america', 'teacher_ny_teaching_fellow', 'primary_focus_subject', 'primary_focus_area' ,'secondary_focus_subject', 'secondary_focus_area', 'resource_type', 'poverty_level', 'grade_level', 'vendor_shipping_charges', 'sales_tax', 'payment_processing_charges', 'fulfillment_labor_materials', 'total_price_excluding_optional_support', 'total_price_including_optional_support', 'students_reached', 'total_donations', 'num_donors', 'eligible_double_your_impact_match', 'eligible_almost_home_match', 'funding_status', 'date_posted', 'date_completed', 'date_thank_you_packet_mailed', 'date_expiration'])\n",
    "projects = projects[columns]\n",
    "projects[\"date_posted\"] = pd.to_datetime(projects.date_posted)\n",
    "projects[\"date_completed\"] = pd.to_datetime(projects.date_completed)\n",
    "projects = projects.applymap(lambda s: statusmap.get(s) if s in statusmap else s)\n",
    "projects = projects.applymap(lambda s: metromap.get(s) if s in metromap else s)\n",
    "projects['school_metro'] = projects['school_metro'].fillna(0)\n",
    "projects['primary_focus_area'] = le.fit_transform(projects.primary_focus_area)\n",
    "projects['poverty_level'] = le.fit_transform(projects.poverty_level)\n",
    "projects['grade_level'] = le.fit_transform(projects.grade_level)\n",
    "projects['resource_type'] = le.fit_transform(projects.resource_type)\n",
    "projects['teacher_prefix'] = le.fit_transform(projects.teacher_prefix)\n",
    "projects = projects.rename(index=str, columns={\"_projectid\": \"ProjectID\",\n",
    "                                               \"total_donations\": \"AmountRaised\",\n",
    "                                               \"funding_status\": \"Status\"})\n",
    "projects.head(5)"
   ]
  },
  {
   "cell_type": "markdown",
   "metadata": {},
   "source": [
    "## Merge Data"
   ]
  },
  {
   "cell_type": "code",
   "execution_count": 17,
   "metadata": {},
   "outputs": [],
   "source": [
    "data_25 = donations_25.merge(projects, on=\"ProjectID\", how=\"left\")\n",
    "data_25[\"TimeToFirstContribution (sec)\"] = (pd.to_datetime(data_25.FirstContributionTimestamp) - pd.to_datetime(data_25.date_posted)).dt.seconds\n",
    "data_25[\"Duration (days)\"] = (pd.to_datetime(data_25.date_completed) - pd.to_datetime(data_25.date_posted)).dt.days\n",
    "data_25 = data_25[data_25[\"Duration (days)\"] >= 0]\n",
    "data_25 = data_25[data_25.Status != 2]\n",
    "data_25[\"Status\"] = (data_25.Status == 1).astype(\"int\")\n",
    "data_25 = data_25.replace([np.inf, -np.inf], np.nan)\n",
    "\n",
    "data_50 = donations_50.merge(projects, on=\"ProjectID\", how=\"left\")\n",
    "data_50[\"TimeToFirstContribution (sec)\"] = (pd.to_datetime(data_50.FirstContributionTimestamp) - pd.to_datetime(data_50.date_posted)).dt.seconds\n",
    "data_50[\"Duration (days)\"] = (pd.to_datetime(data_50.date_completed) - pd.to_datetime(data_50.date_posted)).dt.days\n",
    "data_50 = data_50[data_50[\"Duration (days)\"] >= 0]\n",
    "data_50 = data_50[data_50.Status != 2]\n",
    "data_50[\"Status\"] = (data_50.Status == 1).astype(\"int\")\n",
    "data_50 = data_50.replace([np.inf, -np.inf], np.nan)\n",
    "\n",
    "data_75 = donations_75.merge(projects, on=\"ProjectID\", how=\"left\")\n",
    "data_75[\"TimeToFirstContribution (sec)\"] = (pd.to_datetime(data_75.FirstContributionTimestamp) - pd.to_datetime(data_75.date_posted)).dt.seconds\n",
    "data_75[\"Duration (days)\"] = (pd.to_datetime(data_75.date_completed) - pd.to_datetime(data_75.date_posted)).dt.days\n",
    "data_75 = data_75[data_75[\"Duration (days)\"] >= 0]\n",
    "data_75 = data_75[data_75.Status != 2]\n",
    "data_75[\"Status\"] = (data_75.Status == 1).astype(\"int\")\n",
    "data_75 = data_75.replace([np.inf, -np.inf], np.nan)\n",
    "\n",
    "data_100 = donations_100.merge(projects, on=\"ProjectID\", how=\"left\")\n",
    "data_100[\"TimeToFirstContribution (sec)\"] = (pd.to_datetime(data_100.FirstContributionTimestamp) - pd.to_datetime(data_100.date_posted)).dt.seconds\n",
    "data_100[\"Duration (days)\"] = (pd.to_datetime(data_100.date_completed) - pd.to_datetime(data_100.date_posted)).dt.days\n",
    "data_100 = data_100[data_100[\"Duration (days)\"] >= 0]\n",
    "data_100 = data_100[data_100.Status != 2]\n",
    "data_100[\"Status\"] = (data_100.Status == 1).astype(\"int\")\n",
    "data_100 = data_100.replace([np.inf, -np.inf], np.nan)\n",
    "# data.head()\n",
    "#TODO: Drop timestamp columns"
   ]
  },
  {
   "cell_type": "markdown",
   "metadata": {},
   "source": [
    "## Model Evaluation"
   ]
  },
  {
   "cell_type": "code",
   "execution_count": 18,
   "metadata": {},
   "outputs": [],
   "source": [
    "features_5 = [\"NumContributors\", \"CovInterEventTime\", \"CovContributionAmount\", \"TimeToFirstContribution (sec)\", 'Duration (days)']"
   ]
  },
  {
   "cell_type": "markdown",
   "metadata": {},
   "source": [
    "### Bids 25%"
   ]
  },
  {
   "cell_type": "code",
   "execution_count": 19,
   "metadata": {},
   "outputs": [
    {
     "name": "stdout",
     "output_type": "stream",
     "text": [
      "Counter({1: 32299, 0: 99})\n",
      "Completed QDA in 0.1209026 seconds\n",
      "Completed CART in 0.2960282 seconds\n",
      "Completed GNB in 0.0857005 seconds\n",
      "Completed RF in 42.8608174 seconds\n",
      "Completed LR in 0.3760011 seconds\n",
      "Completed ADB in 4.3865418 seconds\n"
     ]
    },
    {
     "data": {
      "text/html": [
       "<div>\n",
       "<style scoped>\n",
       "    .dataframe tbody tr th:only-of-type {\n",
       "        vertical-align: middle;\n",
       "    }\n",
       "\n",
       "    .dataframe tbody tr th {\n",
       "        vertical-align: top;\n",
       "    }\n",
       "\n",
       "    .dataframe thead th {\n",
       "        text-align: right;\n",
       "    }\n",
       "</style>\n",
       "<table border=\"1\" class=\"dataframe\">\n",
       "  <thead>\n",
       "    <tr style=\"text-align: right;\">\n",
       "      <th></th>\n",
       "      <th>Model</th>\n",
       "      <th>Accuracy</th>\n",
       "      <th>Precision</th>\n",
       "      <th>Recall</th>\n",
       "      <th>F1</th>\n",
       "      <th>AUC</th>\n",
       "    </tr>\n",
       "  </thead>\n",
       "  <tbody>\n",
       "    <tr>\n",
       "      <th>0</th>\n",
       "      <td>QDA</td>\n",
       "      <td>0.803</td>\n",
       "      <td>0.999</td>\n",
       "      <td>0.803</td>\n",
       "      <td>0.890</td>\n",
       "      <td>0.725</td>\n",
       "    </tr>\n",
       "    <tr>\n",
       "      <th>1</th>\n",
       "      <td>CART</td>\n",
       "      <td>0.993</td>\n",
       "      <td>0.997</td>\n",
       "      <td>0.996</td>\n",
       "      <td>0.997</td>\n",
       "      <td>0.498</td>\n",
       "    </tr>\n",
       "    <tr>\n",
       "      <th>2</th>\n",
       "      <td>GNB</td>\n",
       "      <td>0.835</td>\n",
       "      <td>0.999</td>\n",
       "      <td>0.836</td>\n",
       "      <td>0.910</td>\n",
       "      <td>0.721</td>\n",
       "    </tr>\n",
       "    <tr>\n",
       "      <th>3</th>\n",
       "      <td>RF</td>\n",
       "      <td>0.997</td>\n",
       "      <td>0.997</td>\n",
       "      <td>1.000</td>\n",
       "      <td>0.998</td>\n",
       "      <td>0.500</td>\n",
       "    </tr>\n",
       "    <tr>\n",
       "      <th>4</th>\n",
       "      <td>LR</td>\n",
       "      <td>0.997</td>\n",
       "      <td>0.997</td>\n",
       "      <td>1.000</td>\n",
       "      <td>0.998</td>\n",
       "      <td>0.500</td>\n",
       "    </tr>\n",
       "    <tr>\n",
       "      <th>5</th>\n",
       "      <td>ADB</td>\n",
       "      <td>0.997</td>\n",
       "      <td>0.997</td>\n",
       "      <td>1.000</td>\n",
       "      <td>0.998</td>\n",
       "      <td>0.500</td>\n",
       "    </tr>\n",
       "  </tbody>\n",
       "</table>\n",
       "</div>"
      ],
      "text/plain": [
       "  Model  Accuracy  Precision  Recall    F1   AUC\n",
       "0  QDA  0.803     0.999      0.803   0.890 0.725\n",
       "1  CART 0.993     0.997      0.996   0.997 0.498\n",
       "2  GNB  0.835     0.999      0.836   0.910 0.721\n",
       "3  RF   0.997     0.997      1.000   0.998 0.500\n",
       "4  LR   0.997     0.997      1.000   0.998 0.500\n",
       "5  ADB  0.997     0.997      1.000   0.998 0.500"
      ]
     },
     "execution_count": 19,
     "metadata": {},
     "output_type": "execute_result"
    }
   ],
   "source": [
    "X = data_25[features_5].fillna(-1).as_matrix()\n",
    "X = scaler.fit_transform(X)\n",
    "y = data_25['Status'].as_matrix()\n",
    "print Counter(y)\n",
    "evaluation = evaluation_summary(X,y)\n",
    "evaluation"
   ]
  },
  {
   "cell_type": "code",
   "execution_count": 28,
   "metadata": {},
   "outputs": [
    {
     "data": {
      "application/vnd.jupyter.widget-view+json": {
       "model_id": "22307c547c7a4436984df1cdd9382227",
       "version_major": 2,
       "version_minor": 0
      },
      "text/plain": [
       "HBox(children=(IntProgress(value=0), HTML(value=u'')))"
      ]
     },
     "metadata": {},
     "output_type": "display_data"
    },
    {
     "name": "stdout",
     "output_type": "stream",
     "text": [
      "Mean AUC 0.6597474747474749\n",
      "St. Dev 0.03610072606197576\n",
      "Mean N 198.0\n"
     ]
    }
   ],
   "source": [
    "classifier = classifiers.get(\"RF\")\n",
    "estimates = []\n",
    "n_size = []\n",
    "for x in tqdm_notebook(range(0,100)):\n",
    "    df_majority = data_25[data_25.Status==1]\n",
    "    df_minority = data_25[data_25.Status==0]\n",
    "    samples = len(df_minority)\n",
    "    df_majority_downsampled = resample(df_majority,\n",
    "                                      replace = False,\n",
    "                                      n_samples = samples)\n",
    "    downsampled = pd.concat([df_majority_downsampled, df_minority])\n",
    "    X = downsampled[features_5].fillna(-1).as_matrix()\n",
    "    X = scaler.fit_transform(X)\n",
    "    y = downsampled['Status'].as_matrix()\n",
    "    y_pred = run_cv(X,y,classifier)\n",
    "    estimates.append(auc(y, y_pred))\n",
    "    n_size.append(samples*2)\n",
    "print \"Mean AUC\", np.mean(estimates)\n",
    "print \"St. Dev\", np.std(estimates)\n",
    "print \"Mean N\", np.mean(n_size)"
   ]
  },
  {
   "cell_type": "markdown",
   "metadata": {},
   "source": [
    "### Bids 50%"
   ]
  },
  {
   "cell_type": "code",
   "execution_count": 20,
   "metadata": {},
   "outputs": [
    {
     "name": "stdout",
     "output_type": "stream",
     "text": [
      "Counter({1: 58199, 0: 160})\n",
      "Completed QDA in 0.2274489 seconds\n",
      "Completed CART in 0.9420091 seconds\n",
      "Completed GNB in 0.2560228 seconds\n",
      "Completed RF in 88.4730204 seconds\n",
      "Completed LR in 0.6860423 seconds\n",
      "Completed ADB in 7.0275405 seconds\n"
     ]
    },
    {
     "data": {
      "text/html": [
       "<div>\n",
       "<style scoped>\n",
       "    .dataframe tbody tr th:only-of-type {\n",
       "        vertical-align: middle;\n",
       "    }\n",
       "\n",
       "    .dataframe tbody tr th {\n",
       "        vertical-align: top;\n",
       "    }\n",
       "\n",
       "    .dataframe thead th {\n",
       "        text-align: right;\n",
       "    }\n",
       "</style>\n",
       "<table border=\"1\" class=\"dataframe\">\n",
       "  <thead>\n",
       "    <tr style=\"text-align: right;\">\n",
       "      <th></th>\n",
       "      <th>Model</th>\n",
       "      <th>Accuracy</th>\n",
       "      <th>Precision</th>\n",
       "      <th>Recall</th>\n",
       "      <th>F1</th>\n",
       "      <th>AUC</th>\n",
       "    </tr>\n",
       "  </thead>\n",
       "  <tbody>\n",
       "    <tr>\n",
       "      <th>0</th>\n",
       "      <td>QDA</td>\n",
       "      <td>0.849</td>\n",
       "      <td>0.999</td>\n",
       "      <td>0.850</td>\n",
       "      <td>0.918</td>\n",
       "      <td>0.709</td>\n",
       "    </tr>\n",
       "    <tr>\n",
       "      <th>1</th>\n",
       "      <td>CART</td>\n",
       "      <td>0.994</td>\n",
       "      <td>0.997</td>\n",
       "      <td>0.997</td>\n",
       "      <td>0.997</td>\n",
       "      <td>0.498</td>\n",
       "    </tr>\n",
       "    <tr>\n",
       "      <th>2</th>\n",
       "      <td>GNB</td>\n",
       "      <td>0.865</td>\n",
       "      <td>0.999</td>\n",
       "      <td>0.866</td>\n",
       "      <td>0.928</td>\n",
       "      <td>0.708</td>\n",
       "    </tr>\n",
       "    <tr>\n",
       "      <th>3</th>\n",
       "      <td>RF</td>\n",
       "      <td>0.997</td>\n",
       "      <td>0.997</td>\n",
       "      <td>1.000</td>\n",
       "      <td>0.999</td>\n",
       "      <td>0.500</td>\n",
       "    </tr>\n",
       "    <tr>\n",
       "      <th>4</th>\n",
       "      <td>LR</td>\n",
       "      <td>0.997</td>\n",
       "      <td>0.997</td>\n",
       "      <td>1.000</td>\n",
       "      <td>0.999</td>\n",
       "      <td>0.500</td>\n",
       "    </tr>\n",
       "    <tr>\n",
       "      <th>5</th>\n",
       "      <td>ADB</td>\n",
       "      <td>0.997</td>\n",
       "      <td>0.997</td>\n",
       "      <td>1.000</td>\n",
       "      <td>0.999</td>\n",
       "      <td>0.500</td>\n",
       "    </tr>\n",
       "  </tbody>\n",
       "</table>\n",
       "</div>"
      ],
      "text/plain": [
       "  Model  Accuracy  Precision  Recall    F1   AUC\n",
       "0  QDA  0.849     0.999      0.850   0.918 0.709\n",
       "1  CART 0.994     0.997      0.997   0.997 0.498\n",
       "2  GNB  0.865     0.999      0.866   0.928 0.708\n",
       "3  RF   0.997     0.997      1.000   0.999 0.500\n",
       "4  LR   0.997     0.997      1.000   0.999 0.500\n",
       "5  ADB  0.997     0.997      1.000   0.999 0.500"
      ]
     },
     "execution_count": 20,
     "metadata": {},
     "output_type": "execute_result"
    }
   ],
   "source": [
    "X = data_50[features_5].fillna(-1).as_matrix()\n",
    "X = scaler.fit_transform(X)\n",
    "y = data_50['Status'].as_matrix()\n",
    "print Counter(y)\n",
    "evaluation = evaluation_summary(X,y)\n",
    "evaluation"
   ]
  },
  {
   "cell_type": "code",
   "execution_count": 29,
   "metadata": {},
   "outputs": [
    {
     "data": {
      "application/vnd.jupyter.widget-view+json": {
       "model_id": "388290fa8fd54830b4d8dd59d1ea02d3",
       "version_major": 2,
       "version_minor": 0
      },
      "text/plain": [
       "HBox(children=(IntProgress(value=0), HTML(value=u'')))"
      ]
     },
     "metadata": {},
     "output_type": "display_data"
    },
    {
     "name": "stdout",
     "output_type": "stream",
     "text": [
      "Mean AUC 0.671875\n",
      "St. Dev 0.02857965841293419\n",
      "Mean N 320.0\n"
     ]
    }
   ],
   "source": [
    "classifier = classifiers.get(\"RF\")\n",
    "estimates = []\n",
    "n_size = []\n",
    "for x in tqdm_notebook(range(0,100)):\n",
    "    df_majority = data_50[data_50.Status==1]\n",
    "    df_minority = data_50[data_50.Status==0]\n",
    "    samples = len(df_minority)\n",
    "    df_majority_downsampled = resample(df_majority,\n",
    "                                      replace = False,\n",
    "                                      n_samples = samples)\n",
    "    downsampled = pd.concat([df_majority_downsampled, df_minority])\n",
    "    X = downsampled[features_5].fillna(-1).as_matrix()\n",
    "    X = scaler.fit_transform(X)\n",
    "    y = downsampled['Status'].as_matrix()\n",
    "    y_pred = run_cv(X,y,classifier)\n",
    "    estimates.append(auc(y, y_pred))\n",
    "    n_size.append(samples*2)\n",
    "print \"Mean AUC\", np.mean(estimates)\n",
    "print \"St. Dev\", np.std(estimates)\n",
    "print \"Mean N\", np.mean(n_size)"
   ]
  },
  {
   "cell_type": "markdown",
   "metadata": {},
   "source": [
    "### Bids 75%"
   ]
  },
  {
   "cell_type": "code",
   "execution_count": 21,
   "metadata": {},
   "outputs": [
    {
     "name": "stdout",
     "output_type": "stream",
     "text": [
      "Counter({1: 72353, 0: 206})\n",
      "Completed QDA in 0.2104235 seconds\n",
      "Completed CART in 0.6894502 seconds\n",
      "Completed GNB in 0.2051059 seconds\n",
      "Completed RF in 116.8026365 seconds\n",
      "Completed LR in 0.8165364 seconds\n",
      "Completed ADB in 8.6251068 seconds\n"
     ]
    },
    {
     "data": {
      "text/html": [
       "<div>\n",
       "<style scoped>\n",
       "    .dataframe tbody tr th:only-of-type {\n",
       "        vertical-align: middle;\n",
       "    }\n",
       "\n",
       "    .dataframe tbody tr th {\n",
       "        vertical-align: top;\n",
       "    }\n",
       "\n",
       "    .dataframe thead th {\n",
       "        text-align: right;\n",
       "    }\n",
       "</style>\n",
       "<table border=\"1\" class=\"dataframe\">\n",
       "  <thead>\n",
       "    <tr style=\"text-align: right;\">\n",
       "      <th></th>\n",
       "      <th>Model</th>\n",
       "      <th>Accuracy</th>\n",
       "      <th>Precision</th>\n",
       "      <th>Recall</th>\n",
       "      <th>F1</th>\n",
       "      <th>AUC</th>\n",
       "    </tr>\n",
       "  </thead>\n",
       "  <tbody>\n",
       "    <tr>\n",
       "      <th>0</th>\n",
       "      <td>QDA</td>\n",
       "      <td>0.836</td>\n",
       "      <td>0.998</td>\n",
       "      <td>0.837</td>\n",
       "      <td>0.911</td>\n",
       "      <td>0.688</td>\n",
       "    </tr>\n",
       "    <tr>\n",
       "      <th>1</th>\n",
       "      <td>CART</td>\n",
       "      <td>0.994</td>\n",
       "      <td>0.997</td>\n",
       "      <td>0.997</td>\n",
       "      <td>0.997</td>\n",
       "      <td>0.501</td>\n",
       "    </tr>\n",
       "    <tr>\n",
       "      <th>2</th>\n",
       "      <td>GNB</td>\n",
       "      <td>0.860</td>\n",
       "      <td>0.998</td>\n",
       "      <td>0.861</td>\n",
       "      <td>0.924</td>\n",
       "      <td>0.695</td>\n",
       "    </tr>\n",
       "    <tr>\n",
       "      <th>3</th>\n",
       "      <td>RF</td>\n",
       "      <td>0.997</td>\n",
       "      <td>0.997</td>\n",
       "      <td>1.000</td>\n",
       "      <td>0.999</td>\n",
       "      <td>0.500</td>\n",
       "    </tr>\n",
       "    <tr>\n",
       "      <th>4</th>\n",
       "      <td>LR</td>\n",
       "      <td>0.997</td>\n",
       "      <td>0.997</td>\n",
       "      <td>1.000</td>\n",
       "      <td>0.998</td>\n",
       "      <td>0.500</td>\n",
       "    </tr>\n",
       "    <tr>\n",
       "      <th>5</th>\n",
       "      <td>ADB</td>\n",
       "      <td>0.997</td>\n",
       "      <td>0.997</td>\n",
       "      <td>1.000</td>\n",
       "      <td>0.999</td>\n",
       "      <td>0.500</td>\n",
       "    </tr>\n",
       "  </tbody>\n",
       "</table>\n",
       "</div>"
      ],
      "text/plain": [
       "  Model  Accuracy  Precision  Recall    F1   AUC\n",
       "0  QDA  0.836     0.998      0.837   0.911 0.688\n",
       "1  CART 0.994     0.997      0.997   0.997 0.501\n",
       "2  GNB  0.860     0.998      0.861   0.924 0.695\n",
       "3  RF   0.997     0.997      1.000   0.999 0.500\n",
       "4  LR   0.997     0.997      1.000   0.998 0.500\n",
       "5  ADB  0.997     0.997      1.000   0.999 0.500"
      ]
     },
     "execution_count": 21,
     "metadata": {},
     "output_type": "execute_result"
    }
   ],
   "source": [
    "X = data_75[features_5].fillna(-1).as_matrix()\n",
    "X = scaler.fit_transform(X)\n",
    "y = data_75['Status'].as_matrix()\n",
    "print Counter(y)\n",
    "evaluation = evaluation_summary(X,y)\n",
    "evaluation"
   ]
  },
  {
   "cell_type": "code",
   "execution_count": 30,
   "metadata": {},
   "outputs": [
    {
     "data": {
      "application/vnd.jupyter.widget-view+json": {
       "model_id": "7eb19e7136d443c4aac94bb0ed552eb8",
       "version_major": 2,
       "version_minor": 0
      },
      "text/plain": [
       "HBox(children=(IntProgress(value=0), HTML(value=u'')))"
      ]
     },
     "metadata": {},
     "output_type": "display_data"
    },
    {
     "name": "stdout",
     "output_type": "stream",
     "text": [
      "Mean AUC 0.6591990291262135\n",
      "St. Dev 0.022854477711712482\n",
      "Mean N 412.0\n"
     ]
    }
   ],
   "source": [
    "classifier = classifiers.get(\"RF\")\n",
    "estimates = []\n",
    "n_size = []\n",
    "for x in tqdm_notebook(range(0,100)):\n",
    "    df_majority = data_75[data_75.Status==1]\n",
    "    df_minority = data_75[data_75.Status==0]\n",
    "    samples = len(df_minority)\n",
    "    df_majority_downsampled = resample(df_majority,\n",
    "                                      replace = False,\n",
    "                                      n_samples = samples)\n",
    "    downsampled = pd.concat([df_majority_downsampled, df_minority])\n",
    "    X = downsampled[features_5].fillna(-1).as_matrix()\n",
    "    X = scaler.fit_transform(X)\n",
    "    y = downsampled['Status'].as_matrix()\n",
    "    y_pred = run_cv(X,y,classifier)\n",
    "    estimates.append(auc(y, y_pred))\n",
    "    n_size.append(samples*2)\n",
    "print \"Mean AUC\", np.mean(estimates)\n",
    "print \"St. Dev\", np.std(estimates)\n",
    "print \"Mean N\", np.mean(n_size)"
   ]
  },
  {
   "cell_type": "markdown",
   "metadata": {},
   "source": [
    "### Bids 100%"
   ]
  },
  {
   "cell_type": "code",
   "execution_count": 22,
   "metadata": {},
   "outputs": [
    {
     "name": "stdout",
     "output_type": "stream",
     "text": [
      "Counter({1: 90038, 0: 271})\n",
      "Completed QDA in 0.2706302 seconds\n",
      "Completed CART in 1.0876853 seconds\n",
      "Completed GNB in 0.2391815 seconds\n",
      "Completed RF in 167.2447071 seconds\n",
      "Completed LR in 1.3648916 seconds\n",
      "Completed ADB in 12.6613823 seconds\n"
     ]
    },
    {
     "data": {
      "text/html": [
       "<div>\n",
       "<style scoped>\n",
       "    .dataframe tbody tr th:only-of-type {\n",
       "        vertical-align: middle;\n",
       "    }\n",
       "\n",
       "    .dataframe tbody tr th {\n",
       "        vertical-align: top;\n",
       "    }\n",
       "\n",
       "    .dataframe thead th {\n",
       "        text-align: right;\n",
       "    }\n",
       "</style>\n",
       "<table border=\"1\" class=\"dataframe\">\n",
       "  <thead>\n",
       "    <tr style=\"text-align: right;\">\n",
       "      <th></th>\n",
       "      <th>Model</th>\n",
       "      <th>Accuracy</th>\n",
       "      <th>Precision</th>\n",
       "      <th>Recall</th>\n",
       "      <th>F1</th>\n",
       "      <th>AUC</th>\n",
       "    </tr>\n",
       "  </thead>\n",
       "  <tbody>\n",
       "    <tr>\n",
       "      <th>0</th>\n",
       "      <td>QDA</td>\n",
       "      <td>0.847</td>\n",
       "      <td>0.998</td>\n",
       "      <td>0.848</td>\n",
       "      <td>0.917</td>\n",
       "      <td>0.712</td>\n",
       "    </tr>\n",
       "    <tr>\n",
       "      <th>1</th>\n",
       "      <td>CART</td>\n",
       "      <td>0.994</td>\n",
       "      <td>0.997</td>\n",
       "      <td>0.997</td>\n",
       "      <td>0.997</td>\n",
       "      <td>0.500</td>\n",
       "    </tr>\n",
       "    <tr>\n",
       "      <th>2</th>\n",
       "      <td>GNB</td>\n",
       "      <td>0.861</td>\n",
       "      <td>0.998</td>\n",
       "      <td>0.862</td>\n",
       "      <td>0.925</td>\n",
       "      <td>0.702</td>\n",
       "    </tr>\n",
       "    <tr>\n",
       "      <th>3</th>\n",
       "      <td>RF</td>\n",
       "      <td>0.997</td>\n",
       "      <td>0.997</td>\n",
       "      <td>1.000</td>\n",
       "      <td>0.998</td>\n",
       "      <td>0.500</td>\n",
       "    </tr>\n",
       "    <tr>\n",
       "      <th>4</th>\n",
       "      <td>LR</td>\n",
       "      <td>0.997</td>\n",
       "      <td>0.997</td>\n",
       "      <td>1.000</td>\n",
       "      <td>0.998</td>\n",
       "      <td>0.500</td>\n",
       "    </tr>\n",
       "    <tr>\n",
       "      <th>5</th>\n",
       "      <td>ADB</td>\n",
       "      <td>0.997</td>\n",
       "      <td>0.997</td>\n",
       "      <td>1.000</td>\n",
       "      <td>0.998</td>\n",
       "      <td>0.500</td>\n",
       "    </tr>\n",
       "  </tbody>\n",
       "</table>\n",
       "</div>"
      ],
      "text/plain": [
       "  Model  Accuracy  Precision  Recall    F1   AUC\n",
       "0  QDA  0.847     0.998      0.848   0.917 0.712\n",
       "1  CART 0.994     0.997      0.997   0.997 0.500\n",
       "2  GNB  0.861     0.998      0.862   0.925 0.702\n",
       "3  RF   0.997     0.997      1.000   0.998 0.500\n",
       "4  LR   0.997     0.997      1.000   0.998 0.500\n",
       "5  ADB  0.997     0.997      1.000   0.998 0.500"
      ]
     },
     "execution_count": 22,
     "metadata": {},
     "output_type": "execute_result"
    }
   ],
   "source": [
    "X = data_100[features_5].fillna(-1).as_matrix()\n",
    "X = scaler.fit_transform(X)\n",
    "y = data_100['Status'].as_matrix()\n",
    "print Counter(y)\n",
    "evaluation = evaluation_summary(X,y)\n",
    "evaluation"
   ]
  },
  {
   "cell_type": "code",
   "execution_count": 31,
   "metadata": {},
   "outputs": [
    {
     "data": {
      "application/vnd.jupyter.widget-view+json": {
       "model_id": "0d0e155c988a462d9924cac1530b4449",
       "version_major": 2,
       "version_minor": 0
      },
      "text/plain": [
       "HBox(children=(IntProgress(value=0), HTML(value=u'')))"
      ]
     },
     "metadata": {},
     "output_type": "display_data"
    },
    {
     "name": "stdout",
     "output_type": "stream",
     "text": [
      "Mean AUC 0.69\n",
      "St. Dev 0.01973217689529376\n",
      "Mean N 542.0\n"
     ]
    }
   ],
   "source": [
    "classifier = classifiers.get(\"RF\")\n",
    "estimates = []\n",
    "n_size = []\n",
    "for x in tqdm_notebook(range(0,100)):\n",
    "    df_majority = data_100[data_100.Status==1]\n",
    "    df_minority = data_100[data_100.Status==0]\n",
    "    samples = len(df_minority)\n",
    "    df_majority_downsampled = resample(df_majority,\n",
    "                                      replace = False,\n",
    "                                      n_samples = samples)\n",
    "    downsampled = pd.concat([df_majority_downsampled, df_minority])\n",
    "    X = downsampled[features_5].fillna(-1).as_matrix()\n",
    "    X = scaler.fit_transform(X)\n",
    "    y = downsampled['Status'].as_matrix()\n",
    "    y_pred = run_cv(X,y,classifier)\n",
    "    estimates.append(auc(y, y_pred))\n",
    "    n_size.append(samples*2)\n",
    "print \"Mean AUC\", np.mean(estimates)\n",
    "print \"St. Dev\", np.std(estimates)\n",
    "print \"Mean N\", np.mean(n_size)"
   ]
  },
  {
   "cell_type": "code",
   "execution_count": null,
   "metadata": {},
   "outputs": [],
   "source": []
  }
 ],
 "metadata": {
  "kernelspec": {
   "display_name": "Python 2",
   "language": "python",
   "name": "python2"
  },
  "language_info": {
   "codemirror_mode": {
    "name": "ipython",
    "version": 2
   },
   "file_extension": ".py",
   "mimetype": "text/x-python",
   "name": "python",
   "nbconvert_exporter": "python",
   "pygments_lexer": "ipython2",
   "version": "2.7.16"
  }
 },
 "nbformat": 4,
 "nbformat_minor": 2
}
