{
 "cells": [
  {
   "cell_type": "code",
   "execution_count": 1,
   "metadata": {},
   "outputs": [],
   "source": [
    "import pandas as pd\n",
    "import statsmodels.api as sm\n",
    "import warnings\n",
    "warnings.filterwarnings('ignore')\n",
    "\n",
    "__author__ = 'HK Dambanemuya'\n",
    "__version__ = 'Python 3'"
   ]
  },
  {
   "cell_type": "code",
   "execution_count": 2,
   "metadata": {},
   "outputs": [
    {
     "name": "stdout",
     "output_type": "stream",
     "text": [
      "                 Generalized Linear Model Regression Results                  \n",
      "==============================================================================\n",
      "Dep. Variable:                 Status   No. Observations:               174118\n",
      "Model:                            GLM   Df Residuals:                   174113\n",
      "Model Family:                Binomial   Df Model:                            4\n",
      "Link Function:                  logit   Scale:                          1.0000\n",
      "Method:                          IRLS   Log-Likelihood:                    nan\n",
      "Date:                Mon, 12 Oct 2020   Deviance:                          nan\n",
      "Time:                        14:01:56   Pearson chi2:                 1.91e+08\n",
      "No. Iterations:                   100                                         \n",
      "Covariance Type:            nonrobust                                         \n",
      "=================================================================================================\n",
      "                                    coef    std err          z      P>|z|      [0.025      0.975]\n",
      "-------------------------------------------------------------------------------------------------\n",
      "NumContributors                  74.9343      3.553     21.093      0.000      67.971      81.897\n",
      "CovInterEventTime                 4.1464      0.493      8.412      0.000       3.180       5.112\n",
      "CovContributionAmount            -0.5845      0.470     -1.244      0.214      -1.505       0.336\n",
      "TimeToFirstContribution..sec.     6.2977      0.062    101.295      0.000       6.176       6.420\n",
      "Duration..days.                   4.8503      0.378     12.830      0.000       4.109       5.591\n",
      "=================================================================================================\n"
     ]
    }
   ],
   "source": [
    "cem_data = pd.read_csv(\"../Data/charity_cem_matched.csv\")\n",
    "w = cem_data['weights']\n",
    "cem_data = cem_data[cem_data.columns[1:-3]]\n",
    "# defining the dependent and independent variables \n",
    "Xtrain = cem_data[cem_data.columns[:5]] \n",
    "ytrain = cem_data[['Status']] \n",
    "# Logistic Regression\n",
    "binomial_model = sm.GLM(ytrain, Xtrain, family=sm.families.Binomial(), weights=w)\n",
    "binomial_results = binomial_model.fit()\n",
    "print(binomial_results.summary())"
   ]
  },
  {
   "cell_type": "code",
   "execution_count": 3,
   "metadata": {},
   "outputs": [
    {
     "name": "stdout",
     "output_type": "stream",
     "text": [
      "                 Generalized Linear Model Regression Results                  \n",
      "==============================================================================\n",
      "Dep. Variable:                 Status   No. Observations:                 2590\n",
      "Model:                            GLM   Df Residuals:                     2585\n",
      "Model Family:                Binomial   Df Model:                            4\n",
      "Link Function:                  logit   Scale:                          1.0000\n",
      "Method:                          IRLS   Log-Likelihood:                -1414.5\n",
      "Date:                Mon, 12 Oct 2020   Deviance:                       2828.9\n",
      "Time:                        14:01:56   Pearson chi2:                 2.88e+03\n",
      "No. Iterations:                     6                                         \n",
      "Covariance Type:            nonrobust                                         \n",
      "=================================================================================================\n",
      "                                    coef    std err          z      P>|z|      [0.025      0.975]\n",
      "-------------------------------------------------------------------------------------------------\n",
      "NumContributors                  12.2793      1.992      6.163      0.000       8.374      16.184\n",
      "CovInterEventTime                 4.9978      0.501      9.966      0.000       4.015       5.981\n",
      "CovContributionAmount            -1.1435      0.597     -1.917      0.055      -2.313       0.026\n",
      "TimeToFirstContribution..sec.    -0.1022      0.110     -0.929      0.353      -0.318       0.113\n",
      "Duration..days.                 -10.6852      0.763    -14.006      0.000     -12.180      -9.190\n",
      "=================================================================================================\n"
     ]
    }
   ],
   "source": [
    "nearest_data = pd.read_csv(\"../Data/charity_nearest_matched.csv\")\n",
    "w = nearest_data['weights']\n",
    "nearest_data = nearest_data[nearest_data.columns[1:-2]]\n",
    "# defining the dependent and independent variables \n",
    "Xtrain = nearest_data[nearest_data.columns[:5]] \n",
    "ytrain = nearest_data[['Status']] \n",
    "binomial_model = sm.GLM(ytrain, Xtrain, family=sm.families.Binomial(), weights=w)\n",
    "binomial_results = binomial_model.fit()\n",
    "print(binomial_results.summary())"
   ]
  },
  {
   "cell_type": "code",
   "execution_count": null,
   "metadata": {},
   "outputs": [],
   "source": []
  }
 ],
 "metadata": {
  "kernelspec": {
   "display_name": "Python 3",
   "language": "python",
   "name": "python3"
  },
  "language_info": {
   "codemirror_mode": {
    "name": "ipython",
    "version": 3
   },
   "file_extension": ".py",
   "mimetype": "text/x-python",
   "name": "python",
   "nbconvert_exporter": "python",
   "pygments_lexer": "ipython3",
   "version": "3.7.6"
  }
 },
 "nbformat": 4,
 "nbformat_minor": 4
}
