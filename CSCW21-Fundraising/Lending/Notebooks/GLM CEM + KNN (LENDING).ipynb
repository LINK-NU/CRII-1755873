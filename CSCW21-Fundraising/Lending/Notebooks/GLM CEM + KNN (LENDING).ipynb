{
 "cells": [
  {
   "cell_type": "code",
   "execution_count": 1,
   "metadata": {},
   "outputs": [],
   "source": [
    "import pandas as pd\n",
    "import statsmodels.api as sm\n",
    "import warnings\n",
    "warnings.filterwarnings('ignore')"
   ]
  },
  {
   "cell_type": "code",
   "execution_count": 2,
   "metadata": {},
   "outputs": [
    {
     "name": "stdout",
     "output_type": "stream",
     "text": [
      "                 Generalized Linear Model Regression Results                  \n",
      "==============================================================================\n",
      "Dep. Variable:                 Status   No. Observations:                89172\n",
      "Model:                            GLM   Df Residuals:                    89167\n",
      "Model Family:                Binomial   Df Model:                            4\n",
      "Link Function:                  logit   Scale:                          1.0000\n",
      "Method:                          IRLS   Log-Likelihood:                -13988.\n",
      "Date:                Mon, 12 Oct 2020   Deviance:                       27976.\n",
      "Time:                        14:01:01   Pearson chi2:                 7.90e+04\n",
      "No. Iterations:                     8                                         \n",
      "Covariance Type:            nonrobust                                         \n",
      "=================================================================================================\n",
      "                                    coef    std err          z      P>|z|      [0.025      0.975]\n",
      "-------------------------------------------------------------------------------------------------\n",
      "NumContributors                   6.7211      0.257     26.141      0.000       6.217       7.225\n",
      "CovInterEventTime                11.6698      0.377     30.917      0.000      10.930      12.410\n",
      "CovContributionAmount            11.0536      0.259     42.653      0.000      10.546      11.562\n",
      "TimeToFirstContribution..sec.    -1.1088      0.051    -21.622      0.000      -1.209      -1.008\n",
      "Duration..days.                  -8.6276      0.081   -106.430      0.000      -8.786      -8.469\n",
      "=================================================================================================\n"
     ]
    }
   ],
   "source": [
    "cem_data = pd.read_csv(\"../Data/lending_cem_matched.csv\")\n",
    "w=cem_data['weights']\n",
    "cem_data = cem_data[cem_data.columns[1:-3]]\n",
    "# defining the dependent and independent variables \n",
    "Xtrain = cem_data[cem_data.columns[:5]] \n",
    "ytrain = cem_data[['Status']] \n",
    "binomial_model = sm.GLM(ytrain, Xtrain, family=sm.families.Binomial(), weights=w)\n",
    "binomial_results = binomial_model.fit()\n",
    "print(binomial_results.summary())"
   ]
  },
  {
   "cell_type": "code",
   "execution_count": 3,
   "metadata": {},
   "outputs": [
    {
     "name": "stdout",
     "output_type": "stream",
     "text": [
      "                 Generalized Linear Model Regression Results                  \n",
      "==============================================================================\n",
      "Dep. Variable:                 Status   No. Observations:                58026\n",
      "Model:                            GLM   Df Residuals:                    58021\n",
      "Model Family:                Binomial   Df Model:                            4\n",
      "Link Function:                  logit   Scale:                          1.0000\n",
      "Method:                          IRLS   Log-Likelihood:                -14837.\n",
      "Date:                Mon, 12 Oct 2020   Deviance:                       29674.\n",
      "Time:                        14:01:01   Pearson chi2:                 1.44e+08\n",
      "No. Iterations:                     9                                         \n",
      "Covariance Type:            nonrobust                                         \n",
      "=================================================================================================\n",
      "                                    coef    std err          z      P>|z|      [0.025      0.975]\n",
      "-------------------------------------------------------------------------------------------------\n",
      "NumContributors                  24.0007      0.488     49.227      0.000      23.045      24.956\n",
      "CovInterEventTime                17.9150      0.404     44.296      0.000      17.122      18.708\n",
      "CovContributionAmount            10.6413      0.263     40.488      0.000      10.126      11.156\n",
      "TimeToFirstContribution..sec.    -0.0633      0.043     -1.456      0.145      -0.149       0.022\n",
      "Duration..days.                  -7.4609      0.079    -94.350      0.000      -7.616      -7.306\n",
      "=================================================================================================\n"
     ]
    }
   ],
   "source": [
    "nearest_data = pd.read_csv(\"../Data/lending_nearest_matched.csv\")\n",
    "w = nearest_data['weights']\n",
    "nearest_data = nearest_data[nearest_data.columns[1:-2]]\n",
    "# defining the dependent and independent variables \n",
    "Xtrain = nearest_data[nearest_data.columns[:5]] \n",
    "ytrain = nearest_data[['Status']] \n",
    "binomial_model = sm.GLM(ytrain, Xtrain, family=sm.families.Binomial(), weights=w)\n",
    "binomial_results = binomial_model.fit()\n",
    "print(binomial_results.summary())"
   ]
  },
  {
   "cell_type": "code",
   "execution_count": null,
   "metadata": {},
   "outputs": [],
   "source": []
  }
 ],
 "metadata": {
  "kernelspec": {
   "display_name": "Python 3",
   "language": "python",
   "name": "python3"
  },
  "language_info": {
   "codemirror_mode": {
    "name": "ipython",
    "version": 3
   },
   "file_extension": ".py",
   "mimetype": "text/x-python",
   "name": "python",
   "nbconvert_exporter": "python",
   "pygments_lexer": "ipython3",
   "version": "3.7.6"
  }
 },
 "nbformat": 4,
 "nbformat_minor": 4
}
