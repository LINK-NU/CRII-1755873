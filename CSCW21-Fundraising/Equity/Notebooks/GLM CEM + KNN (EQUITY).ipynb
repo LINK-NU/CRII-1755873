{
 "cells": [
  {
   "cell_type": "code",
   "execution_count": 1,
   "metadata": {},
   "outputs": [],
   "source": [
    "import pandas as pd\n",
    "import statsmodels.api as sm\n",
    "import warnings\n",
    "warnings.filterwarnings('ignore')\n",
    "\n",
    "__author__ = 'HK Dambanemuya'\n",
    "__version__ = 'Python 3'"
   ]
  },
  {
   "cell_type": "code",
   "execution_count": 2,
   "metadata": {},
   "outputs": [
    {
     "name": "stdout",
     "output_type": "stream",
     "text": [
      "                 Generalized Linear Model Regression Results                  \n",
      "==============================================================================\n",
      "Dep. Variable:                 Status   No. Observations:                  640\n",
      "Model:                            GLM   Df Residuals:                      635\n",
      "Model Family:                Binomial   Df Model:                            4\n",
      "Link Function:                  logit   Scale:                          1.0000\n",
      "Method:                          IRLS   Log-Likelihood:                -263.32\n",
      "Date:                Mon, 12 Oct 2020   Deviance:                       526.64\n",
      "Time:                        14:01:23   Pearson chi2:                 1.03e+04\n",
      "No. Iterations:                     6                                         \n",
      "Covariance Type:            nonrobust                                         \n",
      "=================================================================================================\n",
      "                                    coef    std err          z      P>|z|      [0.025      0.975]\n",
      "-------------------------------------------------------------------------------------------------\n",
      "NumContributors                  58.6801      5.717     10.264      0.000      47.475      69.885\n",
      "CovInterEventTime                -3.9358      1.253     -3.142      0.002      -6.391      -1.480\n",
      "CovContributionAmount            -1.4267      1.275     -1.119      0.263      -3.926       1.072\n",
      "TimeToFirstContribution..sec.    -1.2705      0.342     -3.719      0.000      -1.940      -0.601\n",
      "Duration..days.                  -5.9685      0.810     -7.368      0.000      -7.556      -4.381\n",
      "=================================================================================================\n"
     ]
    }
   ],
   "source": [
    "cem_data = pd.read_csv(\"../Data/equity_cem_matched.csv\")\n",
    "w = cem_data['weights']\n",
    "cem_data = cem_data[cem_data.columns[1:-3]]\n",
    "# defining the dependent and independent variables \n",
    "Xtrain = cem_data[cem_data.columns[:5]] \n",
    "ytrain = cem_data[['Status']] \n",
    "# Logistic Regression\n",
    "binomial_model = sm.GLM(ytrain, Xtrain, family=sm.families.Binomial(), weights=w)\n",
    "binomial_results = binomial_model.fit()\n",
    "print(binomial_results.summary())"
   ]
  },
  {
   "cell_type": "code",
   "execution_count": 3,
   "metadata": {},
   "outputs": [
    {
     "name": "stdout",
     "output_type": "stream",
     "text": [
      "                 Generalized Linear Model Regression Results                  \n",
      "==============================================================================\n",
      "Dep. Variable:                 Status   No. Observations:                  522\n",
      "Model:                            GLM   Df Residuals:                      517\n",
      "Model Family:                Binomial   Df Model:                            4\n",
      "Link Function:                  logit   Scale:                          1.0000\n",
      "Method:                          IRLS   Log-Likelihood:                    nan\n",
      "Date:                Mon, 12 Oct 2020   Deviance:                          nan\n",
      "Time:                        14:01:23   Pearson chi2:                 4.95e+03\n",
      "No. Iterations:                   100                                         \n",
      "Covariance Type:            nonrobust                                         \n",
      "=================================================================================================\n",
      "                                    coef    std err          z      P>|z|      [0.025      0.975]\n",
      "-------------------------------------------------------------------------------------------------\n",
      "NumContributors                  54.0488      5.610      9.635      0.000      43.054      65.044\n",
      "CovInterEventTime                -2.7190      1.218     -2.233      0.026      -5.106      -0.332\n",
      "CovContributionAmount            -2.5291      1.143     -2.213      0.027      -4.769      -0.289\n",
      "TimeToFirstContribution..sec.    -0.8609      0.359     -2.399      0.016      -1.564      -0.158\n",
      "Duration..days.                  -4.5261      0.821     -5.513      0.000      -6.135      -2.917\n",
      "=================================================================================================\n"
     ]
    }
   ],
   "source": [
    "nearest_data = pd.read_csv(\"../Data/equity_nearest_matched.csv\")\n",
    "w = nearest_data['weights']\n",
    "nearest_data = nearest_data[nearest_data.columns[1:-2]]\n",
    "# defining the dependent and independent variables \n",
    "Xtrain = nearest_data[nearest_data.columns[:5]] \n",
    "ytrain = nearest_data[['Status']] \n",
    "binomial_model = sm.GLM(ytrain, Xtrain, family=sm.families.Binomial(), weights=w)\n",
    "binomial_results = binomial_model.fit()\n",
    "print(binomial_results.summary())"
   ]
  },
  {
   "cell_type": "code",
   "execution_count": null,
   "metadata": {},
   "outputs": [],
   "source": []
  }
 ],
 "metadata": {
  "kernelspec": {
   "display_name": "Python 3",
   "language": "python",
   "name": "python3"
  },
  "language_info": {
   "codemirror_mode": {
    "name": "ipython",
    "version": 3
   },
   "file_extension": ".py",
   "mimetype": "text/x-python",
   "name": "python",
   "nbconvert_exporter": "python",
   "pygments_lexer": "ipython3",
   "version": "3.7.6"
  }
 },
 "nbformat": 4,
 "nbformat_minor": 4
}
