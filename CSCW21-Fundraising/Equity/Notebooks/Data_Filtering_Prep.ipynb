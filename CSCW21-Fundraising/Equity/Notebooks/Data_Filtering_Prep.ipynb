{
 "cells": [
  {
   "cell_type": "code",
   "execution_count": 166,
   "metadata": {},
   "outputs": [],
   "source": [
    "import ml\n",
    "reload(ml)\n",
    "from ml import *\n",
    "import csv\n",
    "import timeit\n",
    "import scipy\n",
    "import operator\n",
    "import numpy as np\n",
    "import pandas as pd\n",
    "import cPickle as pickle\n",
    "from scipy import stats\n",
    "import seaborn as sns\n",
    "from datetime import datetime\n",
    "from collections import Counter\n",
    "from sklearn.ensemble import RandomForestClassifier\n",
    "import matplotlib.pyplot as plt\n",
    "from pprint import pprint\n",
    "from tqdm import tqdm, tqdm_notebook\n",
    "from __future__ import division\n",
    "import statsmodels.api as sm\n",
    "import warnings\n",
    "warnings.filterwarnings('ignore')\n",
    "pd.set_option('display.max_colwidth', -1)\n",
    "pd.set_option('display.float_format', lambda x: '%.3f' % x)\n",
    "pd.set_option('display.max_rows', 500)\n",
    "pd.set_option('display.max_columns', 500)\n",
    "pd.set_option('display.width', 1000)\n",
    "plt.style.use('classic')\n",
    "%matplotlib inline\n",
    "\n",
    "__author__ = 'HK Dambanemuya'\n",
    "__version__ = 'Python 2'\n",
    "\n",
    "'''\n",
    "    Analysis originaly performed in Python 2 (deprecated)\n",
    "    Seaborn, Statsmodel, and * imports broken in Python 3\n",
    "'''"
   ]
  },
  {
   "cell_type": "markdown",
   "metadata": {},
   "source": [
    "## Methods"
   ]
  },
  {
   "cell_type": "code",
   "execution_count": 167,
   "metadata": {},
   "outputs": [],
   "source": [
    "def cov(arr):\n",
    "    return np.std(arr) / np.mean(arr) \n",
    "\n",
    "def fundingTime(arr):\n",
    "    return (pd.to_datetime(arr.max()) - pd.to_datetime(arr.min())).days\n",
    "\n",
    "def interEventTime(arr):\n",
    "    return [(pd.to_datetime(t) - pd.to_datetime(s)).seconds for s, t in zip(sorted(arr), sorted(arr)[1:])]\n",
    "\n",
    "def avgInterEventTime(arr):\n",
    "    return np.mean(interEventTime(arr))\n",
    "\n",
    "def covInterEventTime(arr):\n",
    "    varr = interEventTime(arr)\n",
    "    return np.std(varr) / np.mean(varr) \n",
    "\n",
    "def truncate_date(x):\n",
    "    if x.date:\n",
    "        try:\n",
    "            return x.strftime('%Y%m')\n",
    "        except:\n",
    "            return None"
   ]
  },
  {
   "cell_type": "markdown",
   "metadata": {},
   "source": [
    "## Data"
   ]
  },
  {
   "cell_type": "code",
   "execution_count": 168,
   "metadata": {},
   "outputs": [],
   "source": [
    "investments = pd.read_csv(\"../Data/full.csv\")\n",
    "investment_status = pd.read_csv(\"../Data/investment_status.csv\")\n",
    "investment_status[\"ProjectID\"] = investment_status.ProjectID.astype(int)\n",
    "investment_status[\"Status\"] = investment_status.Status.astype(int)\n",
    "# Create campaigns dataframe\n",
    "campaigns = investments[[\"campaign\", \"premoneyvaluation\", \"percentageofequityoffered\", \"eiscompliant\",\n",
    "                           \"seiscompliant\", \"selfcertification\", \"slug\", \"passedquiz\"]]\n",
    "# Create investments dataframe\n",
    "investments = investments[[\"campaign\", \"investorid\", \"amount\", \"created\", \"approvedat\", \"investmentsought\"]]\n",
    "projectsgeq4 = np.loadtxt('projectsgeq4contributions.out', delimiter=',', dtype=int)\n",
    "features_5 = [\"NumContributors\", \"CovInterEventTime\", \"CovContributionAmount\", \"TimeToFirstContribution (sec)\", 'Duration (days)']\n",
    "\n",
    "project_amounts = pd.read_csv('../Data/investment_amounts.csv', header=None)\n",
    "k = project_amounts.to_dict()[0].values()\n",
    "v = project_amounts.to_dict()[1].values()\n",
    "\n",
    "project_amounts = dict(zip(k,v))\n",
    "\n",
    "# Initialize Standard Scaler\n",
    "scaler = StandardScaler()"
   ]
  },
  {
   "cell_type": "markdown",
   "metadata": {},
   "source": [
    "## Campaigns"
   ]
  },
  {
   "cell_type": "code",
   "execution_count": 169,
   "metadata": {},
   "outputs": [
    {
     "data": {
      "text/html": [
       "<div>\n",
       "<style scoped>\n",
       "    .dataframe tbody tr th:only-of-type {\n",
       "        vertical-align: middle;\n",
       "    }\n",
       "\n",
       "    .dataframe tbody tr th {\n",
       "        vertical-align: top;\n",
       "    }\n",
       "\n",
       "    .dataframe thead th {\n",
       "        text-align: right;\n",
       "    }\n",
       "</style>\n",
       "<table border=\"1\" class=\"dataframe\">\n",
       "  <thead>\n",
       "    <tr style=\"text-align: right;\">\n",
       "      <th></th>\n",
       "      <th>campaign</th>\n",
       "      <th>premoneyvaluation</th>\n",
       "      <th>percentageofequityoffered</th>\n",
       "      <th>eiscompliant</th>\n",
       "      <th>seiscompliant</th>\n",
       "      <th>selfcertification</th>\n",
       "      <th>slug</th>\n",
       "      <th>passedquiz</th>\n",
       "    </tr>\n",
       "  </thead>\n",
       "  <tbody>\n",
       "    <tr>\n",
       "      <th>26802</th>\n",
       "      <td>6754</td>\n",
       "      <td>450000000.000</td>\n",
       "      <td>10.000</td>\n",
       "      <td>1</td>\n",
       "      <td>0</td>\n",
       "      <td>2</td>\n",
       "      <td>1894</td>\n",
       "      <td>NaN</td>\n",
       "    </tr>\n",
       "    <tr>\n",
       "      <th>85762</th>\n",
       "      <td>NaN</td>\n",
       "      <td>nan</td>\n",
       "      <td>nan</td>\n",
       "      <td>0</td>\n",
       "      <td>0</td>\n",
       "      <td>-1</td>\n",
       "      <td>-1</td>\n",
       "      <td>NaN</td>\n",
       "    </tr>\n",
       "    <tr>\n",
       "      <th>51880</th>\n",
       "      <td>9874</td>\n",
       "      <td>120000000.000</td>\n",
       "      <td>8.000</td>\n",
       "      <td>0</td>\n",
       "      <td>1</td>\n",
       "      <td>-1</td>\n",
       "      <td>670</td>\n",
       "      <td>True</td>\n",
       "    </tr>\n",
       "    <tr>\n",
       "      <th>1679</th>\n",
       "      <td>866</td>\n",
       "      <td>45000000.000</td>\n",
       "      <td>10.000</td>\n",
       "      <td>1</td>\n",
       "      <td>0</td>\n",
       "      <td>1</td>\n",
       "      <td>934</td>\n",
       "      <td>True</td>\n",
       "    </tr>\n",
       "    <tr>\n",
       "      <th>44686</th>\n",
       "      <td>9008</td>\n",
       "      <td>nan</td>\n",
       "      <td>10.000</td>\n",
       "      <td>1</td>\n",
       "      <td>0</td>\n",
       "      <td>1</td>\n",
       "      <td>166</td>\n",
       "      <td>True</td>\n",
       "    </tr>\n",
       "  </tbody>\n",
       "</table>\n",
       "</div>"
      ],
      "text/plain": [
       "      campaign  premoneyvaluation  percentageofequityoffered  eiscompliant  seiscompliant  selfcertification  slug passedquiz\n",
       "26802  6754    450000000.000      10.000                      1             0              2                  1894  NaN      \n",
       "85762  NaN     nan                nan                         0             0             -1                 -1     NaN      \n",
       "51880  9874    120000000.000      8.000                       0             1             -1                  670   True     \n",
       "1679   866     45000000.000       10.000                      1             0              1                  934   True     \n",
       "44686  9008    nan                10.000                      1             0              1                  166   True     "
      ]
     },
     "execution_count": 169,
     "metadata": {},
     "output_type": "execute_result"
    }
   ],
   "source": [
    "# Additional variables\n",
    "campaigns['eiscompliant'] = campaigns['eiscompliant'].astype('category').cat.codes\n",
    "campaigns['seiscompliant'] = campaigns['seiscompliant'].astype('category').cat.codes\n",
    "campaigns['selfcertification'] = campaigns['selfcertification'].astype('category').cat.codes\n",
    "campaigns['slug'] = campaigns['slug'].astype('category').cat.codes\n",
    "campaigns.passedquiz[campaigns.passedquiz == \"FALSE\"] = False\n",
    "campaigns.passedquiz[campaigns.passedquiz == \"TRUE\"] = True\n",
    "campaigns.percentageofequityoffered.fillna(0)\n",
    "campaigns.sample(5)"
   ]
  },
  {
   "cell_type": "markdown",
   "metadata": {},
   "source": [
    "### Campaigns Aggregation"
   ]
  },
  {
   "cell_type": "code",
   "execution_count": 170,
   "metadata": {},
   "outputs": [],
   "source": [
    "g = {'campaign': ['max'],\n",
    "     'premoneyvaluation': ['max'],\n",
    "     'percentageofequityoffered': ['max'],\n",
    "     'eiscompliant': ['max'],\n",
    "     'seiscompliant': ['max'],\n",
    "     'selfcertification': ['min'],\n",
    "     'slug': ['max'],\n",
    "     'passedquiz': ['max']}"
   ]
  },
  {
   "cell_type": "code",
   "execution_count": 171,
   "metadata": {},
   "outputs": [
    {
     "data": {
      "text/html": [
       "<div>\n",
       "<style scoped>\n",
       "    .dataframe tbody tr th:only-of-type {\n",
       "        vertical-align: middle;\n",
       "    }\n",
       "\n",
       "    .dataframe tbody tr th {\n",
       "        vertical-align: top;\n",
       "    }\n",
       "\n",
       "    .dataframe thead th {\n",
       "        text-align: right;\n",
       "    }\n",
       "</style>\n",
       "<table border=\"1\" class=\"dataframe\">\n",
       "  <thead>\n",
       "    <tr style=\"text-align: right;\">\n",
       "      <th></th>\n",
       "      <th>PassedQuiz</th>\n",
       "      <th>EquityPercent</th>\n",
       "      <th>PreMoneyValuation</th>\n",
       "      <th>SelfCertification</th>\n",
       "      <th>ProjectID</th>\n",
       "      <th>EisComplinat</th>\n",
       "      <th>SeisCompliant</th>\n",
       "      <th>Slug</th>\n",
       "      <th>Status</th>\n",
       "    </tr>\n",
       "  </thead>\n",
       "  <tbody>\n",
       "    <tr>\n",
       "      <th>0</th>\n",
       "      <td>True</td>\n",
       "      <td>30.000</td>\n",
       "      <td>23000000.000</td>\n",
       "      <td>-1</td>\n",
       "      <td>15</td>\n",
       "      <td>0</td>\n",
       "      <td>1</td>\n",
       "      <td>2437</td>\n",
       "      <td>1.000</td>\n",
       "    </tr>\n",
       "    <tr>\n",
       "      <th>1</th>\n",
       "      <td>True</td>\n",
       "      <td>8.570</td>\n",
       "      <td>160000000.000</td>\n",
       "      <td>-1</td>\n",
       "      <td>16</td>\n",
       "      <td>0</td>\n",
       "      <td>1</td>\n",
       "      <td>1940</td>\n",
       "      <td>0.000</td>\n",
       "    </tr>\n",
       "    <tr>\n",
       "      <th>2</th>\n",
       "      <td>True</td>\n",
       "      <td>18.000</td>\n",
       "      <td>68000000.000</td>\n",
       "      <td>-1</td>\n",
       "      <td>35</td>\n",
       "      <td>0</td>\n",
       "      <td>1</td>\n",
       "      <td>1124</td>\n",
       "      <td>0.000</td>\n",
       "    </tr>\n",
       "    <tr>\n",
       "      <th>3</th>\n",
       "      <td>True</td>\n",
       "      <td>10.750</td>\n",
       "      <td>58000000.000</td>\n",
       "      <td>-1</td>\n",
       "      <td>37</td>\n",
       "      <td>0</td>\n",
       "      <td>1</td>\n",
       "      <td>2682</td>\n",
       "      <td>0.000</td>\n",
       "    </tr>\n",
       "    <tr>\n",
       "      <th>4</th>\n",
       "      <td>True</td>\n",
       "      <td>6.000</td>\n",
       "      <td>39000000.000</td>\n",
       "      <td>-1</td>\n",
       "      <td>38</td>\n",
       "      <td>0</td>\n",
       "      <td>1</td>\n",
       "      <td>358</td>\n",
       "      <td>0.000</td>\n",
       "    </tr>\n",
       "  </tbody>\n",
       "</table>\n",
       "</div>"
      ],
      "text/plain": [
       "  PassedQuiz EquityPercent PreMoneyValuation SelfCertification  ProjectID EisComplinat SeisCompliant  Slug  Status\n",
       "0  True      30.000        23000000.000       -1                15         0            1             2437 1.000  \n",
       "1  True      8.570         160000000.000      -1                16         0            1             1940 0.000  \n",
       "2  True      18.000        68000000.000       -1                35         0            1             1124 0.000  \n",
       "3  True      10.750        58000000.000       -1                37         0            1             2682 0.000  \n",
       "4  True      6.000         39000000.000       -1                38         0            1             358  0.000  "
      ]
     },
     "execution_count": 171,
     "metadata": {},
     "output_type": "execute_result"
    }
   ],
   "source": [
    "campaigns = pd.DataFrame(campaigns.groupby('campaign').agg(g).as_matrix())\n",
    "campaigns = campaigns.rename(index=str, columns={0: \"PassedQuiz\",\n",
    "                                                 1: \"EquityPercent\",\n",
    "                                                 2: \"PreMoneyValuation\",\n",
    "                                                 3: \"SelfCertification\",\n",
    "                                                 4: \"ProjectID\",\n",
    "                                                 5: \"EisComplinat\",\n",
    "                                                 6: \"SeisCompliant\",\n",
    "                                                 7: \"Slug\"})\n",
    "campaigns = campaigns[campaigns.PassedQuiz != 'Consumer Products,E-Commerce & Markets']\n",
    "campaigns[\"ProjectID\"] = campaigns.ProjectID.astype(int)\n",
    "campaigns = campaigns.merge(investment_status, on=\"ProjectID\", how=\"left\")\n",
    "campaigns.head()"
   ]
  },
  {
   "cell_type": "markdown",
   "metadata": {},
   "source": [
    "## Investments"
   ]
  },
  {
   "cell_type": "code",
   "execution_count": 172,
   "metadata": {},
   "outputs": [
    {
     "data": {
      "text/html": [
       "<div>\n",
       "<style scoped>\n",
       "    .dataframe tbody tr th:only-of-type {\n",
       "        vertical-align: middle;\n",
       "    }\n",
       "\n",
       "    .dataframe tbody tr th {\n",
       "        vertical-align: top;\n",
       "    }\n",
       "\n",
       "    .dataframe thead th {\n",
       "        text-align: right;\n",
       "    }\n",
       "</style>\n",
       "<table border=\"1\" class=\"dataframe\">\n",
       "  <thead>\n",
       "    <tr style=\"text-align: right;\">\n",
       "      <th></th>\n",
       "      <th>campaign</th>\n",
       "      <th>investorid</th>\n",
       "      <th>amount</th>\n",
       "      <th>investment_timestamp</th>\n",
       "      <th>approved_timestamp</th>\n",
       "      <th>amount_requested</th>\n",
       "      <th>time_trunc</th>\n",
       "    </tr>\n",
       "  </thead>\n",
       "  <tbody>\n",
       "    <tr>\n",
       "      <th>47507</th>\n",
       "      <td>9161</td>\n",
       "      <td>33936.000</td>\n",
       "      <td>30.000</td>\n",
       "      <td>2015-05-19 10:00:00</td>\n",
       "      <td>4/9/2015 16:42</td>\n",
       "      <td>60000.000</td>\n",
       "      <td>201505</td>\n",
       "    </tr>\n",
       "    <tr>\n",
       "      <th>2785</th>\n",
       "      <td>1299</td>\n",
       "      <td>8082.000</td>\n",
       "      <td>10.000</td>\n",
       "      <td>2013-02-11 12:47:00</td>\n",
       "      <td>12/21/2012 10:13</td>\n",
       "      <td>75000.000</td>\n",
       "      <td>201302</td>\n",
       "    </tr>\n",
       "    <tr>\n",
       "      <th>75164</th>\n",
       "      <td>13303</td>\n",
       "      <td>107636.000</td>\n",
       "      <td>105.480</td>\n",
       "      <td>2015-11-19 19:02:00</td>\n",
       "      <td>11/11/2015 13:22</td>\n",
       "      <td>696402.000</td>\n",
       "      <td>201511</td>\n",
       "    </tr>\n",
       "    <tr>\n",
       "      <th>57402</th>\n",
       "      <td>10451</td>\n",
       "      <td>59365.000</td>\n",
       "      <td>1000.000</td>\n",
       "      <td>2015-05-07 13:21:00</td>\n",
       "      <td>4/20/2015 14:52</td>\n",
       "      <td>55000.000</td>\n",
       "      <td>201505</td>\n",
       "    </tr>\n",
       "    <tr>\n",
       "      <th>29501</th>\n",
       "      <td>7228</td>\n",
       "      <td>57660.000</td>\n",
       "      <td>750.000</td>\n",
       "      <td>2014-10-15 14:30:00</td>\n",
       "      <td>9/24/2014 18:12</td>\n",
       "      <td>400000.000</td>\n",
       "      <td>201410</td>\n",
       "    </tr>\n",
       "  </tbody>\n",
       "</table>\n",
       "</div>"
      ],
      "text/plain": [
       "      campaign  investorid   amount investment_timestamp approved_timestamp  amount_requested time_trunc\n",
       "47507  9161    33936.000   30.000   2015-05-19 10:00:00   4/9/2015 16:42    60000.000          201505   \n",
       "2785   1299    8082.000    10.000   2013-02-11 12:47:00   12/21/2012 10:13  75000.000          201302   \n",
       "75164  13303   107636.000  105.480  2015-11-19 19:02:00   11/11/2015 13:22  696402.000         201511   \n",
       "57402  10451   59365.000   1000.000 2015-05-07 13:21:00   4/20/2015 14:52   55000.000          201505   \n",
       "29501  7228    57660.000   750.000  2014-10-15 14:30:00   9/24/2014 18:12   400000.000         201410   "
      ]
     },
     "execution_count": 172,
     "metadata": {},
     "output_type": "execute_result"
    }
   ],
   "source": [
    "# Remove bad data\n",
    "investments = investments[investments.amount != '9/11/2013 23:26']\n",
    "# Convert created date to datetime format\n",
    "investments[\"created\"] = pd.to_datetime(investments.created)\n",
    "# Variable /YYYY/MM to allow monthly time unit analysis\n",
    "investments[\"time_trunc\"] = investments.created.apply(truncate_date)\n",
    "# Convert variable to float\n",
    "investments['amount'] = investments.amount.astype('float')\n",
    "# Rename columns to be readable and understandable\n",
    "investments = investments.rename(index=str, columns={'created': \"investment_timestamp\", \n",
    "                                                     'approvedat': \"approved_timestamp\",\n",
    "                                                     'investmentsought': \"amount_requested\"})\n",
    "investments = investments.dropna()\n",
    "# Show sample data\n",
    "investments.sample(5)"
   ]
  },
  {
   "cell_type": "code",
   "execution_count": 173,
   "metadata": {},
   "outputs": [
    {
     "name": "stdout",
     "output_type": "stream",
     "text": [
      "77419\n"
     ]
    }
   ],
   "source": [
    "print len(investments)"
   ]
  },
  {
   "cell_type": "code",
   "execution_count": 174,
   "metadata": {},
   "outputs": [
    {
     "name": "stdout",
     "output_type": "stream",
     "text": [
      "740\n"
     ]
    }
   ],
   "source": [
    "print(len(investments.campaign.unique()))"
   ]
  },
  {
   "cell_type": "markdown",
   "metadata": {},
   "source": [
    "### Filter Investments"
   ]
  },
  {
   "cell_type": "code",
   "execution_count": 175,
   "metadata": {},
   "outputs": [
    {
     "data": {
      "text/html": [
       "<div>\n",
       "<style scoped>\n",
       "    .dataframe tbody tr th:only-of-type {\n",
       "        vertical-align: middle;\n",
       "    }\n",
       "\n",
       "    .dataframe tbody tr th {\n",
       "        vertical-align: top;\n",
       "    }\n",
       "\n",
       "    .dataframe thead th {\n",
       "        text-align: right;\n",
       "    }\n",
       "</style>\n",
       "<table border=\"1\" class=\"dataframe\">\n",
       "  <thead>\n",
       "    <tr style=\"text-align: right;\">\n",
       "      <th></th>\n",
       "      <th>campaign</th>\n",
       "      <th>investorid</th>\n",
       "      <th>amount</th>\n",
       "      <th>investment_timestamp</th>\n",
       "      <th>approved_timestamp</th>\n",
       "      <th>amount_requested</th>\n",
       "      <th>time_trunc</th>\n",
       "    </tr>\n",
       "  </thead>\n",
       "  <tbody>\n",
       "    <tr>\n",
       "      <th>3</th>\n",
       "      <td>15</td>\n",
       "      <td>12.000</td>\n",
       "      <td>100.000</td>\n",
       "      <td>2012-07-05 06:49:00</td>\n",
       "      <td>7/5/2012 6:48</td>\n",
       "      <td>100000.000</td>\n",
       "      <td>201207</td>\n",
       "    </tr>\n",
       "    <tr>\n",
       "      <th>9</th>\n",
       "      <td>15</td>\n",
       "      <td>231.000</td>\n",
       "      <td>250.000</td>\n",
       "      <td>2012-07-06 10:02:00</td>\n",
       "      <td>7/5/2012 6:48</td>\n",
       "      <td>100000.000</td>\n",
       "      <td>201207</td>\n",
       "    </tr>\n",
       "    <tr>\n",
       "      <th>0</th>\n",
       "      <td>15</td>\n",
       "      <td>20.000</td>\n",
       "      <td>250.000</td>\n",
       "      <td>2012-07-10 17:00:00</td>\n",
       "      <td>7/5/2012 6:48</td>\n",
       "      <td>100000.000</td>\n",
       "      <td>201207</td>\n",
       "    </tr>\n",
       "    <tr>\n",
       "      <th>1</th>\n",
       "      <td>15</td>\n",
       "      <td>1539.000</td>\n",
       "      <td>100.000</td>\n",
       "      <td>2012-07-10 21:09:00</td>\n",
       "      <td>7/5/2012 6:48</td>\n",
       "      <td>100000.000</td>\n",
       "      <td>201207</td>\n",
       "    </tr>\n",
       "    <tr>\n",
       "      <th>4</th>\n",
       "      <td>15</td>\n",
       "      <td>1418.000</td>\n",
       "      <td>50.000</td>\n",
       "      <td>2012-07-11 08:47:00</td>\n",
       "      <td>7/5/2012 6:48</td>\n",
       "      <td>100000.000</td>\n",
       "      <td>201207</td>\n",
       "    </tr>\n",
       "    <tr>\n",
       "      <th>2</th>\n",
       "      <td>15</td>\n",
       "      <td>231.000</td>\n",
       "      <td>850.000</td>\n",
       "      <td>2012-07-17 23:10:00</td>\n",
       "      <td>7/5/2012 6:48</td>\n",
       "      <td>100000.000</td>\n",
       "      <td>201207</td>\n",
       "    </tr>\n",
       "    <tr>\n",
       "      <th>5</th>\n",
       "      <td>15</td>\n",
       "      <td>1710.000</td>\n",
       "      <td>200.000</td>\n",
       "      <td>2012-07-21 01:38:00</td>\n",
       "      <td>7/5/2012 6:48</td>\n",
       "      <td>100000.000</td>\n",
       "      <td>201207</td>\n",
       "    </tr>\n",
       "    <tr>\n",
       "      <th>7</th>\n",
       "      <td>15</td>\n",
       "      <td>13.000</td>\n",
       "      <td>2030.000</td>\n",
       "      <td>2012-07-23 00:51:00</td>\n",
       "      <td>7/5/2012 6:48</td>\n",
       "      <td>100000.000</td>\n",
       "      <td>201207</td>\n",
       "    </tr>\n",
       "    <tr>\n",
       "      <th>8</th>\n",
       "      <td>15</td>\n",
       "      <td>1776.000</td>\n",
       "      <td>20.000</td>\n",
       "      <td>2012-07-23 15:09:00</td>\n",
       "      <td>7/5/2012 6:48</td>\n",
       "      <td>100000.000</td>\n",
       "      <td>201207</td>\n",
       "    </tr>\n",
       "    <tr>\n",
       "      <th>6</th>\n",
       "      <td>15</td>\n",
       "      <td>2525.000</td>\n",
       "      <td>50.000</td>\n",
       "      <td>2012-07-24 12:54:00</td>\n",
       "      <td>7/5/2012 6:48</td>\n",
       "      <td>100000.000</td>\n",
       "      <td>201207</td>\n",
       "    </tr>\n",
       "  </tbody>\n",
       "</table>\n",
       "</div>"
      ],
      "text/plain": [
       "  campaign  investorid   amount investment_timestamp approved_timestamp  amount_requested time_trunc\n",
       "3  15      12.000      100.000  2012-07-05 06:49:00   7/5/2012 6:48     100000.000         201207   \n",
       "9  15      231.000     250.000  2012-07-06 10:02:00   7/5/2012 6:48     100000.000         201207   \n",
       "0  15      20.000      250.000  2012-07-10 17:00:00   7/5/2012 6:48     100000.000         201207   \n",
       "1  15      1539.000    100.000  2012-07-10 21:09:00   7/5/2012 6:48     100000.000         201207   \n",
       "4  15      1418.000    50.000   2012-07-11 08:47:00   7/5/2012 6:48     100000.000         201207   \n",
       "2  15      231.000     850.000  2012-07-17 23:10:00   7/5/2012 6:48     100000.000         201207   \n",
       "5  15      1710.000    200.000  2012-07-21 01:38:00   7/5/2012 6:48     100000.000         201207   \n",
       "7  15      13.000      2030.000 2012-07-23 00:51:00   7/5/2012 6:48     100000.000         201207   \n",
       "8  15      1776.000    20.000   2012-07-23 15:09:00   7/5/2012 6:48     100000.000         201207   \n",
       "6  15      2525.000    50.000   2012-07-24 12:54:00   7/5/2012 6:48     100000.000         201207   "
      ]
     },
     "execution_count": 175,
     "metadata": {},
     "output_type": "execute_result"
    }
   ],
   "source": [
    "investments.head(10).sort_values(by=\"investment_timestamp\")"
   ]
  },
  {
   "cell_type": "code",
   "execution_count": 182,
   "metadata": {},
   "outputs": [],
   "source": [
    "def to_limit(row):\n",
    "    if row['cumsum'] < limit:\n",
    "        return 1\n",
    "    else:\n",
    "        return 0\n",
    "\n",
    "threshold = .05\n",
    "dfs=[]\n",
    "for campaign_id in tqdm_notebook(investments.campaign.unique()):\n",
    "    x = investments.query(\"campaign == {0}\".format(campaign_id)).sort_values(by='investment_timestamp')\n",
    "    \n",
    "    \n",
    "    x['cumsum'] = x.amount.cumsum()\n",
    "    try:\n",
    "        limit = (x['cumsum'][-1])*threshold\n",
    "        x['needed'] =x.apply(to_limit,1)\n",
    "        x_c_perc = x[x['needed']==1]\n",
    "        del x['needed']\n",
    "        dfs.append(x_c_perc)\n",
    "    except:\n",
    "        pass\n",
    "percent = pd.concat(dfs, axis=0)"
   ]
  },
  {
   "cell_type": "code",
   "execution_count": 183,
   "metadata": {},
   "outputs": [],
   "source": [
    "# def filter_investments_by_amount(threshold):\n",
    "#     investments_ = []\n",
    "#     threshold = threshold\n",
    "#     for campaign_id in tqdm_notebook(investments.campaign.unique()):\n",
    "#         var_df = investments.query(\"campaign == {0}\".format(campaign_id)).sort_values(by='investment_timestamp')\n",
    "# #         series = var_df['amount'].fillna(0)\n",
    "#         var_df['cumsum'] = var_df.amount.fillna(0).cumsum()\n",
    "# #         norm_cdf = np.cumsum(series)\n",
    "#         try:\n",
    "#             limit = max(series)*threshold\n",
    "#             # if first contribution is greater than percentage amount\n",
    "#             if norm_cdf[0] > limit:\n",
    "#                 pass\n",
    "#             else:\n",
    "#                  for i in range(len(norm_cdf)):\n",
    "#                     if limit < norm_cdf[i]:\n",
    "#                         investments_.append(var_df[:i-1])  \n",
    "#                         break\n",
    "#         except:\n",
    "#             pass\n",
    "        \n",
    "#     return pd.concat(investments_, axis=0)"
   ]
  },
  {
   "cell_type": "code",
   "execution_count": 184,
   "metadata": {},
   "outputs": [
    {
     "data": {
      "application/vnd.jupyter.widget-view+json": {
       "model_id": "53d54cd8a6444b849bbc69d60a2cbf86",
       "version_major": 2,
       "version_minor": 0
      },
      "text/plain": [
       "HBox(children=(IntProgress(value=0, max=740), HTML(value=u'')))"
      ]
     },
     "metadata": {},
     "output_type": "display_data"
    },
    {
     "data": {
      "application/vnd.jupyter.widget-view+json": {
       "model_id": "bd1027e11f4e420ab886f155168d8fc7",
       "version_major": 2,
       "version_minor": 0
      },
      "text/plain": [
       "HBox(children=(IntProgress(value=0, max=740), HTML(value=u'')))"
      ]
     },
     "metadata": {},
     "output_type": "display_data"
    },
    {
     "data": {
      "application/vnd.jupyter.widget-view+json": {
       "model_id": "b9369615f65443ce919bc25ad21df106",
       "version_major": 2,
       "version_minor": 0
      },
      "text/plain": [
       "HBox(children=(IntProgress(value=0, max=740), HTML(value=u'')))"
      ]
     },
     "metadata": {},
     "output_type": "display_data"
    },
    {
     "data": {
      "application/vnd.jupyter.widget-view+json": {
       "model_id": "da11076b977f477a91c76110567a66bb",
       "version_major": 2,
       "version_minor": 0
      },
      "text/plain": [
       "HBox(children=(IntProgress(value=0, max=740), HTML(value=u'')))"
      ]
     },
     "metadata": {},
     "output_type": "display_data"
    },
    {
     "data": {
      "application/vnd.jupyter.widget-view+json": {
       "model_id": "2b6306a825674ec9917e49da3924a4ce",
       "version_major": 2,
       "version_minor": 0
      },
      "text/plain": [
       "HBox(children=(IntProgress(value=0, max=740), HTML(value=u'')))"
      ]
     },
     "metadata": {},
     "output_type": "display_data"
    },
    {
     "data": {
      "application/vnd.jupyter.widget-view+json": {
       "model_id": "8db1e772daa84c029765fa18c9ca5933",
       "version_major": 2,
       "version_minor": 0
      },
      "text/plain": [
       "HBox(children=(IntProgress(value=0, max=740), HTML(value=u'')))"
      ]
     },
     "metadata": {},
     "output_type": "display_data"
    },
    {
     "data": {
      "application/vnd.jupyter.widget-view+json": {
       "model_id": "9dc222c1927f4dbf87fbb9b318344995",
       "version_major": 2,
       "version_minor": 0
      },
      "text/plain": [
       "HBox(children=(IntProgress(value=0, max=740), HTML(value=u'')))"
      ]
     },
     "metadata": {},
     "output_type": "display_data"
    },
    {
     "data": {
      "application/vnd.jupyter.widget-view+json": {
       "model_id": "1977109daa9b4f0ab734c0cebb90f677",
       "version_major": 2,
       "version_minor": 0
      },
      "text/plain": [
       "HBox(children=(IntProgress(value=0, max=740), HTML(value=u'')))"
      ]
     },
     "metadata": {},
     "output_type": "display_data"
    },
    {
     "data": {
      "application/vnd.jupyter.widget-view+json": {
       "model_id": "56065f160bcc47f0a40b5a3c93894273",
       "version_major": 2,
       "version_minor": 0
      },
      "text/plain": [
       "HBox(children=(IntProgress(value=0, max=740), HTML(value=u'')))"
      ]
     },
     "metadata": {},
     "output_type": "display_data"
    },
    {
     "data": {
      "application/vnd.jupyter.widget-view+json": {
       "model_id": "03914d31795542efa48acdf58319ea8a",
       "version_major": 2,
       "version_minor": 0
      },
      "text/plain": [
       "HBox(children=(IntProgress(value=0, max=740), HTML(value=u'')))"
      ]
     },
     "metadata": {},
     "output_type": "display_data"
    }
   ],
   "source": [
    "splits = [.05, .10, .15, .20, .25, .30, .35, .40, .45, .50]\n",
    "investments_array = []\n",
    "for split in splits:\n",
    "    investments_array.append(filter_investments_by_amount(split))"
   ]
  },
  {
   "cell_type": "code",
   "execution_count": 185,
   "metadata": {},
   "outputs": [
    {
     "name": "stdout",
     "output_type": "stream",
     "text": [
      "[0, 0, 0, 0, 0, 0, 0, 0, 0, 0]\n"
     ]
    }
   ],
   "source": [
    "print [len(x) for x in investments_array]"
   ]
  },
  {
   "cell_type": "code",
   "execution_count": 45,
   "metadata": {},
   "outputs": [],
   "source": [
    "# investments_25 = filter_investments_by_amount(0.25)\n",
    "# investments_50 = filter_investments_by_amount(0.5)\n",
    "# investments_75 = filter_investments_by_amount(0.75)\n",
    "# investments_100 = filter_investments_by_amount(1)"
   ]
  },
  {
   "cell_type": "code",
   "execution_count": 46,
   "metadata": {},
   "outputs": [],
   "source": [
    "# investments_25 = filter_investments(0.25)\n",
    "# investments_50 = filter_investments(0.5)\n",
    "# investments_75 = filter_investments(0.75)\n",
    "# investments_100 = filter_investments(1)"
   ]
  },
  {
   "cell_type": "code",
   "execution_count": 47,
   "metadata": {},
   "outputs": [],
   "source": [
    "# investments_25.to_csv(\"../Data/investments_25.csv\", index=False)\n",
    "# investments_50.to_csv(\"../Data/investments_50.csv\", index=False)\n",
    "# investments_75.to_csv(\"../Data/investments_75.csv\", index=False)\n",
    "# investments_100.to_csv(\"../Data/investments_100.csv\", index=False)"
   ]
  },
  {
   "cell_type": "code",
   "execution_count": 48,
   "metadata": {},
   "outputs": [],
   "source": [
    "# investments_25 = pd.read_csv(\"../Data/investments_25.csv\")\n",
    "# investments_50 = pd.read_csv(\"../Data/investments_50.csv\")\n",
    "# investments_75 = pd.read_csv(\"../Data/investments_75.csv\")\n",
    "# investments_100 = pd.read_csv(\"../Data/investments_100.csv\")"
   ]
  },
  {
   "cell_type": "code",
   "execution_count": null,
   "metadata": {},
   "outputs": [],
   "source": [
    "# len(investments_25), len(investments_50), len(investments_75), len(investments_100)"
   ]
  },
  {
   "cell_type": "markdown",
   "metadata": {},
   "source": [
    "### Investments Aggregation"
   ]
  },
  {
   "cell_type": "code",
   "execution_count": 163,
   "metadata": {},
   "outputs": [],
   "source": [
    "f = {'campaign': ['max'],\n",
    "     'investorid':['count'], # Contributor Count\n",
    "     'approved_timestamp': ['max'], # Investment Approved Timestamp\n",
    "     'investment_timestamp': ['min', 'max', avgInterEventTime, covInterEventTime], # First Contribution Timestamp, AvgInterEventTime, CovInterEventTime\n",
    "     'amount': ['count', 'min', 'mean', 'max', 'sum', cov], # Contributions Count, Minimum, Mean, Maximum, CoV\n",
    "     'amount_requested': ['max'] \n",
    "}"
   ]
  },
  {
   "cell_type": "code",
   "execution_count": 164,
   "metadata": {},
   "outputs": [],
   "source": [
    "def get_investment_array_df(investments_array):\n",
    "    investments_array_df = []\n",
    "    for df in tqdm_notebook(investments_array):\n",
    "        df = df.drop(['time_trunc'], axis=1)\n",
    "        df.amount = df.amount.astype(float)\n",
    "        df.amount_requested = df.amount_requested.astype(float)\n",
    "        df = pd.DataFrame(df.groupby('campaign').agg(f).as_matrix())\n",
    "        df = df.rename(index=str, columns={0: \"AmountRequested\",\n",
    "                                                             1: \"ProjectID\",\n",
    "                                                             2: \"NumContributions\",\n",
    "                                                             3: \"MinContributionAmount\",\n",
    "                                                             4: \"MeanContributionAmount\",\n",
    "                                                             5: \"MaxContributionAmount\",\n",
    "                                                             6: \"AmountRaised\",\n",
    "                                                             7: \"CovContributionAmount\",\n",
    "                                                             8: \"NumContributors\", \n",
    "                                                             9: \"DatePosted\",\n",
    "                                                             10: \"FirstContributionTimestamp\",\n",
    "                                                             11: \"LastContributionTimestamp\",\n",
    "                                                             12: \"AvgInterEventTime\",\n",
    "                                                             13: \"CovInterEventTime\"})\n",
    "        # investments_25[\"Status\"] = investments_25.AmountRaised > investments_25.AmountRequested # This line has to change\n",
    "        df[\"TimeToFirstContribution (sec)\"] = (pd.to_datetime(df.FirstContributionTimestamp) - pd.to_datetime(df.DatePosted)).dt.seconds\n",
    "        df[\"Duration (days)\"] = (pd.to_datetime(df.LastContributionTimestamp) - pd.to_datetime(df.DatePosted)).dt.days\n",
    "        df.ProjectID = df.ProjectID.astype(int)\n",
    "        investments_array_df.append(df.merge(campaigns, on=\"ProjectID\", how=\"left\"))\n",
    "    return investments_array_df\n",
    "        "
   ]
  },
  {
   "cell_type": "code",
   "execution_count": 1,
   "metadata": {},
   "outputs": [],
   "source": [
    "investments_array_df = get_investment_array_df(investments_array)"
   ]
  },
  {
   "cell_type": "code",
   "execution_count": 19,
   "metadata": {},
   "outputs": [
    {
     "name": "stdout",
     "output_type": "stream",
     "text": [
      "Investments 0.05%\n"
     ]
    },
    {
     "data": {
      "application/vnd.jupyter.widget-view+json": {
       "model_id": "72f2fc43bc5c42f7aec09666e92ddc76",
       "version_major": 2,
       "version_minor": 0
      },
      "text/plain": [
       "HBox(children=(IntProgress(value=0, max=10), HTML(value=u'')))"
      ]
     },
     "metadata": {},
     "output_type": "display_data"
    },
    {
     "name": "stdout",
     "output_type": "stream",
     "text": [
      "Mean AUC 0.591338688085676\n",
      "St. Dev 0.02409518069276958\n",
      "N 173\n",
      "Investments 0.1%\n"
     ]
    },
    {
     "data": {
      "application/vnd.jupyter.widget-view+json": {
       "model_id": "61c806e6ac1140a495a83192bcc80403",
       "version_major": 2,
       "version_minor": 0
      },
      "text/plain": [
       "HBox(children=(IntProgress(value=0, max=10), HTML(value=u'')))"
      ]
     },
     "metadata": {},
     "output_type": "display_data"
    },
    {
     "name": "stdout",
     "output_type": "stream",
     "text": [
      "Mean AUC 0.5921052631578948\n",
      "St. Dev 0.011437197202109929\n",
      "N 228\n",
      "Investments 0.15%\n"
     ]
    },
    {
     "data": {
      "application/vnd.jupyter.widget-view+json": {
       "model_id": "10a11a299189489b9d252ef8d5dfb6e0",
       "version_major": 2,
       "version_minor": 0
      },
      "text/plain": [
       "HBox(children=(IntProgress(value=0, max=10), HTML(value=u'')))"
      ]
     },
     "metadata": {},
     "output_type": "display_data"
    },
    {
     "name": "stdout",
     "output_type": "stream",
     "text": [
      "Mean AUC 0.596596710153148\n",
      "St. Dev 0.016748953150508863\n",
      "N 252\n",
      "Investments 0.2%\n"
     ]
    },
    {
     "data": {
      "application/vnd.jupyter.widget-view+json": {
       "model_id": "713d67c5d9974981aa4140c709f8ed15",
       "version_major": 2,
       "version_minor": 0
      },
      "text/plain": [
       "HBox(children=(IntProgress(value=0, max=10), HTML(value=u'')))"
      ]
     },
     "metadata": {},
     "output_type": "display_data"
    },
    {
     "name": "stdout",
     "output_type": "stream",
     "text": [
      "Mean AUC 0.6303964869529902\n",
      "St. Dev 0.011892418090872986\n",
      "N 281\n",
      "Investments 0.25%\n"
     ]
    },
    {
     "data": {
      "application/vnd.jupyter.widget-view+json": {
       "model_id": "ce5d6e4b46504640915680ec6c6489f6",
       "version_major": 2,
       "version_minor": 0
      },
      "text/plain": [
       "HBox(children=(IntProgress(value=0, max=10), HTML(value=u'')))"
      ]
     },
     "metadata": {},
     "output_type": "display_data"
    },
    {
     "name": "stdout",
     "output_type": "stream",
     "text": [
      "Mean AUC 0.605128486712058\n",
      "St. Dev 0.021215179997492034\n",
      "N 302\n",
      "Investments 0.3%\n"
     ]
    },
    {
     "data": {
      "application/vnd.jupyter.widget-view+json": {
       "model_id": "bccc680a83c64daa9d768911fb69995e",
       "version_major": 2,
       "version_minor": 0
      },
      "text/plain": [
       "HBox(children=(IntProgress(value=0, max=10), HTML(value=u'')))"
      ]
     },
     "metadata": {},
     "output_type": "display_data"
    },
    {
     "name": "stdout",
     "output_type": "stream",
     "text": [
      "Mean AUC 0.6065798816568048\n",
      "St. Dev 0.013370340668565702\n",
      "N 319\n",
      "Investments 0.35%\n"
     ]
    },
    {
     "data": {
      "application/vnd.jupyter.widget-view+json": {
       "model_id": "7b9c4ad8dba74c32a7ebfa72c5286fc7",
       "version_major": 2,
       "version_minor": 0
      },
      "text/plain": [
       "HBox(children=(IntProgress(value=0, max=10), HTML(value=u'')))"
      ]
     },
     "metadata": {},
     "output_type": "display_data"
    },
    {
     "name": "stdout",
     "output_type": "stream",
     "text": [
      "Mean AUC 0.6250689485813593\n",
      "St. Dev 0.012572669955711826\n",
      "N 326\n",
      "Investments 0.4%\n"
     ]
    },
    {
     "data": {
      "application/vnd.jupyter.widget-view+json": {
       "model_id": "86bfdfdc41614c85bcef1b30aa85da63",
       "version_major": 2,
       "version_minor": 0
      },
      "text/plain": [
       "HBox(children=(IntProgress(value=0, max=10), HTML(value=u'')))"
      ]
     },
     "metadata": {},
     "output_type": "display_data"
    },
    {
     "name": "stdout",
     "output_type": "stream",
     "text": [
      "Mean AUC 0.625017707890636\n",
      "St. Dev 0.01352530031450476\n",
      "N 337\n",
      "Investments 0.45%\n"
     ]
    },
    {
     "data": {
      "application/vnd.jupyter.widget-view+json": {
       "model_id": "04ccc8fa3fd748f290b4ffaf9c20c3c1",
       "version_major": 2,
       "version_minor": 0
      },
      "text/plain": [
       "HBox(children=(IntProgress(value=0, max=10), HTML(value=u'')))"
      ]
     },
     "metadata": {},
     "output_type": "display_data"
    },
    {
     "name": "stdout",
     "output_type": "stream",
     "text": [
      "Mean AUC 0.6300862211905156\n",
      "St. Dev 0.011335579120962893\n",
      "N 348\n",
      "Investments 0.5%\n"
     ]
    },
    {
     "data": {
      "application/vnd.jupyter.widget-view+json": {
       "model_id": "9488c5e9ec7d4e9cb3db9ed44f2cd5a3",
       "version_major": 2,
       "version_minor": 0
      },
      "text/plain": [
       "HBox(children=(IntProgress(value=0, max=10), HTML(value=u'')))"
      ]
     },
     "metadata": {},
     "output_type": "display_data"
    },
    {
     "name": "stdout",
     "output_type": "stream",
     "text": [
      "Mean AUC 0.6211342780448217\n",
      "St. Dev 0.00787784357420924\n",
      "N 359\n"
     ]
    }
   ],
   "source": [
    "for i in range(len(splits)):\n",
    "    classifier = classifiers.get(\"RF\")\n",
    "    estimates = []\n",
    "    X = investments_array_df[i][features_5].fillna(-1).as_matrix()\n",
    "    X = scaler.fit_transform(X)\n",
    "    y = investments_array_df[i]['Status'].as_matrix()\n",
    "    for x in tqdm_notebook(range(0,10)):\n",
    "        y_pred = run_cv(X,y,classifier)\n",
    "        estimates.append(auc(y, y_pred))\n",
    "    print \"Mean AUC\", np.mean(estimates)\n",
    "    print \"St. Dev\", np.std(estimates)\n",
    "    print \"N\", len(y)\n",
    "    print \"Investments {0}%\".format(splits[i]*100)"
   ]
  },
  {
   "cell_type": "markdown",
   "metadata": {},
   "source": [
    "#### Investments 25%"
   ]
  },
  {
   "cell_type": "code",
   "execution_count": 19,
   "metadata": {},
   "outputs": [
    {
     "data": {
      "text/html": [
       "<div>\n",
       "<style scoped>\n",
       "    .dataframe tbody tr th:only-of-type {\n",
       "        vertical-align: middle;\n",
       "    }\n",
       "\n",
       "    .dataframe tbody tr th {\n",
       "        vertical-align: top;\n",
       "    }\n",
       "\n",
       "    .dataframe thead th {\n",
       "        text-align: right;\n",
       "    }\n",
       "</style>\n",
       "<table border=\"1\" class=\"dataframe\">\n",
       "  <thead>\n",
       "    <tr style=\"text-align: right;\">\n",
       "      <th></th>\n",
       "      <th>AmountRequested</th>\n",
       "      <th>ProjectID</th>\n",
       "      <th>NumContributions</th>\n",
       "      <th>MinContributionAmount</th>\n",
       "      <th>MeanContributionAmount</th>\n",
       "      <th>MaxContributionAmount</th>\n",
       "      <th>AmountRaised</th>\n",
       "      <th>CovContributionAmount</th>\n",
       "      <th>NumContributors</th>\n",
       "      <th>DatePosted</th>\n",
       "      <th>FirstContributionTimestamp</th>\n",
       "      <th>LastContributionTimestamp</th>\n",
       "      <th>AvgInterEventTime</th>\n",
       "      <th>CovInterEventTime</th>\n",
       "      <th>TimeToFirstContribution (sec)</th>\n",
       "      <th>Duration (days)</th>\n",
       "    </tr>\n",
       "  </thead>\n",
       "  <tbody>\n",
       "    <tr>\n",
       "      <th>0</th>\n",
       "      <td>100000.000</td>\n",
       "      <td>15</td>\n",
       "      <td>19</td>\n",
       "      <td>20.000</td>\n",
       "      <td>564.211</td>\n",
       "      <td>2600.000</td>\n",
       "      <td>10720.000</td>\n",
       "      <td>1.327</td>\n",
       "      <td>19</td>\n",
       "      <td>7/5/2012 6:48</td>\n",
       "      <td>2012-07-05 06:49:00</td>\n",
       "      <td>2012-07-21 01:38:00</td>\n",
       "      <td>42163.333</td>\n",
       "      <td>0.656</td>\n",
       "      <td>60</td>\n",
       "      <td>15</td>\n",
       "    </tr>\n",
       "    <tr>\n",
       "      <th>1</th>\n",
       "      <td>150000.000</td>\n",
       "      <td>16</td>\n",
       "      <td>7</td>\n",
       "      <td>10.000</td>\n",
       "      <td>501.429</td>\n",
       "      <td>2000.000</td>\n",
       "      <td>3510.000</td>\n",
       "      <td>1.311</td>\n",
       "      <td>7</td>\n",
       "      <td>6/28/2012 10:57</td>\n",
       "      <td>2012-07-04 06:58:00</td>\n",
       "      <td>2012-07-06 07:53:00</td>\n",
       "      <td>14950.000</td>\n",
       "      <td>0.872</td>\n",
       "      <td>72060</td>\n",
       "      <td>7</td>\n",
       "    </tr>\n",
       "    <tr>\n",
       "      <th>2</th>\n",
       "      <td>25000.000</td>\n",
       "      <td>38</td>\n",
       "      <td>2</td>\n",
       "      <td>100.000</td>\n",
       "      <td>125.000</td>\n",
       "      <td>150.000</td>\n",
       "      <td>250.000</td>\n",
       "      <td>0.200</td>\n",
       "      <td>2</td>\n",
       "      <td>7/3/2012 10:36</td>\n",
       "      <td>2012-07-04 12:47:00</td>\n",
       "      <td>2012-07-05 10:02:00</td>\n",
       "      <td>76500.000</td>\n",
       "      <td>0.000</td>\n",
       "      <td>7860</td>\n",
       "      <td>1</td>\n",
       "    </tr>\n",
       "    <tr>\n",
       "      <th>3</th>\n",
       "      <td>150000.000</td>\n",
       "      <td>49</td>\n",
       "      <td>1</td>\n",
       "      <td>50.000</td>\n",
       "      <td>50.000</td>\n",
       "      <td>50.000</td>\n",
       "      <td>50.000</td>\n",
       "      <td>0.000</td>\n",
       "      <td>1</td>\n",
       "      <td>7/19/2012 11:32</td>\n",
       "      <td>2012-07-24 16:44:00</td>\n",
       "      <td>2012-07-24 16:44:00</td>\n",
       "      <td>NaN</td>\n",
       "      <td>NaN</td>\n",
       "      <td>18720</td>\n",
       "      <td>5</td>\n",
       "    </tr>\n",
       "    <tr>\n",
       "      <th>4</th>\n",
       "      <td>30000.000</td>\n",
       "      <td>64</td>\n",
       "      <td>14</td>\n",
       "      <td>20.000</td>\n",
       "      <td>462.143</td>\n",
       "      <td>5000.000</td>\n",
       "      <td>6470.000</td>\n",
       "      <td>2.728</td>\n",
       "      <td>14</td>\n",
       "      <td>7/4/2012 14:35</td>\n",
       "      <td>2012-07-04 17:15:00</td>\n",
       "      <td>2012-07-10 19:10:00</td>\n",
       "      <td>27115.385</td>\n",
       "      <td>0.771</td>\n",
       "      <td>9600</td>\n",
       "      <td>6</td>\n",
       "    </tr>\n",
       "  </tbody>\n",
       "</table>\n",
       "</div>"
      ],
      "text/plain": [
       "  AmountRequested  ProjectID NumContributions MinContributionAmount MeanContributionAmount MaxContributionAmount AmountRaised CovContributionAmount NumContributors       DatePosted FirstContributionTimestamp LastContributionTimestamp AvgInterEventTime CovInterEventTime  TimeToFirstContribution (sec)  Duration (days)\n",
       "0 100000.000       15         19              20.000                564.211                2600.000              10720.000    1.327                  19              7/5/2012 6:48    2012-07-05 06:49:00        2012-07-21 01:38:00      42163.333         0.656              60                             15             \n",
       "1 150000.000       16         7               10.000                501.429                2000.000              3510.000     1.311                  7               6/28/2012 10:57  2012-07-04 06:58:00        2012-07-06 07:53:00      14950.000         0.872              72060                          7              \n",
       "2 25000.000        38         2               100.000               125.000                150.000               250.000      0.200                  2               7/3/2012 10:36   2012-07-04 12:47:00        2012-07-05 10:02:00      76500.000         0.000              7860                           1              \n",
       "3 150000.000       49         1               50.000                50.000                 50.000                50.000       0.000                  1               7/19/2012 11:32  2012-07-24 16:44:00        2012-07-24 16:44:00       NaN               NaN               18720                          5              \n",
       "4 30000.000        64         14              20.000                462.143                5000.000              6470.000     2.728                  14              7/4/2012 14:35   2012-07-04 17:15:00        2012-07-10 19:10:00      27115.385         0.771              9600                           6              "
      ]
     },
     "execution_count": 19,
     "metadata": {},
     "output_type": "execute_result"
    }
   ],
   "source": [
    "investments_25 = investments_25.drop(['time_trunc'], axis=1)\n",
    "investments_25.amount = investments_25.amount.astype(float)\n",
    "investments_25.amount_requested = investments_25.amount_requested.astype(float)\n",
    "investments_25 = pd.DataFrame(investments_25.groupby('campaign').agg(f).as_matrix())\n",
    "investments_25 = investments_25.rename(index=str, columns={0: \"AmountRequested\",\n",
    "                                                     1: \"ProjectID\",\n",
    "                                                     2: \"NumContributions\",\n",
    "                                                     3: \"MinContributionAmount\",\n",
    "                                                     4: \"MeanContributionAmount\",\n",
    "                                                     5: \"MaxContributionAmount\",\n",
    "                                                     6: \"AmountRaised\",\n",
    "                                                     7: \"CovContributionAmount\",\n",
    "                                                     8: \"NumContributors\", \n",
    "                                                     9: \"DatePosted\",\n",
    "                                                     10: \"FirstContributionTimestamp\",\n",
    "                                                     11: \"LastContributionTimestamp\",\n",
    "                                                     12: \"AvgInterEventTime\",\n",
    "                                                     13: \"CovInterEventTime\"})\n",
    "# investments_25[\"Status\"] = investments_25.AmountRaised > investments_25.AmountRequested # This line has to change\n",
    "investments_25[\"TimeToFirstContribution (sec)\"] = (pd.to_datetime(investments_25.FirstContributionTimestamp) - pd.to_datetime(investments_25.DatePosted)).dt.seconds\n",
    "investments_25[\"Duration (days)\"] = (pd.to_datetime(investments_25.LastContributionTimestamp) - pd.to_datetime(investments_25.DatePosted)).dt.days\n",
    "investments_25.ProjectID = investments_25.ProjectID.astype(int)\n",
    "investments_25.head()"
   ]
  },
  {
   "cell_type": "markdown",
   "metadata": {},
   "source": [
    "#### Investments 50%"
   ]
  },
  {
   "cell_type": "code",
   "execution_count": 20,
   "metadata": {},
   "outputs": [
    {
     "data": {
      "text/html": [
       "<div>\n",
       "<style scoped>\n",
       "    .dataframe tbody tr th:only-of-type {\n",
       "        vertical-align: middle;\n",
       "    }\n",
       "\n",
       "    .dataframe tbody tr th {\n",
       "        vertical-align: top;\n",
       "    }\n",
       "\n",
       "    .dataframe thead th {\n",
       "        text-align: right;\n",
       "    }\n",
       "</style>\n",
       "<table border=\"1\" class=\"dataframe\">\n",
       "  <thead>\n",
       "    <tr style=\"text-align: right;\">\n",
       "      <th></th>\n",
       "      <th>AmountRequested</th>\n",
       "      <th>ProjectID</th>\n",
       "      <th>NumContributions</th>\n",
       "      <th>MinContributionAmount</th>\n",
       "      <th>MeanContributionAmount</th>\n",
       "      <th>MaxContributionAmount</th>\n",
       "      <th>AmountRaised</th>\n",
       "      <th>CovContributionAmount</th>\n",
       "      <th>NumContributors</th>\n",
       "      <th>DatePosted</th>\n",
       "      <th>FirstContributionTimestamp</th>\n",
       "      <th>LastContributionTimestamp</th>\n",
       "      <th>AvgInterEventTime</th>\n",
       "      <th>CovInterEventTime</th>\n",
       "      <th>TimeToFirstContribution (sec)</th>\n",
       "      <th>Duration (days)</th>\n",
       "    </tr>\n",
       "  </thead>\n",
       "  <tbody>\n",
       "    <tr>\n",
       "      <th>0</th>\n",
       "      <td>100000.000</td>\n",
       "      <td>15</td>\n",
       "      <td>19</td>\n",
       "      <td>20.000</td>\n",
       "      <td>564.211</td>\n",
       "      <td>2600.000</td>\n",
       "      <td>10720.000</td>\n",
       "      <td>1.327</td>\n",
       "      <td>19</td>\n",
       "      <td>7/5/2012 6:48</td>\n",
       "      <td>2012-07-05 06:49:00</td>\n",
       "      <td>2012-07-21 01:38:00</td>\n",
       "      <td>42163.333</td>\n",
       "      <td>0.656</td>\n",
       "      <td>60</td>\n",
       "      <td>15</td>\n",
       "    </tr>\n",
       "    <tr>\n",
       "      <th>1</th>\n",
       "      <td>150000.000</td>\n",
       "      <td>16</td>\n",
       "      <td>7</td>\n",
       "      <td>10.000</td>\n",
       "      <td>501.429</td>\n",
       "      <td>2000.000</td>\n",
       "      <td>3510.000</td>\n",
       "      <td>1.311</td>\n",
       "      <td>7</td>\n",
       "      <td>6/28/2012 10:57</td>\n",
       "      <td>2012-07-04 06:58:00</td>\n",
       "      <td>2012-07-06 07:53:00</td>\n",
       "      <td>14950.000</td>\n",
       "      <td>0.872</td>\n",
       "      <td>72060</td>\n",
       "      <td>7</td>\n",
       "    </tr>\n",
       "    <tr>\n",
       "      <th>2</th>\n",
       "      <td>25000.000</td>\n",
       "      <td>38</td>\n",
       "      <td>4</td>\n",
       "      <td>20.000</td>\n",
       "      <td>75.000</td>\n",
       "      <td>150.000</td>\n",
       "      <td>300.000</td>\n",
       "      <td>0.709</td>\n",
       "      <td>4</td>\n",
       "      <td>7/3/2012 10:36</td>\n",
       "      <td>2012-07-04 12:47:00</td>\n",
       "      <td>2012-07-07 17:19:00</td>\n",
       "      <td>63040.000</td>\n",
       "      <td>0.272</td>\n",
       "      <td>7860</td>\n",
       "      <td>4</td>\n",
       "    </tr>\n",
       "    <tr>\n",
       "      <th>3</th>\n",
       "      <td>150000.000</td>\n",
       "      <td>49</td>\n",
       "      <td>2</td>\n",
       "      <td>10.000</td>\n",
       "      <td>30.000</td>\n",
       "      <td>50.000</td>\n",
       "      <td>60.000</td>\n",
       "      <td>0.667</td>\n",
       "      <td>2</td>\n",
       "      <td>7/19/2012 11:32</td>\n",
       "      <td>2012-07-24 16:44:00</td>\n",
       "      <td>2012-07-26 15:41:00</td>\n",
       "      <td>82620.000</td>\n",
       "      <td>0.000</td>\n",
       "      <td>18720</td>\n",
       "      <td>7</td>\n",
       "    </tr>\n",
       "    <tr>\n",
       "      <th>4</th>\n",
       "      <td>30000.000</td>\n",
       "      <td>64</td>\n",
       "      <td>25</td>\n",
       "      <td>10.000</td>\n",
       "      <td>348.400</td>\n",
       "      <td>5000.000</td>\n",
       "      <td>8710.000</td>\n",
       "      <td>2.750</td>\n",
       "      <td>25</td>\n",
       "      <td>7/4/2012 14:35</td>\n",
       "      <td>2012-07-04 17:15:00</td>\n",
       "      <td>2012-07-15 19:00:00</td>\n",
       "      <td>32662.500</td>\n",
       "      <td>0.859</td>\n",
       "      <td>9600</td>\n",
       "      <td>11</td>\n",
       "    </tr>\n",
       "  </tbody>\n",
       "</table>\n",
       "</div>"
      ],
      "text/plain": [
       "  AmountRequested  ProjectID NumContributions MinContributionAmount MeanContributionAmount MaxContributionAmount AmountRaised CovContributionAmount NumContributors       DatePosted FirstContributionTimestamp LastContributionTimestamp AvgInterEventTime CovInterEventTime  TimeToFirstContribution (sec)  Duration (days)\n",
       "0 100000.000       15         19              20.000                564.211                2600.000              10720.000    1.327                  19              7/5/2012 6:48    2012-07-05 06:49:00        2012-07-21 01:38:00      42163.333         0.656              60                             15             \n",
       "1 150000.000       16         7               10.000                501.429                2000.000              3510.000     1.311                  7               6/28/2012 10:57  2012-07-04 06:58:00        2012-07-06 07:53:00      14950.000         0.872              72060                          7              \n",
       "2 25000.000        38         4               20.000                75.000                 150.000               300.000      0.709                  4               7/3/2012 10:36   2012-07-04 12:47:00        2012-07-07 17:19:00      63040.000         0.272              7860                           4              \n",
       "3 150000.000       49         2               10.000                30.000                 50.000                60.000       0.667                  2               7/19/2012 11:32  2012-07-24 16:44:00        2012-07-26 15:41:00      82620.000         0.000              18720                          7              \n",
       "4 30000.000        64         25              10.000                348.400                5000.000              8710.000     2.750                  25              7/4/2012 14:35   2012-07-04 17:15:00        2012-07-15 19:00:00      32662.500         0.859              9600                           11             "
      ]
     },
     "execution_count": 20,
     "metadata": {},
     "output_type": "execute_result"
    }
   ],
   "source": [
    "investments_50 = investments_50.drop(['time_trunc'], axis=1)\n",
    "investments_50.amount = investments_50.amount.astype(float)\n",
    "investments_50.amount_requested = investments_50.amount_requested.astype(float)\n",
    "investments_50 = pd.DataFrame(investments_50.groupby('campaign').agg(f).as_matrix())\n",
    "investments_50 = investments_50.rename(index=str, columns={0: \"AmountRequested\",\n",
    "                                                     1: \"ProjectID\",\n",
    "                                                     2: \"NumContributions\",\n",
    "                                                     3: \"MinContributionAmount\",\n",
    "                                                     4: \"MeanContributionAmount\",\n",
    "                                                     5: \"MaxContributionAmount\",\n",
    "                                                     6: \"AmountRaised\",\n",
    "                                                     7: \"CovContributionAmount\",\n",
    "                                                     8: \"NumContributors\", \n",
    "                                                     9: \"DatePosted\",\n",
    "                                                     10: \"FirstContributionTimestamp\",\n",
    "                                                     11: \"LastContributionTimestamp\",\n",
    "                                                     12: \"AvgInterEventTime\",\n",
    "                                                     13: \"CovInterEventTime\"})\n",
    "# investments_50[\"Status\"] = investments_50.AmountRaised > investments_50.AmountRequested\n",
    "investments_50[\"TimeToFirstContribution (sec)\"] = (pd.to_datetime(investments_50.FirstContributionTimestamp) - pd.to_datetime(investments_50.DatePosted)).dt.seconds\n",
    "investments_50[\"Duration (days)\"] = (pd.to_datetime(investments_50.LastContributionTimestamp) - pd.to_datetime(investments_50.DatePosted)).dt.days\n",
    "investments_50.ProjectID = investments_50.ProjectID.astype(int)\n",
    "investments_50.head()"
   ]
  },
  {
   "cell_type": "markdown",
   "metadata": {},
   "source": [
    "#### Investments 75%"
   ]
  },
  {
   "cell_type": "code",
   "execution_count": 21,
   "metadata": {},
   "outputs": [
    {
     "data": {
      "text/html": [
       "<div>\n",
       "<style scoped>\n",
       "    .dataframe tbody tr th:only-of-type {\n",
       "        vertical-align: middle;\n",
       "    }\n",
       "\n",
       "    .dataframe tbody tr th {\n",
       "        vertical-align: top;\n",
       "    }\n",
       "\n",
       "    .dataframe thead th {\n",
       "        text-align: right;\n",
       "    }\n",
       "</style>\n",
       "<table border=\"1\" class=\"dataframe\">\n",
       "  <thead>\n",
       "    <tr style=\"text-align: right;\">\n",
       "      <th></th>\n",
       "      <th>AmountRequested</th>\n",
       "      <th>ProjectID</th>\n",
       "      <th>NumContributions</th>\n",
       "      <th>MinContributionAmount</th>\n",
       "      <th>MeanContributionAmount</th>\n",
       "      <th>MaxContributionAmount</th>\n",
       "      <th>AmountRaised</th>\n",
       "      <th>CovContributionAmount</th>\n",
       "      <th>NumContributors</th>\n",
       "      <th>DatePosted</th>\n",
       "      <th>FirstContributionTimestamp</th>\n",
       "      <th>LastContributionTimestamp</th>\n",
       "      <th>AvgInterEventTime</th>\n",
       "      <th>CovInterEventTime</th>\n",
       "      <th>TimeToFirstContribution (sec)</th>\n",
       "      <th>Duration (days)</th>\n",
       "    </tr>\n",
       "  </thead>\n",
       "  <tbody>\n",
       "    <tr>\n",
       "      <th>0</th>\n",
       "      <td>100000.000</td>\n",
       "      <td>15</td>\n",
       "      <td>19</td>\n",
       "      <td>20.000</td>\n",
       "      <td>564.211</td>\n",
       "      <td>2600.000</td>\n",
       "      <td>10720.000</td>\n",
       "      <td>1.327</td>\n",
       "      <td>19</td>\n",
       "      <td>7/5/2012 6:48</td>\n",
       "      <td>2012-07-05 06:49:00</td>\n",
       "      <td>2012-07-21 01:38:00</td>\n",
       "      <td>42163.333</td>\n",
       "      <td>0.656</td>\n",
       "      <td>60</td>\n",
       "      <td>15</td>\n",
       "    </tr>\n",
       "    <tr>\n",
       "      <th>1</th>\n",
       "      <td>150000.000</td>\n",
       "      <td>16</td>\n",
       "      <td>7</td>\n",
       "      <td>10.000</td>\n",
       "      <td>501.429</td>\n",
       "      <td>2000.000</td>\n",
       "      <td>3510.000</td>\n",
       "      <td>1.311</td>\n",
       "      <td>7</td>\n",
       "      <td>6/28/2012 10:57</td>\n",
       "      <td>2012-07-04 06:58:00</td>\n",
       "      <td>2012-07-06 07:53:00</td>\n",
       "      <td>14950.000</td>\n",
       "      <td>0.872</td>\n",
       "      <td>72060</td>\n",
       "      <td>7</td>\n",
       "    </tr>\n",
       "    <tr>\n",
       "      <th>2</th>\n",
       "      <td>150000.000</td>\n",
       "      <td>35</td>\n",
       "      <td>1</td>\n",
       "      <td>100.000</td>\n",
       "      <td>100.000</td>\n",
       "      <td>100.000</td>\n",
       "      <td>100.000</td>\n",
       "      <td>0.000</td>\n",
       "      <td>1</td>\n",
       "      <td>7/5/2012 11:44</td>\n",
       "      <td>2012-07-05 21:51:00</td>\n",
       "      <td>2012-07-05 21:51:00</td>\n",
       "      <td>NaN</td>\n",
       "      <td>NaN</td>\n",
       "      <td>36420</td>\n",
       "      <td>0</td>\n",
       "    </tr>\n",
       "    <tr>\n",
       "      <th>3</th>\n",
       "      <td>25000.000</td>\n",
       "      <td>38</td>\n",
       "      <td>4</td>\n",
       "      <td>20.000</td>\n",
       "      <td>75.000</td>\n",
       "      <td>150.000</td>\n",
       "      <td>300.000</td>\n",
       "      <td>0.709</td>\n",
       "      <td>4</td>\n",
       "      <td>7/3/2012 10:36</td>\n",
       "      <td>2012-07-04 12:47:00</td>\n",
       "      <td>2012-07-07 17:19:00</td>\n",
       "      <td>63040.000</td>\n",
       "      <td>0.272</td>\n",
       "      <td>7860</td>\n",
       "      <td>4</td>\n",
       "    </tr>\n",
       "    <tr>\n",
       "      <th>4</th>\n",
       "      <td>150000.000</td>\n",
       "      <td>49</td>\n",
       "      <td>3</td>\n",
       "      <td>10.000</td>\n",
       "      <td>36.667</td>\n",
       "      <td>50.000</td>\n",
       "      <td>110.000</td>\n",
       "      <td>0.514</td>\n",
       "      <td>3</td>\n",
       "      <td>7/19/2012 11:32</td>\n",
       "      <td>2012-07-24 16:44:00</td>\n",
       "      <td>2012-07-27 12:55:00</td>\n",
       "      <td>79530.000</td>\n",
       "      <td>0.039</td>\n",
       "      <td>18720</td>\n",
       "      <td>8</td>\n",
       "    </tr>\n",
       "  </tbody>\n",
       "</table>\n",
       "</div>"
      ],
      "text/plain": [
       "  AmountRequested  ProjectID NumContributions MinContributionAmount MeanContributionAmount MaxContributionAmount AmountRaised CovContributionAmount NumContributors       DatePosted FirstContributionTimestamp LastContributionTimestamp AvgInterEventTime CovInterEventTime  TimeToFirstContribution (sec)  Duration (days)\n",
       "0 100000.000       15         19              20.000                564.211                2600.000              10720.000    1.327                  19              7/5/2012 6:48    2012-07-05 06:49:00        2012-07-21 01:38:00      42163.333         0.656              60                             15             \n",
       "1 150000.000       16         7               10.000                501.429                2000.000              3510.000     1.311                  7               6/28/2012 10:57  2012-07-04 06:58:00        2012-07-06 07:53:00      14950.000         0.872              72060                          7              \n",
       "2 150000.000       35         1               100.000               100.000                100.000               100.000      0.000                  1               7/5/2012 11:44   2012-07-05 21:51:00        2012-07-05 21:51:00       NaN               NaN               36420                          0              \n",
       "3 25000.000        38         4               20.000                75.000                 150.000               300.000      0.709                  4               7/3/2012 10:36   2012-07-04 12:47:00        2012-07-07 17:19:00      63040.000         0.272              7860                           4              \n",
       "4 150000.000       49         3               10.000                36.667                 50.000                110.000      0.514                  3               7/19/2012 11:32  2012-07-24 16:44:00        2012-07-27 12:55:00      79530.000         0.039              18720                          8              "
      ]
     },
     "execution_count": 21,
     "metadata": {},
     "output_type": "execute_result"
    }
   ],
   "source": [
    "investments_75 = investments_75.drop(['time_trunc'], axis=1)\n",
    "investments_75.amount = investments_75.amount.astype(float)\n",
    "investments_75.amount_requested = investments_75.amount_requested.astype(float)\n",
    "investments_75 = pd.DataFrame(investments_75.groupby('campaign').agg(f).as_matrix())\n",
    "investments_75 = investments_75.rename(index=str, columns={0: \"AmountRequested\",\n",
    "                                                     1: \"ProjectID\",\n",
    "                                                     2: \"NumContributions\",\n",
    "                                                     3: \"MinContributionAmount\",\n",
    "                                                     4: \"MeanContributionAmount\",\n",
    "                                                     5: \"MaxContributionAmount\",\n",
    "                                                     6: \"AmountRaised\",\n",
    "                                                     7: \"CovContributionAmount\",\n",
    "                                                     8: \"NumContributors\", \n",
    "                                                     9: \"DatePosted\",\n",
    "                                                     10: \"FirstContributionTimestamp\",\n",
    "                                                     11: \"LastContributionTimestamp\",\n",
    "                                                     12: \"AvgInterEventTime\",\n",
    "                                                     13: \"CovInterEventTime\"})\n",
    "# investments_75[\"Status\"] = investments_75.AmountRaised > investments_75.AmountRequested\n",
    "investments_75[\"TimeToFirstContribution (sec)\"] = (pd.to_datetime(investments_75.FirstContributionTimestamp) - pd.to_datetime(investments_75.DatePosted)).dt.seconds\n",
    "investments_75[\"Duration (days)\"] = (pd.to_datetime(investments_75.LastContributionTimestamp) - pd.to_datetime(investments_75.DatePosted)).dt.days\n",
    "investments_75.ProjectID = investments_75.ProjectID.astype(int)\n",
    "investments_75.head()"
   ]
  },
  {
   "cell_type": "markdown",
   "metadata": {},
   "source": [
    "#### Investments 100%"
   ]
  },
  {
   "cell_type": "code",
   "execution_count": 22,
   "metadata": {},
   "outputs": [
    {
     "data": {
      "text/html": [
       "<div>\n",
       "<style scoped>\n",
       "    .dataframe tbody tr th:only-of-type {\n",
       "        vertical-align: middle;\n",
       "    }\n",
       "\n",
       "    .dataframe tbody tr th {\n",
       "        vertical-align: top;\n",
       "    }\n",
       "\n",
       "    .dataframe thead th {\n",
       "        text-align: right;\n",
       "    }\n",
       "</style>\n",
       "<table border=\"1\" class=\"dataframe\">\n",
       "  <thead>\n",
       "    <tr style=\"text-align: right;\">\n",
       "      <th></th>\n",
       "      <th>AmountRequested</th>\n",
       "      <th>ProjectID</th>\n",
       "      <th>NumContributions</th>\n",
       "      <th>MinContributionAmount</th>\n",
       "      <th>MeanContributionAmount</th>\n",
       "      <th>MaxContributionAmount</th>\n",
       "      <th>AmountRaised</th>\n",
       "      <th>CovContributionAmount</th>\n",
       "      <th>NumContributors</th>\n",
       "      <th>DatePosted</th>\n",
       "      <th>FirstContributionTimestamp</th>\n",
       "      <th>LastContributionTimestamp</th>\n",
       "      <th>AvgInterEventTime</th>\n",
       "      <th>CovInterEventTime</th>\n",
       "      <th>TimeToFirstContribution (sec)</th>\n",
       "      <th>Duration (days)</th>\n",
       "    </tr>\n",
       "  </thead>\n",
       "  <tbody>\n",
       "    <tr>\n",
       "      <th>0</th>\n",
       "      <td>100000.000</td>\n",
       "      <td>15</td>\n",
       "      <td>19</td>\n",
       "      <td>20.000</td>\n",
       "      <td>564.211</td>\n",
       "      <td>2600.000</td>\n",
       "      <td>10720.000</td>\n",
       "      <td>1.327</td>\n",
       "      <td>19</td>\n",
       "      <td>7/5/2012 6:48</td>\n",
       "      <td>2012-07-05 06:49:00</td>\n",
       "      <td>2012-07-21 01:38:00</td>\n",
       "      <td>42163.333</td>\n",
       "      <td>0.656</td>\n",
       "      <td>60</td>\n",
       "      <td>15</td>\n",
       "    </tr>\n",
       "    <tr>\n",
       "      <th>1</th>\n",
       "      <td>150000.000</td>\n",
       "      <td>16</td>\n",
       "      <td>7</td>\n",
       "      <td>10.000</td>\n",
       "      <td>501.429</td>\n",
       "      <td>2000.000</td>\n",
       "      <td>3510.000</td>\n",
       "      <td>1.311</td>\n",
       "      <td>7</td>\n",
       "      <td>6/28/2012 10:57</td>\n",
       "      <td>2012-07-04 06:58:00</td>\n",
       "      <td>2012-07-06 07:53:00</td>\n",
       "      <td>14950.000</td>\n",
       "      <td>0.872</td>\n",
       "      <td>72060</td>\n",
       "      <td>7</td>\n",
       "    </tr>\n",
       "    <tr>\n",
       "      <th>2</th>\n",
       "      <td>150000.000</td>\n",
       "      <td>35</td>\n",
       "      <td>2</td>\n",
       "      <td>100.000</td>\n",
       "      <td>100.000</td>\n",
       "      <td>100.000</td>\n",
       "      <td>200.000</td>\n",
       "      <td>0.000</td>\n",
       "      <td>2</td>\n",
       "      <td>7/5/2012 11:44</td>\n",
       "      <td>2012-07-05 21:51:00</td>\n",
       "      <td>2012-07-05 21:59:00</td>\n",
       "      <td>480.000</td>\n",
       "      <td>0.000</td>\n",
       "      <td>36420</td>\n",
       "      <td>0</td>\n",
       "    </tr>\n",
       "    <tr>\n",
       "      <th>3</th>\n",
       "      <td>25000.000</td>\n",
       "      <td>38</td>\n",
       "      <td>7</td>\n",
       "      <td>20.000</td>\n",
       "      <td>142.857</td>\n",
       "      <td>500.000</td>\n",
       "      <td>1000.000</td>\n",
       "      <td>1.061</td>\n",
       "      <td>7</td>\n",
       "      <td>7/3/2012 10:36</td>\n",
       "      <td>2012-07-04 12:47:00</td>\n",
       "      <td>2012-07-11 15:51:00</td>\n",
       "      <td>59440.000</td>\n",
       "      <td>0.417</td>\n",
       "      <td>7860</td>\n",
       "      <td>8</td>\n",
       "    </tr>\n",
       "    <tr>\n",
       "      <th>4</th>\n",
       "      <td>150000.000</td>\n",
       "      <td>49</td>\n",
       "      <td>3</td>\n",
       "      <td>10.000</td>\n",
       "      <td>36.667</td>\n",
       "      <td>50.000</td>\n",
       "      <td>110.000</td>\n",
       "      <td>0.514</td>\n",
       "      <td>3</td>\n",
       "      <td>7/19/2012 11:32</td>\n",
       "      <td>2012-07-24 16:44:00</td>\n",
       "      <td>2012-07-27 12:55:00</td>\n",
       "      <td>79530.000</td>\n",
       "      <td>0.039</td>\n",
       "      <td>18720</td>\n",
       "      <td>8</td>\n",
       "    </tr>\n",
       "  </tbody>\n",
       "</table>\n",
       "</div>"
      ],
      "text/plain": [
       "  AmountRequested  ProjectID NumContributions MinContributionAmount MeanContributionAmount MaxContributionAmount AmountRaised CovContributionAmount NumContributors       DatePosted FirstContributionTimestamp LastContributionTimestamp AvgInterEventTime CovInterEventTime  TimeToFirstContribution (sec)  Duration (days)\n",
       "0 100000.000       15         19              20.000                564.211                2600.000              10720.000    1.327                  19              7/5/2012 6:48    2012-07-05 06:49:00        2012-07-21 01:38:00      42163.333         0.656              60                             15             \n",
       "1 150000.000       16         7               10.000                501.429                2000.000              3510.000     1.311                  7               6/28/2012 10:57  2012-07-04 06:58:00        2012-07-06 07:53:00      14950.000         0.872              72060                          7              \n",
       "2 150000.000       35         2               100.000               100.000                100.000               200.000      0.000                  2               7/5/2012 11:44   2012-07-05 21:51:00        2012-07-05 21:59:00      480.000           0.000              36420                          0              \n",
       "3 25000.000        38         7               20.000                142.857                500.000               1000.000     1.061                  7               7/3/2012 10:36   2012-07-04 12:47:00        2012-07-11 15:51:00      59440.000         0.417              7860                           8              \n",
       "4 150000.000       49         3               10.000                36.667                 50.000                110.000      0.514                  3               7/19/2012 11:32  2012-07-24 16:44:00        2012-07-27 12:55:00      79530.000         0.039              18720                          8              "
      ]
     },
     "execution_count": 22,
     "metadata": {},
     "output_type": "execute_result"
    }
   ],
   "source": [
    "investments_100 = investments_100.drop(['time_trunc'], axis=1)\n",
    "investments_100.amount = investments_100.amount.astype(float)\n",
    "investments_100.amount_requested = investments_100.amount_requested.astype(float)\n",
    "investments_100 = pd.DataFrame(investments_100.groupby('campaign').agg(f).as_matrix())\n",
    "investments_100 = investments_100.rename(index=str, columns={0: \"AmountRequested\",\n",
    "                                                     1: \"ProjectID\",\n",
    "                                                     2: \"NumContributions\",\n",
    "                                                     3: \"MinContributionAmount\",\n",
    "                                                     4: \"MeanContributionAmount\",\n",
    "                                                     5: \"MaxContributionAmount\",\n",
    "                                                     6: \"AmountRaised\",\n",
    "                                                     7: \"CovContributionAmount\",\n",
    "                                                     8: \"NumContributors\", \n",
    "                                                     9: \"DatePosted\",\n",
    "                                                     10: \"FirstContributionTimestamp\",\n",
    "                                                     11: \"LastContributionTimestamp\",\n",
    "                                                     12: \"AvgInterEventTime\",\n",
    "                                                     13: \"CovInterEventTime\"})\n",
    "# investments_100[\"Status\"] = investments_100.AmountRaised > investments_100.AmountRequested\n",
    "investments_100[\"TimeToFirstContribution (sec)\"] = (pd.to_datetime(investments_100.FirstContributionTimestamp) - pd.to_datetime(investments_100.DatePosted)).dt.seconds\n",
    "investments_100[\"Duration (days)\"] = (pd.to_datetime(investments_100.LastContributionTimestamp) - pd.to_datetime(investments_100.DatePosted)).dt.days\n",
    "investments_100.ProjectID = investments_100.ProjectID.astype(int)\n",
    "investments_100.head()"
   ]
  },
  {
   "cell_type": "markdown",
   "metadata": {},
   "source": [
    "## Merge Data"
   ]
  },
  {
   "cell_type": "code",
   "execution_count": 23,
   "metadata": {},
   "outputs": [],
   "source": [
    "investments_25 = investments_25.merge(campaigns, on=\"ProjectID\", how=\"left\")\n",
    "investments_50 = investments_50.merge(campaigns, on=\"ProjectID\", how=\"left\")\n",
    "investments_75 = investments_75.merge(campaigns, on=\"ProjectID\", how=\"left\")\n",
    "investments_100 = investments_100.merge(campaigns, on=\"ProjectID\", how=\"left\")\n",
    "# investments_25.sample(5)"
   ]
  },
  {
   "cell_type": "markdown",
   "metadata": {},
   "source": [
    "## Model Evaluation"
   ]
  },
  {
   "cell_type": "code",
   "execution_count": 50,
   "metadata": {},
   "outputs": [],
   "source": [
    "features_5 = [\"NumContributors\", \"CovInterEventTime\", \"CovContributionAmount\", \"TimeToFirstContribution (sec)\", 'Duration (days)']\n",
    "# Initialize Standard Scaler\n",
    "scaler = StandardScaler()"
   ]
  },
  {
   "cell_type": "markdown",
   "metadata": {},
   "source": [
    "### Investments 25%"
   ]
  },
  {
   "cell_type": "code",
   "execution_count": 25,
   "metadata": {},
   "outputs": [
    {
     "name": "stdout",
     "output_type": "stream",
     "text": [
      "Counter({0.0: 157, 1.0: 145})\n",
      "Completed QDA in 0.0494782 seconds\n",
      "Completed CART in 0.0397845 seconds\n",
      "Completed GNB in 0.0335473 seconds\n",
      "Completed RF in 19.4169502 seconds\n",
      "Completed LR in 0.0383458 seconds\n",
      "Completed ADB in 0.816734 seconds\n"
     ]
    },
    {
     "data": {
      "text/html": [
       "<div>\n",
       "<style scoped>\n",
       "    .dataframe tbody tr th:only-of-type {\n",
       "        vertical-align: middle;\n",
       "    }\n",
       "\n",
       "    .dataframe tbody tr th {\n",
       "        vertical-align: top;\n",
       "    }\n",
       "\n",
       "    .dataframe thead th {\n",
       "        text-align: right;\n",
       "    }\n",
       "</style>\n",
       "<table border=\"1\" class=\"dataframe\">\n",
       "  <thead>\n",
       "    <tr style=\"text-align: right;\">\n",
       "      <th></th>\n",
       "      <th>Model</th>\n",
       "      <th>Accuracy</th>\n",
       "      <th>Precision</th>\n",
       "      <th>Recall</th>\n",
       "      <th>F1</th>\n",
       "      <th>AUC</th>\n",
       "    </tr>\n",
       "  </thead>\n",
       "  <tbody>\n",
       "    <tr>\n",
       "      <th>0</th>\n",
       "      <td>QDA</td>\n",
       "      <td>0.613</td>\n",
       "      <td>0.635</td>\n",
       "      <td>0.455</td>\n",
       "      <td>0.530</td>\n",
       "      <td>0.607</td>\n",
       "    </tr>\n",
       "    <tr>\n",
       "      <th>1</th>\n",
       "      <td>CART</td>\n",
       "      <td>0.560</td>\n",
       "      <td>0.543</td>\n",
       "      <td>0.524</td>\n",
       "      <td>0.533</td>\n",
       "      <td>0.558</td>\n",
       "    </tr>\n",
       "    <tr>\n",
       "      <th>2</th>\n",
       "      <td>GNB</td>\n",
       "      <td>0.656</td>\n",
       "      <td>0.681</td>\n",
       "      <td>0.531</td>\n",
       "      <td>0.597</td>\n",
       "      <td>0.651</td>\n",
       "    </tr>\n",
       "    <tr>\n",
       "      <th>3</th>\n",
       "      <td>RF</td>\n",
       "      <td>0.629</td>\n",
       "      <td>0.674</td>\n",
       "      <td>0.441</td>\n",
       "      <td>0.533</td>\n",
       "      <td>0.622</td>\n",
       "    </tr>\n",
       "    <tr>\n",
       "      <th>4</th>\n",
       "      <td>LR</td>\n",
       "      <td>0.556</td>\n",
       "      <td>0.824</td>\n",
       "      <td>0.097</td>\n",
       "      <td>0.173</td>\n",
       "      <td>0.539</td>\n",
       "    </tr>\n",
       "    <tr>\n",
       "      <th>5</th>\n",
       "      <td>ADB</td>\n",
       "      <td>0.629</td>\n",
       "      <td>0.622</td>\n",
       "      <td>0.579</td>\n",
       "      <td>0.600</td>\n",
       "      <td>0.627</td>\n",
       "    </tr>\n",
       "  </tbody>\n",
       "</table>\n",
       "</div>"
      ],
      "text/plain": [
       "  Model  Accuracy  Precision  Recall    F1   AUC\n",
       "0  QDA  0.613     0.635      0.455   0.530 0.607\n",
       "1  CART 0.560     0.543      0.524   0.533 0.558\n",
       "2  GNB  0.656     0.681      0.531   0.597 0.651\n",
       "3  RF   0.629     0.674      0.441   0.533 0.622\n",
       "4  LR   0.556     0.824      0.097   0.173 0.539\n",
       "5  ADB  0.629     0.622      0.579   0.600 0.627"
      ]
     },
     "execution_count": 25,
     "metadata": {},
     "output_type": "execute_result"
    }
   ],
   "source": [
    "X = investments_25[features_5].fillna(-1).as_matrix()\n",
    "X = scaler.fit_transform(X)\n",
    "y = investments_25['Status']\n",
    "print Counter(y)\n",
    "evaluation = evaluation_summary(X,y)\n",
    "evaluation"
   ]
  },
  {
   "cell_type": "code",
   "execution_count": 38,
   "metadata": {},
   "outputs": [
    {
     "data": {
      "application/vnd.jupyter.widget-view+json": {
       "model_id": "a0942770414946fc9b5dea1a6824409f",
       "version_major": 2,
       "version_minor": 0
      },
      "text/plain": [
       "HBox(children=(IntProgress(value=0), HTML(value=u'')))"
      ]
     },
     "metadata": {},
     "output_type": "display_data"
    },
    {
     "name": "stdout",
     "output_type": "stream",
     "text": [
      "Mean AUC 0.6060742367669668\n",
      "St. Dev 0.016902528136247562\n",
      "N 302\n"
     ]
    }
   ],
   "source": [
    "classifier = classifiers.get(\"RF\")\n",
    "estimates = []\n",
    "X = investments_25[features_5].fillna(-1).as_matrix()\n",
    "X = scaler.fit_transform(X)\n",
    "y = investments_25['Status'].as_matrix()\n",
    "for x in tqdm_notebook(range(0,100)):\n",
    "    y_pred = run_cv(X,y,classifier)\n",
    "    estimates.append(auc(y, y_pred))\n",
    "print \"Mean AUC\", np.mean(estimates)\n",
    "print \"St. Dev\", np.std(estimates)\n",
    "print \"N\", len(y)"
   ]
  },
  {
   "cell_type": "markdown",
   "metadata": {},
   "source": [
    "### Investments 50%"
   ]
  },
  {
   "cell_type": "code",
   "execution_count": 26,
   "metadata": {},
   "outputs": [
    {
     "name": "stdout",
     "output_type": "stream",
     "text": [
      "Counter({0.0: 193, 1.0: 166})\n",
      "Completed QDA in 0.0329179 seconds\n",
      "Completed CART in 0.0486067 seconds\n",
      "Completed GNB in 0.0390897 seconds\n",
      "Completed RF in 18.7671425 seconds\n",
      "Completed LR in 0.0233475 seconds\n",
      "Completed ADB in 0.9133082 seconds\n"
     ]
    },
    {
     "data": {
      "text/html": [
       "<div>\n",
       "<style scoped>\n",
       "    .dataframe tbody tr th:only-of-type {\n",
       "        vertical-align: middle;\n",
       "    }\n",
       "\n",
       "    .dataframe tbody tr th {\n",
       "        vertical-align: top;\n",
       "    }\n",
       "\n",
       "    .dataframe thead th {\n",
       "        text-align: right;\n",
       "    }\n",
       "</style>\n",
       "<table border=\"1\" class=\"dataframe\">\n",
       "  <thead>\n",
       "    <tr style=\"text-align: right;\">\n",
       "      <th></th>\n",
       "      <th>Model</th>\n",
       "      <th>Accuracy</th>\n",
       "      <th>Precision</th>\n",
       "      <th>Recall</th>\n",
       "      <th>F1</th>\n",
       "      <th>AUC</th>\n",
       "    </tr>\n",
       "  </thead>\n",
       "  <tbody>\n",
       "    <tr>\n",
       "      <th>0</th>\n",
       "      <td>QDA</td>\n",
       "      <td>0.638</td>\n",
       "      <td>0.614</td>\n",
       "      <td>0.584</td>\n",
       "      <td>0.599</td>\n",
       "      <td>0.634</td>\n",
       "    </tr>\n",
       "    <tr>\n",
       "      <th>1</th>\n",
       "      <td>CART</td>\n",
       "      <td>0.591</td>\n",
       "      <td>0.559</td>\n",
       "      <td>0.542</td>\n",
       "      <td>0.550</td>\n",
       "      <td>0.587</td>\n",
       "    </tr>\n",
       "    <tr>\n",
       "      <th>2</th>\n",
       "      <td>GNB</td>\n",
       "      <td>0.638</td>\n",
       "      <td>0.610</td>\n",
       "      <td>0.602</td>\n",
       "      <td>0.606</td>\n",
       "      <td>0.635</td>\n",
       "    </tr>\n",
       "    <tr>\n",
       "      <th>3</th>\n",
       "      <td>RF</td>\n",
       "      <td>0.666</td>\n",
       "      <td>0.717</td>\n",
       "      <td>0.458</td>\n",
       "      <td>0.559</td>\n",
       "      <td>0.651</td>\n",
       "    </tr>\n",
       "    <tr>\n",
       "      <th>4</th>\n",
       "      <td>LR</td>\n",
       "      <td>0.579</td>\n",
       "      <td>0.800</td>\n",
       "      <td>0.120</td>\n",
       "      <td>0.209</td>\n",
       "      <td>0.547</td>\n",
       "    </tr>\n",
       "    <tr>\n",
       "      <th>5</th>\n",
       "      <td>ADB</td>\n",
       "      <td>0.638</td>\n",
       "      <td>0.632</td>\n",
       "      <td>0.518</td>\n",
       "      <td>0.570</td>\n",
       "      <td>0.630</td>\n",
       "    </tr>\n",
       "  </tbody>\n",
       "</table>\n",
       "</div>"
      ],
      "text/plain": [
       "  Model  Accuracy  Precision  Recall    F1   AUC\n",
       "0  QDA  0.638     0.614      0.584   0.599 0.634\n",
       "1  CART 0.591     0.559      0.542   0.550 0.587\n",
       "2  GNB  0.638     0.610      0.602   0.606 0.635\n",
       "3  RF   0.666     0.717      0.458   0.559 0.651\n",
       "4  LR   0.579     0.800      0.120   0.209 0.547\n",
       "5  ADB  0.638     0.632      0.518   0.570 0.630"
      ]
     },
     "execution_count": 26,
     "metadata": {},
     "output_type": "execute_result"
    }
   ],
   "source": [
    "X = investments_50[features_5].fillna(-1).as_matrix()\n",
    "X = scaler.fit_transform(X)\n",
    "y = investments_50['Status']\n",
    "print Counter(y)\n",
    "evaluation = evaluation_summary(X,y)\n",
    "evaluation"
   ]
  },
  {
   "cell_type": "code",
   "execution_count": 39,
   "metadata": {},
   "outputs": [
    {
     "data": {
      "application/vnd.jupyter.widget-view+json": {
       "model_id": "fb97ffe3ee6349a6bafea9bc196076bb",
       "version_major": 2,
       "version_minor": 0
      },
      "text/plain": [
       "HBox(children=(IntProgress(value=0), HTML(value=u'')))"
      ]
     },
     "metadata": {},
     "output_type": "display_data"
    },
    {
     "name": "stdout",
     "output_type": "stream",
     "text": [
      "Mean AUC 0.6257166489793371\n",
      "St. Dev 0.015721433742540588\n",
      "N 359\n"
     ]
    }
   ],
   "source": [
    "classifier = classifiers.get(\"RF\")\n",
    "estimates = []\n",
    "X = investments_50[features_5].fillna(-1).as_matrix()\n",
    "X = scaler.fit_transform(X)\n",
    "y = investments_50['Status'].as_matrix()\n",
    "for x in tqdm_notebook(range(0,100)):\n",
    "    y_pred = run_cv(X,y,classifier)\n",
    "    estimates.append(auc(y, y_pred))\n",
    "print \"Mean AUC\", np.mean(estimates)\n",
    "print \"St. Dev\", np.std(estimates)\n",
    "print \"N\", len(y)"
   ]
  },
  {
   "cell_type": "markdown",
   "metadata": {},
   "source": [
    "### Investments 75%"
   ]
  },
  {
   "cell_type": "code",
   "execution_count": 27,
   "metadata": {},
   "outputs": [
    {
     "name": "stdout",
     "output_type": "stream",
     "text": [
      "Counter({0.0: 228, 1.0: 184})\n",
      "Completed QDA in 0.0340977 seconds\n",
      "Completed CART in 0.0314057 seconds\n",
      "Completed GNB in 0.0343025 seconds\n",
      "Completed RF in 20.1871647 seconds\n",
      "Completed LR in 0.0386541 seconds\n",
      "Completed ADB in 1.0834038 seconds\n"
     ]
    },
    {
     "data": {
      "text/html": [
       "<div>\n",
       "<style scoped>\n",
       "    .dataframe tbody tr th:only-of-type {\n",
       "        vertical-align: middle;\n",
       "    }\n",
       "\n",
       "    .dataframe tbody tr th {\n",
       "        vertical-align: top;\n",
       "    }\n",
       "\n",
       "    .dataframe thead th {\n",
       "        text-align: right;\n",
       "    }\n",
       "</style>\n",
       "<table border=\"1\" class=\"dataframe\">\n",
       "  <thead>\n",
       "    <tr style=\"text-align: right;\">\n",
       "      <th></th>\n",
       "      <th>Model</th>\n",
       "      <th>Accuracy</th>\n",
       "      <th>Precision</th>\n",
       "      <th>Recall</th>\n",
       "      <th>F1</th>\n",
       "      <th>AUC</th>\n",
       "    </tr>\n",
       "  </thead>\n",
       "  <tbody>\n",
       "    <tr>\n",
       "      <th>0</th>\n",
       "      <td>QDA</td>\n",
       "      <td>0.667</td>\n",
       "      <td>0.618</td>\n",
       "      <td>0.668</td>\n",
       "      <td>0.642</td>\n",
       "      <td>0.668</td>\n",
       "    </tr>\n",
       "    <tr>\n",
       "      <th>1</th>\n",
       "      <td>CART</td>\n",
       "      <td>0.648</td>\n",
       "      <td>0.611</td>\n",
       "      <td>0.582</td>\n",
       "      <td>0.596</td>\n",
       "      <td>0.642</td>\n",
       "    </tr>\n",
       "    <tr>\n",
       "      <th>2</th>\n",
       "      <td>GNB</td>\n",
       "      <td>0.658</td>\n",
       "      <td>0.617</td>\n",
       "      <td>0.614</td>\n",
       "      <td>0.616</td>\n",
       "      <td>0.654</td>\n",
       "    </tr>\n",
       "    <tr>\n",
       "      <th>3</th>\n",
       "      <td>RF</td>\n",
       "      <td>0.680</td>\n",
       "      <td>0.728</td>\n",
       "      <td>0.451</td>\n",
       "      <td>0.557</td>\n",
       "      <td>0.658</td>\n",
       "    </tr>\n",
       "    <tr>\n",
       "      <th>4</th>\n",
       "      <td>LR</td>\n",
       "      <td>0.629</td>\n",
       "      <td>0.830</td>\n",
       "      <td>0.212</td>\n",
       "      <td>0.338</td>\n",
       "      <td>0.588</td>\n",
       "    </tr>\n",
       "    <tr>\n",
       "      <th>5</th>\n",
       "      <td>ADB</td>\n",
       "      <td>0.672</td>\n",
       "      <td>0.643</td>\n",
       "      <td>0.598</td>\n",
       "      <td>0.620</td>\n",
       "      <td>0.665</td>\n",
       "    </tr>\n",
       "  </tbody>\n",
       "</table>\n",
       "</div>"
      ],
      "text/plain": [
       "  Model  Accuracy  Precision  Recall    F1   AUC\n",
       "0  QDA  0.667     0.618      0.668   0.642 0.668\n",
       "1  CART 0.648     0.611      0.582   0.596 0.642\n",
       "2  GNB  0.658     0.617      0.614   0.616 0.654\n",
       "3  RF   0.680     0.728      0.451   0.557 0.658\n",
       "4  LR   0.629     0.830      0.212   0.338 0.588\n",
       "5  ADB  0.672     0.643      0.598   0.620 0.665"
      ]
     },
     "execution_count": 27,
     "metadata": {},
     "output_type": "execute_result"
    }
   ],
   "source": [
    "X = investments_75[features_5].fillna(-1).as_matrix()\n",
    "X = scaler.fit_transform(X)\n",
    "y = investments_75['Status']\n",
    "print Counter(y)\n",
    "evaluation = evaluation_summary(X,y)\n",
    "evaluation"
   ]
  },
  {
   "cell_type": "code",
   "execution_count": 40,
   "metadata": {},
   "outputs": [
    {
     "data": {
      "application/vnd.jupyter.widget-view+json": {
       "model_id": "ac2dfe71121f42928ae6c8e536443469",
       "version_major": 2,
       "version_minor": 0
      },
      "text/plain": [
       "HBox(children=(IntProgress(value=0), HTML(value=u'')))"
      ]
     },
     "metadata": {},
     "output_type": "display_data"
    },
    {
     "name": "stdout",
     "output_type": "stream",
     "text": [
      "Mean AUC 0.6522459000762776\n",
      "St. Dev 0.011689403158736764\n",
      "N 412\n"
     ]
    }
   ],
   "source": [
    "classifier = classifiers.get(\"RF\")\n",
    "estimates = []\n",
    "X = investments_75[features_5].fillna(-1).as_matrix()\n",
    "X = scaler.fit_transform(X)\n",
    "y = investments_75['Status'].as_matrix()\n",
    "for x in tqdm_notebook(range(0,100)):\n",
    "    y_pred = run_cv(X,y,classifier)\n",
    "    estimates.append(auc(y, y_pred))\n",
    "print \"Mean AUC\", np.mean(estimates)\n",
    "print \"St. Dev\", np.std(estimates)\n",
    "print \"N\", len(y)"
   ]
  },
  {
   "cell_type": "markdown",
   "metadata": {},
   "source": [
    "### Investments 100%"
   ]
  },
  {
   "cell_type": "code",
   "execution_count": 28,
   "metadata": {},
   "outputs": [
    {
     "name": "stdout",
     "output_type": "stream",
     "text": [
      "Counter({0.0: 253, 1.0: 191})\n",
      "Completed QDA in 0.1473498 seconds\n",
      "Completed CART in 0.06752 seconds\n",
      "Completed GNB in 0.072366 seconds\n",
      "Completed RF in 25.403917 seconds\n",
      "Completed LR in 0.0540767 seconds\n",
      "Completed ADB in 1.3520433 seconds\n"
     ]
    },
    {
     "data": {
      "text/html": [
       "<div>\n",
       "<style scoped>\n",
       "    .dataframe tbody tr th:only-of-type {\n",
       "        vertical-align: middle;\n",
       "    }\n",
       "\n",
       "    .dataframe tbody tr th {\n",
       "        vertical-align: top;\n",
       "    }\n",
       "\n",
       "    .dataframe thead th {\n",
       "        text-align: right;\n",
       "    }\n",
       "</style>\n",
       "<table border=\"1\" class=\"dataframe\">\n",
       "  <thead>\n",
       "    <tr style=\"text-align: right;\">\n",
       "      <th></th>\n",
       "      <th>Model</th>\n",
       "      <th>Accuracy</th>\n",
       "      <th>Precision</th>\n",
       "      <th>Recall</th>\n",
       "      <th>F1</th>\n",
       "      <th>AUC</th>\n",
       "    </tr>\n",
       "  </thead>\n",
       "  <tbody>\n",
       "    <tr>\n",
       "      <th>0</th>\n",
       "      <td>QDA</td>\n",
       "      <td>0.707</td>\n",
       "      <td>0.660</td>\n",
       "      <td>0.660</td>\n",
       "      <td>0.660</td>\n",
       "      <td>0.701</td>\n",
       "    </tr>\n",
       "    <tr>\n",
       "      <th>1</th>\n",
       "      <td>CART</td>\n",
       "      <td>0.637</td>\n",
       "      <td>0.582</td>\n",
       "      <td>0.555</td>\n",
       "      <td>0.568</td>\n",
       "      <td>0.627</td>\n",
       "    </tr>\n",
       "    <tr>\n",
       "      <th>2</th>\n",
       "      <td>GNB</td>\n",
       "      <td>0.680</td>\n",
       "      <td>0.640</td>\n",
       "      <td>0.586</td>\n",
       "      <td>0.612</td>\n",
       "      <td>0.669</td>\n",
       "    </tr>\n",
       "    <tr>\n",
       "      <th>3</th>\n",
       "      <td>RF</td>\n",
       "      <td>0.721</td>\n",
       "      <td>0.772</td>\n",
       "      <td>0.497</td>\n",
       "      <td>0.605</td>\n",
       "      <td>0.693</td>\n",
       "    </tr>\n",
       "    <tr>\n",
       "      <th>4</th>\n",
       "      <td>LR</td>\n",
       "      <td>0.640</td>\n",
       "      <td>0.878</td>\n",
       "      <td>0.188</td>\n",
       "      <td>0.310</td>\n",
       "      <td>0.584</td>\n",
       "    </tr>\n",
       "    <tr>\n",
       "      <th>5</th>\n",
       "      <td>ADB</td>\n",
       "      <td>0.685</td>\n",
       "      <td>0.644</td>\n",
       "      <td>0.597</td>\n",
       "      <td>0.620</td>\n",
       "      <td>0.674</td>\n",
       "    </tr>\n",
       "  </tbody>\n",
       "</table>\n",
       "</div>"
      ],
      "text/plain": [
       "  Model  Accuracy  Precision  Recall    F1   AUC\n",
       "0  QDA  0.707     0.660      0.660   0.660 0.701\n",
       "1  CART 0.637     0.582      0.555   0.568 0.627\n",
       "2  GNB  0.680     0.640      0.586   0.612 0.669\n",
       "3  RF   0.721     0.772      0.497   0.605 0.693\n",
       "4  LR   0.640     0.878      0.188   0.310 0.584\n",
       "5  ADB  0.685     0.644      0.597   0.620 0.674"
      ]
     },
     "execution_count": 28,
     "metadata": {},
     "output_type": "execute_result"
    }
   ],
   "source": [
    "X = investments_100[features_5].fillna(-1).as_matrix()\n",
    "X = scaler.fit_transform(X)\n",
    "y = investments_100['Status']\n",
    "print Counter(y)\n",
    "evaluation = evaluation_summary(X,y)\n",
    "evaluation"
   ]
  },
  {
   "cell_type": "code",
   "execution_count": 41,
   "metadata": {},
   "outputs": [
    {
     "data": {
      "application/vnd.jupyter.widget-view+json": {
       "model_id": "096050b748144430a878a27558b5e259",
       "version_major": 2,
       "version_minor": 0
      },
      "text/plain": [
       "HBox(children=(IntProgress(value=0), HTML(value=u'')))"
      ]
     },
     "metadata": {},
     "output_type": "display_data"
    },
    {
     "name": "stdout",
     "output_type": "stream",
     "text": [
      "Mean AUC 0.6855130062289179\n",
      "St. Dev 0.014159595896781521\n",
      "N 444\n"
     ]
    }
   ],
   "source": [
    "classifier = classifiers.get(\"RF\")\n",
    "estimates = []\n",
    "X = investments_100[features_5].fillna(-1).as_matrix()\n",
    "X = scaler.fit_transform(X)\n",
    "y = investments_100['Status'].as_matrix()\n",
    "for x in tqdm_notebook(range(0,100)):\n",
    "    y_pred = run_cv(X,y,classifier)\n",
    "    estimates.append(auc(y, y_pred))\n",
    "print \"Mean AUC\", np.mean(estimates)\n",
    "print \"St. Dev\", np.std(estimates)\n",
    "print \"N\", len(y)"
   ]
  },
  {
   "cell_type": "code",
   "execution_count": null,
   "metadata": {},
   "outputs": [],
   "source": []
  }
 ],
 "metadata": {
  "kernelspec": {
   "display_name": "Python 2",
   "language": "python",
   "name": "python2"
  },
  "language_info": {
   "codemirror_mode": {
    "name": "ipython",
    "version": 2
   },
   "file_extension": ".py",
   "mimetype": "text/x-python",
   "name": "python",
   "nbconvert_exporter": "python",
   "pygments_lexer": "ipython2",
   "version": "2.7.16"
  }
 },
 "nbformat": 4,
 "nbformat_minor": 2
}
